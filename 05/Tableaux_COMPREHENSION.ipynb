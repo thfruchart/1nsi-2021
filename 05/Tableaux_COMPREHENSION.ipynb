{
  "nbformat": 4,
  "nbformat_minor": 0,
  "metadata": {
    "colab": {
      "name": "Tableaux_COMPREHENSION.ipynb",
      "provenance": [],
      "authorship_tag": "ABX9TyMjSHHRCLfaqQRe+XbQVOfn",
      "include_colab_link": true
    },
    "kernelspec": {
      "name": "python3",
      "display_name": "Python 3"
    },
    "language_info": {
      "name": "python"
    }
  },
  "cells": [
    {
      "cell_type": "markdown",
      "metadata": {
        "id": "view-in-github",
        "colab_type": "text"
      },
      "source": [
        "<a href=\"https://colab.research.google.com/github/thfruchart/1nsi/blob/main/05/Tableaux_COMPREHENSION.ipynb\" target=\"_parent\"><img src=\"https://colab.research.google.com/assets/colab-badge.svg\" alt=\"Open In Colab\"/></a>"
      ]
    },
    {
      "cell_type": "markdown",
      "source": [
        "[ouvrir avec Basthon](https://notebook.basthon.fr/?from=https://raw.githubusercontent.com/thfruchart/1nsi/main/05/Tableaux_COMPREHENSION.ipynb)"
      ],
      "metadata": {
        "id": "ByOPmS_nLKIq"
      }
    },
    {
      "cell_type": "markdown",
      "source": [
        "# Tableaux définis par compréhension"
      ],
      "metadata": {
        "id": "T7ZJ_zit_khy"
      }
    },
    {
      "cell_type": "markdown",
      "source": [
        "## Observer les exemples suivants"
      ],
      "metadata": {
        "id": "fdmzICLD_qK5"
      }
    },
    {
      "cell_type": "code",
      "execution_count": null,
      "metadata": {
        "id": "8zTKJODh_etN"
      },
      "outputs": [],
      "source": [
        "[ 0 for i in range(5) ]"
      ]
    },
    {
      "cell_type": "code",
      "source": [
        "[ 'False'  for k in range(4) ]"
      ],
      "metadata": {
        "id": "-V_5anZu_vKU"
      },
      "execution_count": null,
      "outputs": []
    },
    {
      "cell_type": "code",
      "source": [
        "tab = [1,3,5,7,9]\n",
        "[ x*10 for x in tab]"
      ],
      "metadata": {
        "id": "Q3n8-t9B_0t-"
      },
      "execution_count": null,
      "outputs": []
    },
    {
      "cell_type": "markdown",
      "source": [
        "## Syntaxe \n",
        "\n",
        "Un tableau est défini par compréhension à l'aide d'une syntaxe de la forme : \n",
        "\n",
        " **[ *expression* for variable in *iterable* ]**\n",
        "\n"
      ],
      "metadata": {
        "id": "KsQCyor6AZmc"
      }
    },
    {
      "cell_type": "code",
      "source": [
        "# Exemple \n",
        "[ 2*i+1  for i in range(3)]"
      ],
      "metadata": {
        "id": "Qcn2E0AYARKE"
      },
      "execution_count": null,
      "outputs": []
    },
    {
      "cell_type": "markdown",
      "source": [
        "* POUR chaque valeur de la variable `i` (0 puis 1 puis 2)\n",
        "* une nouvelle cellule est ajoutée dans le tableau\n",
        "* la valeur inscrite dans la cellule est fournie par l'expression `2*i + 1`"
      ],
      "metadata": {
        "id": "PNKTibYUBQm9"
      }
    },
    {
      "cell_type": "markdown",
      "source": [
        "## Syntaxe avec condition\n",
        "\n",
        "On peut ajouter une condition pour définir un tableau  par compréhension à l'aide d'une syntaxe de la forme : \n",
        "\n",
        " [ *expression* for variable in *iterable*  **if _condition_**]\n",
        "\n"
      ],
      "metadata": {
        "id": "ibnAcJYMEy-6"
      }
    },
    {
      "cell_type": "code",
      "source": [
        "# Exemple \n",
        "[ i*i  for i in range(10)  if i%2 == 0 ]"
      ],
      "metadata": {
        "id": "x1i_38YQEy-8"
      },
      "execution_count": null,
      "outputs": []
    },
    {
      "cell_type": "markdown",
      "source": [
        "* POUR chaque valeur de la variable `i` (0 puis 1 puis 2... jusqu'à 9 inclus)\n",
        "* **la condition `i%2 == 0` est testée** (le reste de la division par 2 vaut 0 lorsque i est **pair**) \n",
        "  * si cette condition est évaluée à **True**,  alors une nouvelle cellule est ajoutée dans le tableau\n",
        "  * sinon aucune valeur n'est ajoutée dans le tableau\n",
        "* la valeur inscrite dans la cellule est fournie par l'expression `i*i`"
      ],
      "metadata": {
        "id": "jde-pzcxEy--"
      }
    },
    {
      "cell_type": "markdown",
      "source": [
        "# Travail personnel 1\n",
        "\n",
        "Observer les exemples ci-dessous :\n",
        "* AVANT d'exécuter chaque cellule : \n",
        "  * essayer de prévoir quel sera l'affichage obtenu\n",
        "* Vérifier ensuite en exécutant la cellule"
      ],
      "metadata": {
        "id": "sXbSqx6yB6VN"
      }
    },
    {
      "cell_type": "code",
      "source": [
        "[ i+5  for i in range(4) ]"
      ],
      "metadata": {
        "id": "bWPMNP8XCS83"
      },
      "execution_count": null,
      "outputs": []
    },
    {
      "cell_type": "code",
      "source": [
        "[ i*3 for i in range (1,5) ]"
      ],
      "metadata": {
        "id": "prR3zSazCZkU"
      },
      "execution_count": null,
      "outputs": []
    },
    {
      "cell_type": "code",
      "source": [
        "[ i**2  for i in range (6) ]"
      ],
      "metadata": {
        "id": "iPZFjuKlCd7B"
      },
      "execution_count": null,
      "outputs": []
    },
    {
      "cell_type": "code",
      "source": [
        "[ 'A'*i  for i in range(5) ]"
      ],
      "metadata": {
        "id": "NlFgwOg5Cjoe"
      },
      "execution_count": null,
      "outputs": []
    },
    {
      "cell_type": "code",
      "source": [
        "t1 = [ 'A', 'B', 'C']\n",
        "\n",
        "[ x*2  for x in t1 ]"
      ],
      "metadata": {
        "id": "anefVUzfCsHr"
      },
      "execution_count": null,
      "outputs": []
    },
    {
      "cell_type": "code",
      "source": [
        "t2 = [10, 20, 30, 40]\n",
        "\n",
        "[ v // 10  for v in t2 ]"
      ],
      "metadata": {
        "id": "wI8UgxDRDBMk"
      },
      "execution_count": null,
      "outputs": []
    },
    {
      "cell_type": "markdown",
      "source": [
        "# Exercice 1\n",
        "\n",
        "Compléter le code de chaque cellule pour obtenir le résultat demandé"
      ],
      "metadata": {
        "id": "6iZTLpDGDMyH"
      }
    },
    {
      "cell_type": "code",
      "source": [
        "# résultat souhaité :  [ 0, 0, 0, 0 ]\n",
        "[ ... for i in range(...) ]"
      ],
      "metadata": {
        "id": "S1IPTDxyDT-t"
      },
      "execution_count": null,
      "outputs": []
    },
    {
      "cell_type": "code",
      "source": [
        "# résultat souhaité : [0, 1, 2, 3, 4, 5, 6, 7, 8, 9, 10]\n",
        "[ ... for i in range(...) ]"
      ],
      "metadata": {
        "id": "Fa1idZXPDdhF"
      },
      "execution_count": null,
      "outputs": []
    },
    {
      "cell_type": "code",
      "source": [
        "# résultat souhaité : [0, 10, 20, 30, 40, 50]\n",
        "\n",
        "n = ... \n",
        "\n",
        "[ ... for k in range(n) ]"
      ],
      "metadata": {
        "id": "YPXRd0C5DmCS"
      },
      "execution_count": null,
      "outputs": []
    },
    {
      "cell_type": "code",
      "source": [
        "# résultat souhaité : ['A', 'AA', 'AAA', 'AAAA', 'AAAAA' ]\n",
        "\n",
        "n = ... \n",
        "\n",
        "[ ... for k in range(1, n) ]"
      ],
      "metadata": {
        "id": "BGHbaFaNDySQ"
      },
      "execution_count": null,
      "outputs": []
    },
    {
      "cell_type": "code",
      "source": [
        "# résultat souhaité : [0, 1, 2, 0, 1, 2, 0, 1, 2]\n",
        "[ ... for n in range(9) ]"
      ],
      "metadata": {
        "id": "10iU79pGHxzj"
      },
      "execution_count": null,
      "outputs": []
    },
    {
      "cell_type": "markdown",
      "source": [
        "# Travail personnel 2 \n",
        "\n",
        "Observer les exemples ci-dessous :\n",
        "* AVANT d'exécuter chaque cellule : \n",
        "  * essayer de prévoir quel sera l'affichage obtenu\n",
        "* Vérifier ensuite en exécutant la cellule"
      ],
      "metadata": {
        "id": "-P7RFIjMGFbk"
      }
    },
    {
      "cell_type": "code",
      "source": [
        "temperatures = [ -5, 12, -8, 13, -2, 4, 0]\n",
        "\n",
        "[ x for x in temperatures if x<=0 ]"
      ],
      "metadata": {
        "id": "3ZsE5csKGEYA"
      },
      "execution_count": null,
      "outputs": []
    },
    {
      "cell_type": "code",
      "source": [
        "notes =   [ 8.5 , 12.5, 13 ,  7.5, 20, 5.5]\n",
        "\n",
        "[ n for n in notes if n > 10 ]"
      ],
      "metadata": {
        "id": "6QJ87EHFGyvT"
      },
      "execution_count": null,
      "outputs": []
    },
    {
      "cell_type": "markdown",
      "source": [
        "# Exercice 2\n",
        "\n",
        "Compléter le code de chaque cellule pour obtenir le résultat demandé"
      ],
      "metadata": {
        "id": "7kdMY89WHqdI"
      }
    },
    {
      "cell_type": "code",
      "source": [
        "# résultat souhaité :  [0,1,2,3,4,10,11,12 ]\n",
        "[ i for i in range(13) if ... or ... ]"
      ],
      "metadata": {
        "id": "TVbd_WR4HqdJ"
      },
      "execution_count": null,
      "outputs": []
    },
    {
      "cell_type": "code",
      "source": [
        "# résultat souhaité : ['Dana', 'Eliane', 'Charlie', 'Bob']\n",
        "prenoms = ['Dana','George','Alice','Eliane','Flore','Charlie','Bob']\n",
        "[...  for x in prenoms if ...  and ...  ]"
      ],
      "metadata": {
        "id": "8LaQMNhVHqdK"
      },
      "execution_count": null,
      "outputs": []
    },
    {
      "cell_type": "code",
      "source": [
        "# résultat souhaité : ['TP', 'DS']\n",
        "\n",
        "eval = [ ('IE1', 15), ('DM', 18), ('TP', 8), ('DS', 9.5), ('QCM', 15)] \n",
        "\n",
        "[ ... for e in eval if ... < 10 ]"
      ],
      "metadata": {
        "id": "Tgr0hSw9HqdL"
      },
      "execution_count": null,
      "outputs": []
    }
  ]
}