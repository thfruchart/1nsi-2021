{
  "nbformat": 4,
  "nbformat_minor": 0,
  "metadata": {
    "colab": {
      "name": "Tableaux_COMPREHENSION.ipynb",
      "provenance": [],
      "authorship_tag": "ABX9TyNjYjTf1HYFZP6Olg0eqf4k",
      "include_colab_link": true
    },
    "kernelspec": {
      "name": "python3",
      "display_name": "Python 3"
    },
    "language_info": {
      "name": "python"
    }
  },
  "cells": [
    {
      "cell_type": "markdown",
      "metadata": {
        "id": "view-in-github",
        "colab_type": "text"
      },
      "source": [
        "<a href=\"https://colab.research.google.com/github/thfruchart/1nsi/blob/main/05/Tableaux_COMPREHENSION_CORRECTION.ipynb\" target=\"_parent\"><img src=\"https://colab.research.google.com/assets/colab-badge.svg\" alt=\"Open In Colab\"/></a>"
      ]
    },
    {
      "cell_type": "markdown",
      "source": [
        "[ouvrir avec Basthon](https://notebook.basthon.fr/?from=https://raw.githubusercontent.com/thfruchart/1nsi/main/05/Tableaux_COMPREHENSION.ipynb)"
      ],
      "metadata": {
        "id": "ByOPmS_nLKIq"
      }
    },
    {
      "cell_type": "markdown",
      "source": [
        "# Tableaux définis par compréhension"
      ],
      "metadata": {
        "id": "T7ZJ_zit_khy"
      }
    },
    {
      "cell_type": "markdown",
      "source": [
        "## Observer les exemples suivants"
      ],
      "metadata": {
        "id": "fdmzICLD_qK5"
      }
    },
    {
      "cell_type": "code",
      "execution_count": 20,
      "metadata": {
        "id": "8zTKJODh_etN",
        "outputId": "c9cfff0c-1587-41cb-b8a3-87da66fc82e7",
        "colab": {
          "base_uri": "https://localhost:8080/"
        }
      },
      "outputs": [
        {
          "output_type": "execute_result",
          "data": {
            "text/plain": [
              "[0, 0, 0, 0, 0]"
            ]
          },
          "metadata": {},
          "execution_count": 20
        }
      ],
      "source": [
        "[ 0 for i in range(5) ]"
      ]
    },
    {
      "cell_type": "code",
      "source": [
        "[ 'False'  for k in range(4) ]"
      ],
      "metadata": {
        "id": "-V_5anZu_vKU",
        "outputId": "07cbc5de-8f4c-4897-dea3-ada9eed2935a",
        "colab": {
          "base_uri": "https://localhost:8080/"
        }
      },
      "execution_count": 21,
      "outputs": [
        {
          "output_type": "execute_result",
          "data": {
            "text/plain": [
              "['False', 'False', 'False', 'False']"
            ]
          },
          "metadata": {},
          "execution_count": 21
        }
      ]
    },
    {
      "cell_type": "code",
      "source": [
        "tab = [1,3,5,7,9]\n",
        "[ x*10 for x in tab]"
      ],
      "metadata": {
        "id": "Q3n8-t9B_0t-",
        "outputId": "b0e026de-e256-4294-f6a7-d87fc8a89958",
        "colab": {
          "base_uri": "https://localhost:8080/"
        }
      },
      "execution_count": 22,
      "outputs": [
        {
          "output_type": "execute_result",
          "data": {
            "text/plain": [
              "[10, 30, 50, 70, 90]"
            ]
          },
          "metadata": {},
          "execution_count": 22
        }
      ]
    },
    {
      "cell_type": "markdown",
      "source": [
        "## Syntaxe \n",
        "\n",
        "Un tableau est défini par compréhension à l'aide d'une syntaxe de la forme : \n",
        "\n",
        " **[ *expression* for variable in *iterable* ]**\n",
        "\n"
      ],
      "metadata": {
        "id": "KsQCyor6AZmc"
      }
    },
    {
      "cell_type": "code",
      "source": [
        "# Exemple \n",
        "[ 2*i+1  for i in range(3)]"
      ],
      "metadata": {
        "id": "Qcn2E0AYARKE",
        "outputId": "b2ac539d-5f30-4161-c264-9ebd7861fe59",
        "colab": {
          "base_uri": "https://localhost:8080/"
        }
      },
      "execution_count": 23,
      "outputs": [
        {
          "output_type": "execute_result",
          "data": {
            "text/plain": [
              "[1, 3, 5]"
            ]
          },
          "metadata": {},
          "execution_count": 23
        }
      ]
    },
    {
      "cell_type": "markdown",
      "source": [
        "* POUR chaque valeur de la variable `i` (0 puis 1 puis 2)\n",
        "* une nouvelle cellule est ajoutée dans le tableau\n",
        "* la valeur inscrite dans la cellule est fournie par l'expression `2*i + 1`"
      ],
      "metadata": {
        "id": "PNKTibYUBQm9"
      }
    },
    {
      "cell_type": "markdown",
      "source": [
        "## Syntaxe avec condition\n",
        "\n",
        "On peut ajouter une condition pour définir un tableau  par compréhension à l'aide d'une syntaxe de la forme : \n",
        "\n",
        " [ *expression* for variable in *iterable*  **if _condition_**]\n",
        "\n"
      ],
      "metadata": {
        "id": "ibnAcJYMEy-6"
      }
    },
    {
      "cell_type": "code",
      "source": [
        "# Exemple \n",
        "[ i*i  for i in range(10)  if i%2 == 0 ]"
      ],
      "metadata": {
        "id": "x1i_38YQEy-8",
        "outputId": "fa7546b3-b88a-4e10-b507-3ab8ec08db72",
        "colab": {
          "base_uri": "https://localhost:8080/"
        }
      },
      "execution_count": 24,
      "outputs": [
        {
          "output_type": "execute_result",
          "data": {
            "text/plain": [
              "[0, 4, 16, 36, 64]"
            ]
          },
          "metadata": {},
          "execution_count": 24
        }
      ]
    },
    {
      "cell_type": "markdown",
      "source": [
        "* POUR chaque valeur de la variable `i` (0 puis 1 puis 2... jusqu'à 9 inclus)\n",
        "* **la condition `i%2 == 0` est testée** (le reste de la division par 2 vaut 0 lorsque i est **pair**) \n",
        "  * si cette condition est évaluée à **True**,  alors une nouvelle cellule est ajoutée dans le tableau\n",
        "  * sinon aucune valeur n'est ajoutée dans le tableau\n",
        "* la valeur inscrite dans la cellule est fournie par l'expression `i*i`"
      ],
      "metadata": {
        "id": "jde-pzcxEy--"
      }
    },
    {
      "cell_type": "markdown",
      "source": [
        "# Travail personnel 1\n",
        "\n",
        "Observer les exemples ci-dessous :\n",
        "* AVANT d'exécuter chaque cellule : \n",
        "  * essayer de prévoir quel sera l'affichage obtenu\n",
        "* Vérifier ensuite en exécutant la cellule"
      ],
      "metadata": {
        "id": "sXbSqx6yB6VN"
      }
    },
    {
      "cell_type": "code",
      "source": [
        "[ i+5  for i in range(4) ]"
      ],
      "metadata": {
        "id": "bWPMNP8XCS83",
        "outputId": "def07375-e1eb-458c-fdd5-f68e26ba84ff",
        "colab": {
          "base_uri": "https://localhost:8080/"
        }
      },
      "execution_count": 25,
      "outputs": [
        {
          "output_type": "execute_result",
          "data": {
            "text/plain": [
              "[5, 6, 7, 8]"
            ]
          },
          "metadata": {},
          "execution_count": 25
        }
      ]
    },
    {
      "cell_type": "code",
      "source": [
        "[ i*3 for i in range (1,5) ]"
      ],
      "metadata": {
        "id": "prR3zSazCZkU",
        "outputId": "66787920-396b-4b55-d842-dc1633ad2922",
        "colab": {
          "base_uri": "https://localhost:8080/"
        }
      },
      "execution_count": 26,
      "outputs": [
        {
          "output_type": "execute_result",
          "data": {
            "text/plain": [
              "[3, 6, 9, 12]"
            ]
          },
          "metadata": {},
          "execution_count": 26
        }
      ]
    },
    {
      "cell_type": "code",
      "source": [
        "[ i**2  for i in range (6) ]"
      ],
      "metadata": {
        "id": "iPZFjuKlCd7B",
        "outputId": "b7b3d456-277f-4410-c018-61d5d10b8a27",
        "colab": {
          "base_uri": "https://localhost:8080/"
        }
      },
      "execution_count": 27,
      "outputs": [
        {
          "output_type": "execute_result",
          "data": {
            "text/plain": [
              "[0, 1, 4, 9, 16, 25]"
            ]
          },
          "metadata": {},
          "execution_count": 27
        }
      ]
    },
    {
      "cell_type": "code",
      "source": [
        "[ 'A'*i  for i in range(5) ]"
      ],
      "metadata": {
        "id": "NlFgwOg5Cjoe",
        "outputId": "40cb433f-7952-43cf-d723-8abe15a27904",
        "colab": {
          "base_uri": "https://localhost:8080/"
        }
      },
      "execution_count": 28,
      "outputs": [
        {
          "output_type": "execute_result",
          "data": {
            "text/plain": [
              "['', 'A', 'AA', 'AAA', 'AAAA']"
            ]
          },
          "metadata": {},
          "execution_count": 28
        }
      ]
    },
    {
      "cell_type": "code",
      "source": [
        "t1 = [ 'A', 'B', 'C']\n",
        "\n",
        "[ x*2  for x in t1 ]"
      ],
      "metadata": {
        "id": "anefVUzfCsHr",
        "outputId": "afa3a3ab-df86-4247-e830-803b77cda8a1",
        "colab": {
          "base_uri": "https://localhost:8080/"
        }
      },
      "execution_count": 29,
      "outputs": [
        {
          "output_type": "execute_result",
          "data": {
            "text/plain": [
              "['AA', 'BB', 'CC']"
            ]
          },
          "metadata": {},
          "execution_count": 29
        }
      ]
    },
    {
      "cell_type": "code",
      "source": [
        "t2 = [10, 20, 30, 40]\n",
        "\n",
        "[ v // 10  for v in t2 ]"
      ],
      "metadata": {
        "id": "wI8UgxDRDBMk",
        "outputId": "a34ed1bc-89a8-46c4-8ffd-d3802f7dcf6a",
        "colab": {
          "base_uri": "https://localhost:8080/"
        }
      },
      "execution_count": 30,
      "outputs": [
        {
          "output_type": "execute_result",
          "data": {
            "text/plain": [
              "[1, 2, 3, 4]"
            ]
          },
          "metadata": {},
          "execution_count": 30
        }
      ]
    },
    {
      "cell_type": "markdown",
      "source": [
        "# Exercice 1\n",
        "\n",
        "Compléter le code de chaque cellule pour obtenir le résultat demandé"
      ],
      "metadata": {
        "id": "6iZTLpDGDMyH"
      }
    },
    {
      "cell_type": "code",
      "source": [
        "# résultat souhaité :  [ 0, 0, 0, 0 ]\n",
        "[ 0 for i in range(4) ]"
      ],
      "metadata": {
        "id": "S1IPTDxyDT-t",
        "outputId": "932ab668-3002-43d4-9a18-095491801230",
        "colab": {
          "base_uri": "https://localhost:8080/"
        }
      },
      "execution_count": 32,
      "outputs": [
        {
          "output_type": "execute_result",
          "data": {
            "text/plain": [
              "[0, 0, 0, 0]"
            ]
          },
          "metadata": {},
          "execution_count": 32
        }
      ]
    },
    {
      "cell_type": "code",
      "source": [
        "# résultat souhaité : [0, 1, 2, 3, 4, 5, 6, 7, 8, 9, 10]\n",
        "[ i for i in range(11) ]"
      ],
      "metadata": {
        "id": "Fa1idZXPDdhF",
        "outputId": "e7eb3562-5596-43fd-edda-b5a682b1e4ec",
        "colab": {
          "base_uri": "https://localhost:8080/"
        }
      },
      "execution_count": 34,
      "outputs": [
        {
          "output_type": "execute_result",
          "data": {
            "text/plain": [
              "[0, 1, 2, 3, 4, 5, 6, 7, 8, 9, 10]"
            ]
          },
          "metadata": {},
          "execution_count": 34
        }
      ]
    },
    {
      "cell_type": "code",
      "source": [
        "# résultat souhaité : [0, 10, 20, 30, 40, 50]\n",
        "\n",
        "n = 6 \n",
        "\n",
        "[ k*10 for k in range(n) ]"
      ],
      "metadata": {
        "id": "YPXRd0C5DmCS",
        "outputId": "bcb3e3fe-5d2b-42f4-dd85-5c6079cec094",
        "colab": {
          "base_uri": "https://localhost:8080/"
        }
      },
      "execution_count": 35,
      "outputs": [
        {
          "output_type": "execute_result",
          "data": {
            "text/plain": [
              "[0, 10, 20, 30, 40, 50]"
            ]
          },
          "metadata": {},
          "execution_count": 35
        }
      ]
    },
    {
      "cell_type": "code",
      "source": [
        "# résultat souhaité : ['A', 'AA', 'AAA', 'AAAA', 'AAAAA' ]\n",
        "\n",
        "n = 6 \n",
        "\n",
        "[ 'A'*k for k in range(1, n) ]"
      ],
      "metadata": {
        "id": "BGHbaFaNDySQ",
        "outputId": "5512bc34-0e2d-40ac-9bf8-f277ba7c2e7c",
        "colab": {
          "base_uri": "https://localhost:8080/"
        }
      },
      "execution_count": 36,
      "outputs": [
        {
          "output_type": "execute_result",
          "data": {
            "text/plain": [
              "['A', 'AA', 'AAA', 'AAAA', 'AAAAA']"
            ]
          },
          "metadata": {},
          "execution_count": 36
        }
      ]
    },
    {
      "cell_type": "code",
      "source": [
        "# résultat souhaité : [0, 1, 2, 0, 1, 2, 0, 1, 2]\n",
        "[ n%3 for n in range(9) ]"
      ],
      "metadata": {
        "id": "10iU79pGHxzj",
        "outputId": "42a3aa3b-451b-43fe-d193-4791f5209efc",
        "colab": {
          "base_uri": "https://localhost:8080/"
        }
      },
      "execution_count": 37,
      "outputs": [
        {
          "output_type": "execute_result",
          "data": {
            "text/plain": [
              "[0, 1, 2, 0, 1, 2, 0, 1, 2]"
            ]
          },
          "metadata": {},
          "execution_count": 37
        }
      ]
    },
    {
      "cell_type": "markdown",
      "source": [
        "# Travail personnel 2 \n",
        "\n",
        "Observer les exemples ci-dessous :\n",
        "* AVANT d'exécuter chaque cellule : \n",
        "  * essayer de prévoir quel sera l'affichage obtenu\n",
        "* Vérifier ensuite en exécutant la cellule"
      ],
      "metadata": {
        "id": "-P7RFIjMGFbk"
      }
    },
    {
      "cell_type": "code",
      "source": [
        "temperatures = [ -5, 12, -8, 13, -2, 4, 0]\n",
        "\n",
        "[ x for x in temperatures if x<=0 ]"
      ],
      "metadata": {
        "id": "3ZsE5csKGEYA",
        "outputId": "0308b81a-8e9f-4c24-a600-93a457e126ab",
        "colab": {
          "base_uri": "https://localhost:8080/"
        }
      },
      "execution_count": 38,
      "outputs": [
        {
          "output_type": "execute_result",
          "data": {
            "text/plain": [
              "[-5, -8, -2, 0]"
            ]
          },
          "metadata": {},
          "execution_count": 38
        }
      ]
    },
    {
      "cell_type": "code",
      "source": [
        "notes =   [ 8.5 , 12.5, 13 ,  7.5, 20, 5.5]\n",
        "\n",
        "[ n for n in notes if n > 10 ]"
      ],
      "metadata": {
        "id": "6QJ87EHFGyvT",
        "outputId": "5531d9d1-71b7-4c17-c127-b481371e8a67",
        "colab": {
          "base_uri": "https://localhost:8080/"
        }
      },
      "execution_count": 39,
      "outputs": [
        {
          "output_type": "execute_result",
          "data": {
            "text/plain": [
              "[12.5, 13, 20]"
            ]
          },
          "metadata": {},
          "execution_count": 39
        }
      ]
    },
    {
      "cell_type": "markdown",
      "source": [
        "# Exercice 2\n",
        "\n",
        "Compléter le code de chaque cellule pour obtenir le résultat demandé"
      ],
      "metadata": {
        "id": "7kdMY89WHqdI"
      }
    },
    {
      "cell_type": "code",
      "source": [
        "# résultat souhaité :  [0,1,2,3,4,10,11,12 ]\n",
        "[ i for i in range(13) if i<5 or  i >9]"
      ],
      "metadata": {
        "id": "TVbd_WR4HqdJ",
        "outputId": "3fd0e5b0-44ce-4a6a-9554-4a4997dfcd0b",
        "colab": {
          "base_uri": "https://localhost:8080/"
        }
      },
      "execution_count": 40,
      "outputs": [
        {
          "output_type": "execute_result",
          "data": {
            "text/plain": [
              "[0, 1, 2, 3, 4, 10, 11, 12]"
            ]
          },
          "metadata": {},
          "execution_count": 40
        }
      ]
    },
    {
      "cell_type": "code",
      "source": [
        "# résultat souhaité : ['Dana', 'Eliane', 'Charlie', 'Bob']\n",
        "prenoms = ['Dana','George','Alice','Eliane','Flore','Charlie','Bob']\n",
        "[x  for x in prenoms if x>'B' and x<'F'  ]"
      ],
      "metadata": {
        "id": "8LaQMNhVHqdK",
        "outputId": "8ab892a5-0d85-48bb-afdd-2a9f8ce76d1f",
        "colab": {
          "base_uri": "https://localhost:8080/"
        }
      },
      "execution_count": 41,
      "outputs": [
        {
          "output_type": "execute_result",
          "data": {
            "text/plain": [
              "['Dana', 'Eliane', 'Charlie', 'Bob']"
            ]
          },
          "metadata": {},
          "execution_count": 41
        }
      ]
    },
    {
      "cell_type": "code",
      "source": [
        "# résultat souhaité : ['TP', 'DS']\n",
        "\n",
        "eval = [ ('IE1', 15), ('DM', 18), ('TP', 8), ('DS', 9.5), ('QCM', 15)] \n",
        "\n",
        "[ e[0] for e in eval if e[1] < 10 ]"
      ],
      "metadata": {
        "id": "Tgr0hSw9HqdL",
        "outputId": "b2fcf993-f005-4dcc-b453-261f87210d2d",
        "colab": {
          "base_uri": "https://localhost:8080/"
        }
      },
      "execution_count": 42,
      "outputs": [
        {
          "output_type": "execute_result",
          "data": {
            "text/plain": [
              "['TP', 'DS']"
            ]
          },
          "metadata": {},
          "execution_count": 42
        }
      ]
    }
  ]
}