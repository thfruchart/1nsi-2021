{
  "nbformat": 4,
  "nbformat_minor": 0,
  "metadata": {
    "colab": {
      "name": "TravailPerso-22-02-04.ipynb",
      "provenance": [],
      "authorship_tag": "ABX9TyNmgWcCX1O9uQ23chCaWYY6",
      "include_colab_link": true
    },
    "kernelspec": {
      "name": "python3",
      "display_name": "Python 3"
    },
    "language_info": {
      "name": "python"
    }
  },
  "cells": [
    {
      "cell_type": "markdown",
      "metadata": {
        "id": "view-in-github",
        "colab_type": "text"
      },
      "source": [
        "<a href=\"https://colab.research.google.com/github/thfruchart/1nsi/blob/main/eval/TravailPerso_22_02_04.ipynb\" target=\"_parent\"><img src=\"https://colab.research.google.com/assets/colab-badge.svg\" alt=\"Open In Colab\"/></a>"
      ]
    },
    {
      "cell_type": "markdown",
      "source": [
        "#### Représentation des entiers\n",
        "Au format complément à deux sur 8 bits, quel nombre est représenté par le code binaire `10000000` ?"
      ],
      "metadata": {
        "id": "ZqVXsAV76qTw"
      }
    },
    {
      "cell_type": "code",
      "execution_count": null,
      "metadata": {
        "id": "-1xVo6op459Y"
      },
      "outputs": [],
      "source": [
        "# Exécuter la cellule pour obtenir la réponse\n",
        "from numpy import int8\n",
        "int8(0b10000000)"
      ]
    },
    {
      "cell_type": "markdown",
      "source": [
        "Au format complément à deux sur 8 bits, quel nombre est représenté par le code binaire `01111111` ?"
      ],
      "metadata": {
        "id": "taKZFpm67EZO"
      }
    },
    {
      "cell_type": "code",
      "source": [
        "int8(0b01111111)"
      ],
      "metadata": {
        "id": "bKGMBvbo6EQl"
      },
      "execution_count": null,
      "outputs": []
    },
    {
      "cell_type": "markdown",
      "source": [
        "Au format complément à deux sur 8 bits, quel nombre est représenté par le code binaire `10001111` ?"
      ],
      "metadata": {
        "id": "Ri23NEwz7Q-o"
      }
    },
    {
      "cell_type": "code",
      "source": [
        "int8(0b10001111)"
      ],
      "metadata": {
        "id": "xjQcsG0I7Q-q"
      },
      "execution_count": null,
      "outputs": []
    },
    {
      "cell_type": "markdown",
      "source": [
        "#### Tableaux\n",
        "Quelle est la longueur du tableau `t = [1,2,[3,4,5]]`"
      ],
      "metadata": {
        "id": "lK5Ow7vR852S"
      }
    },
    {
      "cell_type": "code",
      "source": [
        "t = [1,2,[3,4,5]]\n",
        "len(t)"
      ],
      "metadata": {
        "id": "U3YFiKp57Q-s"
      },
      "execution_count": null,
      "outputs": []
    },
    {
      "cell_type": "markdown",
      "source": [
        "Que vaut `t[2][0]` ?"
      ],
      "metadata": {
        "id": "KPR8NzvO9KyA"
      }
    },
    {
      "cell_type": "code",
      "source": [
        "t = [1,2,[3,4,5]]\n",
        "t[2][0]"
      ],
      "metadata": {
        "id": "Bk35A5u89Pux"
      },
      "execution_count": null,
      "outputs": []
    },
    {
      "cell_type": "markdown",
      "source": [
        "quelle est la valeur de l'expression `[ x*3 for x in range(4)]` ?"
      ],
      "metadata": {
        "id": "P_wtkH-b9YtQ"
      }
    },
    {
      "cell_type": "code",
      "source": [
        "[ x*3 for x in range(4)]"
      ],
      "metadata": {
        "id": "_T5FLaQc9o-T"
      },
      "execution_count": null,
      "outputs": []
    },
    {
      "cell_type": "markdown",
      "source": [
        "quelle est la valeur de l'expression `[z for z in 'AZERTYUIOP' if z<'T']`"
      ],
      "metadata": {
        "id": "FB4khd8v9tuB"
      }
    },
    {
      "cell_type": "code",
      "source": [
        "[z for z in 'AZERTYUIOP' if z<'T']"
      ],
      "metadata": {
        "id": "aIfG0_2A-M91"
      },
      "execution_count": null,
      "outputs": []
    },
    {
      "cell_type": "markdown",
      "source": [
        "#### Dictionnaires"
      ],
      "metadata": {
        "id": "9R2Vr8sY-awc"
      }
    },
    {
      "cell_type": "markdown",
      "source": [
        "Soit `d = {'A' : 'Alpha', 'B' : 'Bravo', 'C' : 'Charlie', 'D':'Delta'}`  \n",
        "que vaut l'expression `d['D']` ?"
      ],
      "metadata": {
        "id": "1t3pVziV-dPj"
      }
    },
    {
      "cell_type": "code",
      "source": [
        "d = {'A' : 'Alpha', 'B' : 'Bravo', 'C' : 'Charlie', 'D':'Delta'}\n",
        "d['D']"
      ],
      "metadata": {
        "colab": {
          "base_uri": "https://localhost:8080/",
          "height": 35
        },
        "id": "VBIU9307-4UQ",
        "outputId": "a6830b81-a94f-44e4-b044-f06ce9bc0db1"
      },
      "execution_count": 27,
      "outputs": [
        {
          "output_type": "execute_result",
          "data": {
            "application/vnd.google.colaboratory.intrinsic+json": {
              "type": "string"
            },
            "text/plain": [
              "'Delta'"
            ]
          },
          "metadata": {},
          "execution_count": 27
        }
      ]
    },
    {
      "cell_type": "markdown",
      "source": [
        "quel est l'effet de la commande  \n",
        "`d['E'] = 'Erie'`  \n",
        "sur le dictionnaire `d = {'A' : 'Alpha', 'B' : 'Bravo', 'C' : 'Charlie', 'D':'Delta'}` ?"
      ],
      "metadata": {
        "id": "hfw1QAl1_F-k"
      }
    },
    {
      "cell_type": "code",
      "source": [
        "d = {'A' : 'Alpha', 'B' : 'Bravo', 'C' : 'Charlie', 'D':'Delta'}\n",
        "d['E'] = 'Erie'\n",
        "print(d)"
      ],
      "metadata": {
        "id": "l5ELgOmp_MpG"
      },
      "execution_count": null,
      "outputs": []
    },
    {
      "cell_type": "markdown",
      "source": [
        "quelle est alors la valeur de `list(d.keys())` ?"
      ],
      "metadata": {
        "id": "MqeZhMAe_ttu"
      }
    },
    {
      "cell_type": "code",
      "source": [
        "list(d.keys())"
      ],
      "metadata": {
        "id": "SLX5aZ1b_0GK"
      },
      "execution_count": null,
      "outputs": []
    },
    {
      "cell_type": "markdown",
      "source": [
        "quelle est alors la valeur de `list(d.values())` ?"
      ],
      "metadata": {
        "id": "v7suUSzO_sMx"
      }
    },
    {
      "cell_type": "code",
      "source": [
        "list(d.values())"
      ],
      "metadata": {
        "id": "TJo_B1CC_5N-"
      },
      "execution_count": null,
      "outputs": []
    },
    {
      "cell_type": "markdown",
      "source": [
        "quelle est alors la valeur de `list(d.items())`"
      ],
      "metadata": {
        "id": "QTNjr95z_9C4"
      }
    },
    {
      "cell_type": "code",
      "source": [
        "list(d.items())"
      ],
      "metadata": {
        "id": "5MEbddjnAA6X"
      },
      "execution_count": null,
      "outputs": []
    }
  ]
}