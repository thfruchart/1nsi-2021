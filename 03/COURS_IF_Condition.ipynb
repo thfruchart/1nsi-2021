{
  "nbformat": 4,
  "nbformat_minor": 0,
  "metadata": {
    "colab": {
      "name": "03-COURS_IF-Condition.ipynb",
      "provenance": [],
      "collapsed_sections": [],
      "include_colab_link": true
    },
    "kernelspec": {
      "name": "python3",
      "display_name": "Python 3"
    },
    "celltoolbar": "Slideshow"
  },
  "cells": [
    {
      "cell_type": "markdown",
      "metadata": {
        "id": "view-in-github",
        "colab_type": "text"
      },
      "source": [
        "<a href=\"https://colab.research.google.com/github/thfruchart/1nsi/blob/main/03/COURS_IF_Condition.ipynb\" target=\"_parent\"><img src=\"https://colab.research.google.com/assets/colab-badge.svg\" alt=\"Open In Colab\"/></a>"
      ]
    },
    {
      "cell_type": "markdown",
      "metadata": {
        "id": "eIqsGx4Xw1je"
      },
      "source": [
        "# Instruction conditionnelle, ou \"branchement\""
      ]
    },
    {
      "cell_type": "markdown",
      "metadata": {
        "id": "zirOrHz7w-r_"
      },
      "source": [
        "Dans un programme contenant une suite d'instructions, l'exécution s'effectue séquentiellement : chaque instruction à la suite de la précédente.\n",
        "\n",
        "Une structure conditionnelle permet de n'exécuter certaines instruction que dans un cas précis. \n",
        "\n",
        "Observer les exemples suivants"
      ]
    },
    {
      "cell_type": "code",
      "metadata": {
        "id": "FE7utV2YwKwa",
        "trusted": false
      },
      "source": [
        "n = int(input(\"Entrer un nombre entier\"))\n",
        "if n>0 :\n",
        "    print(\"strictement positif\")"
      ],
      "execution_count": null,
      "outputs": []
    },
    {
      "cell_type": "code",
      "metadata": {
        "id": "iu7m9DvVxt2n",
        "trusted": false
      },
      "source": [
        "n = int(input(\"Entrer un nombre entier\"))\n",
        "if n>0 :\n",
        "    print(\"strictement positif\")"
      ],
      "execution_count": null,
      "outputs": []
    },
    {
      "cell_type": "markdown",
      "metadata": {
        "id": "kSU3qiy2yyKM"
      },
      "source": [
        "## syntaxe"
      ]
    },
    {
      "cell_type": "markdown",
      "metadata": {
        "id": "4hMsZEgOx2hC"
      },
      "source": [
        "\n",
        "    if expression_booleenne : \n",
        "        bloc_execute_si_condition_VRAIE\n",
        "\n",
        "L'instruction conditionnelle \n",
        "* débute avec le mot clé **`if`**\n",
        "* suivi d'une expression booléenne, c'est à dire une expression qui a la valeur `True` ou `False` en python\n",
        "* suivie de**` : `**(deux points) \n"
      ]
    },
    {
      "cell_type": "markdown",
      "metadata": {
        "id": "i34V9P8zxPr3"
      },
      "source": [
        "    if expression_booleenne : \n",
        "        bloc_execute_si_condition_VRAIE\n",
        "\n",
        "* Comme avec l'instruction for, il est possible de marquer un **bloc d'instructions** avec l'indentation. Ce bloc d'instruction n'est exécuté que lorsque la condition booléenne est évaluée à `True`. "
      ]
    },
    {
      "cell_type": "code",
      "metadata": {
        "id": "-Xf4jn3JyiEn",
        "trusted": false
      },
      "source": [
        "n = int(input(\"Entrer un nombre entier\"))\n",
        "if n>0 :\n",
        "    print(\"L'entier\", n )\n",
        "    print(\"est strictement positif\")\n",
        "print(\"Fin du programme\")"
      ],
      "execution_count": null,
      "outputs": []
    },
    {
      "cell_type": "code",
      "metadata": {
        "id": "IskMTxbSyqVb",
        "trusted": false
      },
      "source": [
        "n = int(input(\"Entrer un nombre entier\"))\n",
        "if n>0 :\n",
        "    print(\"L'entier\", n )\n",
        "    print(\"est strictement positif\")\n",
        "print(\"Fin du programme\")"
      ],
      "execution_count": null,
      "outputs": []
    },
    {
      "cell_type": "markdown",
      "metadata": {
        "id": "5KsCjzPSy1S7"
      },
      "source": [
        "## syntaxe if ... else\n",
        "\n",
        "    if expression_booleenne : \n",
        "        bloc_execute_si_condition_VRAIE\n",
        "    else : \n",
        "        bloc_execute_si_condition_FAUSSE"
      ]
    },
    {
      "cell_type": "code",
      "metadata": {
        "id": "UCDqk-KlzNX6",
        "trusted": false
      },
      "source": [
        "n = int(input(\"Entrer un nombre entier\"))\n",
        "if n>100 :\n",
        "    print(\"L'entier\", n )\n",
        "    print(\"est strictement supérieur à 100\")\n",
        "else : \n",
        "    print(\"L'entier\", n )\n",
        "    print(\"n'est PAS strictement supérieur à 100\") \n",
        "print(\"Fin du programme\")"
      ],
      "execution_count": null,
      "outputs": []
    },
    {
      "cell_type": "code",
      "metadata": {
        "id": "h1p0MkhjzYZF",
        "trusted": false
      },
      "source": [
        "n = int(input(\"Entrer un nombre entier\"))\n",
        "if n>100 :\n",
        "    print(\"L'entier\", n )\n",
        "    print(\"est strictement supérieur à 100\")\n",
        "else : \n",
        "    print(\"L'entier\", n )\n",
        "    print(\"n'est PAS strictement supérieur à 100\") \n",
        "print(\"Fin du programme\")"
      ],
      "execution_count": null,
      "outputs": []
    },
    {
      "cell_type": "code",
      "metadata": {
        "id": "JEO2TtNMzZ6u",
        "trusted": false
      },
      "source": [
        "n = int(input(\"Entrer un nombre entier\"))\n",
        "if n>100 :\n",
        "    print(\"L'entier\", n )\n",
        "    print(\"est strictement supérieur à 100\")\n",
        "else : \n",
        "    print(\"L'entier\", n )\n",
        "    print(\"n'est PAS strictement supérieur à 100\") \n",
        "print(\"Fin du programme\")"
      ],
      "execution_count": null,
      "outputs": []
    },
    {
      "cell_type": "markdown",
      "metadata": {
        "id": "C7Y85BQCzx0X"
      },
      "source": [
        "## syntaxe if... elif... else "
      ]
    },
    {
      "cell_type": "markdown",
      "metadata": {
        "id": "tzhPyjuNz1yn"
      },
      "source": [
        "elif est la contraction de else + if\n",
        "\n"
      ]
    },
    {
      "cell_type": "code",
      "metadata": {
        "id": "KN-f9GUA0J8o",
        "trusted": false
      },
      "source": [
        "n = int(input(\"Entrer un nombre entier\"))\n",
        "if n>0 :\n",
        "    print(\"L'entier\", n )\n",
        "    print(\"est strictement positif\")\n",
        "elif n<0 :\n",
        "    print(\"L'entier\", n )\n",
        "    print(\"est strictement positif\")\n",
        "else : \n",
        "    print(\"L'entier\", n )\n",
        "    print(\"est nul\") \n",
        "print(\"Fin du programme\")"
      ],
      "execution_count": null,
      "outputs": []
    },
    {
      "cell_type": "markdown",
      "metadata": {
        "id": "8gcaVMk7y3w0"
      },
      "source": [
        "Si plusieurs elif sont utilisés, les conditions qu'ils commandent sont évaluées dans l'ordre de l'écriture du programme.\n",
        "\n",
        "Comparer les trois programmes suivants"
      ]
    },
    {
      "cell_type": "code",
      "metadata": {
        "id": "60iixh5q1FUv",
        "trusted": false
      },
      "source": [
        "#programme 1 : mentions du bac\n",
        "note = float(input(\"Entrer la note\"))\n",
        "if note >= 16:\n",
        "    print(\"mention TB\")\n",
        "if note >=14 :\n",
        "    print(\"mention B\")\n",
        "if note >=12:\n",
        "    print(\"mention AB\")\n",
        "if note >=10:\n",
        "    print(\"reçu à l'examen\")\n",
        "else :\n",
        "    print(\"recalé à l'examen\")"
      ],
      "execution_count": null,
      "outputs": []
    },
    {
      "cell_type": "code",
      "metadata": {
        "id": "IGSDB8hr1VTJ",
        "trusted": false
      },
      "source": [
        "#programme 2 : mentions du bac\n",
        "note = float(input(\"Entrer la note\"))\n",
        "if note >=10:\n",
        "    print(\"reçu à l'examen\")\n",
        "elif note >=12:\n",
        "    print(\"mention AB\")\n",
        "elif note >=14 :\n",
        "    print(\"mention B\")\n",
        "elif note >= 16:\n",
        "    print(\"mention TB\")\n",
        "else :\n",
        "    print(\"recalé à l'examen\")"
      ],
      "execution_count": null,
      "outputs": []
    },
    {
      "cell_type": "code",
      "metadata": {
        "id": "Xn6KHQcx0inA",
        "trusted": false
      },
      "source": [
        "#programme 3 : mentions du bac\n",
        "note = float(input(\"Entrer la note\"))\n",
        "if note >= 16:\n",
        "    print(\"mention TB\")\n",
        "elif note >=14 :\n",
        "    print(\"mention B\")\n",
        "elif note >=12:\n",
        "    print(\"mention AB\")\n",
        "elif note >=10:\n",
        "    print(\"reçu à l'examen\")\n",
        "else :\n",
        "    print(\"recalé à l'examen\")"
      ],
      "execution_count": null,
      "outputs": []
    },
    {
      "cell_type": "markdown",
      "metadata": {
        "id": "azLTIoIT2RUC"
      },
      "source": [
        "## conditionnelles imbriquées"
      ]
    },
    {
      "cell_type": "markdown",
      "metadata": {
        "id": "0f0EOViB2VFj"
      },
      "source": [
        "On souhaite améliorer l'affichage du programme ci-dessus.\n",
        "\n",
        "1. Afficher soit \"reçu\" soit \"recalé\"\n",
        "2. En cas de réussite, préciser la mention"
      ]
    },
    {
      "cell_type": "code",
      "metadata": {
        "id": "QmLBxged2pCu",
        "trusted": false
      },
      "source": [
        "# Structure de base\n",
        "#programme : mentions du bac\n",
        "note = float(input(\"Entrer la note\"))\n",
        "if note >=10:\n",
        "    print(\"reçu à l'examen\")\n",
        "else :\n",
        "    print(\"recalé à l'examen\")\n"
      ],
      "execution_count": null,
      "outputs": []
    },
    {
      "cell_type": "markdown",
      "metadata": {
        "id": "_VfSm8Cg25HN"
      },
      "source": [
        "Détail des mentions, dans le cas où l'examen est réussi"
      ]
    },
    {
      "cell_type": "code",
      "metadata": {
        "id": "kSj77A6z24Ik",
        "trusted": false
      },
      "source": [
        "note = float(input(\"Entrer la note\"))\n",
        "if note >=10:\n",
        "    print(\"reçu à l'examen\")\n",
        "    # ajout de la mention\n",
        "    if note >= 16:\n",
        "        print(\"mention TB\")\n",
        "    elif note >=14 :\n",
        "        print(\"mention B\")\n",
        "    elif note >=12:\n",
        "        print(\"mention AB\")\n",
        "\n",
        "else :\n",
        "    print(\"recalé à l'examen\")\n"
      ],
      "execution_count": null,
      "outputs": []
    },
    {
      "cell_type": "markdown",
      "metadata": {
        "id": "Fac4SvDu3gwi"
      },
      "source": [
        "# Expressions booléennes"
      ]
    },
    {
      "cell_type": "markdown",
      "metadata": {
        "id": "XuhsCo3e3n1W"
      },
      "source": [
        "## Opérateurs de comparaison"
      ]
    },
    {
      "cell_type": "markdown",
      "metadata": {
        "id": "xHKDquLZ3taP"
      },
      "source": [
        "|Comparaison|en python|\n",
        "|:----------:|:-------:|\n",
        "|égalité entre a et b | `a == b`|\n",
        "|$ a \\neq b$| `a != b`|\n",
        "|$a \\leq b$| `a <= b`|\n",
        "|$a \\geq b$| `a >= b`|\n"
      ]
    },
    {
      "cell_type": "markdown",
      "metadata": {
        "id": "-4sZKCZy4aNf"
      },
      "source": [
        "Un opérateur de comparaison produit un résultat de type booléen : en python `bool`. "
      ]
    },
    {
      "cell_type": "code",
      "metadata": {
        "id": "mJXLu_lr7JBI",
        "trusted": false
      },
      "source": [
        "5 < 7"
      ],
      "execution_count": null,
      "outputs": []
    },
    {
      "cell_type": "code",
      "metadata": {
        "id": "xjOyMT4U7OKF",
        "trusted": false
      },
      "source": [
        "5 != 7"
      ],
      "execution_count": null,
      "outputs": []
    },
    {
      "cell_type": "code",
      "metadata": {
        "id": "zPXtUsgq7Pzg",
        "trusted": false
      },
      "source": [
        "5 = 7"
      ],
      "execution_count": null,
      "outputs": []
    },
    {
      "cell_type": "code",
      "metadata": {
        "id": "gEzi5HX17RQb",
        "trusted": false
      },
      "source": [
        "5 == 7"
      ],
      "execution_count": null,
      "outputs": []
    },
    {
      "cell_type": "code",
      "metadata": {
        "id": "b-J8xmZ073Gr",
        "trusted": false
      },
      "source": [
        "1+1 == 2"
      ],
      "execution_count": null,
      "outputs": []
    },
    {
      "cell_type": "code",
      "metadata": {
        "id": "whk4uwxw742Q",
        "trusted": false
      },
      "source": [
        "1+1 <= 3"
      ],
      "execution_count": null,
      "outputs": []
    },
    {
      "cell_type": "code",
      "metadata": {
        "id": "lz0lsf8t8Df_",
        "trusted": false
      },
      "source": [
        "1+1 <=2"
      ],
      "execution_count": null,
      "outputs": []
    },
    {
      "cell_type": "markdown",
      "metadata": {
        "id": "WpoeotbX8HlV"
      },
      "source": [
        "## comparaison et type `str`"
      ]
    },
    {
      "cell_type": "markdown",
      "metadata": {
        "id": "ZE5kWMnZ8NpA"
      },
      "source": [
        "Les opérateurs de comparaison peuvent être appliqués\n",
        "*  à des types numériques int ou float\n",
        "* ou au type str (ordre lexicographique)"
      ]
    },
    {
      "cell_type": "code",
      "metadata": {
        "id": "3hre80-38cit",
        "trusted": false
      },
      "source": [
        "'bon' + 'jour' == 'bonjour'"
      ],
      "execution_count": null,
      "outputs": []
    },
    {
      "cell_type": "code",
      "metadata": {
        "id": "Btc4JvTR8hci",
        "trusted": false
      },
      "source": [
        "'bon' + 'jour' == 'Bonjour'"
      ],
      "execution_count": null,
      "outputs": []
    },
    {
      "cell_type": "code",
      "metadata": {
        "id": "CX0Tw8jV8k3D",
        "trusted": false
      },
      "source": [
        "'a' < 'b'"
      ],
      "execution_count": null,
      "outputs": []
    },
    {
      "cell_type": "code",
      "metadata": {
        "id": "Kr3-bPF38nX6",
        "trusted": false
      },
      "source": [
        "'a' < 'B'"
      ],
      "execution_count": null,
      "outputs": []
    },
    {
      "cell_type": "markdown",
      "metadata": {
        "id": "uKjoM9Yl8qqh"
      },
      "source": [
        "Les caractères sont classés dans l'ordre de leur code ASCII (qui sera expliqué dans un chapitre ultérieur)\n",
        "\n",
        "Pour les lettres non accentuées, cela correspond à l'ordre alphabétique, avec les MAJUSCULES avant les minuscules.\n",
        "\n",
        "Les lettre accentuées ne sont pas classées dans l'ordre alphabétique."
      ]
    },
    {
      "cell_type": "code",
      "metadata": {
        "id": "EO4OkrlE9RHC",
        "trusted": false
      },
      "source": [
        "'aAAA' < 'Zzzz'"
      ],
      "execution_count": null,
      "outputs": []
    },
    {
      "cell_type": "code",
      "metadata": {
        "id": "XjLVtre99AOm",
        "trusted": false
      },
      "source": [
        "'éléphant' < 'mamouth'"
      ],
      "execution_count": null,
      "outputs": []
    },
    {
      "cell_type": "code",
      "metadata": {
        "id": "lEMEJnOB9k8G",
        "trusted": false
      },
      "source": [
        "'100' > '5'"
      ],
      "execution_count": null,
      "outputs": []
    },
    {
      "cell_type": "markdown",
      "metadata": {
        "id": "y2MRwgHe9wSt"
      },
      "source": [
        "## Opérations booléennes"
      ]
    },
    {
      "cell_type": "markdown",
      "metadata": {
        "id": "IR1Y4KM49-l_"
      },
      "source": [
        "|connecteur logique|nom|condition|\n",
        "|:----------:|:-------:|:------------|\n",
        "| `and`  |conjonction| **`c1 and c2`** est vrai lorsque les deux conditions c1 et c2 sont toutes les deux vraies|\n",
        "|or | disjonction|**`c1 or c2`** est vrai lorsqu'au moins une des deux conditions c1 ou c2 est vraie|\n",
        "|not|négation|**`not c`** est vrai si et seulement si c est faux|"
      ]
    },
    {
      "cell_type": "markdown",
      "metadata": {
        "id": "U6ZJjgme_LDk"
      },
      "source": [
        "Tester différentes valeurs de n en exécutant les cellules suivantes.\n",
        "\n",
        "Quelles-sont celles qui rendent la condition vraie ?"
      ]
    },
    {
      "cell_type": "code",
      "metadata": {
        "id": "9ysIHRnv_Uso",
        "trusted": false
      },
      "source": [
        "n = int(input('Entrer n : '))\n",
        "print(n==2 or n>2)"
      ],
      "execution_count": null,
      "outputs": []
    },
    {
      "cell_type": "code",
      "metadata": {
        "id": "k-AhEL29_eHH",
        "trusted": false
      },
      "source": [
        "n = int(input('Entrer n : '))\n",
        "print(n!=2 and n>0)"
      ],
      "execution_count": null,
      "outputs": []
    },
    {
      "cell_type": "code",
      "metadata": {
        "id": "dYu9vPq__nAx",
        "trusted": false
      },
      "source": [
        "n = int(input('Entrer n : '))\n",
        "print(n!=2 or n>0)"
      ],
      "execution_count": null,
      "outputs": []
    },
    {
      "cell_type": "code",
      "metadata": {
        "id": "9PDAeo73_sWf",
        "trusted": false
      },
      "source": [
        "n = int(input('Entrer n : '))\n",
        "print( not n!=2 )"
      ],
      "execution_count": null,
      "outputs": []
    }
  ]
}