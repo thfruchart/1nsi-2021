{
  "nbformat": 4,
  "nbformat_minor": 0,
  "metadata": {
    "colab": {
      "name": "03-COURS_IF-Condition.ipynb",
      "provenance": [],
      "collapsed_sections": [],
      "include_colab_link": true
    },
    "kernelspec": {
      "name": "python3",
      "display_name": "Python 3"
    },
    "celltoolbar": "Slideshow"
  },
  "cells": [
    {
      "cell_type": "markdown",
      "metadata": {
        "id": "view-in-github",
        "colab_type": "text"
      },
      "source": [
        "<a href=\"https://colab.research.google.com/github/thfruchart/1nsi/blob/main/03/COURS_IF_Condition.ipynb\" target=\"_parent\"><img src=\"https://colab.research.google.com/assets/colab-badge.svg\" alt=\"Open In Colab\"/></a>"
      ]
    },
    {
      "cell_type": "markdown",
      "metadata": {
        "id": "eIqsGx4Xw1je"
      },
      "source": [
        "# Instruction conditionnelle, ou \"branchement\""
      ]
    },
    {
      "cell_type": "markdown",
      "metadata": {
        "id": "zirOrHz7w-r_"
      },
      "source": [
        "Dans un programme contenant une suite d'instructions, l'exécution s'effectue séquentiellement : chaque instruction à la suite de la précédente.\n",
        "\n",
        "Une structure conditionnelle permet de n'exécuter certaines instruction que dans un cas précis. \n",
        "\n",
        "Observer les exemples suivants"
      ]
    },
    {
      "cell_type": "code",
      "metadata": {
        "id": "FE7utV2YwKwa",
        "trusted": false,
        "outputId": "3533e5f5-0c84-4e2b-bf88-69dabcbac73a",
        "colab": {
          "base_uri": "https://localhost:8080/"
        }
      },
      "source": [
        "n = int(input(\"Entrer un nombre entier : \"))\n",
        "if n>0 :\n",
        "    print(\"strictement positif\")"
      ],
      "execution_count": 8,
      "outputs": [
        {
          "output_type": "stream",
          "name": "stdout",
          "text": [
            "Entrer un nombre entier : 5\n",
            "strictement positif\n"
          ]
        }
      ]
    },
    {
      "cell_type": "code",
      "metadata": {
        "id": "iu7m9DvVxt2n",
        "trusted": false,
        "outputId": "d00b0ecb-a86a-46ec-c2e2-85dbb4a2da8a",
        "colab": {
          "base_uri": "https://localhost:8080/"
        }
      },
      "source": [
        "n = int(input(\"Entrer un nombre entier : \"))\n",
        "if n>0 :\n",
        "    print(\"strictement positif\")"
      ],
      "execution_count": 10,
      "outputs": [
        {
          "name": "stdout",
          "output_type": "stream",
          "text": [
            "Entrer un nombre entier : -3\n"
          ]
        }
      ]
    },
    {
      "cell_type": "markdown",
      "metadata": {
        "id": "kSU3qiy2yyKM"
      },
      "source": [
        "## syntaxe"
      ]
    },
    {
      "cell_type": "markdown",
      "metadata": {
        "id": "4hMsZEgOx2hC"
      },
      "source": [
        "\n",
        "    if expression_booleenne : \n",
        "        bloc_execute_si_condition_VRAIE\n",
        "\n",
        "L'instruction conditionnelle \n",
        "* débute avec le mot clé **`if`**\n",
        "* suivi d'une expression booléenne, c'est à dire une expression qui a la valeur `True` ou `False` en python\n",
        "* suivie de**` : `**(deux points) \n"
      ]
    },
    {
      "cell_type": "markdown",
      "metadata": {
        "id": "i34V9P8zxPr3"
      },
      "source": [
        "    if expression_booleenne : \n",
        "        bloc_execute_si_condition_VRAIE\n",
        "\n",
        "* Comme avec l'instruction for, il est possible de marquer un **bloc d'instructions** avec l'indentation. Ce bloc d'instruction n'est exécuté que lorsque la condition booléenne est évaluée à `True`. "
      ]
    },
    {
      "cell_type": "code",
      "metadata": {
        "id": "-Xf4jn3JyiEn",
        "trusted": false,
        "outputId": "3956d351-c205-4fc1-e33e-b7e187999edb",
        "colab": {
          "base_uri": "https://localhost:8080/"
        }
      },
      "source": [
        "n = int(input(\"Entrer un nombre entier : \"))\n",
        "if n>0 :\n",
        "    print(\"L'entier\", n )\n",
        "    print(\"est strictement positif\")\n",
        "print(\"Fin du programme\")"
      ],
      "execution_count": 11,
      "outputs": [
        {
          "output_type": "stream",
          "name": "stdout",
          "text": [
            "Entrer un nombre entier : 4\n",
            "L'entier 4\n",
            "est strictement positif\n",
            "Fin du programme\n"
          ]
        }
      ]
    },
    {
      "cell_type": "code",
      "metadata": {
        "id": "IskMTxbSyqVb",
        "trusted": false,
        "outputId": "a8195fe2-59e4-4c7d-ea8b-b33816d25889",
        "colab": {
          "base_uri": "https://localhost:8080/"
        }
      },
      "source": [
        "n = int(input(\"Entrer un nombre entier : \"))\n",
        "if n>0 :\n",
        "    print(\"L'entier\", n )\n",
        "    print(\"est strictement positif\")\n",
        "print(\"Fin du programme\")"
      ],
      "execution_count": 12,
      "outputs": [
        {
          "output_type": "stream",
          "name": "stdout",
          "text": [
            "Entrer un nombre entier : -2\n",
            "Fin du programme\n"
          ]
        }
      ]
    },
    {
      "cell_type": "markdown",
      "metadata": {
        "id": "5KsCjzPSy1S7"
      },
      "source": [
        "## syntaxe if ... else\n",
        "\n",
        "    if expression_booleenne : \n",
        "        bloc_execute_si_condition_VRAIE\n",
        "    else : \n",
        "        bloc_execute_si_condition_FAUSSE"
      ]
    },
    {
      "cell_type": "code",
      "metadata": {
        "id": "UCDqk-KlzNX6",
        "trusted": false,
        "outputId": "3ff22ffb-0a0e-44f0-84e2-7e3a1166e063",
        "colab": {
          "base_uri": "https://localhost:8080/"
        }
      },
      "source": [
        "n = int(input(\"Entrer un nombre entier : \"))\n",
        "if n>100 :\n",
        "    print(\"L'entier\", n )\n",
        "    print(\"est strictement supérieur à 100\")\n",
        "else : \n",
        "    print(\"L'entier\", n )\n",
        "    print(\"n'est PAS strictement supérieur à 100\") \n",
        "print(\"Fin du programme\")"
      ],
      "execution_count": 13,
      "outputs": [
        {
          "output_type": "stream",
          "name": "stdout",
          "text": [
            "Entrer un nombre entier : 103\n",
            "L'entier 103\n",
            "est strictement supérieur à 100\n",
            "Fin du programme\n"
          ]
        }
      ]
    },
    {
      "cell_type": "code",
      "metadata": {
        "id": "h1p0MkhjzYZF",
        "trusted": false,
        "outputId": "cee817a9-75f7-4792-efbc-fe0667aed2d1",
        "colab": {
          "base_uri": "https://localhost:8080/"
        }
      },
      "source": [
        "n = int(input(\"Entrer un nombre entier : \"))\n",
        "if n>100 :\n",
        "    print(\"L'entier\", n )\n",
        "    print(\"est strictement supérieur à 100\")\n",
        "else : \n",
        "    print(\"L'entier\", n )\n",
        "    print(\"n'est PAS strictement supérieur à 100\") \n",
        "print(\"Fin du programme\")"
      ],
      "execution_count": 14,
      "outputs": [
        {
          "output_type": "stream",
          "name": "stdout",
          "text": [
            "Entrer un nombre entier : 95\n",
            "L'entier 95\n",
            "n'est PAS strictement supérieur à 100\n",
            "Fin du programme\n"
          ]
        }
      ]
    },
    {
      "cell_type": "code",
      "metadata": {
        "id": "JEO2TtNMzZ6u",
        "trusted": false,
        "outputId": "57582f2b-4c1e-448e-ee76-cfb9409f03ed",
        "colab": {
          "base_uri": "https://localhost:8080/"
        }
      },
      "source": [
        "n = int(input(\"Entrer un nombre entier : \"))\n",
        "if n>100 :\n",
        "    print(\"L'entier\", n )\n",
        "    print(\"est strictement supérieur à 100\")\n",
        "else : \n",
        "    print(\"L'entier\", n )\n",
        "    print(\"n'est PAS strictement supérieur à 100\") \n",
        "print(\"Fin du programme\")"
      ],
      "execution_count": 15,
      "outputs": [
        {
          "output_type": "stream",
          "name": "stdout",
          "text": [
            "Entrer un nombre entier : 100\n",
            "L'entier 100\n",
            "n'est PAS strictement supérieur à 100\n",
            "Fin du programme\n"
          ]
        }
      ]
    },
    {
      "cell_type": "markdown",
      "metadata": {
        "id": "C7Y85BQCzx0X"
      },
      "source": [
        "## syntaxe if... elif... else "
      ]
    },
    {
      "cell_type": "markdown",
      "metadata": {
        "id": "tzhPyjuNz1yn"
      },
      "source": [
        "elif est la contraction de else + if\n",
        "\n"
      ]
    },
    {
      "cell_type": "code",
      "metadata": {
        "id": "KN-f9GUA0J8o",
        "trusted": false,
        "outputId": "ec24005a-4009-4864-b296-40f9972e9fd9",
        "colab": {
          "base_uri": "https://localhost:8080/"
        }
      },
      "source": [
        "n = int(input(\"Entrer un nombre entier : \"))\n",
        "if n>0 :\n",
        "    print(\"L'entier\", n )\n",
        "    print(\"est strictement positif\")\n",
        "elif n<0 :\n",
        "    print(\"L'entier\", n )\n",
        "    print(\"est strictement positif\")\n",
        "else : \n",
        "    print(\"L'entier\", n )\n",
        "    print(\"est nul\") \n",
        "print(\"Fin du programme\")"
      ],
      "execution_count": 16,
      "outputs": [
        {
          "output_type": "stream",
          "name": "stdout",
          "text": [
            "Entrer un nombre entier : 0\n",
            "L'entier 0\n",
            "est nul\n",
            "Fin du programme\n"
          ]
        }
      ]
    },
    {
      "cell_type": "markdown",
      "metadata": {
        "id": "8gcaVMk7y3w0"
      },
      "source": [
        "Si plusieurs elif sont utilisés, les conditions qu'ils commandent sont évaluées dans l'ordre de l'écriture du programme.\n",
        "\n",
        "Comparer les trois programmes suivants"
      ]
    },
    {
      "cell_type": "code",
      "metadata": {
        "id": "60iixh5q1FUv",
        "trusted": false,
        "outputId": "9119f68c-1f3f-4543-fa72-aa0250e6e92a",
        "colab": {
          "base_uri": "https://localhost:8080/"
        }
      },
      "source": [
        "#programme 1 : mentions du bac\n",
        "note = float(input(\"Entrer la note : \"))\n",
        "if note >= 16:\n",
        "    print(\"mention TB\")\n",
        "if note >=14 :\n",
        "    print(\"mention B\")\n",
        "if note >=12:\n",
        "    print(\"mention AB\")\n",
        "if note >=10:\n",
        "    print(\"reçu à l'examen\")\n",
        "else :\n",
        "    print(\"recalé à l'examen\")"
      ],
      "execution_count": 17,
      "outputs": [
        {
          "output_type": "stream",
          "name": "stdout",
          "text": [
            "Entrer la note : 17\n",
            "mention TB\n",
            "mention B\n",
            "mention AB\n",
            "reçu à l'examen\n"
          ]
        }
      ]
    },
    {
      "cell_type": "code",
      "metadata": {
        "id": "IGSDB8hr1VTJ",
        "trusted": false,
        "outputId": "5e53f743-1000-456c-a13f-989547a8e858",
        "colab": {
          "base_uri": "https://localhost:8080/"
        }
      },
      "source": [
        "#programme 2 : mentions du bac\n",
        "note = float(input(\"Entrer la note : \"))\n",
        "if note >=10:\n",
        "    print(\"reçu à l'examen\")\n",
        "elif note >=12:\n",
        "    print(\"mention AB\")\n",
        "elif note >=14 :\n",
        "    print(\"mention B\")\n",
        "elif note >= 16:\n",
        "    print(\"mention TB\")\n",
        "else :\n",
        "    print(\"recalé à l'examen\")"
      ],
      "execution_count": 19,
      "outputs": [
        {
          "output_type": "stream",
          "name": "stdout",
          "text": [
            "Entrer la note : 15\n",
            "reçu à l'examen\n"
          ]
        }
      ]
    },
    {
      "cell_type": "code",
      "metadata": {
        "id": "Xn6KHQcx0inA",
        "trusted": false,
        "outputId": "b71a1761-f3c8-45db-8282-c56a79299357",
        "colab": {
          "base_uri": "https://localhost:8080/"
        }
      },
      "source": [
        "#programme 3 : mentions du bac\n",
        "note = float(input(\"Entrer la note : \"))\n",
        "if note >= 16:\n",
        "    print(\"mention TB\")\n",
        "elif note >=14 :\n",
        "    print(\"mention B\")\n",
        "elif note >=12:\n",
        "    print(\"mention AB\")\n",
        "elif note >=10:\n",
        "    print(\"reçu à l'examen\")\n",
        "else :\n",
        "    print(\"recalé à l'examen\")"
      ],
      "execution_count": 20,
      "outputs": [
        {
          "output_type": "stream",
          "name": "stdout",
          "text": [
            "Entrer la note : 15\n",
            "mention B\n"
          ]
        }
      ]
    },
    {
      "cell_type": "markdown",
      "metadata": {
        "id": "azLTIoIT2RUC"
      },
      "source": [
        "## conditionnelles imbriquées"
      ]
    },
    {
      "cell_type": "markdown",
      "metadata": {
        "id": "0f0EOViB2VFj"
      },
      "source": [
        "On souhaite améliorer l'affichage du programme ci-dessus.\n",
        "\n",
        "1. Afficher soit \"reçu\" soit \"recalé\"\n",
        "2. En cas de réussite, préciser la mention"
      ]
    },
    {
      "cell_type": "code",
      "metadata": {
        "id": "QmLBxged2pCu",
        "trusted": false,
        "outputId": "f5560d5e-4df7-48d4-b2d8-99cfd5023764",
        "colab": {
          "base_uri": "https://localhost:8080/"
        }
      },
      "source": [
        "# Structure de base\n",
        "#programme : mentions du bac\n",
        "note = float(input(\"Entrer la note : \"))\n",
        "if note >=10:\n",
        "    print(\"reçu à l'examen\")\n",
        "else :\n",
        "    print(\"recalé à l'examen\")\n"
      ],
      "execution_count": 21,
      "outputs": [
        {
          "output_type": "stream",
          "name": "stdout",
          "text": [
            "Entrer la note : 12\n",
            "reçu à l'examen\n"
          ]
        }
      ]
    },
    {
      "cell_type": "markdown",
      "metadata": {
        "id": "_VfSm8Cg25HN"
      },
      "source": [
        "Détail des mentions, dans le cas où l'examen est réussi"
      ]
    },
    {
      "cell_type": "code",
      "metadata": {
        "id": "kSj77A6z24Ik",
        "trusted": false,
        "outputId": "d6c998d3-dfb8-48c7-bdaf-5f6b1f539a56",
        "colab": {
          "base_uri": "https://localhost:8080/"
        }
      },
      "source": [
        "note = float(input(\"Entrer la note : \"))\n",
        "if note >=10:\n",
        "    print(\"reçu à l'examen\")\n",
        "    # ajout de la mention\n",
        "    if note >= 16:\n",
        "        print(\"mention TB\")\n",
        "    elif note >=14 :\n",
        "        print(\"mention B\")\n",
        "    elif note >=12:\n",
        "        print(\"mention AB\")\n",
        "\n",
        "else :\n",
        "    if note >= 8 :\n",
        "        print('oral de rattrapage')\n",
        "    else : \n",
        "        print(\"recalé à l'examen\")\n"
      ],
      "execution_count": 22,
      "outputs": [
        {
          "output_type": "stream",
          "name": "stdout",
          "text": [
            "Entrer la note : 12.5\n",
            "reçu à l'examen\n",
            "mention AB\n"
          ]
        }
      ]
    },
    {
      "cell_type": "markdown",
      "metadata": {
        "id": "Fac4SvDu3gwi"
      },
      "source": [
        "# Expressions booléennes"
      ]
    },
    {
      "cell_type": "markdown",
      "metadata": {
        "id": "XuhsCo3e3n1W"
      },
      "source": [
        "## Opérateurs de comparaison"
      ]
    },
    {
      "cell_type": "markdown",
      "metadata": {
        "id": "xHKDquLZ3taP"
      },
      "source": [
        "|Comparaison|en python|\n",
        "|:----------:|:-------:|\n",
        "|égalité entre a et b | `a == b`|\n",
        "|$ a \\neq b$| `a != b`|\n",
        "|$a \\leq b$| `a <= b`|\n",
        "|$a \\geq b$| `a >= b`|\n"
      ]
    },
    {
      "cell_type": "markdown",
      "metadata": {
        "id": "-4sZKCZy4aNf"
      },
      "source": [
        "Un opérateur de comparaison produit un résultat de type booléen : en python `bool`. "
      ]
    },
    {
      "cell_type": "code",
      "metadata": {
        "id": "mJXLu_lr7JBI",
        "trusted": false,
        "outputId": "e311d4c3-065f-42f5-ef50-e78759864d7a",
        "colab": {
          "base_uri": "https://localhost:8080/"
        }
      },
      "source": [
        "5 < 7"
      ],
      "execution_count": 23,
      "outputs": [
        {
          "output_type": "execute_result",
          "data": {
            "text/plain": [
              "True"
            ]
          },
          "metadata": {},
          "execution_count": 23
        }
      ]
    },
    {
      "cell_type": "code",
      "metadata": {
        "id": "xjOyMT4U7OKF",
        "trusted": false,
        "outputId": "fbe7ad1f-adb7-4372-b7cc-479869d78964",
        "colab": {
          "base_uri": "https://localhost:8080/"
        }
      },
      "source": [
        "5 != 7"
      ],
      "execution_count": 24,
      "outputs": [
        {
          "output_type": "execute_result",
          "data": {
            "text/plain": [
              "True"
            ]
          },
          "metadata": {},
          "execution_count": 24
        }
      ]
    },
    {
      "cell_type": "code",
      "metadata": {
        "id": "zPXtUsgq7Pzg",
        "trusted": false,
        "outputId": "29e42ada-48fc-48ae-87d5-4e3993dadbd8",
        "colab": {
          "base_uri": "https://localhost:8080/",
          "height": 131
        }
      },
      "source": [
        "5 = 7"
      ],
      "execution_count": 25,
      "outputs": [
        {
          "output_type": "error",
          "ename": "SyntaxError",
          "evalue": "ignored",
          "traceback": [
            "\u001b[0;36m  File \u001b[0;32m\"<ipython-input-25-5a7dce067504>\"\u001b[0;36m, line \u001b[0;32m1\u001b[0m\n\u001b[0;31m    5 = 7\u001b[0m\n\u001b[0m         ^\u001b[0m\n\u001b[0;31mSyntaxError\u001b[0m\u001b[0;31m:\u001b[0m can't assign to literal\n"
          ]
        }
      ]
    },
    {
      "cell_type": "code",
      "metadata": {
        "id": "gEzi5HX17RQb",
        "trusted": false,
        "outputId": "8b462b53-f0b0-45cd-eb20-9c591c8676b8",
        "colab": {
          "base_uri": "https://localhost:8080/"
        }
      },
      "source": [
        "5 == 7"
      ],
      "execution_count": 26,
      "outputs": [
        {
          "output_type": "execute_result",
          "data": {
            "text/plain": [
              "False"
            ]
          },
          "metadata": {},
          "execution_count": 26
        }
      ]
    },
    {
      "cell_type": "code",
      "metadata": {
        "id": "b-J8xmZ073Gr",
        "trusted": false,
        "outputId": "242d7e93-a4e9-4ced-9507-a2596df427d1",
        "colab": {
          "base_uri": "https://localhost:8080/"
        }
      },
      "source": [
        "1+1 == 2"
      ],
      "execution_count": 27,
      "outputs": [
        {
          "output_type": "execute_result",
          "data": {
            "text/plain": [
              "True"
            ]
          },
          "metadata": {},
          "execution_count": 27
        }
      ]
    },
    {
      "cell_type": "code",
      "metadata": {
        "id": "whk4uwxw742Q",
        "trusted": false,
        "outputId": "3d946b63-bbab-489b-f054-f2276f444264",
        "colab": {
          "base_uri": "https://localhost:8080/"
        }
      },
      "source": [
        "1+1 <= 3"
      ],
      "execution_count": 28,
      "outputs": [
        {
          "output_type": "execute_result",
          "data": {
            "text/plain": [
              "True"
            ]
          },
          "metadata": {},
          "execution_count": 28
        }
      ]
    },
    {
      "cell_type": "code",
      "metadata": {
        "id": "lz0lsf8t8Df_",
        "trusted": false,
        "outputId": "a81cbc8d-1a1e-4af4-ad1f-50d6aae26fbe",
        "colab": {
          "base_uri": "https://localhost:8080/"
        }
      },
      "source": [
        "1+1 <=2"
      ],
      "execution_count": 29,
      "outputs": [
        {
          "output_type": "execute_result",
          "data": {
            "text/plain": [
              "True"
            ]
          },
          "metadata": {},
          "execution_count": 29
        }
      ]
    },
    {
      "cell_type": "markdown",
      "metadata": {
        "id": "WpoeotbX8HlV"
      },
      "source": [
        "## comparaison et type `str`"
      ]
    },
    {
      "cell_type": "markdown",
      "metadata": {
        "id": "ZE5kWMnZ8NpA"
      },
      "source": [
        "Les opérateurs de comparaison peuvent être appliqués\n",
        "*  à des types numériques int ou float\n",
        "* ou au type str (ordre lexicographique)"
      ]
    },
    {
      "cell_type": "code",
      "metadata": {
        "id": "3hre80-38cit",
        "trusted": false,
        "outputId": "1b63cac3-ac92-4086-a1e1-2257f1682163",
        "colab": {
          "base_uri": "https://localhost:8080/"
        }
      },
      "source": [
        "'bon' + 'jour' == 'bonjour'"
      ],
      "execution_count": 30,
      "outputs": [
        {
          "output_type": "execute_result",
          "data": {
            "text/plain": [
              "True"
            ]
          },
          "metadata": {},
          "execution_count": 30
        }
      ]
    },
    {
      "cell_type": "code",
      "metadata": {
        "id": "Btc4JvTR8hci",
        "trusted": false,
        "outputId": "b0be694c-a84f-4423-d777-cae21c2fc277",
        "colab": {
          "base_uri": "https://localhost:8080/"
        }
      },
      "source": [
        "'bon' + 'jour' == 'Bonjour'"
      ],
      "execution_count": 31,
      "outputs": [
        {
          "output_type": "execute_result",
          "data": {
            "text/plain": [
              "False"
            ]
          },
          "metadata": {},
          "execution_count": 31
        }
      ]
    },
    {
      "cell_type": "code",
      "metadata": {
        "id": "CX0Tw8jV8k3D",
        "trusted": false,
        "outputId": "f1900309-8739-4d1e-a72e-5c8454a31060",
        "colab": {
          "base_uri": "https://localhost:8080/"
        }
      },
      "source": [
        "'a' < 'b'"
      ],
      "execution_count": 32,
      "outputs": [
        {
          "output_type": "execute_result",
          "data": {
            "text/plain": [
              "True"
            ]
          },
          "metadata": {},
          "execution_count": 32
        }
      ]
    },
    {
      "cell_type": "code",
      "metadata": {
        "id": "Kr3-bPF38nX6",
        "trusted": false,
        "outputId": "28c47dad-dfba-4bbe-9d58-23bd357f47a5",
        "colab": {
          "base_uri": "https://localhost:8080/"
        }
      },
      "source": [
        "'a' < 'B'"
      ],
      "execution_count": 33,
      "outputs": [
        {
          "output_type": "execute_result",
          "data": {
            "text/plain": [
              "False"
            ]
          },
          "metadata": {},
          "execution_count": 33
        }
      ]
    },
    {
      "cell_type": "markdown",
      "metadata": {
        "id": "uKjoM9Yl8qqh"
      },
      "source": [
        "Les caractères sont classés dans l'ordre de leur code ASCII (qui sera expliqué dans un chapitre ultérieur)\n",
        "\n",
        "Pour les lettres non accentuées, cela correspond à l'ordre alphabétique, avec les MAJUSCULES avant les minuscules.\n",
        "\n",
        "Les lettre accentuées ne sont pas classées dans l'ordre alphabétique."
      ]
    },
    {
      "cell_type": "code",
      "metadata": {
        "id": "EO4OkrlE9RHC",
        "trusted": false,
        "outputId": "dd209425-c03b-4007-b7c7-142cb1ec6a24",
        "colab": {
          "base_uri": "https://localhost:8080/"
        }
      },
      "source": [
        "'aAAA' < 'Zzzz'"
      ],
      "execution_count": 34,
      "outputs": [
        {
          "output_type": "execute_result",
          "data": {
            "text/plain": [
              "False"
            ]
          },
          "metadata": {},
          "execution_count": 34
        }
      ]
    },
    {
      "cell_type": "code",
      "metadata": {
        "id": "XjLVtre99AOm",
        "trusted": false,
        "outputId": "21ecaa96-30fd-4954-d0b8-af8b44ab0af6",
        "colab": {
          "base_uri": "https://localhost:8080/"
        }
      },
      "source": [
        "'éléphant' < 'mamouth'"
      ],
      "execution_count": 35,
      "outputs": [
        {
          "output_type": "execute_result",
          "data": {
            "text/plain": [
              "False"
            ]
          },
          "metadata": {},
          "execution_count": 35
        }
      ]
    },
    {
      "cell_type": "code",
      "metadata": {
        "id": "lEMEJnOB9k8G",
        "trusted": false,
        "outputId": "6f9cc2b3-16f7-4dac-8fc5-ebcc684f1c04",
        "colab": {
          "base_uri": "https://localhost:8080/"
        }
      },
      "source": [
        "'100' > '5'"
      ],
      "execution_count": 36,
      "outputs": [
        {
          "output_type": "execute_result",
          "data": {
            "text/plain": [
              "False"
            ]
          },
          "metadata": {},
          "execution_count": 36
        }
      ]
    },
    {
      "cell_type": "markdown",
      "metadata": {
        "id": "y2MRwgHe9wSt"
      },
      "source": [
        "## Opérations booléennes"
      ]
    },
    {
      "cell_type": "markdown",
      "metadata": {
        "id": "IR1Y4KM49-l_"
      },
      "source": [
        "|connecteur logique|nom|condition|\n",
        "|:----------:|:-------:|:------------|\n",
        "| `and`  |conjonction| **`c1 and c2`** est vrai lorsque les deux conditions c1 et c2 sont toutes les deux vraies|\n",
        "|or | disjonction|**`c1 or c2`** est vrai lorsqu'au moins une des deux conditions c1 ou c2 est vraie|\n",
        "|not|négation|**`not c`** est vrai si et seulement si c est faux|"
      ]
    },
    {
      "cell_type": "markdown",
      "metadata": {
        "id": "U6ZJjgme_LDk"
      },
      "source": [
        "Tester différentes valeurs de n en exécutant les cellules suivantes.\n",
        "\n",
        "Quelles-sont celles qui rendent la condition vraie ?"
      ]
    },
    {
      "cell_type": "code",
      "metadata": {
        "id": "9ysIHRnv_Uso",
        "trusted": false,
        "outputId": "475545f5-c631-4ca7-e1ca-81e1a8570031",
        "colab": {
          "base_uri": "https://localhost:8080/"
        }
      },
      "source": [
        "n = int(input('Entrer n : '))\n",
        "print(n==2 or n>2)"
      ],
      "execution_count": 2,
      "outputs": [
        {
          "output_type": "stream",
          "name": "stdout",
          "text": [
            "Entrer n : 2\n",
            "True\n"
          ]
        }
      ]
    },
    {
      "cell_type": "code",
      "metadata": {
        "id": "k-AhEL29_eHH",
        "trusted": false
      },
      "source": [
        "n = int(input('Entrer n : '))\n",
        "print(n!=2 and n>0)"
      ],
      "execution_count": null,
      "outputs": []
    },
    {
      "cell_type": "code",
      "metadata": {
        "id": "dYu9vPq__nAx",
        "trusted": false,
        "outputId": "086f6157-8680-46b7-eba0-faa9beb3d19f",
        "colab": {
          "base_uri": "https://localhost:8080/"
        }
      },
      "source": [
        "n = int(input('Entrer n : '))\n",
        "print(n!=2 or n>0)"
      ],
      "execution_count": 4,
      "outputs": [
        {
          "output_type": "stream",
          "name": "stdout",
          "text": [
            "Entrer n : -3\n",
            "True\n"
          ]
        }
      ]
    },
    {
      "cell_type": "code",
      "metadata": {
        "id": "9PDAeo73_sWf",
        "trusted": false,
        "outputId": "66aa476c-c1d2-40c5-ac5a-d2de61daf446",
        "colab": {
          "base_uri": "https://localhost:8080/"
        }
      },
      "source": [
        "n = int(input('Entrer n : '))\n",
        "print( not n!=2 )"
      ],
      "execution_count": 6,
      "outputs": [
        {
          "output_type": "stream",
          "name": "stdout",
          "text": [
            "Entrer n : 2\n",
            "True\n"
          ]
        }
      ]
    }
  ]
}