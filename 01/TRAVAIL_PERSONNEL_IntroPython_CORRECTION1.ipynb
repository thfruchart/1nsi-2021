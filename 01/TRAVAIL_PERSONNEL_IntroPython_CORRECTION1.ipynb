{
  "nbformat": 4,
  "nbformat_minor": 0,
  "metadata": {
    "colab": {
      "name": "01-TRAVAIL_PERSONNEL_IntroPython.ipynb",
      "provenance": [],
      "collapsed_sections": [],
      "authorship_tag": "ABX9TyPB6WoXcnztW9tGA4jGLzPv",
      "include_colab_link": true
    },
    "kernelspec": {
      "name": "python3",
      "display_name": "Python 3"
    }
  },
  "cells": [
    {
      "cell_type": "markdown",
      "metadata": {
        "id": "view-in-github",
        "colab_type": "text"
      },
      "source": [
        "<a href=\"https://colab.research.google.com/github/thfruchart/1nsi/blob/main/01/TRAVAIL_PERSONNEL_IntroPython_CORRECTION1.ipynb\" target=\"_parent\"><img src=\"https://colab.research.google.com/assets/colab-badge.svg\" alt=\"Open In Colab\"/></a>"
      ]
    },
    {
      "cell_type": "markdown",
      "metadata": {
        "id": "SBLPa3KbI65q"
      },
      "source": [
        "# TEST 1 : expression ou instruction\n",
        "\n",
        "Pour chaque cellule de code :\n",
        "* déterminer si la cellule contient une expression ou une instruction\n",
        "* tester en exécutant la cellule"
      ]
    },
    {
      "cell_type": "code",
      "metadata": {
        "id": "2NEc2S7QJGeV",
        "colab": {
          "base_uri": "https://localhost:8080/"
        },
        "outputId": "ef824b3a-f2c5-4ab8-a0aa-f0ad2a43e394"
      },
      "source": [
        "10*3-5*2  #expression"
      ],
      "execution_count": 1,
      "outputs": [
        {
          "output_type": "execute_result",
          "data": {
            "text/plain": [
              "20"
            ]
          },
          "metadata": {},
          "execution_count": 1
        }
      ]
    },
    {
      "cell_type": "code",
      "metadata": {
        "id": "AIfS76wJJLWl"
      },
      "source": [
        "a = 5/7  #instruction"
      ],
      "execution_count": 2,
      "outputs": []
    },
    {
      "cell_type": "code",
      "metadata": {
        "id": "JIrBiSdlJQse",
        "colab": {
          "base_uri": "https://localhost:8080/"
        },
        "outputId": "e0bdc302-c022-4429-b4da-351d01ff98b5"
      },
      "source": [
        "print(5/7)   #instruction"
      ],
      "execution_count": 3,
      "outputs": [
        {
          "output_type": "stream",
          "name": "stdout",
          "text": [
            "0.7142857142857143\n"
          ]
        }
      ]
    },
    {
      "cell_type": "code",
      "metadata": {
        "id": "wSRyVhfsJURj",
        "colab": {
          "base_uri": "https://localhost:8080/"
        },
        "outputId": "9e720c07-bf05-44f2-9718-d0992c73b615"
      },
      "source": [
        "a # expression"
      ],
      "execution_count": 4,
      "outputs": [
        {
          "output_type": "execute_result",
          "data": {
            "text/plain": [
              "0.7142857142857143"
            ]
          },
          "metadata": {},
          "execution_count": 4
        }
      ]
    },
    {
      "cell_type": "code",
      "metadata": {
        "id": "wiNhVh8NJjg5",
        "colab": {
          "base_uri": "https://localhost:8080/",
          "height": 165
        },
        "outputId": "ca5e5575-c38b-4364-bf03-e5eb80e7cc89"
      },
      "source": [
        "c  # non défini ! !"
      ],
      "execution_count": 5,
      "outputs": [
        {
          "output_type": "error",
          "ename": "NameError",
          "evalue": "ignored",
          "traceback": [
            "\u001b[0;31m---------------------------------------------------------------------------\u001b[0m",
            "\u001b[0;31mNameError\u001b[0m                                 Traceback (most recent call last)",
            "\u001b[0;32m<ipython-input-5-2b66fd261ee5>\u001b[0m in \u001b[0;36m<module>\u001b[0;34m()\u001b[0m\n\u001b[0;32m----> 1\u001b[0;31m \u001b[0mc\u001b[0m\u001b[0;34m\u001b[0m\u001b[0;34m\u001b[0m\u001b[0m\n\u001b[0m",
            "\u001b[0;31mNameError\u001b[0m: name 'c' is not defined"
          ]
        }
      ]
    },
    {
      "cell_type": "code",
      "metadata": {
        "id": "1bZMvMXsJlYB"
      },
      "source": [
        "d = (a + 2) * 5 - 1  #instruction"
      ],
      "execution_count": 6,
      "outputs": []
    },
    {
      "cell_type": "markdown",
      "metadata": {
        "id": "nvP8NUEnUGXm"
      },
      "source": [
        "# TEST 2 : opérations algébriques\n",
        "Pour chaque cellule: \n",
        "* déterminer \"à la main\" la valeur de l'expression\n",
        "* puis vérifier en exécutant la cellule"
      ]
    },
    {
      "cell_type": "code",
      "metadata": {
        "id": "3rwg2677UUq_"
      },
      "source": [
        "3*3"
      ],
      "execution_count": null,
      "outputs": []
    },
    {
      "cell_type": "code",
      "metadata": {
        "id": "5rzrh_8WUYeJ"
      },
      "source": [
        "3**3"
      ],
      "execution_count": null,
      "outputs": []
    },
    {
      "cell_type": "code",
      "metadata": {
        "id": "xF8m6tPXUhTi"
      },
      "source": [
        "3//3"
      ],
      "execution_count": null,
      "outputs": []
    },
    {
      "cell_type": "code",
      "metadata": {
        "id": "Ub0HAd7YUilN"
      },
      "source": [
        "3%3"
      ],
      "execution_count": null,
      "outputs": []
    },
    {
      "cell_type": "code",
      "metadata": {
        "id": "qnoWODibUkNJ"
      },
      "source": [
        "2021 // 10"
      ],
      "execution_count": null,
      "outputs": []
    },
    {
      "cell_type": "code",
      "metadata": {
        "id": "lKZHQ1q8Unea"
      },
      "source": [
        "2021 % 10"
      ],
      "execution_count": null,
      "outputs": []
    },
    {
      "cell_type": "markdown",
      "metadata": {
        "id": "Mf0lofwkHQY9"
      },
      "source": [
        "# TEST 3 : type correct ?\n",
        "Pour chaque code python :\n",
        "* déterminer le résultat qui sera produit à l'exécution et écrire le résultat à l'emplacement des  `...` \n",
        "* tester en exécutant la cellule"
      ]
    },
    {
      "cell_type": "markdown",
      "metadata": {
        "id": "ZiLKglRg8ZrM"
      },
      "source": [
        "    a = 10/2\n",
        "    print(type(a))\n",
        "\n",
        "... "
      ]
    },
    {
      "cell_type": "code",
      "metadata": {
        "id": "pmAX-V1vHNkP"
      },
      "source": [
        "a = 10/2\n",
        "print(type(a))"
      ],
      "execution_count": null,
      "outputs": []
    },
    {
      "cell_type": "markdown",
      "metadata": {
        "id": "VAvxFG6b8s4v"
      },
      "source": [
        "    b = \"100\"\n",
        "    print(type(b))\n",
        "\n",
        "... "
      ]
    },
    {
      "cell_type": "code",
      "metadata": {
        "id": "7sS2SVMfHlYZ"
      },
      "source": [
        "b = \"100\"\n",
        "print(type(b))"
      ],
      "execution_count": null,
      "outputs": []
    },
    {
      "cell_type": "markdown",
      "metadata": {
        "id": "ktUkP_wP80CX"
      },
      "source": [
        "    c = a + b\n",
        "\n",
        "... "
      ]
    },
    {
      "cell_type": "code",
      "metadata": {
        "id": "E8jeUM-1IMOV"
      },
      "source": [
        "c = a + b"
      ],
      "execution_count": null,
      "outputs": []
    },
    {
      "cell_type": "markdown",
      "metadata": {
        "id": "haCoNNbX84Yw"
      },
      "source": [
        "    d = a + int(b)\n",
        "\n",
        "... "
      ]
    },
    {
      "cell_type": "code",
      "metadata": {
        "id": "2cpcX4-2IREt"
      },
      "source": [
        "d = a + int(b)"
      ],
      "execution_count": null,
      "outputs": []
    },
    {
      "cell_type": "markdown",
      "metadata": {
        "id": "ng7p05H_7RCr"
      },
      "source": [
        "# TEST4 : affectation multiple"
      ]
    },
    {
      "cell_type": "markdown",
      "metadata": {
        "id": "Hw4V0YXl7Xfb"
      },
      "source": [
        "* Avant d'exécuter chaque cellule, essayer de prévoir quel sera le résultat affiché.\n",
        "* Vérifier ensuite en exécutant la cellule (attention, certaines cellules peuvent contenir des erreurs)"
      ]
    },
    {
      "cell_type": "code",
      "metadata": {
        "id": "lvZ2b3Qf7pxF"
      },
      "source": [
        "x, y, z = 1,2,3\n",
        "print(y)"
      ],
      "execution_count": null,
      "outputs": []
    },
    {
      "cell_type": "code",
      "metadata": {
        "id": "Wsx7dqOB75nK"
      },
      "source": [
        "a = 1,2\n",
        "print(a)\n",
        "print( type(a) )"
      ],
      "execution_count": null,
      "outputs": []
    },
    {
      "cell_type": "code",
      "metadata": {
        "id": "je114I4378tY"
      },
      "source": [
        "a, b = 10, 20, 30 "
      ],
      "execution_count": null,
      "outputs": []
    },
    {
      "cell_type": "code",
      "metadata": {
        "id": "aaFSQ29h8JTy"
      },
      "source": [
        "prenom, nom  = 'Jean', 'BERNARD'\n",
        "x, y = nom, prenom\n",
        "print(x, y, sep=':')"
      ],
      "execution_count": null,
      "outputs": []
    },
    {
      "cell_type": "markdown",
      "metadata": {
        "id": "RrhKDFF_9W2g"
      },
      "source": [
        "# TEST 5 : importation de module\n",
        "\n",
        "La module documentation du module `time` indique que ce module contient les commandes suivantes : \n",
        "\n",
        "`time.perf_counter() → float`  \n",
        "Renvoie la valeur (en quelques fractions de secondes) d’un compteur de performance, c’est-à-dire une horloge avec la résolution disponible la plus élevée possible pour mesurer une courte durée. Cela inclut le temps écoulé pendant le sommeil et concerne l’ensemble du système. Le point de référence de la valeur renvoyée n’est pas défini, de sorte que seule la différence entre les résultats d’appels consécutifs est valide.\n",
        "\n",
        "`time.sleep(secs)`  \n",
        "Suspend l’exécution du thread appelant pendant le nombre de secondes indiqué. L’argument peut être un nombre à virgule flottante pour indiquer un temps de sommeil plus précis. Le temps de suspension réel peut être inférieur à celui demandé, car tout signal capturé mettra fin à la commande sleep() après l’exécution de la routine de capture de ce signal. En outre, le temps de suspension peut être plus long que celui demandé par un montant arbitraire en raison de la planification d’une autre activité dans le système.\n",
        "\n",
        "Parmi les codes ci-dessous, lesquels sont incorrects : expliquer pourquoi."
      ]
    },
    {
      "cell_type": "markdown",
      "metadata": {
        "id": "qKLjWFGi9zL3"
      },
      "source": [
        "Code 1\n",
        "\n",
        "... "
      ]
    },
    {
      "cell_type": "code",
      "metadata": {
        "id": "X8CfQ8SW9xlM"
      },
      "source": [
        "import time\n",
        "sleep(3)"
      ],
      "execution_count": null,
      "outputs": []
    },
    {
      "cell_type": "markdown",
      "metadata": {
        "id": "6-fjz0YLAOS1"
      },
      "source": [
        "Code 2\n",
        "\n",
        "...\n"
      ]
    },
    {
      "cell_type": "code",
      "metadata": {
        "id": "9S7TPc1lAQYL"
      },
      "source": [
        "import time\n",
        "time.perf_counter()"
      ],
      "execution_count": null,
      "outputs": []
    },
    {
      "cell_type": "markdown",
      "metadata": {
        "id": "YVnyI07wAUmz"
      },
      "source": [
        "Code 3\n",
        "\n",
        "...\n"
      ]
    },
    {
      "cell_type": "code",
      "metadata": {
        "id": "QJS77JeWAXIj"
      },
      "source": [
        "from time import perf_counter\n",
        "\n",
        "perf_counter()"
      ],
      "execution_count": null,
      "outputs": []
    },
    {
      "cell_type": "markdown",
      "metadata": {
        "id": "yKjZXuorAczE"
      },
      "source": [
        "Code 4\n",
        "\n",
        "...\n"
      ]
    },
    {
      "cell_type": "code",
      "metadata": {
        "id": "4iOj0YOyAfBT"
      },
      "source": [
        "from time import perf_counter\n",
        "\n",
        "time.sleep(3)"
      ],
      "execution_count": null,
      "outputs": []
    }
  ]
}