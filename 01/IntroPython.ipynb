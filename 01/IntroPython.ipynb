{
  "nbformat": 4,
  "nbformat_minor": 0,
  "metadata": {
    "colab": {
      "name": "Copie de 01-IntroPython.ipynb",
      "provenance": [],
      "collapsed_sections": [
        "iBGq1WIo-WhD",
        "OgnXoaHIodUf",
        "988egZ9g93El",
        "e7HRCXx64whF",
        "0DktGaL2BnHL",
        "oByOy4kxE0K_",
        "VI5HiuiSH2gn",
        "OAnd0wOPl1Z8",
        "Nw-6JzHJ98WN"
      ],
      "authorship_tag": "ABX9TyOS936y2YfIwBlrh2rgkbfd",
      "include_colab_link": true
    },
    "kernelspec": {
      "name": "python3",
      "display_name": "Python 3"
    }
  },
  "cells": [
    {
      "cell_type": "markdown",
      "metadata": {
        "id": "view-in-github",
        "colab_type": "text"
      },
      "source": [
        "<a href=\"https://colab.research.google.com/github/thfruchart/1nsi/blob/main/01/IntroPython.ipynb\" target=\"_parent\"><img src=\"https://colab.research.google.com/assets/colab-badge.svg\" alt=\"Open In Colab\"/></a>"
      ]
    },
    {
      "cell_type": "markdown",
      "metadata": {
        "id": "wDMm6nZM9mWQ"
      },
      "source": [
        "# I.  Python en mode interactif"
      ]
    },
    {
      "cell_type": "markdown",
      "metadata": {
        "id": "2fqnc8_r-CFe"
      },
      "source": [
        "Il existe plusieur manières d'exécuter python : la plus élémentaire est le mode interactif.\n",
        "\n",
        "Ce mode est caractérisé par l'invite de commande  `>>>`\n",
        "\n",
        "L'utilisateur doit saisir une commande, et cette commande est immédiatement exécutée : on dit qu'elle est **interprétée**."
      ]
    },
    {
      "cell_type": "markdown",
      "metadata": {
        "id": "iBGq1WIo-WhD"
      },
      "source": [
        "## 1. Expressions\n",
        "\n",
        "Une expression est un texte auquel python peut attibuer une valeur. \n",
        "\n",
        "En mode interactif, python affiche comme résultat la valeur calculée pour l'expression.\n",
        "\n",
        "Dans ce notebook, on peut travailler \"en mode interactif\" en n'écrivant qu'une seule commande dans une cellule de code. \n",
        "\n",
        "Voir les exemples suivants :"
      ]
    },
    {
      "cell_type": "code",
      "metadata": {
        "id": "PY-MkPRo-4y7",
        "colab": {
          "base_uri": "https://localhost:8080/"
        },
        "outputId": "0d3417fe-959e-4f5c-f4fc-1212b6d9e2b4"
      },
      "source": [
        "1+1"
      ],
      "execution_count": null,
      "outputs": [
        {
          "output_type": "execute_result",
          "data": {
            "text/plain": [
              "2"
            ]
          },
          "metadata": {},
          "execution_count": 1
        }
      ]
    },
    {
      "cell_type": "code",
      "metadata": {
        "id": "YeDCur8U-7Ct",
        "colab": {
          "base_uri": "https://localhost:8080/"
        },
        "outputId": "826db1ba-55c6-48fa-c51b-45efbf134697"
      },
      "source": [
        "7*8"
      ],
      "execution_count": null,
      "outputs": [
        {
          "output_type": "execute_result",
          "data": {
            "text/plain": [
              "56"
            ]
          },
          "metadata": {},
          "execution_count": 2
        }
      ]
    },
    {
      "cell_type": "code",
      "metadata": {
        "id": "zMcIsIvH-_B5",
        "colab": {
          "base_uri": "https://localhost:8080/"
        },
        "outputId": "030b2438-25bc-4e45-a948-47e2859ed83a"
      },
      "source": [
        "10-(2-3)"
      ],
      "execution_count": null,
      "outputs": [
        {
          "output_type": "execute_result",
          "data": {
            "text/plain": [
              "11"
            ]
          },
          "metadata": {},
          "execution_count": 3
        }
      ]
    },
    {
      "cell_type": "code",
      "metadata": {
        "id": "8gBfpFIZ_A9R",
        "colab": {
          "base_uri": "https://localhost:8080/",
          "height": 131
        },
        "outputId": "ca679f2c-8c03-4463-c92e-b904ee55e6dc"
      },
      "source": [
        "1 +* 2"
      ],
      "execution_count": null,
      "outputs": [
        {
          "output_type": "error",
          "ename": "SyntaxError",
          "evalue": "ignored",
          "traceback": [
            "\u001b[0;36m  File \u001b[0;32m\"<ipython-input-4-4656c6c8686d>\"\u001b[0;36m, line \u001b[0;32m1\u001b[0m\n\u001b[0;31m    1 +* 2\u001b[0m\n\u001b[0m       ^\u001b[0m\n\u001b[0;31mSyntaxError\u001b[0m\u001b[0;31m:\u001b[0m invalid syntax\n"
          ]
        }
      ]
    },
    {
      "cell_type": "code",
      "metadata": {
        "id": "VKH_ZdIg_FvL",
        "colab": {
          "base_uri": "https://localhost:8080/"
        },
        "outputId": "9151b67c-aad5-48c5-c087-8afca595888b"
      },
      "source": [
        "10-10/2"
      ],
      "execution_count": null,
      "outputs": [
        {
          "output_type": "execute_result",
          "data": {
            "text/plain": [
              "5.0"
            ]
          },
          "metadata": {},
          "execution_count": 5
        }
      ]
    },
    {
      "cell_type": "markdown",
      "metadata": {
        "id": "B8FhVpvGU_fj"
      },
      "source": [
        "### Expressions arithmétiques"
      ]
    },
    {
      "cell_type": "code",
      "metadata": {
        "id": "wLOsxtnZRi09",
        "colab": {
          "base_uri": "https://localhost:8080/"
        },
        "outputId": "35e44a56-bbdc-400b-f259-02d48f9f07f4"
      },
      "source": [
        "5**2"
      ],
      "execution_count": null,
      "outputs": [
        {
          "output_type": "execute_result",
          "data": {
            "text/plain": [
              "25"
            ]
          },
          "metadata": {},
          "execution_count": 6
        }
      ]
    },
    {
      "cell_type": "code",
      "metadata": {
        "id": "sWWJ6ufURmfD",
        "colab": {
          "base_uri": "https://localhost:8080/"
        },
        "outputId": "b1638661-83f3-48bf-e28c-6eab3ec1cf8e"
      },
      "source": [
        "13/2"
      ],
      "execution_count": null,
      "outputs": [
        {
          "output_type": "execute_result",
          "data": {
            "text/plain": [
              "6.5"
            ]
          },
          "metadata": {},
          "execution_count": 7
        }
      ]
    },
    {
      "cell_type": "code",
      "metadata": {
        "id": "SIj3zZAQRkUe",
        "colab": {
          "base_uri": "https://localhost:8080/"
        },
        "outputId": "b996a614-97be-4e37-85c2-158783d8bd51"
      },
      "source": [
        "13//2"
      ],
      "execution_count": null,
      "outputs": [
        {
          "output_type": "execute_result",
          "data": {
            "text/plain": [
              "6"
            ]
          },
          "metadata": {},
          "execution_count": 8
        }
      ]
    },
    {
      "cell_type": "code",
      "metadata": {
        "id": "FUHqYp6KRpl5",
        "colab": {
          "base_uri": "https://localhost:8080/"
        },
        "outputId": "927e89ee-7044-46dd-fcde-b637189d3668"
      },
      "source": [
        "13%2"
      ],
      "execution_count": null,
      "outputs": [
        {
          "output_type": "execute_result",
          "data": {
            "text/plain": [
              "1"
            ]
          },
          "metadata": {},
          "execution_count": 9
        }
      ]
    },
    {
      "cell_type": "markdown",
      "metadata": {
        "id": "Kmr0B8vC2Z2n"
      },
      "source": [
        "#### A RETENIR : en python, $x^n$ s'écrit : "
      ]
    },
    {
      "cell_type": "markdown",
      "metadata": {
        "id": "haaXx26eS3Pk"
      },
      "source": [
        "\n",
        "```\n",
        "x ** n\n",
        "```\n",
        "\n"
      ]
    },
    {
      "cell_type": "markdown",
      "metadata": {
        "id": "31pQQ8r7SPe_"
      },
      "source": [
        "#### A RETENIR : \n",
        "\n",
        "Si a et b sont deux entiers positifs, alors la **division euclidienne** (entière) de a par b définit le quotient q et le reste r tels que \n",
        "$a = b \\times q +r$ et $0 \\leq r <b$. \n",
        "\n",
        "En python, on a :\n"
      ]
    },
    {
      "cell_type": "markdown",
      "metadata": {
        "id": "XY3NI7jk2kEB"
      },
      "source": [
        "* q = a // b\n",
        "* r = a%b\n",
        "\n",
        "On évitera d'utiliser ces instructions avec des entiers négatifs... "
      ]
    },
    {
      "cell_type": "markdown",
      "metadata": {
        "id": "8VMntWxe_L4z"
      },
      "source": [
        "## 2. Instructions\n",
        "\n",
        "Certaines commandes ne sont pas associées à une valeur. Elles effectuent quelque chose, mais ne sont pas des expressions.\n",
        "\n",
        "Voir les exemples suivants :"
      ]
    },
    {
      "cell_type": "code",
      "metadata": {
        "id": "8aAimFek_oe7"
      },
      "source": [
        "a = 3"
      ],
      "execution_count": null,
      "outputs": []
    },
    {
      "cell_type": "code",
      "metadata": {
        "id": "EUks83Pj_qEC",
        "colab": {
          "base_uri": "https://localhost:8080/"
        },
        "outputId": "fe3961cd-d852-4f16-af2a-7f9682191fc7"
      },
      "source": [
        "s = input()  # instruction de saisie"
      ],
      "execution_count": null,
      "outputs": [
        {
          "name": "stdout",
          "output_type": "stream",
          "text": [
            "je tape du texte\n"
          ]
        }
      ]
    },
    {
      "cell_type": "code",
      "metadata": {
        "colab": {
          "base_uri": "https://localhost:8080/",
          "height": 35
        },
        "id": "pC5nQRE5ayR9",
        "outputId": "47c5e282-e574-4cbd-c99b-70d74b0cc315"
      },
      "source": [
        "s"
      ],
      "execution_count": null,
      "outputs": [
        {
          "output_type": "execute_result",
          "data": {
            "application/vnd.google.colaboratory.intrinsic+json": {
              "type": "string"
            },
            "text/plain": [
              "'je tape du texte'"
            ]
          },
          "metadata": {},
          "execution_count": 21
        }
      ]
    },
    {
      "cell_type": "code",
      "metadata": {
        "id": "mFzjHZbr_vra",
        "colab": {
          "base_uri": "https://localhost:8080/"
        },
        "outputId": "8e880e29-19b2-4fff-f29f-bd3ec37b697c"
      },
      "source": [
        "x = print('Hello')"
      ],
      "execution_count": null,
      "outputs": [
        {
          "output_type": "stream",
          "name": "stdout",
          "text": [
            "Hello\n"
          ]
        }
      ]
    },
    {
      "cell_type": "markdown",
      "metadata": {
        "id": "KmL7bMFE_ylD"
      },
      "source": [
        "L'instruction la plus élémentaire est l'**affectation** : une variable reçoit une valeur. \n",
        "\n",
        "* si cette variable n'existait pas, elle est créée par l'instruction d'affectation\n",
        "* si cette variable existait, sa valeur est modifiée par l'affectation"
      ]
    },
    {
      "cell_type": "markdown",
      "metadata": {
        "id": "OrwOEOJKALWq"
      },
      "source": [
        "ATTENTION : en mode interactif, il ne faut pas confondre une **instruction** d'affichage `print` avec le résultat de l'évaluation d'une **expression**"
      ]
    },
    {
      "cell_type": "code",
      "metadata": {
        "id": "Tyfi0bN5EnQ9"
      },
      "source": [
        "annee = 2020 #instruction"
      ],
      "execution_count": null,
      "outputs": []
    },
    {
      "cell_type": "code",
      "metadata": {
        "id": "hv769H6yExmc",
        "colab": {
          "base_uri": "https://localhost:8080/"
        },
        "outputId": "b005a3c4-8e5d-4390-e2dd-0451affd9a2c"
      },
      "source": [
        "annee+1 #expression"
      ],
      "execution_count": null,
      "outputs": [
        {
          "output_type": "execute_result",
          "data": {
            "text/plain": [
              "2021"
            ]
          },
          "metadata": {},
          "execution_count": 7
        }
      ]
    },
    {
      "cell_type": "code",
      "metadata": {
        "id": "csquOeVrEuoo",
        "colab": {
          "base_uri": "https://localhost:8080/"
        },
        "outputId": "781b8f0e-0822-44fa-8969-980874e5f918"
      },
      "source": [
        "print(annee+1) #instruction"
      ],
      "execution_count": null,
      "outputs": [
        {
          "output_type": "stream",
          "name": "stdout",
          "text": [
            "2021\n"
          ]
        }
      ]
    },
    {
      "cell_type": "markdown",
      "metadata": {
        "id": "c1B6dXQ-E3_6"
      },
      "source": [
        "Les **noms de variables** doivent  comporter uniquement \n",
        "* des lettres majuscules ou minuscules (sans accent)\n",
        "*  des chiffres \n",
        "*  le caractère `_` (tiret du 8)"
      ]
    },
    {
      "cell_type": "markdown",
      "metadata": {
        "id": "6_bQbsWAobVF"
      },
      "source": [
        "Voici quelques exemples de noms de variables correct : \n",
        "* `a`\n",
        "* `x1`\n",
        "* `taux_de_croissance`"
      ]
    },
    {
      "cell_type": "markdown",
      "metadata": {
        "id": "EPWQF7_XpLiH"
      },
      "source": [
        "ATTENTION : un nom de variable ne peut pas commencer par un chiffre\n",
        "* `2x` est incorrect\n",
        "mais\n",
        "* `x2` et `_z` sont corrects"
      ]
    },
    {
      "cell_type": "markdown",
      "metadata": {
        "id": "OgnXoaHIodUf"
      },
      "source": [
        "## 3. Types"
      ]
    },
    {
      "cell_type": "markdown",
      "metadata": {
        "id": "ZfsA-b1R90U0"
      },
      "source": [
        "Le **type** d'une expression est calculé par python, en fonction du contenu de cette expression\n",
        "\n",
        "Le **type** d'une variable est déterminé (dynamiquement) par python au moment où cette variable est créée.\n",
        "\n"
      ]
    },
    {
      "cell_type": "code",
      "metadata": {
        "id": "gBITENHDEDzS",
        "colab": {
          "base_uri": "https://localhost:8080/"
        },
        "outputId": "c6a8ac7d-6071-433a-a18c-98dfefb2c1b9"
      },
      "source": [
        "type(-100)"
      ],
      "execution_count": null,
      "outputs": [
        {
          "output_type": "execute_result",
          "data": {
            "text/plain": [
              "int"
            ]
          },
          "metadata": {},
          "execution_count": 13
        }
      ]
    },
    {
      "cell_type": "code",
      "metadata": {
        "colab": {
          "base_uri": "https://localhost:8080/"
        },
        "id": "Wsvm8S9PXh1N",
        "outputId": "eeb57c84-a053-4d5d-d983-22dbe1c336cc"
      },
      "source": [
        "type(0.5)"
      ],
      "execution_count": null,
      "outputs": [
        {
          "output_type": "execute_result",
          "data": {
            "text/plain": [
              "float"
            ]
          },
          "metadata": {},
          "execution_count": 14
        }
      ]
    },
    {
      "cell_type": "code",
      "metadata": {
        "colab": {
          "base_uri": "https://localhost:8080/"
        },
        "id": "GFHIrtnrYnk-",
        "outputId": "7ae0b336-352d-4ad2-cef2-6fef5055ad79"
      },
      "source": [
        "type(\"ABN\")"
      ],
      "execution_count": null,
      "outputs": [
        {
          "output_type": "execute_result",
          "data": {
            "text/plain": [
              "str"
            ]
          },
          "metadata": {},
          "execution_count": 16
        }
      ]
    },
    {
      "cell_type": "code",
      "metadata": {
        "colab": {
          "base_uri": "https://localhost:8080/"
        },
        "id": "bGli4rznY4WY",
        "outputId": "fee9fab4-bac3-43af-b8d2-19126ae51a6a"
      },
      "source": [
        "type(1+1 == 22)"
      ],
      "execution_count": null,
      "outputs": [
        {
          "output_type": "execute_result",
          "data": {
            "text/plain": [
              "bool"
            ]
          },
          "metadata": {},
          "execution_count": 19
        }
      ]
    },
    {
      "cell_type": "markdown",
      "metadata": {
        "id": "988egZ9g93El"
      },
      "source": [
        "# II. Python en mode programme"
      ]
    },
    {
      "cell_type": "markdown",
      "metadata": {
        "id": "mCJez5ukAfia"
      },
      "source": [
        "La seconde utilisation de python est le mode programme : un **ensemble d'instructions** est écrit dans un **fichier** dont l'extension est `.py`\n",
        "\n",
        "Ce fichier contient normalement une instruction par ligne.\n",
        "\n",
        "L'exécution de ce fichier consiste à exécuter **chaque ligne** du fichier, à la suite : \"séquentiellement\".\n",
        "\n",
        "Dans un notebook, on peut travailler \"en mode programme\" en saisissant toutes les instructions du programme dans la même cellule de code. \n",
        "\n",
        "Par commodité, on peut aussi \"découper\" le programme en plusieurs cellules, pour pouvoir le tester plus facilement : il faut alors exécuter séquentiellement l'ensemble des cellules dans lequel le programme est réparti. \n"
      ]
    },
    {
      "cell_type": "markdown",
      "metadata": {
        "id": "e7HRCXx64whF"
      },
      "source": [
        "## Etat de la mémoire\n",
        "\n",
        "Chaque variable occupe un espace réservé à cet effet dans la mémoire. \n",
        "\n",
        "Un même variable peut contenir différentes valeurs au cours de l'exécution d'un programme. \n",
        "\n",
        "On peut visualiser l'état de la mémoire en cours d'exécution à l'aide de l'outil [PythonTutor](https://pythontutor.com/visualize.html#code=a%20%3D%2010%0Acopie_de_a%20%3D%20a%0Ab%20%3D%20a%20*%20a%0Aa%20%3D%20b%20%2B%20b%0Ab%20%3D%20b%20%2B%20a%0Aa%20%3D%20a%20/%2010&cumulative=false&curInstr=0&heapPrimitives=nevernest&mode=display&origin=opt-frontend.js&py=3&rawInputLstJSON=%5B%5D&textReferences=false)"
      ]
    },
    {
      "cell_type": "markdown",
      "metadata": {
        "id": "eDRENxrR4vQe"
      },
      "source": [
        "L'exécution d'un programme consiste à **faire évoluer l'état** de la mémoire dédiée aux variables de ce programme. \n",
        "C'est l'aspect *dynamique* du processus : \n",
        "- le programme lui-même reste inchangé, du début à la fin\n",
        "- c'est l'état de la mémoire qui évolue en cours d'exécution"
      ]
    },
    {
      "cell_type": "markdown",
      "metadata": {
        "id": "0DktGaL2BnHL"
      },
      "source": [
        "## Interruptions de programme\n",
        "\n",
        "Plusieurs choses peuvent interrompre l'exécution d'un programmen, soit temporairement, soit définitivement.\n",
        "\n"
      ]
    },
    {
      "cell_type": "markdown",
      "metadata": {
        "id": "Y6qEn7QACjDz"
      },
      "source": [
        "- interruption temporaire : saisir une valeur"
      ]
    },
    {
      "cell_type": "code",
      "metadata": {
        "id": "e5oF93BLCnWE",
        "colab": {
          "base_uri": "https://localhost:8080/"
        },
        "outputId": "abdce948-ab89-4009-8f6a-dfd44fed7719"
      },
      "source": [
        "variable = input()"
      ],
      "execution_count": 12,
      "outputs": [
        {
          "name": "stdout",
          "output_type": "stream",
          "text": [
            "hello\n"
          ]
        }
      ]
    },
    {
      "cell_type": "code",
      "metadata": {
        "colab": {
          "base_uri": "https://localhost:8080/",
          "height": 35
        },
        "id": "_zeBbG6ECamZ",
        "outputId": "ce3b604c-26b6-4521-962d-d8d4a6d24b2c"
      },
      "source": [
        "variable"
      ],
      "execution_count": 2,
      "outputs": [
        {
          "output_type": "execute_result",
          "data": {
            "application/vnd.google.colaboratory.intrinsic+json": {
              "type": "string"
            },
            "text/plain": [
              "'hello'"
            ]
          },
          "metadata": {},
          "execution_count": 2
        }
      ]
    },
    {
      "cell_type": "markdown",
      "metadata": {
        "id": "WWVHlcpNCp2T"
      },
      "source": [
        "Dans cette instruction d'affectation, l'appel à `input()` interrompt temporairement le programme, afin que l'utilisateur puisse saisir la **valeur** qui sera affectée à la `variable` "
      ]
    },
    {
      "cell_type": "markdown",
      "metadata": {
        "id": "PN7QYzlFC-QQ"
      },
      "source": [
        "- interruption définitive : message d'erreur\n",
        "\n",
        "Lorsqu'une erreur est rencontrée, l'exécution du programme s'arrête, et un affichage permet de décrire le type d'erreur qui s'est produite, afin de corriger le programme.\n",
        "\n",
        "Comprendre les messages d'erreur est fondamental pour l'apprentissage de la programmation\n",
        "\n",
        "Expliquer les messages d'erreurs suivants :"
      ]
    },
    {
      "cell_type": "code",
      "metadata": {
        "id": "0rRiNyIREAQR",
        "colab": {
          "base_uri": "https://localhost:8080/",
          "height": 131
        },
        "outputId": "572962df-bec8-4473-a2eb-1cb99b4732c3"
      },
      "source": [
        "a = 1\n",
        "x = a\n",
        "2 = b"
      ],
      "execution_count": 3,
      "outputs": [
        {
          "output_type": "error",
          "ename": "SyntaxError",
          "evalue": "ignored",
          "traceback": [
            "\u001b[0;36m  File \u001b[0;32m\"<ipython-input-3-aa69eb1c80d1>\"\u001b[0;36m, line \u001b[0;32m3\u001b[0m\n\u001b[0;31m    2 = b\u001b[0m\n\u001b[0m         ^\u001b[0m\n\u001b[0;31mSyntaxError\u001b[0m\u001b[0;31m:\u001b[0m can't assign to literal\n"
          ]
        }
      ]
    },
    {
      "cell_type": "code",
      "metadata": {
        "id": "RZXctugXEPdB",
        "colab": {
          "base_uri": "https://localhost:8080/",
          "height": 182
        },
        "outputId": "da5ed85c-9608-4dc1-a817-82b4287089cd"
      },
      "source": [
        "b = 3\n",
        "a = b + c"
      ],
      "execution_count": 4,
      "outputs": [
        {
          "output_type": "error",
          "ename": "NameError",
          "evalue": "ignored",
          "traceback": [
            "\u001b[0;31m---------------------------------------------------------------------------\u001b[0m",
            "\u001b[0;31mNameError\u001b[0m                                 Traceback (most recent call last)",
            "\u001b[0;32m<ipython-input-4-4eeacf4433c0>\u001b[0m in \u001b[0;36m<module>\u001b[0;34m()\u001b[0m\n\u001b[1;32m      1\u001b[0m \u001b[0mb\u001b[0m \u001b[0;34m=\u001b[0m \u001b[0;36m3\u001b[0m\u001b[0;34m\u001b[0m\u001b[0;34m\u001b[0m\u001b[0m\n\u001b[0;32m----> 2\u001b[0;31m \u001b[0ma\u001b[0m \u001b[0;34m=\u001b[0m \u001b[0mb\u001b[0m \u001b[0;34m+\u001b[0m \u001b[0mc\u001b[0m\u001b[0;34m\u001b[0m\u001b[0;34m\u001b[0m\u001b[0m\n\u001b[0m",
            "\u001b[0;31mNameError\u001b[0m: name 'c' is not defined"
          ]
        }
      ]
    },
    {
      "cell_type": "code",
      "metadata": {
        "id": "RtRc9IF2EU1w",
        "colab": {
          "base_uri": "https://localhost:8080/",
          "height": 131
        },
        "outputId": "baa2df2b-5203-4728-864b-491c44d6857c"
      },
      "source": [
        "1+1 = 2"
      ],
      "execution_count": 5,
      "outputs": [
        {
          "output_type": "error",
          "ename": "SyntaxError",
          "evalue": "ignored",
          "traceback": [
            "\u001b[0;36m  File \u001b[0;32m\"<ipython-input-5-c08a29f04426>\"\u001b[0;36m, line \u001b[0;32m1\u001b[0m\n\u001b[0;31m    1+1 = 2\u001b[0m\n\u001b[0m           ^\u001b[0m\n\u001b[0;31mSyntaxError\u001b[0m\u001b[0;31m:\u001b[0m can't assign to operator\n"
          ]
        }
      ]
    },
    {
      "cell_type": "code",
      "metadata": {
        "id": "MESKDqbVEZMi",
        "colab": {
          "base_uri": "https://localhost:8080/",
          "height": 217
        },
        "outputId": "7a5b1c1e-4c87-4bb4-e3a0-3fef528b331e"
      },
      "source": [
        "n = input(\"Entrer un nombre : \")\n",
        "m = n+1\n",
        "print('le successeur de', n, 'est' , m)"
      ],
      "execution_count": 6,
      "outputs": [
        {
          "name": "stdout",
          "output_type": "stream",
          "text": [
            "Entrer un nombre : 123\n"
          ]
        },
        {
          "output_type": "error",
          "ename": "TypeError",
          "evalue": "ignored",
          "traceback": [
            "\u001b[0;31m---------------------------------------------------------------------------\u001b[0m",
            "\u001b[0;31mTypeError\u001b[0m                                 Traceback (most recent call last)",
            "\u001b[0;32m<ipython-input-6-c14c27b41834>\u001b[0m in \u001b[0;36m<module>\u001b[0;34m()\u001b[0m\n\u001b[1;32m      1\u001b[0m \u001b[0mn\u001b[0m \u001b[0;34m=\u001b[0m \u001b[0minput\u001b[0m\u001b[0;34m(\u001b[0m\u001b[0;34m\"Entrer un nombre : \"\u001b[0m\u001b[0;34m)\u001b[0m\u001b[0;34m\u001b[0m\u001b[0;34m\u001b[0m\u001b[0m\n\u001b[0;32m----> 2\u001b[0;31m \u001b[0mm\u001b[0m \u001b[0;34m=\u001b[0m \u001b[0mn\u001b[0m\u001b[0;34m+\u001b[0m\u001b[0;36m1\u001b[0m\u001b[0;34m\u001b[0m\u001b[0;34m\u001b[0m\u001b[0m\n\u001b[0m\u001b[1;32m      3\u001b[0m \u001b[0mprint\u001b[0m\u001b[0;34m(\u001b[0m\u001b[0;34m'le successeur de'\u001b[0m\u001b[0;34m,\u001b[0m \u001b[0mn\u001b[0m\u001b[0;34m,\u001b[0m \u001b[0;34m'est'\u001b[0m \u001b[0;34m,\u001b[0m \u001b[0mm\u001b[0m\u001b[0;34m)\u001b[0m\u001b[0;34m\u001b[0m\u001b[0;34m\u001b[0m\u001b[0m\n",
            "\u001b[0;31mTypeError\u001b[0m: can only concatenate str (not \"int\") to str"
          ]
        }
      ]
    },
    {
      "cell_type": "code",
      "metadata": {
        "colab": {
          "base_uri": "https://localhost:8080/",
          "height": 165
        },
        "id": "ffriTuufDcvA",
        "outputId": "7ecb3c47-f0c6-4883-b0fb-41c308aee6de"
      },
      "source": [
        "\"ABC\" + 123\n"
      ],
      "execution_count": 10,
      "outputs": [
        {
          "output_type": "error",
          "ename": "TypeError",
          "evalue": "ignored",
          "traceback": [
            "\u001b[0;31m---------------------------------------------------------------------------\u001b[0m",
            "\u001b[0;31mTypeError\u001b[0m                                 Traceback (most recent call last)",
            "\u001b[0;32m<ipython-input-10-bf97ce49a58b>\u001b[0m in \u001b[0;36m<module>\u001b[0;34m()\u001b[0m\n\u001b[0;32m----> 1\u001b[0;31m \u001b[0;34m\"ABC\"\u001b[0m \u001b[0;34m+\u001b[0m \u001b[0;36m123\u001b[0m\u001b[0;34m\u001b[0m\u001b[0;34m\u001b[0m\u001b[0m\n\u001b[0m",
            "\u001b[0;31mTypeError\u001b[0m: can only concatenate str (not \"int\") to str"
          ]
        }
      ]
    },
    {
      "cell_type": "markdown",
      "metadata": {
        "id": "oByOy4kxE0K_"
      },
      "source": [
        "## Attention au type des variables et expressions\n",
        "\n",
        "* un appel à `input()` retourne un résultat de type `str`.\n",
        "\n",
        "* python peut convertir un texte en nombre avec des fonctions appropriées\n",
        "  * `int()` pour convertir au format entier\n",
        "  * `float()` pour convertir au format flottant"
      ]
    },
    {
      "cell_type": "code",
      "metadata": {
        "id": "4bEv-FyUFis1",
        "colab": {
          "base_uri": "https://localhost:8080/"
        },
        "outputId": "86c46adf-8f13-46d2-d242-96868ad07449"
      },
      "source": [
        "int(\"3\")"
      ],
      "execution_count": 13,
      "outputs": [
        {
          "output_type": "execute_result",
          "data": {
            "text/plain": [
              "3"
            ]
          },
          "metadata": {},
          "execution_count": 13
        }
      ]
    },
    {
      "cell_type": "code",
      "metadata": {
        "id": "BkBGEGTNFoHL",
        "colab": {
          "base_uri": "https://localhost:8080/",
          "height": 165
        },
        "outputId": "8dfce26e-ff72-4311-f9c4-94fe16925efc"
      },
      "source": [
        "int(\"3e5\")"
      ],
      "execution_count": 14,
      "outputs": [
        {
          "output_type": "error",
          "ename": "ValueError",
          "evalue": "ignored",
          "traceback": [
            "\u001b[0;31m---------------------------------------------------------------------------\u001b[0m",
            "\u001b[0;31mValueError\u001b[0m                                Traceback (most recent call last)",
            "\u001b[0;32m<ipython-input-14-db8d5560509f>\u001b[0m in \u001b[0;36m<module>\u001b[0;34m()\u001b[0m\n\u001b[0;32m----> 1\u001b[0;31m \u001b[0mint\u001b[0m\u001b[0;34m(\u001b[0m\u001b[0;34m\"3e5\"\u001b[0m\u001b[0;34m)\u001b[0m\u001b[0;34m\u001b[0m\u001b[0;34m\u001b[0m\u001b[0m\n\u001b[0m",
            "\u001b[0;31mValueError\u001b[0m: invalid literal for int() with base 10: '3e5'"
          ]
        }
      ]
    },
    {
      "cell_type": "code",
      "metadata": {
        "id": "TnDnnGYXFcWB",
        "colab": {
          "base_uri": "https://localhost:8080/",
          "height": 165
        },
        "outputId": "4f432238-97a5-4cfc-8077-60b8c5c09a0f"
      },
      "source": [
        "int(\"3+2\")"
      ],
      "execution_count": 15,
      "outputs": [
        {
          "output_type": "error",
          "ename": "ValueError",
          "evalue": "ignored",
          "traceback": [
            "\u001b[0;31m---------------------------------------------------------------------------\u001b[0m",
            "\u001b[0;31mValueError\u001b[0m                                Traceback (most recent call last)",
            "\u001b[0;32m<ipython-input-15-b671faca9195>\u001b[0m in \u001b[0;36m<module>\u001b[0;34m()\u001b[0m\n\u001b[0;32m----> 1\u001b[0;31m \u001b[0mint\u001b[0m\u001b[0;34m(\u001b[0m\u001b[0;34m\"3+2\"\u001b[0m\u001b[0;34m)\u001b[0m\u001b[0;34m\u001b[0m\u001b[0;34m\u001b[0m\u001b[0m\n\u001b[0m",
            "\u001b[0;31mValueError\u001b[0m: invalid literal for int() with base 10: '3+2'"
          ]
        }
      ]
    },
    {
      "cell_type": "code",
      "metadata": {
        "id": "Erx7LLD5Fu6z",
        "colab": {
          "base_uri": "https://localhost:8080/"
        },
        "outputId": "3d77c648-9c5a-4f0c-945a-6becd5f24422"
      },
      "source": [
        "float(\"3.5\")"
      ],
      "execution_count": 16,
      "outputs": [
        {
          "output_type": "execute_result",
          "data": {
            "text/plain": [
              "3.5"
            ]
          },
          "metadata": {},
          "execution_count": 16
        }
      ]
    },
    {
      "cell_type": "code",
      "metadata": {
        "id": "DZu8Mg5qF0WL",
        "colab": {
          "base_uri": "https://localhost:8080/"
        },
        "outputId": "7988e43c-0adb-40b0-a8db-01f1acab1f20"
      },
      "source": [
        "float(\"3e5\")"
      ],
      "execution_count": 17,
      "outputs": [
        {
          "output_type": "execute_result",
          "data": {
            "text/plain": [
              "300000.0"
            ]
          },
          "metadata": {},
          "execution_count": 17
        }
      ]
    },
    {
      "cell_type": "markdown",
      "metadata": {
        "id": "29_vhGuiF7DA"
      },
      "source": [
        "https://docs.python.org/fr/3.6/library/functions.html#int\n",
        "\n",
        "\n",
        "https://docs.python.org/fr/3.8/library/functions.html#float\n"
      ]
    },
    {
      "cell_type": "code",
      "metadata": {
        "id": "jSW15yttVw5J",
        "colab": {
          "base_uri": "https://localhost:8080/"
        },
        "outputId": "1400b2b2-4b9e-49c3-bc82-8172375f545a"
      },
      "source": [
        "# la fonction int() peut convertir le texte d'un nombre en binaire (ou en un autre base comprise entre 2 et 36)\n",
        "int(\"1001\", 2)"
      ],
      "execution_count": 18,
      "outputs": [
        {
          "output_type": "execute_result",
          "data": {
            "text/plain": [
              "9"
            ]
          },
          "metadata": {},
          "execution_count": 18
        }
      ]
    },
    {
      "cell_type": "markdown",
      "metadata": {
        "id": "VI5HiuiSH2gn"
      },
      "source": [
        "## Syntaxe pour la saisie de variable par l'utilisateur"
      ]
    },
    {
      "cell_type": "markdown",
      "metadata": {
        "id": "sNAHc58PH9DE"
      },
      "source": [
        "* Pour saisir une variable de type texte (str) : `txt = input()`\n",
        "* Pour saisir une variable de type entier (int) : `n  = int(input())`\n",
        "* Pour saisir une variable de type décimal (float) : `x = float(input())`\n"
      ]
    },
    {
      "cell_type": "markdown",
      "metadata": {
        "id": "5BgPkS2pIYFM"
      },
      "source": [
        "Remarque : la commande input() accepte un **paramètre** de type texte, qui est affiché lorsque l'utilisateur doit effectuer la saisie.\n",
        "\n",
        "Voir l'exemple ci-dessous"
      ]
    },
    {
      "cell_type": "code",
      "metadata": {
        "id": "esuwaOnBIj6B",
        "colab": {
          "base_uri": "https://localhost:8080/"
        },
        "outputId": "a3f82976-cac8-4964-a031-30abcf39593a"
      },
      "source": [
        "nom = input(\"Entrer votre nom\")\n",
        "annee = int( input('Entrer votre année de naissance'))\n",
        "\n",
        "print('Bonjour', nom, ' : en 2030, vous aurez', 2030-annee, 'ans')"
      ],
      "execution_count": 23,
      "outputs": [
        {
          "output_type": "stream",
          "name": "stdout",
          "text": [
            "Entrer votre nomTF\n",
            "Entrer votre année de naissance2000\n",
            "Bonjour TF  : en 2030, vous aurez 30 ans\n"
          ]
        }
      ]
    },
    {
      "cell_type": "code",
      "metadata": {
        "colab": {
          "base_uri": "https://localhost:8080/"
        },
        "id": "Rs9dOTjGFwxS",
        "outputId": "19f01070-eba2-44c5-dabf-cfa2ce289caa"
      },
      "source": [
        "type(nom)"
      ],
      "execution_count": 21,
      "outputs": [
        {
          "output_type": "execute_result",
          "data": {
            "text/plain": [
              "str"
            ]
          },
          "metadata": {},
          "execution_count": 21
        }
      ]
    },
    {
      "cell_type": "code",
      "metadata": {
        "colab": {
          "base_uri": "https://localhost:8080/"
        },
        "id": "7w3WMn1YFyex",
        "outputId": "7ac917d5-f3c9-4a39-86b7-ebf5dafb1e63"
      },
      "source": [
        "type(annee)"
      ],
      "execution_count": 22,
      "outputs": [
        {
          "output_type": "execute_result",
          "data": {
            "text/plain": [
              "int"
            ]
          },
          "metadata": {},
          "execution_count": 22
        }
      ]
    },
    {
      "cell_type": "markdown",
      "metadata": {
        "id": "OAnd0wOPl1Z8"
      },
      "source": [
        "## Affectations multiples"
      ]
    },
    {
      "cell_type": "markdown",
      "metadata": {
        "id": "s5FLnpIyl615"
      },
      "source": [
        "En Python, le type  `tuple` permet de regrouper plusieurs valeurs en une seule.\n",
        "\n",
        "On peut ainsi affecter plusieurs variables en une seule instruction.\n",
        "\n"
      ]
    },
    {
      "cell_type": "code",
      "metadata": {
        "id": "STEfKwVWmI7q"
      },
      "source": [
        "a = 1,2,3"
      ],
      "execution_count": 34,
      "outputs": []
    },
    {
      "cell_type": "code",
      "metadata": {
        "id": "s0bU7KvamSby",
        "colab": {
          "base_uri": "https://localhost:8080/"
        },
        "outputId": "18eadde6-8840-4d1e-e248-eb37b6d855ec"
      },
      "source": [
        "print(a)"
      ],
      "execution_count": 35,
      "outputs": [
        {
          "output_type": "stream",
          "name": "stdout",
          "text": [
            "(1, 2, 3)\n"
          ]
        }
      ]
    },
    {
      "cell_type": "code",
      "metadata": {
        "id": "jyDbjBEgmnCx",
        "colab": {
          "base_uri": "https://localhost:8080/"
        },
        "outputId": "39910b92-d37c-468d-be15-865116e62911"
      },
      "source": [
        "type(a)"
      ],
      "execution_count": 36,
      "outputs": [
        {
          "output_type": "execute_result",
          "data": {
            "text/plain": [
              "tuple"
            ]
          },
          "metadata": {},
          "execution_count": 36
        }
      ]
    },
    {
      "cell_type": "markdown",
      "metadata": {
        "id": "89OkfSr8mYMs"
      },
      "source": [
        "Remarque : python ajoute automatiquement les parenthèses qui délimitent un `tuple`, dans le cas où elles manquent."
      ]
    },
    {
      "cell_type": "code",
      "metadata": {
        "id": "gkZ3azQpmpOV"
      },
      "source": [
        "x, y, z = 10, 20, 30"
      ],
      "execution_count": 37,
      "outputs": []
    },
    {
      "cell_type": "code",
      "metadata": {
        "id": "1RYXCAFLmuPd",
        "colab": {
          "base_uri": "https://localhost:8080/"
        },
        "outputId": "2048ef6e-8afd-48c1-f9dc-f58daafabe43"
      },
      "source": [
        "x"
      ],
      "execution_count": 38,
      "outputs": [
        {
          "output_type": "execute_result",
          "data": {
            "text/plain": [
              "10"
            ]
          },
          "metadata": {},
          "execution_count": 38
        }
      ]
    },
    {
      "cell_type": "code",
      "metadata": {
        "id": "wVP8gw_Mmv1w",
        "colab": {
          "base_uri": "https://localhost:8080/"
        },
        "outputId": "2cec9972-0270-4983-8130-915994707332"
      },
      "source": [
        "y"
      ],
      "execution_count": 39,
      "outputs": [
        {
          "output_type": "execute_result",
          "data": {
            "text/plain": [
              "20"
            ]
          },
          "metadata": {},
          "execution_count": 39
        }
      ]
    },
    {
      "cell_type": "code",
      "metadata": {
        "id": "TkSlbTV9mxUd",
        "colab": {
          "base_uri": "https://localhost:8080/"
        },
        "outputId": "c0af8d3c-47ce-444c-9c43-9bca7d93f2a2"
      },
      "source": [
        "z"
      ],
      "execution_count": 40,
      "outputs": [
        {
          "output_type": "execute_result",
          "data": {
            "text/plain": [
              "30"
            ]
          },
          "metadata": {},
          "execution_count": 40
        }
      ]
    },
    {
      "cell_type": "code",
      "metadata": {
        "id": "bqj5crHYm7GS",
        "colab": {
          "base_uri": "https://localhost:8080/"
        },
        "outputId": "5ae9483d-e9b6-4974-eecc-4994c5624dfa"
      },
      "source": [
        "x,y,z = a\n",
        "print(x)\n",
        "print(y)\n",
        "print(z)"
      ],
      "execution_count": 41,
      "outputs": [
        {
          "output_type": "stream",
          "name": "stdout",
          "text": [
            "1\n",
            "2\n",
            "3\n"
          ]
        }
      ]
    },
    {
      "cell_type": "code",
      "metadata": {
        "id": "Tl3P9frInMib",
        "colab": {
          "base_uri": "https://localhost:8080/"
        },
        "outputId": "bb95d2a6-0cc9-4b41-fcd8-923c05719b50"
      },
      "source": [
        "x,y,z = y,z,x\n",
        "print(x)\n",
        "print(y)\n",
        "print(z)"
      ],
      "execution_count": 42,
      "outputs": [
        {
          "output_type": "stream",
          "name": "stdout",
          "text": [
            "2\n",
            "3\n",
            "1\n"
          ]
        }
      ]
    },
    {
      "cell_type": "markdown",
      "metadata": {
        "id": "0YwQFyATJHDN"
      },
      "source": [
        "## La commande print, possède des **arguments nommés par défaut**.\n",
        "\n",
        "https://docs.python.org/fr/3.6/library/functions.html#print\n",
        "\n",
        "On se limite ici aux deux arguments : `sep=' ', end='\\n'`\n",
        "\n",
        "Observer l'exécution des cellules suivantes :\n",
        "\n"
      ]
    },
    {
      "cell_type": "code",
      "metadata": {
        "id": "H1t-Ci6LJp45",
        "colab": {
          "base_uri": "https://localhost:8080/"
        },
        "outputId": "e0086a0a-142f-48a8-c6e5-518e3679bb2d"
      },
      "source": [
        "print('Bonjour','Bob', 'ça va ?', sep='***')"
      ],
      "execution_count": 24,
      "outputs": [
        {
          "output_type": "stream",
          "name": "stdout",
          "text": [
            "Bonjour***Bob***ça va ?\n"
          ]
        }
      ]
    },
    {
      "cell_type": "code",
      "metadata": {
        "colab": {
          "base_uri": "https://localhost:8080/"
        },
        "id": "JhWkDhA0GzoE",
        "outputId": "db2d2af1-46f1-4c6a-9307-bc24571b1402"
      },
      "source": [
        "print('Merci')\n",
        "print('Et toi')\n",
        "print('?')\n",
        "print('---')"
      ],
      "execution_count": 27,
      "outputs": [
        {
          "output_type": "stream",
          "name": "stdout",
          "text": [
            "Merci\n",
            "Et toi\n",
            "?\n",
            "---\n"
          ]
        }
      ]
    },
    {
      "cell_type": "code",
      "metadata": {
        "id": "eLrmXpQeJ5xs",
        "colab": {
          "base_uri": "https://localhost:8080/"
        },
        "outputId": "70d8fbee-ce3a-4142-dab1-1e0120340867"
      },
      "source": [
        "print('Merci', end='*')\n",
        "print('Et toi', end='*')\n",
        "print('?')\n",
        "print('---')"
      ],
      "execution_count": 26,
      "outputs": [
        {
          "output_type": "stream",
          "name": "stdout",
          "text": [
            "Merci*Et toi*?\n",
            "---\n"
          ]
        }
      ]
    },
    {
      "cell_type": "code",
      "metadata": {
        "id": "SOwEcz3fKKR7",
        "colab": {
          "base_uri": "https://localhost:8080/"
        },
        "outputId": "542c7805-1cfb-4a82-9592-c98841fa2757"
      },
      "source": [
        "print('Pas mal', 'merci', sep='\\n', end='! ! !')"
      ],
      "execution_count": 28,
      "outputs": [
        {
          "output_type": "stream",
          "name": "stdout",
          "text": [
            "Pas mal\n",
            "merci! ! !"
          ]
        }
      ]
    },
    {
      "cell_type": "markdown",
      "metadata": {
        "id": "Tivpku_PKeer"
      },
      "source": [
        "Quel est le rôle de l'argument nommé `sep` ?\n",
        "\n",
        "séparateur : affiché ENTRE les arguments séparés par des **virgules**\n",
        "\n",
        "Quel est le rôle de  l'argument nommé `end` ?\n",
        "\n",
        "Caractères affichés en fin de ligne\n",
        "\n",
        "A quel caractère correspond `'\\n'` ?\n",
        "\n",
        "**retour à la ligne**\n"
      ]
    },
    {
      "cell_type": "code",
      "metadata": {
        "id": "iA8DcPk9H73N"
      },
      "source": [
        "txt1 = 'mon texte'\n",
        "txt2 = \"texte avec 'apostrophe' incluse \"\n",
        "txt3 = 'texte contenant des \"guillemets\" ! '\n",
        "txt4 = '''  texte entre guillemets triples\n",
        "qui contient un retour à la ligne  '''"
      ],
      "execution_count": 29,
      "outputs": []
    },
    {
      "cell_type": "code",
      "metadata": {
        "colab": {
          "base_uri": "https://localhost:8080/"
        },
        "id": "efGasysaIcq9",
        "outputId": "e1faa4f8-9263-4982-9172-55d19270c4a6"
      },
      "source": [
        "print(txt4)"
      ],
      "execution_count": 30,
      "outputs": [
        {
          "output_type": "stream",
          "name": "stdout",
          "text": [
            "  texte entre guillemets triples\n",
            "qui contient un retour à la ligne  \n"
          ]
        }
      ]
    },
    {
      "cell_type": "code",
      "metadata": {
        "colab": {
          "base_uri": "https://localhost:8080/",
          "height": 35
        },
        "id": "jdp0d4fnIfIP",
        "outputId": "a8b784e8-2c4d-4f2f-c568-17f9c32a4a41"
      },
      "source": [
        "txt4"
      ],
      "execution_count": 31,
      "outputs": [
        {
          "output_type": "execute_result",
          "data": {
            "application/vnd.google.colaboratory.intrinsic+json": {
              "type": "string"
            },
            "text/plain": [
              "'  texte entre guillemets triples\\nqui contient un retour à la ligne  '"
            ]
          },
          "metadata": {},
          "execution_count": 31
        }
      ]
    },
    {
      "cell_type": "code",
      "metadata": {
        "colab": {
          "base_uri": "https://localhost:8080/",
          "height": 35
        },
        "id": "uqOgBokzInRu",
        "outputId": "50ba3e22-7b52-4856-813f-ff5b6d5c9245"
      },
      "source": [
        "repr(txt2)"
      ],
      "execution_count": 33,
      "outputs": [
        {
          "output_type": "execute_result",
          "data": {
            "application/vnd.google.colaboratory.intrinsic+json": {
              "type": "string"
            },
            "text/plain": [
              "'\"texte avec \\'apostrophe\\' incluse \"'"
            ]
          },
          "metadata": {},
          "execution_count": 33
        }
      ]
    },
    {
      "cell_type": "markdown",
      "metadata": {
        "id": "Nw-6JzHJ98WN"
      },
      "source": [
        "# III.  Utilisation d'une bibliotheque"
      ]
    },
    {
      "cell_type": "markdown",
      "metadata": {
        "id": "S4XbscVaSGwo"
      },
      "source": [
        "Python possède de nombreuses bibliothèques (ou **modules**) qui donnent accès à des fonctionnalités qui ne sont pas présente de le module standard. \n",
        "\n",
        "Un exemple de module très connu est `random`. Dans ce module, on trouve notamment une fonction randint et une fonction random :\n",
        "* randint(a,b) retourne un nombre entier aléatoire entre les entiers a et b (inclus)\n",
        "* random() retourne un nombre flottant aléatoire entre 0 inclus et 1 exclu.\n",
        "\n"
      ]
    },
    {
      "cell_type": "markdown",
      "metadata": {
        "id": "GPvOX3mlSyvP"
      },
      "source": [
        "## Chargement d'un module\n",
        "\n",
        "Avant d'utiliser certaines commandes d'un module, il faut d'abord **charger** ce module avec la commande `import`, souvent au début du programme. Cette commande peut s'utiliser de trois manières, détaillées ici avec l'exemple du module random. \n",
        "\n",
        "- `import random` charge le module random. Pour accéder à une fonction du module, comme **randint**, on doit \"préfixer\" cette fonction avec le nom du module chargé, ce qui donne par exemple : `random.randint(a,b)`\n",
        "- `from random import randint` charge le module random, et le nom de la fonction randint : dans ce cas, on peut utiliser directement la commande `randint(a,b)`\n",
        "- `from random import *` charge le module random, et tous les noms définis dans ce module. Cette solution est très simple, **à condition de ne charger qu'un seul module**. En effet, il est possible que deux modules différents possèdent de noms communs... ce serait alors source de confusion."
      ]
    },
    {
      "cell_type": "markdown",
      "metadata": {
        "id": "JLR6bO1PcK3z"
      },
      "source": [
        "Parmi les cellules suivantes, quelles sont celles où l'importation et l'usage des fonction est cohérent ?\n",
        "\n",
        "Expliquer les erreurs éventuelles. "
      ]
    },
    {
      "cell_type": "code",
      "metadata": {
        "id": "w62YoqLnU-pl"
      },
      "source": [
        "import random\n",
        "\n",
        "a = randint(1,6)"
      ],
      "execution_count": null,
      "outputs": []
    },
    {
      "cell_type": "code",
      "metadata": {
        "id": "Cr5jCKKOUVAA"
      },
      "source": [
        "import random\n",
        "\n",
        "a = random.randint(1,6)\n",
        "\n",
        "print(a)"
      ],
      "execution_count": null,
      "outputs": []
    },
    {
      "cell_type": "code",
      "metadata": {
        "id": "_YVcGUFSUgTZ"
      },
      "source": [
        "from random import randint\n",
        "\n",
        "print(randint(1,6))\n",
        "\n",
        "print(random())"
      ],
      "execution_count": null,
      "outputs": []
    },
    {
      "cell_type": "code",
      "metadata": {
        "id": "9pqmtznrUnz6"
      },
      "source": [
        "from random import *\n",
        "\n",
        "b = random()\n",
        "c = randint(10,20)\n",
        "\n",
        "print(b,c)"
      ],
      "execution_count": null,
      "outputs": []
    }
  ]
}