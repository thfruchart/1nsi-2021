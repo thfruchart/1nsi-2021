{
 "cells": [
  {
   "cell_type": "markdown",
   "metadata": {},
   "source": [
    "# Problème du sac à dos"
   ]
  },
  {
   "cell_type": "markdown",
   "metadata": {},
   "source": [
    "On cherche à remplir un sac à dos en emportant les objets dont la valeur totale sera maximale, en respectant une contrainte : le sac à dos ne peut pas porter plus de 10kg."
   ]
  },
  {
   "cell_type": "code",
   "execution_count": null,
   "metadata": {},
   "outputs": [],
   "source": [
    "objlist = [('Antidote', 3, 0.5), ('Baguette magique', 5,1), ('Cape d\\'invisibilité', 12,1), ('Diadème', 30,5), ('Épée', 30,5), ('Horloge', 10,5), ('Miroir', 12,3)]\n",
    "POIDS_MAX=10"
   ]
  },
  {
   "cell_type": "markdown",
   "metadata": {},
   "source": [
    "### choix des objets dans l'ordre alphabétique"
   ]
  },
  {
   "cell_type": "markdown",
   "metadata": {},
   "source": [
    "Observer l'exécution de la cellule suivante : expliquer à quoi servent chacune des trois fonctions."
   ]
  },
  {
   "cell_type": "code",
   "execution_count": null,
   "metadata": {},
   "outputs": [],
   "source": [
    "def nom(objet):\n",
    "    return objet[0]\n",
    "\n",
    "def valeur(objet):\n",
    "    return objet[1]\n",
    "\n",
    "def masse(objet):\n",
    "    return objet[2]\n",
    "\n",
    "for x in objlist : \n",
    "    print(nom(x), valeur(x), masse(x))"
   ]
  },
  {
   "cell_type": "markdown",
   "metadata": {},
   "source": [
    "La méthode `append` permet d'ajouter une valeur à une liste.  \n",
    "Observer son effet en exécutant les cellules suivantes."
   ]
  },
  {
   "cell_type": "code",
   "execution_count": null,
   "metadata": {},
   "outputs": [],
   "source": [
    "t = []\n",
    "t.append(10)\n",
    "print(t)"
   ]
  },
  {
   "cell_type": "code",
   "execution_count": null,
   "metadata": {},
   "outputs": [],
   "source": [
    "t.append(20)\n",
    "t.append(30)\n",
    "print(t)"
   ]
  },
  {
   "cell_type": "code",
   "execution_count": null,
   "metadata": {},
   "outputs": [],
   "source": [
    "n = int(input('Saisir un entier : '))\n",
    "t.append(n)\n",
    "print(t)"
   ]
  },
  {
   "cell_type": "markdown",
   "metadata": {},
   "source": [
    "#### Compléter le code suivant\n",
    "Il réalise le choix des objets en suivant l'ordre du tableau"
   ]
  },
  {
   "cell_type": "code",
   "execution_count": null,
   "metadata": {},
   "outputs": [],
   "source": [
    "def glouton(liste_obj):\n",
    "    sac = []\n",
    "    masse_du_sac = 0\n",
    "    valeur_du_sac = 0\n",
    "    for x in liste_obj:\n",
    "        if ... :\n",
    "            sac.append(x)\n",
    "            \n",
    "            \n",
    "    print('valeur du sac : ', valeur_du_sac)\n",
    "    print('masse du sac : ', masse_du_sac)\n",
    "    return sac\n",
    "            "
   ]
  },
  {
   "cell_type": "code",
   "execution_count": null,
   "metadata": {},
   "outputs": [],
   "source": [
    "glouton(objlist)"
   ]
  },
  {
   "cell_type": "markdown",
   "metadata": {},
   "source": [
    "### Choix des objets : les plus précieux d'abord"
   ]
  },
  {
   "cell_type": "markdown",
   "metadata": {},
   "source": [
    "Pour trier la liste d'objets, on commence par privilégier les objets les plus précieux.  \n",
    "On donne ci-dessous le code du **tri par insertion** étudié en cours.  \n",
    "Compléter la fonction `tri_par_valeur` pour qu'elle effectue le tri d'une liste d'objets en les classant du plus précieux au moins précieux. "
   ]
  },
  {
   "cell_type": "code",
   "execution_count": null,
   "metadata": {},
   "outputs": [],
   "source": [
    "def tri_par_insertion(t):\n",
    "    for i in range(len(t)):\n",
    "        j = i\n",
    "        x = t[i]\n",
    "        while j>0 and t[j-1]> x :\n",
    "            t[j] = t[j-1]\n",
    "            j = j-1\n",
    "        t[j] = x\n",
    "    return t\n",
    "\n",
    "def tri_par_valeur(t):\n",
    "    for i in range(len(t)):\n",
    "        j = i\n",
    "        x = t[i]\n",
    "        while j>0 and ... :\n",
    "            t[j] = t[j-1]\n",
    "            j = j-1\n",
    "        t[j] = x\n",
    "    return t"
   ]
  },
  {
   "cell_type": "code",
   "execution_count": null,
   "metadata": {},
   "outputs": [],
   "source": [
    "tri_par_valeur(objlist)"
   ]
  },
  {
   "cell_type": "markdown",
   "metadata": {},
   "source": [
    "Une fois la liste triée par valeur, on peut exécuter l'algorithme glouton"
   ]
  },
  {
   "cell_type": "code",
   "execution_count": null,
   "metadata": {},
   "outputs": [],
   "source": [
    "glouton(objlist)"
   ]
  },
  {
   "cell_type": "markdown",
   "metadata": {},
   "source": [
    "### Choix des objets par valeur massique"
   ]
  },
  {
   "cell_type": "markdown",
   "metadata": {},
   "source": [
    "Compléter la définition de la fonction `valeur_massique`, qui renvoie la valeur massique de l'objet `x` passé en argument."
   ]
  },
  {
   "cell_type": "code",
   "execution_count": null,
   "metadata": {},
   "outputs": [],
   "source": [
    "def valeur_massique(x):\n",
    "    return ..."
   ]
  },
  {
   "cell_type": "markdown",
   "metadata": {},
   "source": [
    "Compléter le code de la fonction , qui trie le tableau par valeurs massiques décroissantes"
   ]
  },
  {
   "cell_type": "code",
   "execution_count": null,
   "metadata": {},
   "outputs": [],
   "source": [
    "def tri_par_valeur_massique(t):\n",
    "    for i in range(len(t)):\n",
    "        j = i\n",
    "        x = t[i]\n",
    "        while j>0 and ... :\n",
    "            t[j] = t[j-1]\n",
    "            j = j-1\n",
    "        t[j] = x\n",
    "    return t"
   ]
  },
  {
   "cell_type": "code",
   "execution_count": null,
   "metadata": {},
   "outputs": [],
   "source": [
    "tri_par_valeur_massique(objlist)"
   ]
  },
  {
   "cell_type": "markdown",
   "metadata": {},
   "source": [
    "Une fois la liste triée par valeur, on peut exécuter l'algorithme glouton"
   ]
  },
  {
   "cell_type": "markdown",
   "metadata": {},
   "source": [
    "## Comparaison\n",
    "En modifiant la masse maximale du sac, comparer l'efficacité des différentes stratégies"
   ]
  },
  {
   "cell_type": "code",
   "execution_count": null,
   "metadata": {},
   "outputs": [
    {
     "name": "stdout",
     "output_type": "stream",
     "text": [
      "tri par VALEUR\n",
      "valeur du sac :  60\n",
      "masse du sac :  10\n",
      "tri par valeur MASSIQUE\n",
      "valeur du sac :  50\n",
      "masse du sac :  7.5\n"
     ]
    },
    {
     "data": {
      "text/plain": [
       "[(\"Cape d'invisibilité\", 12, 1),\n",
       " ('Diadème', 30, 5),\n",
       " ('Antidote', 3, 0.5),\n",
       " ('Baguette magique', 5, 1)]"
      ]
     },
     "metadata": {},
     "output_type": "display_data"
    }
   ],
   "source": [
    "POIDS_MAX=10\n",
    "print(\"tri par VALEUR\")\n",
    "tri_par_valeur(objlist)\n",
    "glouton(objlist)\n",
    "print(\"tri par valeur MASSIQUE\")\n",
    "tri_par_valeur_massique(objlist)\n",
    "glouton(objlist)"
   ]
  },
  {
   "cell_type": "code",
   "execution_count": null,
   "metadata": {},
   "outputs": [],
   "source": [
    "glouton(objlist)"
   ]
  }
 ],
 "metadata": {
  "interpreter": {
   "hash": "916dbcbb3f70747c44a77c7bcd40155683ae19c65e1c03b4aa3499c5328201f1"
  },
  "kernelspec": {
   "display_name": "Python 3.8.10 64-bit",
   "language": "python",
   "name": "python3"
  },
  "language_info": {
   "codemirror_mode": {
    "name": "ipython",
    "version": 3
   },
   "file_extension": ".py",
   "mimetype": "text/x-python",
   "name": "python",
   "nbconvert_exporter": "python",
   "pygments_lexer": "ipython3",
   "version": "3.8.10"
  },
  "orig_nbformat": 4
 },
 "nbformat": 4,
 "nbformat_minor": 2
}
