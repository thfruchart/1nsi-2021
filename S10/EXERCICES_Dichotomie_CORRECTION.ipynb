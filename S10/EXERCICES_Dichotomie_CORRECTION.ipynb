{
  "cells": [
    {
      "cell_type": "markdown",
      "metadata": {
        "id": "view-in-github",
        "colab_type": "text"
      },
      "source": [
        "<a href=\"https://colab.research.google.com/github/thfruchart/1nsi/blob/main/S10/EXERCICES_Dichotomie_CORRECTION.ipynb\" target=\"_parent\"><img src=\"https://colab.research.google.com/assets/colab-badge.svg\" alt=\"Open In Colab\"/></a>"
      ]
    },
    {
      "metadata": {
        "id": "LwbJo5rP3MU9"
      },
      "cell_type": "markdown",
      "source": [
        "## Exercice 1"
      ]
    },
    {
      "metadata": {
        "id": "6AfdSWuo2u0u"
      },
      "cell_type": "markdown",
      "source": [
        "On donne la fonction suivante : "
      ]
    },
    {
      "metadata": {
        "id": "iKQCE9Lp2rLd",
        "trusted": false
      },
      "cell_type": "code",
      "source": [
        "def recherche_dicho(t, v):\n",
        "    g = 0 # indice gauche de la zone de recherche\n",
        "    d = len(t) - 1  # indice droit de la zone de recherche\n",
        "    while (g <= d) :\n",
        "        m = (g + d) // 2  # indice médian de la zone de recherche\n",
        "        if t[m] == v:\n",
        "                return True\n",
        "        elif t[m] < v:\n",
        "                g = m + 1\n",
        "        else:\n",
        "                d = m - 1\n",
        "    return False\n",
        "\n",
        "def compte_recherche_dicho(t, v):\n",
        "    cpt = 0\n",
        "    g = 0 # indice gauche de la zone de recherche\n",
        "    d = len(t) - 1  # indice droit de la zone de recherche\n",
        "    while (g <= d) :\n",
        "        cpt += 1\n",
        "        m = (g + d) // 2  # indice médian de la zone de recherche\n",
        "        if t[m] == v:\n",
        "                return cpt\n",
        "        elif t[m] < v:\n",
        "                g = m + 1\n",
        "        else:\n",
        "                d = m - 1\n",
        "    return cpt"
      ],
      "execution_count": 11,
      "outputs": []
    },
    {
      "metadata": {
        "id": "p9E6lfcv28ua"
      },
      "cell_type": "markdown",
      "source": [
        "#### Combien de fois la boucle while de la fonction `recherche_dicho`  sera-t-elle exécutée dans chacun des cas suivants ? \n",
        "\n",
        "1. on cherche si 5  est présent dans `[1,2,3,4,5,6,7,8,9,10]`\n",
        "2. on cherche si 5  est présent dans `[1,2,3,4,5,6,7,8,9,10,11]`\n",
        "3. on cherche si 5 est présent dans ` [0,0,0,0,0,0,0,0,0,0]`\n",
        "4. on cherche si 1 est présent dans : `[0 for i in range(1000)]`"
      ]
    },
    {
      "metadata": {
        "id": "1eGMTyOFVTZ_"
      },
      "cell_type": "markdown",
      "source": [
        "Tester vos réponses en utilisant la fonction `compte_recherche_dicho`"
      ]
    },
    {
      "metadata": {
        "id": "WVVGvKMyVYfy",
        "trusted": false,
        "outputId": "03d4147e-8911-42be-fbb1-9f59eb8d3ed5",
        "colab": {
          "base_uri": "https://localhost:8080/"
        }
      },
      "cell_type": "code",
      "source": [
        "compte_recherche_dicho([1,2,3,4,5,6,7,8,9,10],5)"
      ],
      "execution_count": 12,
      "outputs": [
        {
          "output_type": "execute_result",
          "data": {
            "text/plain": [
              "1"
            ]
          },
          "metadata": {},
          "execution_count": 12
        }
      ]
    },
    {
      "cell_type": "code",
      "source": [
        "compte_recherche_dicho([1,2,3,4,5,6,7,8,9,10,11],5)"
      ],
      "metadata": {
        "id": "3FBwll-XKsxs",
        "outputId": "23946f8c-7358-4556-fb50-d5f56b0c695a",
        "colab": {
          "base_uri": "https://localhost:8080/"
        }
      },
      "execution_count": 13,
      "outputs": [
        {
          "output_type": "execute_result",
          "data": {
            "text/plain": [
              "4"
            ]
          },
          "metadata": {},
          "execution_count": 13
        }
      ]
    },
    {
      "cell_type": "code",
      "source": [
        "compte_recherche_dicho([0,0,0,0,0,0,0,0,0,0],5)"
      ],
      "metadata": {
        "id": "QnsHRMrzKuaV",
        "outputId": "acdecea1-6c20-42a0-a449-397fba2228c6",
        "colab": {
          "base_uri": "https://localhost:8080/"
        }
      },
      "execution_count": 14,
      "outputs": [
        {
          "output_type": "execute_result",
          "data": {
            "text/plain": [
              "4"
            ]
          },
          "metadata": {},
          "execution_count": 14
        }
      ]
    },
    {
      "cell_type": "code",
      "source": [
        "compte_recherche_dicho([0 for i in range(1000)],1)"
      ],
      "metadata": {
        "id": "qKQng6BSKxhu",
        "outputId": "f201c8e8-85c0-4562-e5fa-59b59a8608e8",
        "colab": {
          "base_uri": "https://localhost:8080/"
        }
      },
      "execution_count": 16,
      "outputs": [
        {
          "output_type": "execute_result",
          "data": {
            "text/plain": [
              "10"
            ]
          },
          "metadata": {},
          "execution_count": 16
        }
      ]
    },
    {
      "metadata": {
        "id": "jCGdy2Zl3VSQ"
      },
      "cell_type": "markdown",
      "source": [
        "## Exercice 2"
      ]
    },
    {
      "metadata": {
        "id": "mGd5d1O23ZEu",
        "trusted": false
      },
      "cell_type": "code",
      "source": [
        "def recherche_incorrecte(t, v):\n",
        "    g = 0 # indice gauche de la zone de recherche\n",
        "    d = len(t) - 1  # indice droit de la zone de recherche\n",
        "    while (g <= d) :\n",
        "        m = (g + d) // 2  # indice médian de la zone de recherche\n",
        "        if t[m] == v:\n",
        "                return True\n",
        "        elif t[m] < v:\n",
        "                g = m + 2\n",
        "        else:\n",
        "                d = m - 2\n",
        "    return False"
      ],
      "execution_count": 17,
      "outputs": []
    },
    {
      "metadata": {
        "id": "CjCYwuGVWj2G"
      },
      "cell_type": "markdown",
      "source": [
        "Trouver un tableau `t` et une valeur `v` pour lequels la fonction ci-dessus ne renvoie pas la valeur attendue.\n",
        "\n",
        "On pourra choisir une valeur v qui figure dans le tableau t, et pour laquelle `recherche_incorrecte(t, v)` renvoie `False`"
      ]
    },
    {
      "cell_type": "code",
      "source": [
        "recherche_incorrecte([10,20,30,40,50], 20)"
      ],
      "metadata": {
        "id": "TxAhZ_IUK80Q",
        "outputId": "74451a70-ab18-4dba-f471-450d2f6e047d",
        "colab": {
          "base_uri": "https://localhost:8080/"
        }
      },
      "execution_count": 18,
      "outputs": [
        {
          "output_type": "execute_result",
          "data": {
            "text/plain": [
              "False"
            ]
          },
          "metadata": {},
          "execution_count": 18
        }
      ]
    },
    {
      "cell_type": "markdown",
      "source": [
        "* initialement `g = 0` et `d = 4` donc `m = 2`\n",
        "* la première valeur testée est 30 (au milieu du tableau)\n",
        "* comme 20 < 30, c'est l'indice `d` qui est modifié\n",
        "  * `d = m-2` \n",
        "  * donc `d` reçoit la valeur `0` (qui est l'indice de 10 dans le tableau)\n",
        "* l'indice 1 n'est donc pas testé par la fonction `recherche_incorrecte` ce qui produit une réponse fausse."
      ],
      "metadata": {
        "id": "zazrvuxCLCtf"
      }
    },
    {
      "metadata": {
        "id": "kzMnYI24Wbnl"
      },
      "cell_type": "markdown",
      "source": [
        "## Exercice 3"
      ]
    },
    {
      "metadata": {
        "id": "cJaTIpPhWbnm",
        "trusted": false
      },
      "cell_type": "code",
      "source": [
        "def recherche_presque_correcte(t, v):\n",
        "    g = 0 # indice gauche de la zone de recherche\n",
        "    d = len(t) - 1  # indice droit de la zone de recherche\n",
        "    while (g <= d) :\n",
        "        m = (g + d) // 2  # indice médian de la zone de recherche\n",
        "        if t[m] == v:\n",
        "                return True\n",
        "        elif t[m] < v:\n",
        "                g = m \n",
        "        else:\n",
        "                d = m \n",
        "    return False"
      ],
      "execution_count": 19,
      "outputs": []
    },
    {
      "metadata": {
        "id": "Goe98weUW9XF"
      },
      "cell_type": "markdown",
      "source": [
        "Trouver un tableau `t` et une valeur `v` pour lequels la fonction ci-dessus ne renvoie pas la valeur attendue.\n",
        "\n",
        "On pourra choisir une valeur v qui ne figure pas dans le tableau t, et pour laquelle `recherche_incorrecte(t, v)` ... ne renvoie rien !"
      ]
    },
    {
      "cell_type": "code",
      "source": [
        "recherche_presque_correcte([10,20,30,40,50], 10)"
      ],
      "metadata": {
        "id": "_KVDHpxiLt2w",
        "outputId": "7235535a-942d-4801-de5d-8d5e011c3e97",
        "colab": {
          "base_uri": "https://localhost:8080/"
        }
      },
      "execution_count": 20,
      "outputs": [
        {
          "output_type": "execute_result",
          "data": {
            "text/plain": [
              "True"
            ]
          },
          "metadata": {},
          "execution_count": 20
        }
      ]
    },
    {
      "cell_type": "code",
      "source": [
        "recherche_presque_correcte([10,20,30,40,50], 50)"
      ],
      "metadata": {
        "id": "2ZDEUTPGLyvI",
        "outputId": "efe5153d-9998-4896-f2d1-43e2ebc24a59",
        "colab": {
          "base_uri": "https://localhost:8080/",
          "height": 287
        }
      },
      "execution_count": 21,
      "outputs": [
        {
          "output_type": "error",
          "ename": "KeyboardInterrupt",
          "evalue": "ignored",
          "traceback": [
            "\u001b[0;31m---------------------------------------------------------------------------\u001b[0m",
            "\u001b[0;31mKeyboardInterrupt\u001b[0m                         Traceback (most recent call last)",
            "\u001b[0;32m<ipython-input-21-041e6c9c4bcf>\u001b[0m in \u001b[0;36m<module>\u001b[0;34m()\u001b[0m\n\u001b[0;32m----> 1\u001b[0;31m \u001b[0mrecherche_presque_correcte\u001b[0m\u001b[0;34m(\u001b[0m\u001b[0;34m[\u001b[0m\u001b[0;36m10\u001b[0m\u001b[0;34m,\u001b[0m\u001b[0;36m20\u001b[0m\u001b[0;34m,\u001b[0m\u001b[0;36m30\u001b[0m\u001b[0;34m,\u001b[0m\u001b[0;36m40\u001b[0m\u001b[0;34m,\u001b[0m\u001b[0;36m50\u001b[0m\u001b[0;34m]\u001b[0m\u001b[0;34m,\u001b[0m \u001b[0;36m50\u001b[0m\u001b[0;34m)\u001b[0m\u001b[0;34m\u001b[0m\u001b[0;34m\u001b[0m\u001b[0m\n\u001b[0m",
            "\u001b[0;32m<ipython-input-19-dea4f5ebb033>\u001b[0m in \u001b[0;36mrecherche_presque_correcte\u001b[0;34m(t, v)\u001b[0m\n\u001b[1;32m      2\u001b[0m     \u001b[0mg\u001b[0m \u001b[0;34m=\u001b[0m \u001b[0;36m0\u001b[0m \u001b[0;31m# indice gauche de la zone de recherche\u001b[0m\u001b[0;34m\u001b[0m\u001b[0;34m\u001b[0m\u001b[0m\n\u001b[1;32m      3\u001b[0m     \u001b[0md\u001b[0m \u001b[0;34m=\u001b[0m \u001b[0mlen\u001b[0m\u001b[0;34m(\u001b[0m\u001b[0mt\u001b[0m\u001b[0;34m)\u001b[0m \u001b[0;34m-\u001b[0m \u001b[0;36m1\u001b[0m  \u001b[0;31m# indice droit de la zone de recherche\u001b[0m\u001b[0;34m\u001b[0m\u001b[0;34m\u001b[0m\u001b[0m\n\u001b[0;32m----> 4\u001b[0;31m     \u001b[0;32mwhile\u001b[0m \u001b[0;34m(\u001b[0m\u001b[0mg\u001b[0m \u001b[0;34m<=\u001b[0m \u001b[0md\u001b[0m\u001b[0;34m)\u001b[0m \u001b[0;34m:\u001b[0m\u001b[0;34m\u001b[0m\u001b[0;34m\u001b[0m\u001b[0m\n\u001b[0m\u001b[1;32m      5\u001b[0m         \u001b[0mm\u001b[0m \u001b[0;34m=\u001b[0m \u001b[0;34m(\u001b[0m\u001b[0mg\u001b[0m \u001b[0;34m+\u001b[0m \u001b[0md\u001b[0m\u001b[0;34m)\u001b[0m \u001b[0;34m//\u001b[0m \u001b[0;36m2\u001b[0m  \u001b[0;31m# indice médian de la zone de recherche\u001b[0m\u001b[0;34m\u001b[0m\u001b[0;34m\u001b[0m\u001b[0m\n\u001b[1;32m      6\u001b[0m         \u001b[0;32mif\u001b[0m \u001b[0mt\u001b[0m\u001b[0;34m[\u001b[0m\u001b[0mm\u001b[0m\u001b[0;34m]\u001b[0m \u001b[0;34m==\u001b[0m \u001b[0mv\u001b[0m\u001b[0;34m:\u001b[0m\u001b[0;34m\u001b[0m\u001b[0;34m\u001b[0m\u001b[0m\n",
            "\u001b[0;31mKeyboardInterrupt\u001b[0m: "
          ]
        }
      ]
    },
    {
      "cell_type": "markdown",
      "source": [
        "`recherche_presque_correcte([10,20,30,40,50], 50)` est une instruction qui ne termine pas.  \n",
        "\n",
        "En effet : \n",
        "\n",
        "* initialement `g = 0` et `d = 4` donc `m = 2`\n",
        "* la première valeur testée est 30 (au milieu du tableau)\n",
        "* comme 50 > 30, c'est l'indice `g` qui est modifié\n",
        "  * `g = m` \n",
        "  * donc `g` reçoit la valeur `2` \n",
        "* ensuite `m = (g+2)//2` donc m vaut 3\n",
        "* comme 50 > 40, c'est l'indice `g` qui est modifié\n",
        "  * `g = m` \n",
        "  * donc `g` reçoit la valeur `3`\n",
        "* ensuite `m = (g+2)//2` donc m vaut encore 3\n",
        "la boucle while ne termine jamais car `g=3` et `d=4` ne sont plus modifiés.\n"
      ],
      "metadata": {
        "id": "_oAFVHlLL_q4"
      }
    }
  ],
  "metadata": {
    "colab": {
      "name": "Chap16_EXERCICES_Dichotomie.ipynb",
      "provenance": [],
      "collapsed_sections": [],
      "authorship_tag": "ABX9TyN7txZXzhaXpkwct7oDahoQ",
      "include_colab_link": true
    },
    "kernelspec": {
      "name": "python3",
      "display_name": "Python 3"
    }
  },
  "nbformat": 4,
  "nbformat_minor": 0
}