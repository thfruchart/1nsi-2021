{
  "cells": [
    {
      "cell_type": "markdown",
      "metadata": {
        "id": "view-in-github",
        "colab_type": "text"
      },
      "source": [
        "<a href=\"https://colab.research.google.com/github/thfruchart/1nsi/blob/main/S10/SacADos_COMPLET.ipynb\" target=\"_parent\"><img src=\"https://colab.research.google.com/assets/colab-badge.svg\" alt=\"Open In Colab\"/></a>"
      ]
    },
    {
      "cell_type": "markdown",
      "metadata": {
        "id": "JpYH17ZaxZ2E"
      },
      "source": [
        "# Problème du sac à dos"
      ]
    },
    {
      "cell_type": "markdown",
      "metadata": {
        "id": "cvG3PAlNxZ2Q"
      },
      "source": [
        "On cherche à remplir un sac à dos en emportant les objets dont la valeur totale sera maximale, en respectant une contrainte : le sac à dos ne peut pas porter plus de 10kg."
      ]
    },
    {
      "cell_type": "code",
      "execution_count": 15,
      "metadata": {
        "id": "fDit7Qi7xZ2T"
      },
      "outputs": [],
      "source": [
        "objlist = [('Antidote', 3, 0.5), ('Baguette magique', 5,1), ('Cape d\\'invisibilité', 12,1), ('Diadème', 30,5), ('Épée', 9,6), ('Horloge', 10,5), ('Miroir', 12,3)]\n",
        "POIDS_MAX=10"
      ]
    },
    {
      "cell_type": "markdown",
      "metadata": {
        "id": "ZXr0JwMpxZ2X"
      },
      "source": [
        "### choix des objets dans l'ordre alphabétique"
      ]
    },
    {
      "cell_type": "markdown",
      "metadata": {
        "id": "P9iNPCUexZ2Z"
      },
      "source": [
        "Observer l'exécution de la cellule suivante : expliquer à quoi servent chacune des trois fonctions."
      ]
    },
    {
      "cell_type": "code",
      "execution_count": 2,
      "metadata": {
        "id": "lJkJwLuZxZ2a",
        "colab": {
          "base_uri": "https://localhost:8080/"
        },
        "outputId": "13c874f2-b2ef-4d99-b565-733c37b9480a"
      },
      "outputs": [
        {
          "output_type": "stream",
          "name": "stdout",
          "text": [
            "Antidote 3 0.5\n",
            "Baguette magique 5 1\n",
            "Cape d'invisibilité 12 1\n",
            "Diadème 30 5\n",
            "Épée 9 6\n",
            "Horloge 10 5\n",
            "Miroir 12 3\n"
          ]
        }
      ],
      "source": [
        "def nom(objet):\n",
        "    return objet[0]\n",
        "\n",
        "def valeur(objet):\n",
        "    return objet[1]\n",
        "\n",
        "def masse(objet):\n",
        "    return objet[2]\n",
        "\n",
        "for x in objlist : \n",
        "    print(nom(x), valeur(x), masse(x))"
      ]
    },
    {
      "cell_type": "markdown",
      "metadata": {
        "id": "5QXoSCEAxZ2c"
      },
      "source": [
        "La méthode `append` permet d'ajouter une valeur à une liste.  \n",
        "Observer son effet en exécutant les cellules suivantes."
      ]
    },
    {
      "cell_type": "code",
      "execution_count": null,
      "metadata": {
        "id": "UgpP8aO7xZ2d"
      },
      "outputs": [],
      "source": [
        "t = []\n",
        "t.append(10)\n",
        "print(t)"
      ]
    },
    {
      "cell_type": "code",
      "execution_count": null,
      "metadata": {
        "id": "f8hxHLWkxZ2f"
      },
      "outputs": [],
      "source": [
        "t.append(20)\n",
        "t.append(30)\n",
        "print(t)"
      ]
    },
    {
      "cell_type": "code",
      "execution_count": null,
      "metadata": {
        "id": "klP49M0-xZ2g"
      },
      "outputs": [],
      "source": [
        "n = int(input('Saisir un entier : '))\n",
        "t.append(n)\n",
        "print(t)"
      ]
    },
    {
      "cell_type": "markdown",
      "metadata": {
        "id": "sI8bk4x6xZ2i"
      },
      "source": [
        "#### Compléter le code suivant\n",
        "Il réalise le choix des objets en suivant l'ordre du tableau"
      ]
    },
    {
      "cell_type": "code",
      "execution_count": 3,
      "metadata": {
        "id": "fHY56UawxZ2j"
      },
      "outputs": [],
      "source": [
        "def glouton(liste_obj):\n",
        "    sac = []\n",
        "    masse_du_sac = 0\n",
        "    valeur_du_sac = 0\n",
        "    for x in liste_obj:\n",
        "        if masse(x)+masse_du_sac <= POIDS_MAX :\n",
        "            sac.append(x)\n",
        "            masse_du_sac += masse(x)\n",
        "            valeur_du_sac += valeur(x)\n",
        "            \n",
        "    print('valeur du sac : ', valeur_du_sac)\n",
        "    print('masse du sac : ', masse_du_sac)\n",
        "    return sac\n",
        "            "
      ]
    },
    {
      "cell_type": "code",
      "execution_count": 4,
      "metadata": {
        "id": "ExNQZFIaxZ2k",
        "colab": {
          "base_uri": "https://localhost:8080/"
        },
        "outputId": "90ea487b-55ac-4ed6-ef69-0d09061956aa"
      },
      "outputs": [
        {
          "output_type": "stream",
          "name": "stdout",
          "text": [
            "valeur du sac :  50\n",
            "masse du sac :  7.5\n"
          ]
        },
        {
          "output_type": "execute_result",
          "data": {
            "text/plain": [
              "[('Antidote', 3, 0.5),\n",
              " ('Baguette magique', 5, 1),\n",
              " (\"Cape d'invisibilité\", 12, 1),\n",
              " ('Diadème', 30, 5)]"
            ]
          },
          "metadata": {},
          "execution_count": 4
        }
      ],
      "source": [
        "glouton(objlist)"
      ]
    },
    {
      "cell_type": "markdown",
      "metadata": {
        "id": "8SGGrTm5xZ2l"
      },
      "source": [
        "### Choix des objets : les plus précieux d'abord"
      ]
    },
    {
      "cell_type": "markdown",
      "metadata": {
        "id": "ijHRdEe2xZ2m"
      },
      "source": [
        "Pour trier la liste d'objets, on commence par privilégier les objets les plus précieux.  \n",
        "On donne ci-dessous le code du **tri par insertion** étudié en cours.  \n",
        "Compléter la fonction `tri_par_valeur` pour qu'elle effectue le tri d'une liste d'objets en les classant du plus précieux au moins précieux. "
      ]
    },
    {
      "cell_type": "code",
      "execution_count": 5,
      "metadata": {
        "id": "iZAsoodlxZ2n"
      },
      "outputs": [],
      "source": [
        "def tri_par_insertion(t):\n",
        "    for i in range(len(t)):\n",
        "        j = i\n",
        "        x = t[i]\n",
        "        while j>0 and t[j-1]> x :\n",
        "            t[j] = t[j-1]\n",
        "            j = j-1\n",
        "        t[j] = x\n",
        "    return t\n",
        "\n",
        "def tri_par_valeur(t):\n",
        "    for i in range(len(t)):\n",
        "        j = i\n",
        "        x = t[i]\n",
        "        while j>0 and valeur(t[j-1]) < valeur(x) :\n",
        "            t[j] = t[j-1]\n",
        "            j = j-1\n",
        "        t[j] = x\n",
        "    return t"
      ]
    },
    {
      "cell_type": "code",
      "execution_count": 6,
      "metadata": {
        "id": "fY7ZjqgfxZ2o",
        "colab": {
          "base_uri": "https://localhost:8080/"
        },
        "outputId": "ad93625a-7eac-4ab4-d7a3-a7a1a5751cdd"
      },
      "outputs": [
        {
          "output_type": "execute_result",
          "data": {
            "text/plain": [
              "[('Diadème', 30, 5),\n",
              " (\"Cape d'invisibilité\", 12, 1),\n",
              " ('Miroir', 12, 3),\n",
              " ('Horloge', 10, 5),\n",
              " ('Épée', 9, 6),\n",
              " ('Baguette magique', 5, 1),\n",
              " ('Antidote', 3, 0.5)]"
            ]
          },
          "metadata": {},
          "execution_count": 6
        }
      ],
      "source": [
        "tri_par_valeur(objlist)"
      ]
    },
    {
      "cell_type": "markdown",
      "metadata": {
        "id": "PM_9lf9VxZ2p"
      },
      "source": [
        "Une fois la liste triée par valeur, on peut exécuter l'algorithme glouton"
      ]
    },
    {
      "cell_type": "code",
      "execution_count": 7,
      "metadata": {
        "id": "AloT72FMxZ2p",
        "colab": {
          "base_uri": "https://localhost:8080/"
        },
        "outputId": "0bab86c2-dffc-4f46-fab0-e7f2ba8adee5"
      },
      "outputs": [
        {
          "output_type": "stream",
          "name": "stdout",
          "text": [
            "valeur du sac :  59\n",
            "masse du sac :  10\n"
          ]
        },
        {
          "output_type": "execute_result",
          "data": {
            "text/plain": [
              "[('Diadème', 30, 5),\n",
              " (\"Cape d'invisibilité\", 12, 1),\n",
              " ('Miroir', 12, 3),\n",
              " ('Baguette magique', 5, 1)]"
            ]
          },
          "metadata": {},
          "execution_count": 7
        }
      ],
      "source": [
        "glouton(objlist)"
      ]
    },
    {
      "cell_type": "markdown",
      "metadata": {
        "id": "qQJVy96zxZ2q"
      },
      "source": [
        "### Choix des objets par valeur massique"
      ]
    },
    {
      "cell_type": "markdown",
      "metadata": {
        "id": "A40zzorqxZ2r"
      },
      "source": [
        "Compléter la définition de la fonction `valeur_massique`, qui renvoie la valeur massique de l'objet `x` passé en argument."
      ]
    },
    {
      "cell_type": "code",
      "execution_count": 8,
      "metadata": {
        "id": "UCWLjcdRxZ2r"
      },
      "outputs": [],
      "source": [
        "def valeur_massique(x):\n",
        "    return valeur(x)/masse(x)"
      ]
    },
    {
      "cell_type": "markdown",
      "metadata": {
        "id": "rqYfrZI0xZ2s"
      },
      "source": [
        "Compléter le code de la fonction , qui trie le tableau par valeurs massiques décroissantes"
      ]
    },
    {
      "cell_type": "code",
      "execution_count": 9,
      "metadata": {
        "id": "OSF3-nCnxZ2t"
      },
      "outputs": [],
      "source": [
        "def tri_par_valeur_massique(t):\n",
        "    for i in range(len(t)):\n",
        "        j = i\n",
        "        x = t[i]\n",
        "        while j>0 and valeur_massique(t[j-1]) < valeur_massique(x) :\n",
        "            t[j] = t[j-1]\n",
        "            j = j-1\n",
        "        t[j] = x\n",
        "    return t"
      ]
    },
    {
      "cell_type": "code",
      "execution_count": 10,
      "metadata": {
        "id": "VNyEGF8IxZ2u",
        "colab": {
          "base_uri": "https://localhost:8080/"
        },
        "outputId": "22e5e0ba-bff4-47e5-910e-5e40dca5bd4a"
      },
      "outputs": [
        {
          "output_type": "execute_result",
          "data": {
            "text/plain": [
              "[(\"Cape d'invisibilité\", 12, 1),\n",
              " ('Diadème', 30, 5),\n",
              " ('Antidote', 3, 0.5),\n",
              " ('Baguette magique', 5, 1),\n",
              " ('Miroir', 12, 3),\n",
              " ('Horloge', 10, 5),\n",
              " ('Épée', 9, 6)]"
            ]
          },
          "metadata": {},
          "execution_count": 10
        }
      ],
      "source": [
        "tri_par_valeur_massique(objlist)"
      ]
    },
    {
      "cell_type": "markdown",
      "metadata": {
        "id": "zlpvn5ZJxZ2u"
      },
      "source": [
        "Une fois la liste triée par valeur, on peut exécuter l'algorithme glouton"
      ]
    },
    {
      "cell_type": "code",
      "source": [
        "glouton(objlist)"
      ],
      "metadata": {
        "colab": {
          "base_uri": "https://localhost:8080/"
        },
        "id": "SPA6zOVQ4HyF",
        "outputId": "b5d893e1-532f-4f6c-ad06-ac89342ef92c"
      },
      "execution_count": 11,
      "outputs": [
        {
          "output_type": "stream",
          "name": "stdout",
          "text": [
            "valeur du sac :  50\n",
            "masse du sac :  7.5\n"
          ]
        },
        {
          "output_type": "execute_result",
          "data": {
            "text/plain": [
              "[(\"Cape d'invisibilité\", 12, 1),\n",
              " ('Diadème', 30, 5),\n",
              " ('Antidote', 3, 0.5),\n",
              " ('Baguette magique', 5, 1)]"
            ]
          },
          "metadata": {},
          "execution_count": 11
        }
      ]
    },
    {
      "cell_type": "markdown",
      "metadata": {
        "id": "2phNu1NAxZ2v"
      },
      "source": [
        "## Comparaison\n",
        "En modifiant la masse maximale du sac, comparer l'efficacité des différentes stratégies"
      ]
    },
    {
      "cell_type": "code",
      "execution_count": 16,
      "metadata": {
        "id": "h5QpLAzfxZ2w",
        "colab": {
          "base_uri": "https://localhost:8080/"
        },
        "outputId": "13c3ce9d-2e0b-4266-fd3d-bab563737359"
      },
      "outputs": [
        {
          "output_type": "stream",
          "name": "stdout",
          "text": [
            "tri par VALEUR\n",
            "valeur du sac :  59\n",
            "masse du sac :  10\n",
            "tri par valeur MASSIQUE\n",
            "valeur du sac :  50\n",
            "masse du sac :  7.5\n"
          ]
        },
        {
          "output_type": "execute_result",
          "data": {
            "text/plain": [
              "[(\"Cape d'invisibilité\", 12, 1),\n",
              " ('Diadème', 30, 5),\n",
              " ('Antidote', 3, 0.5),\n",
              " ('Baguette magique', 5, 1)]"
            ]
          },
          "metadata": {},
          "execution_count": 16
        }
      ],
      "source": [
        "POIDS_MAX=10\n",
        "print(\"tri par VALEUR\")\n",
        "tri_par_valeur(objlist)\n",
        "glouton(objlist)\n",
        "print(\"tri par valeur MASSIQUE\")\n",
        "tri_par_valeur_massique(objlist)\n",
        "glouton(objlist)"
      ]
    },
    {
      "cell_type": "markdown",
      "source": [
        "#### Attention \n",
        "L'ajout d'un nouvel objet peut améliorer le résultat obtenu avec **valeur massique**"
      ],
      "metadata": {
        "id": "P3mlmcc06Alb"
      }
    },
    {
      "cell_type": "code",
      "source": [
        "nouvel_objet = ('Hibou' ,  10 , 2.5)\n",
        "\n",
        "objlist.append(nouvel_objet)"
      ],
      "metadata": {
        "id": "v4rNSgqb41Hu"
      },
      "execution_count": 18,
      "outputs": []
    },
    {
      "cell_type": "code",
      "source": [
        "POIDS_MAX=10\n",
        "print(\"tri par VALEUR\")\n",
        "tri_par_valeur(objlist)\n",
        "glouton(objlist)\n",
        "print(\"tri par valeur MASSIQUE\")\n",
        "tri_par_valeur_massique(objlist)\n",
        "glouton(objlist)"
      ],
      "metadata": {
        "colab": {
          "base_uri": "https://localhost:8080/"
        },
        "id": "cR5TqO1m5uU5",
        "outputId": "7c0a8733-6683-475e-8130-28b2cb27e5a5"
      },
      "execution_count": 19,
      "outputs": [
        {
          "output_type": "stream",
          "name": "stdout",
          "text": [
            "tri par VALEUR\n",
            "valeur du sac :  59\n",
            "masse du sac :  10\n",
            "tri par valeur MASSIQUE\n",
            "valeur du sac :  60\n",
            "masse du sac :  10.0\n"
          ]
        },
        {
          "output_type": "execute_result",
          "data": {
            "text/plain": [
              "[(\"Cape d'invisibilité\", 12, 1),\n",
              " ('Diadème', 30, 5),\n",
              " ('Antidote', 3, 0.5),\n",
              " ('Baguette magique', 5, 1),\n",
              " ('Hibou', 10, 2.5)]"
            ]
          },
          "metadata": {},
          "execution_count": 19
        }
      ]
    },
    {
      "cell_type": "markdown",
      "source": [
        "#### Attention \n",
        "L'ajout d'un nouvel objet peut **diminuer** le résultat obtenu avec **valeur**"
      ],
      "metadata": {
        "id": "5ox1yX3Z6hDv"
      }
    },
    {
      "cell_type": "code",
      "source": [
        "nouvel_objet = ('Enclume' ,  40 , 10)\n",
        "\n",
        "objlist.append(nouvel_objet)"
      ],
      "metadata": {
        "id": "QU8HF9jO6hD4"
      },
      "execution_count": 20,
      "outputs": []
    },
    {
      "cell_type": "code",
      "source": [
        "POIDS_MAX=10\n",
        "print(\"tri par VALEUR\")\n",
        "tri_par_valeur(objlist)\n",
        "glouton(objlist)\n",
        "print(\"tri par valeur MASSIQUE\")\n",
        "tri_par_valeur_massique(objlist)\n",
        "glouton(objlist)"
      ],
      "metadata": {
        "outputId": "c7d48907-cbd5-42a4-a991-54ca75bd52dc",
        "colab": {
          "base_uri": "https://localhost:8080/"
        },
        "id": "8dvTrmqY6hD4"
      },
      "execution_count": 21,
      "outputs": [
        {
          "output_type": "stream",
          "name": "stdout",
          "text": [
            "tri par VALEUR\n",
            "valeur du sac :  40\n",
            "masse du sac :  10\n",
            "tri par valeur MASSIQUE\n",
            "valeur du sac :  60\n",
            "masse du sac :  10.0\n"
          ]
        },
        {
          "output_type": "execute_result",
          "data": {
            "text/plain": [
              "[(\"Cape d'invisibilité\", 12, 1),\n",
              " ('Diadème', 30, 5),\n",
              " ('Antidote', 3, 0.5),\n",
              " ('Baguette magique', 5, 1),\n",
              " ('Hibou', 10, 2.5)]"
            ]
          },
          "metadata": {},
          "execution_count": 21
        }
      ]
    }
  ],
  "metadata": {
    "interpreter": {
      "hash": "916dbcbb3f70747c44a77c7bcd40155683ae19c65e1c03b4aa3499c5328201f1"
    },
    "kernelspec": {
      "display_name": "Python 3.8.10 64-bit",
      "language": "python",
      "name": "python3"
    },
    "language_info": {
      "codemirror_mode": {
        "name": "ipython",
        "version": 3
      },
      "file_extension": ".py",
      "mimetype": "text/x-python",
      "name": "python",
      "nbconvert_exporter": "python",
      "pygments_lexer": "ipython3",
      "version": "3.8.10"
    },
    "orig_nbformat": 4,
    "colab": {
      "name": "SacADos.ipynb",
      "provenance": [],
      "include_colab_link": true
    }
  },
  "nbformat": 4,
  "nbformat_minor": 0
}