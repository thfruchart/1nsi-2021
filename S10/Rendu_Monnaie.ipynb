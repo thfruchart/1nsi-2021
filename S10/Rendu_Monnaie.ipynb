{
  "nbformat": 4,
  "nbformat_minor": 0,
  "metadata": {
    "colab": {
      "name": "Rendu_Monnaie.ipynb",
      "provenance": [],
      "collapsed_sections": [],
      "authorship_tag": "ABX9TyPOw6onuKQ9tHI2LFgdyho9",
      "include_colab_link": true
    },
    "kernelspec": {
      "name": "python3",
      "display_name": "Python 3"
    },
    "language_info": {
      "name": "python"
    }
  },
  "cells": [
    {
      "cell_type": "markdown",
      "metadata": {
        "id": "view-in-github",
        "colab_type": "text"
      },
      "source": [
        "<a href=\"https://colab.research.google.com/github/thfruchart/1nsi/blob/main/S10/Rendu_Monnaie.ipynb\" target=\"_parent\"><img src=\"https://colab.research.google.com/assets/colab-badge.svg\" alt=\"Open In Colab\"/></a>"
      ]
    },
    {
      "cell_type": "markdown",
      "source": [
        "[Ouvrir avec Basthon](https://notebook.basthon.fr/?from=https://raw.githubusercontent.com/thfruchart/1nsi/main/S10/Rendu_Monnaie.ipynb)"
      ],
      "metadata": {
        "id": "lmyRy_4-Zikl"
      }
    },
    {
      "cell_type": "markdown",
      "source": [
        "# Rendre la monnaie en utilisant le moins de pièces (billets) possibles"
      ],
      "metadata": {
        "id": "Z5DnYBCSVoyt"
      }
    },
    {
      "cell_type": "markdown",
      "source": [
        "On traite le cas du rendu d'une somme inférieure à 1€  \n",
        "on ne considère donc que le cas des pièces."
      ],
      "metadata": {
        "id": "WO9ZAnHlV2WB"
      }
    },
    {
      "cell_type": "code",
      "source": [
        "systeme_canonique = [50,20,10,5,2,1]"
      ],
      "metadata": {
        "id": "xhYhQSoLVvoI"
      },
      "execution_count": null,
      "outputs": []
    },
    {
      "cell_type": "markdown",
      "source": [
        "# Question 1"
      ],
      "metadata": {
        "id": "mkMP2Jj7Yey8"
      }
    },
    {
      "cell_type": "markdown",
      "source": [
        "Ecrire une fonction rendu_monnaie qui :  \n",
        "* prend en arguments : \n",
        "  * la somme à rendre `somme`\n",
        "  * la liste des valeurs des pièces `systeme` \n",
        "* et qui renvoie la liste des effectifs des pièces à rendre, pour chacune des valeurs du système, avec un algorithme glouton.\n",
        "\n",
        "Par exemple :  \n",
        "```\n",
        ">>> rendu_monnaie(93, [50,20,10,5,2,1])  \n",
        "[1,2,0,0,1,1]\n",
        "```"
      ],
      "metadata": {
        "id": "MTMj6stBWLXB"
      }
    },
    {
      "cell_type": "code",
      "execution_count": null,
      "metadata": {
        "id": "MRhTyo4YVjmg"
      },
      "outputs": [],
      "source": [
        "... \n"
      ]
    },
    {
      "cell_type": "markdown",
      "source": [
        "# Question 2"
      ],
      "metadata": {
        "id": "sCxxsYCaYnHc"
      }
    },
    {
      "cell_type": "markdown",
      "source": [
        "### Avec la méthode `append()`"
      ],
      "metadata": {
        "id": "W4G4--irXDBK"
      }
    },
    {
      "cell_type": "markdown",
      "source": [
        "La méthode append permet d'ajouter une valeur à une liste.  \n",
        "Utiliser cette méthode a pour effet de changer la longueur de la liste : il ne faut donc pas l'utiliser à l'intérieur d'un \"parcours de tableau\" ! \n",
        "\n",
        "On pourra observer les exemples suivants"
      ],
      "metadata": {
        "id": "LSuxyTX7XIa4"
      }
    },
    {
      "cell_type": "code",
      "source": [
        "t = []\n",
        "print(t)"
      ],
      "metadata": {
        "id": "TNGhrwUrXw9k"
      },
      "execution_count": null,
      "outputs": []
    },
    {
      "cell_type": "code",
      "source": [
        "t.append(50)\n",
        "print(t)"
      ],
      "metadata": {
        "id": "q5z5Oa4UXzIf"
      },
      "execution_count": null,
      "outputs": []
    },
    {
      "cell_type": "code",
      "source": [
        "t.append(20)\n",
        "print(t)"
      ],
      "metadata": {
        "id": "snuLEYtkX212"
      },
      "execution_count": null,
      "outputs": []
    },
    {
      "cell_type": "markdown",
      "source": [
        "### Ecrire une nouvelle version de la fonction rendu_monnaie, qui :\n",
        "* prend en arguments : \n",
        "  * la somme à rendre `somme`\n",
        "  * la liste des valeurs des pièces `systeme` \n",
        "* et qui renvoie la liste des pièces à rendre, la plus courte possible.\n",
        "\n",
        "Par exemple :  \n",
        "```\n",
        ">>> rendu_monnaie(93, [50,20,10,5,2,1])  \n",
        "[50,20,20,2,1]\n",
        "```\n",
        "\n"
      ],
      "metadata": {
        "id": "6uo-l7h6X4hl"
      }
    },
    {
      "cell_type": "code",
      "source": [
        "...\n"
      ],
      "metadata": {
        "id": "bcfkvvEKYso4"
      },
      "execution_count": null,
      "outputs": []
    },
    {
      "cell_type": "markdown",
      "source": [
        "# Question 3"
      ],
      "metadata": {
        "id": "S0WS-QBsYbxR"
      }
    },
    {
      "cell_type": "markdown",
      "source": [
        "Proposer un système non conventionnel de pièces, et une somme à rendre, telles que l'algorithme glouton ci-dessus ne donne **pas** une solution optimale.  Comment faudrait-il procéder pour programmer la recherche d'une solution optimale? "
      ],
      "metadata": {
        "id": "H8nsGHuQY3i6"
      }
    },
    {
      "cell_type": "code",
      "source": [
        "systeme_nc = [...]\n",
        "somme = ... \n",
        "\n",
        "... "
      ],
      "metadata": {
        "id": "uOs3nf-xZIy-"
      },
      "execution_count": null,
      "outputs": []
    }
  ]
}