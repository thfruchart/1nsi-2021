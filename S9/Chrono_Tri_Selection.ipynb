{
  "nbformat": 4,
  "nbformat_minor": 0,
  "metadata": {
    "colab": {
      "name": "S9_Chrono_Tri_Selection.ipynb",
      "provenance": [],
      "authorship_tag": "ABX9TyNSGoV7VJUR8bJXDVX0+/Ci",
      "include_colab_link": true
    },
    "kernelspec": {
      "name": "python3",
      "display_name": "Python 3"
    },
    "language_info": {
      "name": "python"
    }
  },
  "cells": [
    {
      "cell_type": "markdown",
      "metadata": {
        "id": "view-in-github",
        "colab_type": "text"
      },
      "source": [
        "<a href=\"https://colab.research.google.com/github/thfruchart/1nsi/blob/main/S9/Chrono_Tri_Selection.ipynb\" target=\"_parent\"><img src=\"https://colab.research.google.com/assets/colab-badge.svg\" alt=\"Open In Colab\"/></a>"
      ]
    },
    {
      "cell_type": "markdown",
      "source": [
        "[ouvrir avec Basthon](https://notebook.basthon.fr/?from=https://raw.githubusercontent.com/thfruchart/1nsi/main/S9/Chrono_Tri_Selection.ipynb)"
      ],
      "metadata": {
        "id": "kQh8aQ9HBnW9"
      }
    },
    {
      "cell_type": "markdown",
      "source": [
        "## 1. Tri par sélection\n",
        "\n",
        "**Compléter le code de la fonction suivante** pour qu'elle réalise le tri par sélection étudié en activité"
      ],
      "metadata": {
        "id": "LL-P9tsO-YrV"
      }
    },
    {
      "cell_type": "code",
      "source": [
        "def tri_par_selection(tab):\n",
        "    for i in range ( ... ) :\n",
        "        i_min = ... \n",
        "        for j in range( ... , ... ) : \n",
        "            if tab[j] < tab[i_min] : \n",
        "                i_min = ... \n",
        "        tab[...], tab[i_min] = tab[i_min], tab[...]\n",
        "    return tab\n",
        "            "
      ],
      "metadata": {
        "id": "JY72PkH5-gHr"
      },
      "execution_count": null,
      "outputs": []
    },
    {
      "cell_type": "code",
      "source": [
        "# test 1\n",
        "tri_par_selection([10,50,70,20,0,80,30])"
      ],
      "metadata": {
        "id": "SSJQxS3p_W2P"
      },
      "execution_count": null,
      "outputs": []
    },
    {
      "cell_type": "code",
      "source": [
        "# test 2\n",
        "tri_par_selection([50,50,70,50,0,80,0])"
      ],
      "metadata": {
        "id": "7SnmPJsnAIPl"
      },
      "execution_count": null,
      "outputs": []
    },
    {
      "cell_type": "markdown",
      "source": [
        "## 2. Tableau aléatoire de longueur n"
      ],
      "metadata": {
        "id": "Zw1p3OGs9PPU"
      }
    },
    {
      "cell_type": "markdown",
      "source": [
        "On rappelle que la fonction `random`du module `random` renvoie un nombre aléatoire de type `float` compris entre 0 et 1."
      ],
      "metadata": {
        "id": "-DHi9Gar9W0-"
      }
    },
    {
      "cell_type": "code",
      "execution_count": null,
      "metadata": {
        "id": "bOO9wpGj9NGm"
      },
      "outputs": [],
      "source": [
        "from random import random\n",
        "\n",
        "for _ in range(10):\n",
        "    print( random() )"
      ]
    },
    {
      "cell_type": "markdown",
      "source": [
        "**Compléter le code de la fonction suivante** pour qu'elle renvoie un tableau de longueur n contenant des valeurs aléatoires de type `float`.  "
      ],
      "metadata": {
        "id": "QnFumiVw95yL"
      }
    },
    {
      "cell_type": "code",
      "source": [
        "from random import random\n",
        "\n",
        "def tableau_aleatoire(n):\n",
        "    return [ ... for i in range(...) ]"
      ],
      "metadata": {
        "id": "--T3TG09960m"
      },
      "execution_count": null,
      "outputs": []
    },
    {
      "cell_type": "code",
      "source": [
        "# test 1 \n",
        "tableau_aleatoire(5)"
      ],
      "metadata": {
        "id": "gdmhDqH4-Fkb"
      },
      "execution_count": null,
      "outputs": []
    },
    {
      "cell_type": "code",
      "source": [
        "# test 2\n",
        "tableau_aleatoire(12)"
      ],
      "metadata": {
        "id": "hN5mVYn3-K8F"
      },
      "execution_count": null,
      "outputs": []
    },
    {
      "cell_type": "markdown",
      "source": [
        "# 3. Mesurer le temps d'exécution"
      ],
      "metadata": {
        "id": "UDFV743xAVwV"
      }
    },
    {
      "cell_type": "markdown",
      "source": [
        "#### module `time`"
      ],
      "metadata": {
        "id": "LSdiWVySBGw3"
      }
    },
    {
      "cell_type": "markdown",
      "source": [
        "Commencer par exécuter les trois cellules suivantes.  \n",
        "Expliquer les résultats obtenus."
      ],
      "metadata": {
        "id": "elHZ_-_1AaGS"
      }
    },
    {
      "cell_type": "code",
      "source": [
        "from time import time\n",
        "t1 = time()\n",
        "print(t1)"
      ],
      "metadata": {
        "id": "p33dFgOsAnVx"
      },
      "execution_count": null,
      "outputs": []
    },
    {
      "cell_type": "code",
      "source": [
        "t2 = time()\n",
        "print(t2)"
      ],
      "metadata": {
        "id": "8rvFO-j3At1O"
      },
      "execution_count": null,
      "outputs": []
    },
    {
      "cell_type": "code",
      "source": [
        "delai = t2 - t1\n",
        "print(delai)"
      ],
      "metadata": {
        "id": "qQ6A8KohA2D4"
      },
      "execution_count": null,
      "outputs": []
    },
    {
      "cell_type": "code",
      "source": [
        "help(time)"
      ],
      "metadata": {
        "id": "en_p0RMDA7V7"
      },
      "execution_count": null,
      "outputs": []
    },
    {
      "cell_type": "markdown",
      "source": [
        "#### chrono tri_par_selection\n",
        "utiliser les fonctions déjà programmées dans ce notebook pour compléter la fonction suivante, qui mesure le temps d'exécution du tri par sélection sur un tableau aléatoire de taille n."
      ],
      "metadata": {
        "id": "YAO2ewHDBK37"
      }
    },
    {
      "cell_type": "code",
      "source": [
        "def chrono_tri_sur_taille(n):\n",
        "    ''' renvoie le temps (en milliseconde) d'exécution du tri par selection\n",
        "    sur un tableau aléatoire de 'n' nombres flottants'''\n",
        "    tab = ... \n",
        "    start = perf_counter()\n",
        "    ... \n",
        "    stop = perf_counter()\n",
        "    delai = ... \n",
        "    return ... "
      ],
      "metadata": {
        "id": "0YBLnEwsBXnL"
      },
      "execution_count": null,
      "outputs": []
    }
  ]
}