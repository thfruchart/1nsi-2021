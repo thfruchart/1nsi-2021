{
  "nbformat": 4,
  "nbformat_minor": 0,
  "metadata": {
    "colab": {
      "name": "S9_EXO1_Parcours_Tableau.ipynb",
      "provenance": [],
      "collapsed_sections": [
        "6zPC-ec5m5wh",
        "qNsWpJvfoS2K",
        "cH5i3NmUrehW",
        "-kJF1CassqFo",
        "XlsuzfL5tSfG",
        "1brlS_zNozDp",
        "2xYIggRgqzgo"
      ],
      "authorship_tag": "ABX9TyNwOqBjulE2kx3gGPC4Z/lC",
      "include_colab_link": true
    },
    "kernelspec": {
      "name": "python3",
      "display_name": "Python 3"
    },
    "language_info": {
      "name": "python"
    }
  },
  "cells": [
    {
      "cell_type": "markdown",
      "metadata": {
        "id": "view-in-github",
        "colab_type": "text"
      },
      "source": [
        "<a href=\"https://colab.research.google.com/github/thfruchart/1nsi/blob/main/S9/EXO1_Parcours_Tableau_CORRECTION.ipynb\" target=\"_parent\"><img src=\"https://colab.research.google.com/assets/colab-badge.svg\" alt=\"Open In Colab\"/></a>"
      ]
    },
    {
      "cell_type": "markdown",
      "source": [
        "### la commande `assert`\n",
        "\n",
        "Observer l'exécution des deux programmes suivants, selon les valeurs saisies"
      ],
      "metadata": {
        "id": "t4AcBd4xKoIy"
      }
    },
    {
      "cell_type": "code",
      "source": [
        "# programme 1\n",
        "print (\"début\")\n",
        "\n",
        "n = int(input('Entrer un entier n supérieur à 10 : '))\n",
        "assert n >= 10\n",
        "\n",
        "print(\"programme terminé !\")"
      ],
      "metadata": {
        "id": "lRBLqwp8K1nT",
        "outputId": "60ff2c45-a7a2-4803-a72c-c2341d9697e2",
        "colab": {
          "base_uri": "https://localhost:8080/",
          "height": 270
        }
      },
      "execution_count": 2,
      "outputs": [
        {
          "name": "stdout",
          "output_type": "stream",
          "text": [
            "début\n",
            "Entrer un entier n supérieur à 10 : 7\n"
          ]
        },
        {
          "output_type": "error",
          "ename": "AssertionError",
          "evalue": "ignored",
          "traceback": [
            "\u001b[0;31m---------------------------------------------------------------------------\u001b[0m",
            "\u001b[0;31mAssertionError\u001b[0m                            Traceback (most recent call last)",
            "\u001b[0;32m<ipython-input-2-f4d287469e0b>\u001b[0m in \u001b[0;36m<module>\u001b[0;34m()\u001b[0m\n\u001b[1;32m      3\u001b[0m \u001b[0;34m\u001b[0m\u001b[0m\n\u001b[1;32m      4\u001b[0m \u001b[0mn\u001b[0m \u001b[0;34m=\u001b[0m \u001b[0mint\u001b[0m\u001b[0;34m(\u001b[0m\u001b[0minput\u001b[0m\u001b[0;34m(\u001b[0m\u001b[0;34m'Entrer un entier n supérieur à 10 : '\u001b[0m\u001b[0;34m)\u001b[0m\u001b[0;34m)\u001b[0m\u001b[0;34m\u001b[0m\u001b[0;34m\u001b[0m\u001b[0m\n\u001b[0;32m----> 5\u001b[0;31m \u001b[0;32massert\u001b[0m \u001b[0mn\u001b[0m \u001b[0;34m>=\u001b[0m \u001b[0;36m10\u001b[0m\u001b[0;34m\u001b[0m\u001b[0;34m\u001b[0m\u001b[0m\n\u001b[0m\u001b[1;32m      6\u001b[0m \u001b[0;34m\u001b[0m\u001b[0m\n\u001b[1;32m      7\u001b[0m \u001b[0mprint\u001b[0m\u001b[0;34m(\u001b[0m\u001b[0;34m\"programme terminé !\"\u001b[0m\u001b[0;34m)\u001b[0m\u001b[0;34m\u001b[0m\u001b[0;34m\u001b[0m\u001b[0m\n",
            "\u001b[0;31mAssertionError\u001b[0m: "
          ]
        }
      ]
    },
    {
      "cell_type": "code",
      "source": [
        "# programme 2\n",
        "print (\"début\")\n",
        "\n",
        "n = int(input('Entrer un entier n supérieur à 10 : '))\n",
        "assert n >= 10, \"on avait dit SUPÉRIEUR à 10 !\"\n",
        "\n",
        "print(\"programme terminé !\")"
      ],
      "metadata": {
        "id": "oJbK2OAlLsK-",
        "outputId": "cc477db3-631f-4e20-a6f1-f9486a7d96e7",
        "colab": {
          "base_uri": "https://localhost:8080/",
          "height": 270
        }
      },
      "execution_count": 4,
      "outputs": [
        {
          "name": "stdout",
          "output_type": "stream",
          "text": [
            "début\n",
            "Entrer un entier n supérieur à 10 : 8\n"
          ]
        },
        {
          "output_type": "error",
          "ename": "AssertionError",
          "evalue": "ignored",
          "traceback": [
            "\u001b[0;31m---------------------------------------------------------------------------\u001b[0m",
            "\u001b[0;31mAssertionError\u001b[0m                            Traceback (most recent call last)",
            "\u001b[0;32m<ipython-input-4-1faed0b17702>\u001b[0m in \u001b[0;36m<module>\u001b[0;34m()\u001b[0m\n\u001b[1;32m      3\u001b[0m \u001b[0;34m\u001b[0m\u001b[0m\n\u001b[1;32m      4\u001b[0m \u001b[0mn\u001b[0m \u001b[0;34m=\u001b[0m \u001b[0mint\u001b[0m\u001b[0;34m(\u001b[0m\u001b[0minput\u001b[0m\u001b[0;34m(\u001b[0m\u001b[0;34m'Entrer un entier n supérieur à 10 : '\u001b[0m\u001b[0;34m)\u001b[0m\u001b[0;34m)\u001b[0m\u001b[0;34m\u001b[0m\u001b[0;34m\u001b[0m\u001b[0m\n\u001b[0;32m----> 5\u001b[0;31m \u001b[0;32massert\u001b[0m \u001b[0mn\u001b[0m \u001b[0;34m>=\u001b[0m \u001b[0;36m10\u001b[0m\u001b[0;34m,\u001b[0m \u001b[0;34m\"on avait dit SUPÉRIEUR à 10 !\"\u001b[0m\u001b[0;34m\u001b[0m\u001b[0;34m\u001b[0m\u001b[0m\n\u001b[0m\u001b[1;32m      6\u001b[0m \u001b[0;34m\u001b[0m\u001b[0m\n\u001b[1;32m      7\u001b[0m \u001b[0mprint\u001b[0m\u001b[0;34m(\u001b[0m\u001b[0;34m\"programme terminé !\"\u001b[0m\u001b[0;34m)\u001b[0m\u001b[0;34m\u001b[0m\u001b[0;34m\u001b[0m\u001b[0m\n",
            "\u001b[0;31mAssertionError\u001b[0m: on avait dit SUPÉRIEUR à 10 !"
          ]
        }
      ]
    },
    {
      "cell_type": "markdown",
      "source": [
        "Utilisation d'assertions pour écrire un **jeu de tests**"
      ],
      "metadata": {
        "id": "xsP6CjW1MAu4"
      }
    },
    {
      "cell_type": "code",
      "source": [
        "def somme(x, y):\n",
        "    ''' la fonction renvoie la somme de x et y '''\n",
        "    return x+y\n",
        "\n",
        "assert somme(5,2) == 7\n",
        "assert somme(0,8) == 8\n",
        "assert somme('5', '2') == '52'\n",
        "print('test OK')"
      ],
      "metadata": {
        "id": "vSBG6DTbKYmw",
        "outputId": "6aea4404-65f5-41fb-e72e-b3456a4f04c3",
        "colab": {
          "base_uri": "https://localhost:8080/"
        }
      },
      "execution_count": 7,
      "outputs": [
        {
          "output_type": "stream",
          "name": "stdout",
          "text": [
            "test OK\n"
          ]
        }
      ]
    },
    {
      "cell_type": "markdown",
      "metadata": {
        "id": "Gx6Itx8FlmjR"
      },
      "source": [
        "# Parcours d'un tableau"
      ]
    },
    {
      "cell_type": "markdown",
      "metadata": {
        "id": "3Pq8A8lWlo9y"
      },
      "source": [
        "## Que signifie \"parcourir un tableau\" ?"
      ]
    },
    {
      "cell_type": "markdown",
      "metadata": {
        "id": "LgZRdqOolt91"
      },
      "source": [
        "On utilise l'expression \"parcourir un tableau\" lorsqu'**une variable prend successivement toutes les valeurs contenues dans un tableau**. \n",
        "\n",
        "Ceci peut se réaliser de plusieurs manières.\n",
        "\n",
        "**1**. En itérant sur les **éléments** d'un tableau\n",
        "\n",
        "    for v in t : \n",
        "\n",
        "**2**. En itérant sur les **indices** d'un tableau\n",
        "\n",
        "    for i in range(len(t)):\n",
        "        v = t[i]\n",
        "\n",
        "Dans les deux cas ci-dessus, la varible `v` prend successivement toutes les valeurs du tableau `t`. \n",
        "\n",
        "On a donc un **parcours** du tableau."
      ]
    },
    {
      "cell_type": "markdown",
      "metadata": {
        "id": "6zPC-ec5m5wh"
      },
      "source": [
        "# Exercice 1.A : indice_du_max"
      ]
    },
    {
      "cell_type": "markdown",
      "metadata": {
        "id": "RF-k9btQm8Gy"
      },
      "source": [
        "1. Compléter le code de la fonction `indice_du_max(t)` pour qu'elle corresponde aux conditions indiquées dans la chaîne de documentation\n",
        "2. Tester votre travail avec les assertions fournies."
      ]
    },
    {
      "cell_type": "code",
      "metadata": {
        "id": "bdGJUcRFlifv"
      },
      "source": [
        "def indice_du_max(t):\n",
        "    \"\"\"précondition : t est un tableau non vide, contenant des valeurs numériques\n",
        "    postcondition : la fonction renvoie l'indice de la plus grande valeur de t\n",
        "    si cette valeur apparaît plusieurs fois dans t, \n",
        "    alors l'indice renvoyé est le plus petit possible\"\"\"\n",
        "    max_temp = t[0] \n",
        "    indice_temp  = 0\n",
        "    for i in range(len(t)):\n",
        "        v = t[i]\n",
        "        if max_temp < v : \n",
        "            max_temp = v \n",
        "            indice_temp = i \n",
        "    return indice_temp "
      ],
      "execution_count": 18,
      "outputs": []
    },
    {
      "cell_type": "code",
      "source": [
        "def indice_du_max(t):\n",
        "    \"\"\"précondition : t est un tableau non vide, contenant des valeurs numériques\n",
        "    postcondition : la fonction renvoie l'indice de la plus grande valeur de t\n",
        "    si cette valeur apparaît plusieurs fois dans t, \n",
        "    alors l'indice renvoyé est le plus petit possible\"\"\"\n",
        "    indice = 0\n",
        "    for i in range(len(t)): \n",
        "        if t[indice] < t[i] :  \n",
        "            indice = i \n",
        "    return indice "
      ],
      "metadata": {
        "id": "EXen6SEnlhJr"
      },
      "execution_count": 21,
      "outputs": []
    },
    {
      "cell_type": "code",
      "source": [
        "# un test pour t = [10,50,100,30,70,80]\n",
        "\n",
        "indice_du_max([10,50,100,30,70,80])"
      ],
      "metadata": {
        "id": "c3klVn_1jeet",
        "outputId": "875831d6-4be4-4c47-d22b-f56c0c92f826",
        "colab": {
          "base_uri": "https://localhost:8080/"
        }
      },
      "execution_count": 22,
      "outputs": [
        {
          "output_type": "execute_result",
          "data": {
            "text/plain": [
              "2"
            ]
          },
          "metadata": {},
          "execution_count": 22
        }
      ]
    },
    {
      "cell_type": "code",
      "metadata": {
        "id": "g6WVu47OnrQU",
        "outputId": "84c4dbd2-1c24-421f-8dcb-5e7b9e14445d",
        "colab": {
          "base_uri": "https://localhost:8080/"
        }
      },
      "source": [
        "assert indice_du_max([10,50,100,30,70,80]) == 2\n",
        "assert indice_du_max([10,50,100,30,70,80,100]) == 2\n",
        "assert indice_du_max([10,50,100,30,70,80,3000]) == 6\n",
        "print('tests ok')"
      ],
      "execution_count": 20,
      "outputs": [
        {
          "output_type": "stream",
          "name": "stdout",
          "text": [
            "tests ok\n"
          ]
        }
      ]
    },
    {
      "cell_type": "markdown",
      "metadata": {
        "id": "qNsWpJvfoS2K"
      },
      "source": [
        "# Exercice 1.B : indice_du_dernier_max"
      ]
    },
    {
      "cell_type": "markdown",
      "metadata": {
        "id": "KwiXxoNboS2Z"
      },
      "source": [
        "1. Compléter le code de la fonction `indice_du_dernier_max(t)` pour qu'elle corresponde aux conditions indiquées dans la chaîne de documentation\n",
        "2. Tester votre travail avec les assertions fournies."
      ]
    },
    {
      "cell_type": "code",
      "metadata": {
        "id": "tG1c91AQoS2a"
      },
      "source": [
        "def indice_du_dernier_max(t):\n",
        "    \"\"\"précondition : t est un tableau non vide, contenant des valeurs numériques\n",
        "    postcondition : la fonction renvoie l'indice de la plus grande valeur de t\n",
        "    si cette valeur apparaît plusieurs fois dans t, \n",
        "    alors l'indice renvoyé est le plus GRAND possible\"\"\"\n",
        "    max_temp = t[0] \n",
        "    indice_temp  = 0\n",
        "    for i in range(len(t)):\n",
        "        v = t[i]\n",
        "        if max_temp <= v : # SEULE ligne à modifier avec \"inférieur OU EGAL\"\n",
        "            max_temp = v \n",
        "            indice_temp = i \n",
        "    return indice_temp "
      ],
      "execution_count": null,
      "outputs": []
    },
    {
      "cell_type": "code",
      "metadata": {
        "id": "rFDva3mMoS2b"
      },
      "source": [
        "assert indice_du_dernier_max([10,50,100,30,70,80]) == 2\n",
        "assert indice_du_dernier_max([10,50,100,30,70,80,100]) == 6\n",
        "assert indice_du_dernier_max([10,50,100,30,70,80,3000]) == 6\n",
        "print('tests ok')"
      ],
      "execution_count": null,
      "outputs": []
    }
  ]
}