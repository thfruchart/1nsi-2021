{
  "nbformat": 4,
  "nbformat_minor": 0,
  "metadata": {
    "colab": {
      "name": "S9_EXO2_Parcours_Tableau.ipynb",
      "provenance": [],
      "collapsed_sections": [
        "6zPC-ec5m5wh",
        "qNsWpJvfoS2K",
        "cH5i3NmUrehW",
        "-kJF1CassqFo",
        "XlsuzfL5tSfG",
        "1brlS_zNozDp",
        "2xYIggRgqzgo"
      ],
      "authorship_tag": "ABX9TyPKDLdqDO5gPTpXwqtHJGKT",
      "include_colab_link": true
    },
    "kernelspec": {
      "name": "python3",
      "display_name": "Python 3"
    },
    "language_info": {
      "name": "python"
    }
  },
  "cells": [
    {
      "cell_type": "markdown",
      "metadata": {
        "id": "view-in-github",
        "colab_type": "text"
      },
      "source": [
        "<a href=\"https://colab.research.google.com/github/thfruchart/1nsi/blob/main/S9/EXO2_Parcours_Tableau_CORR2A.ipynb\" target=\"_parent\"><img src=\"https://colab.research.google.com/assets/colab-badge.svg\" alt=\"Open In Colab\"/></a>"
      ]
    },
    {
      "cell_type": "markdown",
      "metadata": {
        "id": "cH5i3NmUrehW"
      },
      "source": [
        "# Exercice 2.A : nb_occurrences"
      ]
    },
    {
      "cell_type": "markdown",
      "metadata": {
        "id": "6EZrLbX_rhmL"
      },
      "source": [
        "1. Compléter le code de la fonction `nb_occurrences(v,t)` pour qu'elle corresponde aux conditions indiquées dans la chaîne de documentation\n",
        "2. Tester votre travail avec les assertions fournies."
      ]
    },
    {
      "cell_type": "code",
      "metadata": {
        "id": "yn-2-XfBroSk"
      },
      "source": [
        "def nb_occurrences(v,t):\n",
        "    \"\"\"précondition : t est un tableau\n",
        "    postcondition : la fonction renvoie le nombre de cellules du tableau qui \n",
        "    contiennent la valeur v\n",
        "    \"\"\"\n",
        "    cpt = 0\n",
        "    for val in t : \n",
        "        if val == v : \n",
        "            cpt += 1\n",
        "\n",
        "    return cpt"
      ],
      "execution_count": 1,
      "outputs": []
    },
    {
      "cell_type": "code",
      "metadata": {
        "id": "TQdS3iCbr4ry",
        "colab": {
          "base_uri": "https://localhost:8080/"
        },
        "outputId": "5fede39a-7ef5-40c8-93cd-d8ff2f89d0f9"
      },
      "source": [
        "assert nb_occurrences(10, [15,10,13,10,8,15,10]) == 3\n",
        "assert nb_occurrences(15, [15,10,13,10,8,15,10]) == 2\n",
        "assert nb_occurrences(8, [15,10,13,10,8,15,10]) == 1\n",
        "assert nb_occurrences(7, [15,10,13,10,8,15,10]) == 0\n",
        "print(\"test OK\")"
      ],
      "execution_count": 3,
      "outputs": [
        {
          "output_type": "stream",
          "name": "stdout",
          "text": [
            "test OK\n"
          ]
        }
      ]
    },
    {
      "cell_type": "markdown",
      "metadata": {
        "id": "-kJF1CassqFo"
      },
      "source": [
        "# Exercice 2.B : premiere_occurrence"
      ]
    },
    {
      "cell_type": "markdown",
      "metadata": {
        "id": "Y4kMBL64sqF4"
      },
      "source": [
        "1. Compléter le code de la fonction `premiere_occurrence(v,t)` pour qu'elle corresponde aux conditions indiquées dans la chaîne de documentation\n",
        "2. Tester votre travail avec les assertions fournies."
      ]
    },
    {
      "cell_type": "code",
      "metadata": {
        "id": "v34jAJcVsqF5"
      },
      "source": [
        "def premiere_occurrence(v,t):\n",
        "    \"\"\"précondition : t est un tableau\n",
        "    postcondition : la fonction renvoie l'indice de la première cellule \n",
        "    du tableau qui contient la valeur v, lorsque cet indice existe.\n",
        "    sinon, la fonction renvoie None\n",
        "    \"\"\"\n",
        "\n",
        "    return "
      ],
      "execution_count": null,
      "outputs": []
    },
    {
      "cell_type": "code",
      "metadata": {
        "id": "j5PrxsVcsqF6"
      },
      "source": [
        "assert premiere_occurrence(10, [15,10,13,10,8,15,10]) == 1\n",
        "assert premiere_occurrence(8, [15,10,13,10,8,15,10]) == 4\n",
        "assert premiere_occurrence(7, [15,10,13,10,8,15,10]) == None \n",
        "print('tests ok')"
      ],
      "execution_count": null,
      "outputs": []
    },
    {
      "cell_type": "markdown",
      "metadata": {
        "id": "XlsuzfL5tSfG"
      },
      "source": [
        "# Exercice 2.C : derniere_occurrence"
      ]
    },
    {
      "cell_type": "markdown",
      "metadata": {
        "id": "U5zUVxSRtSfK"
      },
      "source": [
        "1. Compléter le code de la fonction `derniere_occurrence(v,t)` pour qu'elle corresponde aux conditions indiquées dans la chaîne de documentation\n",
        "2. Tester votre travail avec les assertions fournies."
      ]
    },
    {
      "cell_type": "code",
      "metadata": {
        "id": "x90NJ2fvtSfL"
      },
      "source": [
        "def derniere_occurrence(v,t):\n",
        "    \"\"\"précondition : t est un tableau\n",
        "    postcondition : la fonction renvoie l'indice de la dernière cellule \n",
        "    du tableau qui contient la valeur v, lorsque cet indice existe.\n",
        "    sinon, la fonction renvoie None\n",
        "    \"\"\"\n",
        "\n",
        "    return "
      ],
      "execution_count": null,
      "outputs": []
    },
    {
      "cell_type": "code",
      "metadata": {
        "id": "3-a0DAzhtSfN"
      },
      "source": [
        "assert derniere_occurrence(10, [15,10,13,10,8,15,10]) == 6\n",
        "assert derniere_occurrence(8, [15,10,13,10,8,15,10]) == 4\n",
        "assert derniere_occurrence(7, [15,10,13,10,8,15,10]) == None \n",
        "print('tests ok')"
      ],
      "execution_count": null,
      "outputs": []
    }
  ]
}