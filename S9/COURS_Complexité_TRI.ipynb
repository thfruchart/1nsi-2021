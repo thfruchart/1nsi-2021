{
  "nbformat": 4,
  "nbformat_minor": 0,
  "metadata": {
    "colab": {
      "name": "S9_COURS_Complexité_TRI.ipynb",
      "provenance": [],
      "authorship_tag": "ABX9TyPhl3192DIe4rA7q3m9m4vy",
      "include_colab_link": true
    },
    "kernelspec": {
      "name": "python3",
      "display_name": "Python 3"
    },
    "language_info": {
      "name": "python"
    }
  },
  "cells": [
    {
      "cell_type": "markdown",
      "metadata": {
        "id": "view-in-github",
        "colab_type": "text"
      },
      "source": [
        "<a href=\"https://colab.research.google.com/github/thfruchart/1nsi/blob/main/S9/COURS_Complexit%C3%A9_TRI.ipynb\" target=\"_parent\"><img src=\"https://colab.research.google.com/assets/colab-badge.svg\" alt=\"Open In Colab\"/></a>"
      ]
    },
    {
      "cell_type": "markdown",
      "source": [
        "# Mesure du temps d'exécution du tri par sélection"
      ],
      "metadata": {
        "id": "ol18MlVuFpmx"
      }
    },
    {
      "cell_type": "code",
      "execution_count": 1,
      "metadata": {
        "id": "1iamo4FtFG1V"
      },
      "outputs": [],
      "source": [
        "def tri_par_selection(t):\n",
        "    # t[0:i] est trié et ses valeurs sont inférieurs ou égales à celles de t[i:]\n",
        "    for i in range(len(t)-1): \n",
        "        # on cherche l'indice du minimum de t[i:]\n",
        "        i_min = i \n",
        "        for k in range(i+1, len(t)): \n",
        "            if t[i_min] > t[k] :\n",
        "                i_min = k\n",
        "        # on range ce minimum à l'indice i (avant de poursuivre à l'indice i+1)\n",
        "        t[i], t[i_min] = t[i_min], t[i] \n",
        "    return t"
      ]
    },
    {
      "cell_type": "code",
      "source": [
        "import numpy as np\n",
        "import matplotlib.pyplot as plt\n",
        "from time import perf_counter\n",
        "from random import random\n",
        "\n",
        "def chrono_tri_sur_taille(n):\n",
        "    ''' renvoie le temps (en milliseconde) d'exécution du tri par selection\n",
        "    sur un tableau aléatoire de 'n' nombres flottants'''\n",
        "    t = [random() for i in range(n)]\n",
        "    start = perf_counter()\n",
        "    tri_par_selection(t)\n",
        "    stop = perf_counter()\n",
        "    return 1000*(stop - start)\n",
        "\n",
        "# Tri sur des tableaux de taille 100, 200, ... 2000\n",
        "abs = []\n",
        "ord = []\n",
        "for n in range(100,2001,100):\n",
        "    abs.append(n)\n",
        "    ord.append(chrono_tri_sur_taille(n))\n",
        "# graphique\n",
        "plt.plot(np.array(abs), np.array(ord),  \"b:o\",label=\"tri par sélection\")\n",
        "\n",
        "# fonction carrée (k.x^2)\n",
        "abs = []\n",
        "ord = []\n",
        "k = 175/(4e6)\n",
        "for n in range(100,2001,100):\n",
        "    abs.append(n)\n",
        "    ord.append(k* n**2)\n",
        "plt.plot(np.array(abs), np.array(ord),label=\"y=k.x^2\")\n",
        "plt.legend()\n",
        "plt.show() # affiche la figure a l'ecran"
      ],
      "metadata": {
        "colab": {
          "base_uri": "https://localhost:8080/",
          "height": 265
        },
        "id": "WOaCJhUiFRvl",
        "outputId": "b59e2fe3-ef9c-43af-b7e5-3182ed2686d2"
      },
      "execution_count": 4,
      "outputs": [
        {
          "output_type": "display_data",
          "data": {
            "image/png": "[encoded data removed]",
            "text/plain": [
              "<Figure size 432x288 with 1 Axes>"
            ]
          },
          "metadata": {
            "needs_background": "light"
          }
        }
      ]
    },
    {
      "cell_type": "markdown",
      "source": [
        "## Propriété :\n",
        "* Le temps d'exécution du tri par sélection pour un tableau aléatoire de taille $n$ s'exprime par : $T(n) = O(n^2)$\n",
        "* on dit que la complexité (temporelle) du tri par sélection est **quadratique**"
      ],
      "metadata": {
        "id": "iAEI4-fhFvy2"
      }
    },
    {
      "cell_type": "markdown",
      "source": [
        "### Question A\n",
        "* on suppose que le tri d'un tableau aléatoire de taille N nécessite 200ms\n",
        "* estimer la durée nécessaire au tri d'un tableau aléatoire de taille 3N."
      ],
      "metadata": {
        "id": "yeNynr1kGKbX"
      }
    },
    {
      "cell_type": "markdown",
      "source": [
        "### Question B\n",
        "* on suppose que le tri d'un tableau aléatoire de taille N nécessite 200ms\n",
        "* estimer le temps d'exécution du tri par sélection pour un tableau de taille N **déjà trié** !\n",
        "\n",
        "On pourra modifier le code de la fonction ci-dessous."
      ],
      "metadata": {
        "id": "yCo712sgG_eZ"
      }
    },
    {
      "cell_type": "code",
      "source": [
        "from time import perf_counter\n",
        "from random import random\n",
        "\n",
        "def chrono_tri_sur_taille(n):\n",
        "    ''' renvoie le temps (en milliseconde) d'exécution du tri par selection\n",
        "    sur un tableau aléatoire de 'n' nombres flottants'''\n",
        "    t = [random() for i in range(n)]\n",
        "    start = perf_counter()\n",
        "    tri_par_selection(t)\n",
        "    stop = perf_counter()\n",
        "    return 1000*(stop - start)"
      ],
      "metadata": {
        "id": "4qnkYnRqHg8t"
      },
      "execution_count": null,
      "outputs": []
    }
  ]
}