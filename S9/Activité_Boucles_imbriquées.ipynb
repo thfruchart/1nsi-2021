{
  "nbformat": 4,
  "nbformat_minor": 0,
  "metadata": {
    "colab": {
      "name": "S9_Activité_Boucles_imbriquées.ipynb",
      "provenance": [],
      "authorship_tag": "ABX9TyPZyQ6rIDaNrhefkxp1jPJD",
      "include_colab_link": true
    },
    "kernelspec": {
      "name": "python3",
      "display_name": "Python 3"
    },
    "language_info": {
      "name": "python"
    }
  },
  "cells": [
    {
      "cell_type": "markdown",
      "metadata": {
        "id": "view-in-github",
        "colab_type": "text"
      },
      "source": [
        "<a href=\"https://colab.research.google.com/github/thfruchart/1nsi/blob/main/S9/Activit%C3%A9_Boucles_imbriqu%C3%A9es.ipynb\" target=\"_parent\"><img src=\"https://colab.research.google.com/assets/colab-badge.svg\" alt=\"Open In Colab\"/></a>"
      ]
    },
    {
      "cell_type": "markdown",
      "source": [
        "Dans chacun des programmes suivants, déterminer en fonction de n quelle sera la valeur affichée."
      ],
      "metadata": {
        "id": "etlblgzvL8Kg"
      }
    },
    {
      "cell_type": "code",
      "execution_count": null,
      "metadata": {
        "id": "WC836Y3kL2vt"
      },
      "outputs": [],
      "source": [
        "# programme 1\n",
        "n = int(input('Entrer un entier positif n : '))\n",
        "\n",
        "cpt = 0\n",
        "for i in range(n):\n",
        "    cpt += 10\n",
        "\n",
        "print(cpt)"
      ]
    },
    {
      "cell_type": "code",
      "source": [
        "# programme 2\n",
        "n = int(input('Entrer un entier positif n : '))\n",
        "\n",
        "cpt = 0\n",
        "for i in range(n):\n",
        "    cpt += 10\n",
        "for j in range(n):\n",
        "    cpt += 100\n",
        "print(cpt)"
      ],
      "metadata": {
        "id": "tv9Mj3V4MQ3W"
      },
      "execution_count": null,
      "outputs": []
    },
    {
      "cell_type": "code",
      "source": [
        "# programme 3\n",
        "n = int(input('Entrer un entier positif n : '))\n",
        "\n",
        "cpt = 0\n",
        "for i in range(n):\n",
        "    for j in range(n):\n",
        "        cpt += 1\n",
        "print(cpt)"
      ],
      "metadata": {
        "id": "-AntQypxMdUp"
      },
      "execution_count": null,
      "outputs": []
    },
    {
      "cell_type": "code",
      "source": [
        "# programme 4\n",
        "n = int(input('Entrer un entier positif n : '))\n",
        "\n",
        "cpt = 0\n",
        "for i in range(n):\n",
        "    cpt += 2\n",
        "    for j in range(n):\n",
        "        cpt += 1\n",
        "print(cpt)"
      ],
      "metadata": {
        "id": "3phcQ1tpMpf9"
      },
      "execution_count": null,
      "outputs": []
    },
    {
      "cell_type": "code",
      "source": [
        "# programme 5\n",
        "n = int(input('Entrer un entier positif n : '))\n",
        "\n",
        "cpt = 0\n",
        "for i in range(n):\n",
        "    for j in range(i): # i à la place de n\n",
        "        cpt += 1\n",
        "print(cpt)"
      ],
      "metadata": {
        "id": "8HacM6FlMtc7"
      },
      "execution_count": null,
      "outputs": []
    },
    {
      "cell_type": "code",
      "source": [
        "# programme 5 bis\n",
        "n = int(input('Entrer un entier positif n : '))\n",
        "\n",
        "cpt = 0\n",
        "for i in range(n):\n",
        "    for j in range(i): # i à la place de n\n",
        "        cpt += 1\n",
        "        print('*', end=' ')\n",
        "    print('.')\n",
        "print(cpt)"
      ],
      "metadata": {
        "id": "e-JfohYFM32E"
      },
      "execution_count": null,
      "outputs": []
    },
    {
      "cell_type": "code",
      "source": [
        "# programme 6 (DIFFICILE)\n",
        "n = int(input('Entrer un entier positif n : '))\n",
        "\n",
        "cpt = 0\n",
        "for i in range(n):\n",
        "    cpt += 3\n",
        "    for j in range(i): # i à la place de n\n",
        "        cpt += 2\n",
        "        print('*', end=' ')\n",
        "    print('.')\n",
        "print(cpt)"
      ],
      "metadata": {
        "id": "cA_KnLs3NoxN"
      },
      "execution_count": null,
      "outputs": []
    }
  ]
}