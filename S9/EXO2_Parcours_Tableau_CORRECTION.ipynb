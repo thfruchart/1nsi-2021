{
  "nbformat": 4,
  "nbformat_minor": 0,
  "metadata": {
    "colab": {
      "name": "S9_EXO2_Parcours_Tableau.ipynb",
      "provenance": [],
      "collapsed_sections": [
        "6zPC-ec5m5wh",
        "qNsWpJvfoS2K",
        "cH5i3NmUrehW",
        "-kJF1CassqFo",
        "XlsuzfL5tSfG",
        "1brlS_zNozDp",
        "2xYIggRgqzgo"
      ],
      "authorship_tag": "ABX9TyPOk7uj2qMXVJf+HI7PNh4V",
      "include_colab_link": true
    },
    "kernelspec": {
      "name": "python3",
      "display_name": "Python 3"
    },
    "language_info": {
      "name": "python"
    }
  },
  "cells": [
    {
      "cell_type": "markdown",
      "metadata": {
        "id": "view-in-github",
        "colab_type": "text"
      },
      "source": [
        "<a href=\"https://colab.research.google.com/github/thfruchart/1nsi/blob/main/S9/EXO2_Parcours_Tableau_CORRECTION.ipynb\" target=\"_parent\"><img src=\"https://colab.research.google.com/assets/colab-badge.svg\" alt=\"Open In Colab\"/></a>"
      ]
    },
    {
      "cell_type": "markdown",
      "metadata": {
        "id": "cH5i3NmUrehW"
      },
      "source": [
        "# Exercice 2.A : nb_occurrences"
      ]
    },
    {
      "cell_type": "markdown",
      "metadata": {
        "id": "6EZrLbX_rhmL"
      },
      "source": [
        "1. Compléter le code de la fonction `nb_occurrences(v,t)` pour qu'elle corresponde aux conditions indiquées dans la chaîne de documentation\n",
        "2. Tester votre travail avec les assertions fournies."
      ]
    },
    {
      "cell_type": "code",
      "metadata": {
        "id": "yn-2-XfBroSk"
      },
      "source": [
        "def nb_occurrences(v,t):\n",
        "    \"\"\"précondition : t est un tableau\n",
        "    postcondition : la fonction renvoie le nombre de cellules du tableau qui \n",
        "    contiennent la valeur v\n",
        "    \"\"\"\n",
        "    cpt = 0\n",
        "    for val in t : \n",
        "        if val == v : \n",
        "            cpt += 1\n",
        "\n",
        "    return cpt"
      ],
      "execution_count": null,
      "outputs": []
    },
    {
      "cell_type": "code",
      "metadata": {
        "id": "TQdS3iCbr4ry",
        "colab": {
          "base_uri": "https://localhost:8080/"
        },
        "outputId": "5fede39a-7ef5-40c8-93cd-d8ff2f89d0f9"
      },
      "source": [
        "assert nb_occurrences(10, [15,10,13,10,8,15,10]) == 3\n",
        "assert nb_occurrences(15, [15,10,13,10,8,15,10]) == 2\n",
        "assert nb_occurrences(8, [15,10,13,10,8,15,10]) == 1\n",
        "assert nb_occurrences(7, [15,10,13,10,8,15,10]) == 0\n",
        "print(\"test OK\")"
      ],
      "execution_count": null,
      "outputs": [
        {
          "output_type": "stream",
          "name": "stdout",
          "text": [
            "test OK\n"
          ]
        }
      ]
    },
    {
      "cell_type": "markdown",
      "metadata": {
        "id": "-kJF1CassqFo"
      },
      "source": [
        "# Exercice 2.B : premiere_occurrence"
      ]
    },
    {
      "cell_type": "markdown",
      "metadata": {
        "id": "Y4kMBL64sqF4"
      },
      "source": [
        "1. Compléter le code de la fonction `premiere_occurrence(v,t)` pour qu'elle corresponde aux conditions indiquées dans la chaîne de documentation\n",
        "2. Tester votre travail avec les assertions fournies."
      ]
    },
    {
      "cell_type": "code",
      "metadata": {
        "id": "v34jAJcVsqF5"
      },
      "source": [
        "def premiere_occurrence(v,t):\n",
        "    \"\"\"précondition : t est un tableau\n",
        "    postcondition : la fonction renvoie l'indice de la première cellule \n",
        "    du tableau qui contient la valeur v, lorsque cet indice existe.\n",
        "    sinon, la fonction renvoie None\n",
        "    \"\"\"\n",
        "    for i in range(len(t)):\n",
        "        if t[i] == v :\n",
        "            return i # cette instruction met fin à la fonction\n",
        "\n",
        "    # si la boucle for se termine sans que v ait été trouvé dans le tableau\n",
        "    return None"
      ],
      "execution_count": null,
      "outputs": []
    },
    {
      "cell_type": "code",
      "metadata": {
        "id": "j5PrxsVcsqF6"
      },
      "source": [
        "assert premiere_occurrence(10, [15,10,13,10,8,15,10]) == 1\n",
        "assert premiere_occurrence(8, [15,10,13,10,8,15,10]) == 4\n",
        "assert premiere_occurrence(7, [15,10,13,10,8,15,10]) == None \n",
        "print('tests ok')"
      ],
      "execution_count": null,
      "outputs": []
    },
    {
      "cell_type": "markdown",
      "source": [
        "[Observer l'exécution sur PythonTutor](https://pythontutor.com/visualize.html#code=def%20premiere_occurrence%28v,t%29%3A%0A%20%20%20%20%22%22%22pr%C3%A9condition%20%3A%20t%20est%20un%20tableau%0A%20%20%20%20postcondition%20%3A%20la%20fonction%20renvoie%20l'indice%20de%20la%20premi%C3%A8re%20cellule%20%0A%20%20%20%20du%20tableau%20qui%20contient%20la%20valeur%20v,%20lorsque%20cet%20indice%20existe.%0A%20%20%20%20sinon,%20la%20fonction%20renvoie%20None%0A%20%20%20%20%22%22%22%0A%20%20%20%20for%20i%20in%20range%28len%28t%29%29%3A%0A%20%20%20%20%20%20%20%20if%20t%5Bi%5D%20%3D%3D%20v%20%3A%0A%20%20%20%20%20%20%20%20%20%20%20%20return%20i%20%23%20cette%20instruction%20met%20fin%20%C3%A0%20la%20fonction%0A%0A%20%20%20%20%23%20si%20la%20boucle%20for%20se%20termine%20sans%20que%20v%20ait%20%C3%A9t%C3%A9%20trouv%C3%A9%20dans%20le%20tableau%0A%20%20%20%20return%20None%0A%0Aprint%28premiere_occurrence%2810,%5B15,12,10,8,7%5D%29%29%0A%0Aprint%28premiere_occurrence%280,%5B15,12,10,8,7%5D%29%29&cumulative=false&curInstr=0&heapPrimitives=nevernest&mode=display&origin=opt-frontend.js&py=3&rawInputLstJSON=%5B%5D&textReferences=false)"
      ],
      "metadata": {
        "id": "y6MsLUxq6dTg"
      }
    },
    {
      "cell_type": "markdown",
      "metadata": {
        "id": "XlsuzfL5tSfG"
      },
      "source": [
        "# Exercice 2.C : derniere_occurrence"
      ]
    },
    {
      "cell_type": "markdown",
      "metadata": {
        "id": "U5zUVxSRtSfK"
      },
      "source": [
        "1. Compléter le code de la fonction `derniere_occurrence(v,t)` pour qu'elle corresponde aux conditions indiquées dans la chaîne de documentation\n",
        "2. Tester votre travail avec les assertions fournies."
      ]
    },
    {
      "cell_type": "code",
      "metadata": {
        "id": "x90NJ2fvtSfL"
      },
      "source": [
        "def derniere_occurrence(v,t):\n",
        "    \"\"\"précondition : t est un tableau\n",
        "    postcondition : la fonction renvoie l'indice de la dernière cellule \n",
        "    du tableau qui contient la valeur v, lorsque cet indice existe.\n",
        "    sinon, la fonction renvoie None\n",
        "    \"\"\"\n",
        "\n",
        "    return "
      ],
      "execution_count": null,
      "outputs": []
    },
    {
      "cell_type": "code",
      "metadata": {
        "id": "3-a0DAzhtSfN"
      },
      "source": [
        "assert derniere_occurrence(10, [15,10,13,10,8,15,10]) == 6\n",
        "assert derniere_occurrence(8, [15,10,13,10,8,15,10]) == 4\n",
        "assert derniere_occurrence(7, [15,10,13,10,8,15,10]) == None \n",
        "print('tests ok')"
      ],
      "execution_count": null,
      "outputs": []
    }
  ]
}