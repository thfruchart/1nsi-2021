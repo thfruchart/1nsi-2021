{
  "nbformat": 4,
  "nbformat_minor": 0,
  "metadata": {
    "colab": {
      "name": "S9_EXO1_Parcours_Tableau.ipynb",
      "provenance": [],
      "collapsed_sections": [
        "6zPC-ec5m5wh",
        "qNsWpJvfoS2K",
        "cH5i3NmUrehW",
        "-kJF1CassqFo",
        "XlsuzfL5tSfG",
        "1brlS_zNozDp",
        "2xYIggRgqzgo"
      ],
      "authorship_tag": "ABX9TyPSlZnKWBlQ6NUpa+cG24Ss",
      "include_colab_link": true
    },
    "kernelspec": {
      "name": "python3",
      "display_name": "Python 3"
    },
    "language_info": {
      "name": "python"
    }
  },
  "cells": [
    {
      "cell_type": "markdown",
      "metadata": {
        "id": "view-in-github",
        "colab_type": "text"
      },
      "source": [
        "<a href=\"https://colab.research.google.com/github/thfruchart/1nsi/blob/main/S9/EXO1_Parcours_Tableau.ipynb\" target=\"_parent\"><img src=\"https://colab.research.google.com/assets/colab-badge.svg\" alt=\"Open In Colab\"/></a>"
      ]
    },
    {
      "cell_type": "markdown",
      "source": [
        "### la commande `assert`\n",
        "\n",
        "Observer l'exécution des deux programmes suivants, selon les valeurs saisies"
      ],
      "metadata": {
        "id": "t4AcBd4xKoIy"
      }
    },
    {
      "cell_type": "code",
      "source": [
        "# programme 1\n",
        "print (\"début\")\n",
        "\n",
        "n = int(input('Entrer un entier n supérieur à 10 : '))\n",
        "assert n >= 10\n",
        "\n",
        "print(\"programme terminé !\")"
      ],
      "metadata": {
        "id": "lRBLqwp8K1nT"
      },
      "execution_count": null,
      "outputs": []
    },
    {
      "cell_type": "code",
      "source": [
        "# programme 2\n",
        "print (\"début\")\n",
        "\n",
        "n = int(input('Entrer un entier n supérieur à 10 : '))\n",
        "assert n >= 10, \"on avait dit SUPÉRIEUR à 10 !\"\n",
        "\n",
        "print(\"programme terminé !\")"
      ],
      "metadata": {
        "id": "oJbK2OAlLsK-"
      },
      "execution_count": null,
      "outputs": []
    },
    {
      "cell_type": "markdown",
      "source": [
        "Utilisation d'assertions pour écrire un **jeu de tests**"
      ],
      "metadata": {
        "id": "xsP6CjW1MAu4"
      }
    },
    {
      "cell_type": "code",
      "source": [
        "def somme(x, y):\n",
        "    return\n",
        "\n",
        "assert somme(5,2) == 7\n",
        "assert somme(0,8) == 8\n",
        "assert somme('5', '2') == '52'\n",
        "print('test OK')"
      ],
      "metadata": {
        "id": "vSBG6DTbKYmw"
      },
      "execution_count": null,
      "outputs": []
    },
    {
      "cell_type": "markdown",
      "metadata": {
        "id": "Gx6Itx8FlmjR"
      },
      "source": [
        "# Parcours d'un tableau"
      ]
    },
    {
      "cell_type": "markdown",
      "metadata": {
        "id": "3Pq8A8lWlo9y"
      },
      "source": [
        "## Que signifie \"parcourir un tableau\" ?"
      ]
    },
    {
      "cell_type": "markdown",
      "metadata": {
        "id": "LgZRdqOolt91"
      },
      "source": [
        "On utilise l'expression \"parcourir un tableau\" lorsqu'**une variable prend successivement toutes les valeurs contenues dans un tableau**. \n",
        "\n",
        "Ceci peut se réaliser de plusieurs manières.\n",
        "\n",
        "**1**. En itérant sur les **éléments** d'un tableau\n",
        "\n",
        "    for v in t : \n",
        "\n",
        "**2**. En itérant sur les **indices** d'un tableau\n",
        "\n",
        "    for i in range(len(t)):\n",
        "        v = t[i]\n",
        "\n",
        "Dans les deux cas ci-dessus, la varible `v` prend successivement toutes les valeurs du tableau `t`. \n",
        "\n",
        "On a donc un **parcours** du tableau."
      ]
    },
    {
      "cell_type": "markdown",
      "metadata": {
        "id": "6zPC-ec5m5wh"
      },
      "source": [
        "# Exercice 1.A : indice_du_max"
      ]
    },
    {
      "cell_type": "markdown",
      "metadata": {
        "id": "RF-k9btQm8Gy"
      },
      "source": [
        "1. Compléter le code de la fonction `indice_du_max(t)` pour qu'elle corresponde aux conditions indiquées dans la chaîne de documentation\n",
        "2. Tester votre travail avec les assertions fournies."
      ]
    },
    {
      "cell_type": "code",
      "metadata": {
        "id": "bdGJUcRFlifv"
      },
      "source": [
        "def indice_du_max(t):\n",
        "    \"\"\"précondition : t est un tableau non vide, contenant des valeurs numériques\n",
        "    postcondition : la fonction renvoie l'indice de la plus grande valeur de t\n",
        "    si cette valeur apparaît plusieurs fois dans t, \n",
        "    alors l'indice renvoyé est le plus petit possible\"\"\"\n",
        "\n",
        "    return"
      ],
      "execution_count": null,
      "outputs": []
    },
    {
      "cell_type": "code",
      "metadata": {
        "id": "g6WVu47OnrQU"
      },
      "source": [
        "assert indice_du_max([10,50,100,30,70,80]) == 2\n",
        "assert indice_du_max([10,50,100,30,70,80,100]) == 2\n",
        "assert indice_du_max([10,50,100,30,70,80,3000]) == 6\n",
        "print('tests ok')"
      ],
      "execution_count": null,
      "outputs": []
    },
    {
      "cell_type": "markdown",
      "metadata": {
        "id": "qNsWpJvfoS2K"
      },
      "source": [
        "# Exercice 1.B : indice_du_dernier_max"
      ]
    },
    {
      "cell_type": "markdown",
      "metadata": {
        "id": "KwiXxoNboS2Z"
      },
      "source": [
        "1. Compléter le code de la fonction `indice_du_dernier_max(t)` pour qu'elle corresponde aux conditions indiquées dans la chaîne de documentation\n",
        "2. Tester votre travail avec les assertions fournies."
      ]
    },
    {
      "cell_type": "code",
      "metadata": {
        "id": "tG1c91AQoS2a"
      },
      "source": [
        "def indice_du_dernier_max(t):\n",
        "    \"\"\"précondition : t est un tableau non vide, contenant des valeurs numériques\n",
        "    postcondition : la fonction renvoie l'indice de la plus grande valeur de t\n",
        "    si cette valeur apparaît plusieurs fois dans t, \n",
        "    alors l'indice renvoyé est le plus GRAND possible\"\"\"\n",
        "    \n",
        "    return"
      ],
      "execution_count": null,
      "outputs": []
    },
    {
      "cell_type": "code",
      "metadata": {
        "id": "rFDva3mMoS2b"
      },
      "source": [
        "assert indice_du_dernier_max([10,50,100,30,70,80]) == 2\n",
        "assert indice_du_dernier_max([10,50,100,30,70,80,100]) == 6\n",
        "assert indice_du_dernier_max([10,50,100,30,70,80,3000]) == 6\n",
        "print('tests ok')"
      ],
      "execution_count": null,
      "outputs": []
    }
  ]
}