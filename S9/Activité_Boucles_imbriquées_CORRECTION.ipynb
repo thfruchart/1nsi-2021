{
  "nbformat": 4,
  "nbformat_minor": 0,
  "metadata": {
    "colab": {
      "name": "S9_Activité_Boucles_imbriquées.ipynb",
      "provenance": [],
      "authorship_tag": "ABX9TyOSsipb2vflbp5Ap1B8LqzB",
      "include_colab_link": true
    },
    "kernelspec": {
      "name": "python3",
      "display_name": "Python 3"
    },
    "language_info": {
      "name": "python"
    }
  },
  "cells": [
    {
      "cell_type": "markdown",
      "metadata": {
        "id": "view-in-github",
        "colab_type": "text"
      },
      "source": [
        "<a href=\"https://colab.research.google.com/github/thfruchart/1nsi/blob/main/S9/Activit%C3%A9_Boucles_imbriqu%C3%A9es_CORRECTION.ipynb\" target=\"_parent\"><img src=\"https://colab.research.google.com/assets/colab-badge.svg\" alt=\"Open In Colab\"/></a>"
      ]
    },
    {
      "cell_type": "markdown",
      "source": [
        "Dans chacun des programmes suivants, déterminer en fonction de n quelle sera la valeur affichée."
      ],
      "metadata": {
        "id": "etlblgzvL8Kg"
      }
    },
    {
      "cell_type": "code",
      "execution_count": 2,
      "metadata": {
        "id": "WC836Y3kL2vt",
        "outputId": "e64b96c4-9b72-476e-ffdd-448cc33ff72a",
        "colab": {
          "base_uri": "https://localhost:8080/"
        }
      },
      "outputs": [
        {
          "output_type": "stream",
          "name": "stdout",
          "text": [
            "Entrer un entier positif n : 7\n",
            "70\n",
            "70\n"
          ]
        }
      ],
      "source": [
        "# programme 1\n",
        "n = int(input('Entrer un entier positif n : '))\n",
        "\n",
        "cpt = 0\n",
        "for i in range(n):\n",
        "    cpt += 10\n",
        "\n",
        "print(cpt)\n",
        "print(10*n)\n",
        "# conclusion : le compteur est égal à 10*n"
      ]
    },
    {
      "cell_type": "code",
      "source": [
        "# programme 2\n",
        "n = int(input('Entrer un entier positif n : '))\n",
        "\n",
        "cpt = 0\n",
        "for i in range(n):\n",
        "    cpt += 10\n",
        "for j in range(n):\n",
        "    cpt += 100\n",
        "print(cpt)\n",
        "print(n*10+n*100)"
      ],
      "metadata": {
        "id": "tv9Mj3V4MQ3W",
        "outputId": "e4791270-166a-42f5-f065-f81a719e3958",
        "colab": {
          "base_uri": "https://localhost:8080/"
        }
      },
      "execution_count": 4,
      "outputs": [
        {
          "output_type": "stream",
          "name": "stdout",
          "text": [
            "Entrer un entier positif n : 12\n",
            "1320\n",
            "1320\n"
          ]
        }
      ]
    },
    {
      "cell_type": "code",
      "source": [
        "# programme 3  BOUCLES IMBRIQUEES\n",
        "n = int(input('Entrer un entier positif n : '))\n",
        "\n",
        "cpt = 0\n",
        "for i in range(n):\n",
        "    for j in range(n):\n",
        "        cpt += 1\n",
        "print(cpt)\n",
        "print(n**2)"
      ],
      "metadata": {
        "id": "-AntQypxMdUp",
        "outputId": "6bae617b-5298-490f-994e-a532391f4dee",
        "colab": {
          "base_uri": "https://localhost:8080/"
        }
      },
      "execution_count": 6,
      "outputs": [
        {
          "output_type": "stream",
          "name": "stdout",
          "text": [
            "Entrer un entier positif n : 9\n",
            "81\n",
            "81\n"
          ]
        }
      ]
    },
    {
      "cell_type": "code",
      "source": [
        "# programme 4\n",
        "n = int(input('Entrer un entier positif n : '))\n",
        "\n",
        "cpt = 0\n",
        "for i in range(n):\n",
        "    cpt += 2\n",
        "    for j in range(n):\n",
        "        cpt += 1\n",
        "print(cpt)\n",
        "print(n*(n+2))\n",
        "print(n**2 + 2*n)"
      ],
      "metadata": {
        "id": "3phcQ1tpMpf9",
        "outputId": "d47d279a-c563-487e-eb80-8f787f167104",
        "colab": {
          "base_uri": "https://localhost:8080/"
        }
      },
      "execution_count": 8,
      "outputs": [
        {
          "output_type": "stream",
          "name": "stdout",
          "text": [
            "Entrer un entier positif n : 13\n",
            "195\n",
            "195\n",
            "195\n"
          ]
        }
      ]
    },
    {
      "cell_type": "code",
      "source": [
        "# programme 5\n",
        "n = int(input('Entrer un entier positif n : '))\n",
        "\n",
        "cpt = 0\n",
        "for i in range(n):\n",
        "    for j in range(i): # i à la place de n\n",
        "        cpt += 1\n",
        "print(cpt)\n",
        "print(n*(n-1)//2)"
      ],
      "metadata": {
        "id": "8HacM6FlMtc7"
      },
      "execution_count": null,
      "outputs": []
    },
    {
      "cell_type": "code",
      "source": [
        "# programme 5 bis\n",
        "n = int(input('Entrer un entier positif n : '))\n",
        "\n",
        "cpt = 0\n",
        "for i in range(n):\n",
        "    for j in range(i): # i à la place de n\n",
        "        cpt += 1\n",
        "        print('*', end=' ')\n",
        "    print('.')\n",
        "print(cpt)\n",
        "print(n*(n-1)//2)"
      ],
      "metadata": {
        "id": "e-JfohYFM32E",
        "outputId": "b3bf1323-4b92-4a40-9a80-d48ff11bda9f",
        "colab": {
          "base_uri": "https://localhost:8080/"
        }
      },
      "execution_count": 10,
      "outputs": [
        {
          "output_type": "stream",
          "name": "stdout",
          "text": [
            "Entrer un entier positif n : 12\n",
            ".\n",
            "* .\n",
            "* * .\n",
            "* * * .\n",
            "* * * * .\n",
            "* * * * * .\n",
            "* * * * * * .\n",
            "* * * * * * * .\n",
            "* * * * * * * * .\n",
            "* * * * * * * * * .\n",
            "* * * * * * * * * * .\n",
            "* * * * * * * * * * * .\n",
            "66\n",
            "66\n"
          ]
        }
      ]
    },
    {
      "cell_type": "code",
      "source": [
        "# programme 6 (DIFFICILE)\n",
        "n = int(input('Entrer un entier positif n : '))\n",
        "\n",
        "cpt = 0\n",
        "for i in range(n):\n",
        "    cpt += 3\n",
        "    for j in range(i): # i à la place de n\n",
        "        cpt += 2\n",
        "        print('*', end=' ')\n",
        "    print('.')\n",
        "print(cpt)\n",
        "print(3*n +n*(n-1))"
      ],
      "metadata": {
        "id": "cA_KnLs3NoxN",
        "outputId": "7681a2a1-b08a-4bbb-88d3-604c9073de8d",
        "colab": {
          "base_uri": "https://localhost:8080/"
        }
      },
      "execution_count": 13,
      "outputs": [
        {
          "output_type": "stream",
          "name": "stdout",
          "text": [
            "Entrer un entier positif n : 7\n",
            ".\n",
            "* .\n",
            "* * .\n",
            "* * * .\n",
            "* * * * .\n",
            "* * * * * .\n",
            "* * * * * * .\n",
            "63\n",
            "63\n"
          ]
        }
      ]
    },
    {
      "cell_type": "code",
      "source": [
        "n = int(input('Entrer un entier positif n : '))\n",
        "\n",
        "cpt = 0\n",
        "for i in range(n):\n",
        "    for j in range(7): # 7 à la place de n\n",
        "        cpt += 1\n",
        "        print('*', end=' ')\n",
        "    print('.')\n",
        "print(cpt)"
      ],
      "metadata": {
        "id": "ojJNzgoU1Vwb",
        "outputId": "9025c675-29da-4541-afb9-6045f2649298",
        "colab": {
          "base_uri": "https://localhost:8080/"
        }
      },
      "execution_count": 14,
      "outputs": [
        {
          "output_type": "stream",
          "name": "stdout",
          "text": [
            "Entrer un entier positif n : 10\n",
            "* * * * * * * .\n",
            "* * * * * * * .\n",
            "* * * * * * * .\n",
            "* * * * * * * .\n",
            "* * * * * * * .\n",
            "* * * * * * * .\n",
            "* * * * * * * .\n",
            "* * * * * * * .\n",
            "* * * * * * * .\n",
            "* * * * * * * .\n",
            "70\n"
          ]
        }
      ]
    }
  ]
}