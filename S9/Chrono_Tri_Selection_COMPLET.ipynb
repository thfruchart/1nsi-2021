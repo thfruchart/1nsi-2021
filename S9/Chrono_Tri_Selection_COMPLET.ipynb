{
  "nbformat": 4,
  "nbformat_minor": 0,
  "metadata": {
    "colab": {
      "name": "S9_Chrono_Tri_Selection.ipynb",
      "provenance": [],
      "authorship_tag": "ABX9TyMESpJl/IGOtfDC0MW8pS+2",
      "include_colab_link": true
    },
    "kernelspec": {
      "name": "python3",
      "display_name": "Python 3"
    },
    "language_info": {
      "name": "python"
    }
  },
  "cells": [
    {
      "cell_type": "markdown",
      "metadata": {
        "id": "view-in-github",
        "colab_type": "text"
      },
      "source": [
        "<a href=\"https://colab.research.google.com/github/thfruchart/1nsi/blob/main/S9/Chrono_Tri_Selection_COMPLET.ipynb\" target=\"_parent\"><img src=\"https://colab.research.google.com/assets/colab-badge.svg\" alt=\"Open In Colab\"/></a>"
      ]
    },
    {
      "cell_type": "markdown",
      "source": [
        "[ouvrir avec Basthon](https://notebook.basthon.fr/?from=https://raw.githubusercontent.com/thfruchart/1nsi/main/S9/Chrono_Tri_Selection.ipynb)"
      ],
      "metadata": {
        "id": "kQh8aQ9HBnW9"
      }
    },
    {
      "cell_type": "markdown",
      "source": [
        "## 1. Tri par sélection\n",
        "\n",
        "**Compléter le code de la fonction suivante** pour qu'elle réalise le tri par sélection étudié en activité"
      ],
      "metadata": {
        "id": "LL-P9tsO-YrV"
      }
    },
    {
      "cell_type": "code",
      "source": [
        "def tri_par_selection(tab):\n",
        "    for i in range (len(tab)-1) :\n",
        "        i_min = i\n",
        "        for j in range( i+1 , len(tab) ) : \n",
        "            if tab[j] < tab[i_min] : \n",
        "                i_min = j\n",
        "        tab[i], tab[i_min] = tab[i_min], tab[i]\n",
        "    return tab\n",
        "            "
      ],
      "metadata": {
        "id": "JY72PkH5-gHr"
      },
      "execution_count": 1,
      "outputs": []
    },
    {
      "cell_type": "code",
      "source": [
        "# test 1\n",
        "tri_par_selection([10,-50,70,-20,0,80,30])"
      ],
      "metadata": {
        "id": "SSJQxS3p_W2P",
        "outputId": "3b428673-aed0-49ae-f145-be6bc78a1a68",
        "colab": {
          "base_uri": "https://localhost:8080/"
        }
      },
      "execution_count": 4,
      "outputs": [
        {
          "output_type": "execute_result",
          "data": {
            "text/plain": [
              "[-50, -20, 0, 10, 30, 70, 80]"
            ]
          },
          "metadata": {},
          "execution_count": 4
        }
      ]
    },
    {
      "cell_type": "code",
      "source": [
        "# test 2\n",
        "tri_par_selection([50,50,70,50,0,80,0])"
      ],
      "metadata": {
        "id": "7SnmPJsnAIPl",
        "outputId": "2c339b46-f128-4411-f1b2-27ddaf090218",
        "colab": {
          "base_uri": "https://localhost:8080/"
        }
      },
      "execution_count": 3,
      "outputs": [
        {
          "output_type": "execute_result",
          "data": {
            "text/plain": [
              "[0, 0, 50, 50, 50, 70, 80]"
            ]
          },
          "metadata": {},
          "execution_count": 3
        }
      ]
    },
    {
      "cell_type": "markdown",
      "source": [
        "## 2. Tableau aléatoire de longueur n"
      ],
      "metadata": {
        "id": "Zw1p3OGs9PPU"
      }
    },
    {
      "cell_type": "markdown",
      "source": [
        "On rappelle que la fonction `random`du module `random` renvoie un nombre aléatoire de type `float` compris entre 0 et 1."
      ],
      "metadata": {
        "id": "-DHi9Gar9W0-"
      }
    },
    {
      "cell_type": "code",
      "execution_count": 5,
      "metadata": {
        "id": "bOO9wpGj9NGm",
        "outputId": "9fc082a2-ee1f-472f-9c69-880e52c903a9",
        "colab": {
          "base_uri": "https://localhost:8080/"
        }
      },
      "outputs": [
        {
          "output_type": "stream",
          "name": "stdout",
          "text": [
            "0.062290883497635896\n",
            "0.31689498639700864\n",
            "0.23052814160337876\n",
            "0.5548777535242909\n",
            "0.5568660382819286\n",
            "0.5236981802306775\n",
            "0.9577978004430499\n",
            "0.54165042413824\n",
            "0.1317225820870006\n",
            "0.5328217853235173\n"
          ]
        }
      ],
      "source": [
        "from random import random\n",
        "\n",
        "for _ in range(10):\n",
        "    print( random() )"
      ]
    },
    {
      "cell_type": "markdown",
      "source": [
        "**Compléter le code de la fonction suivante** pour qu'elle renvoie un tableau de longueur n contenant des valeurs aléatoires de type `float`.  "
      ],
      "metadata": {
        "id": "QnFumiVw95yL"
      }
    },
    {
      "cell_type": "code",
      "source": [
        "from random import random\n",
        "\n",
        "def tableau_aleatoire(n):\n",
        "    return [ 100*random() for i in range(n) ]"
      ],
      "metadata": {
        "id": "--T3TG09960m"
      },
      "execution_count": 15,
      "outputs": []
    },
    {
      "cell_type": "code",
      "source": [
        "# test 1 \n",
        "tableau_aleatoire(5)"
      ],
      "metadata": {
        "id": "gdmhDqH4-Fkb",
        "outputId": "05ea1f03-e154-4e5e-bc65-e62d77085781",
        "colab": {
          "base_uri": "https://localhost:8080/"
        }
      },
      "execution_count": 16,
      "outputs": [
        {
          "output_type": "execute_result",
          "data": {
            "text/plain": [
              "[69.687209962821,\n",
              " 66.09504312985631,\n",
              " 42.40424567776838,\n",
              " 67.52811309329981,\n",
              " 22.486738662795858]"
            ]
          },
          "metadata": {},
          "execution_count": 16
        }
      ]
    },
    {
      "cell_type": "code",
      "source": [
        "# test 2\n",
        "tableau_aleatoire(12)"
      ],
      "metadata": {
        "id": "hN5mVYn3-K8F",
        "outputId": "bdb91e9c-2c58-4b27-8c57-a5e7a35e8c50",
        "colab": {
          "base_uri": "https://localhost:8080/"
        }
      },
      "execution_count": 17,
      "outputs": [
        {
          "output_type": "execute_result",
          "data": {
            "text/plain": [
              "[55.4484668847447,\n",
              " 48.71754968109598,\n",
              " 17.380602529776702,\n",
              " 18.345785808062807,\n",
              " 67.86891318214907,\n",
              " 6.008663701970995,\n",
              " 29.06629478936422,\n",
              " 65.58235369950836,\n",
              " 28.531278177666742,\n",
              " 13.62520355785415,\n",
              " 0.602896495756855,\n",
              " 10.82497780250462]"
            ]
          },
          "metadata": {},
          "execution_count": 17
        }
      ]
    },
    {
      "cell_type": "markdown",
      "source": [
        "# 3. Mesurer le temps d'exécution"
      ],
      "metadata": {
        "id": "UDFV743xAVwV"
      }
    },
    {
      "cell_type": "markdown",
      "source": [
        "#### module `time`"
      ],
      "metadata": {
        "id": "LSdiWVySBGw3"
      }
    },
    {
      "cell_type": "markdown",
      "source": [
        "Commencer par exécuter les trois cellules suivantes.  \n",
        "Expliquer les résultats obtenus."
      ],
      "metadata": {
        "id": "elHZ_-_1AaGS"
      }
    },
    {
      "cell_type": "code",
      "source": [
        "from time import time\n",
        "t1 = time()\n",
        "print(t1)"
      ],
      "metadata": {
        "id": "p33dFgOsAnVx",
        "outputId": "fa11c9c1-551c-446e-febe-0fb3a87efb45",
        "colab": {
          "base_uri": "https://localhost:8080/"
        }
      },
      "execution_count": 22,
      "outputs": [
        {
          "output_type": "stream",
          "name": "stdout",
          "text": [
            "1646311017.7404819\n"
          ]
        }
      ]
    },
    {
      "cell_type": "code",
      "source": [
        "t2 = time()\n",
        "print(t2)"
      ],
      "metadata": {
        "id": "8rvFO-j3At1O",
        "outputId": "8b91f080-aac6-460f-997e-fbc34f67aeb2",
        "colab": {
          "base_uri": "https://localhost:8080/"
        }
      },
      "execution_count": 23,
      "outputs": [
        {
          "output_type": "stream",
          "name": "stdout",
          "text": [
            "1646311019.0134485\n"
          ]
        }
      ]
    },
    {
      "cell_type": "code",
      "source": [
        "delai = t2 - t1\n",
        "print(delai)"
      ],
      "metadata": {
        "id": "qQ6A8KohA2D4",
        "outputId": "f1abc5f7-f33c-4f36-ad9d-6fa90cde02d0",
        "colab": {
          "base_uri": "https://localhost:8080/"
        }
      },
      "execution_count": 24,
      "outputs": [
        {
          "output_type": "stream",
          "name": "stdout",
          "text": [
            "1.2729666233062744\n"
          ]
        }
      ]
    },
    {
      "cell_type": "code",
      "source": [
        "help(time)"
      ],
      "metadata": {
        "id": "en_p0RMDA7V7",
        "outputId": "241fbedc-bb2a-49a7-f305-5ae0336c39e5",
        "colab": {
          "base_uri": "https://localhost:8080/"
        }
      },
      "execution_count": 21,
      "outputs": [
        {
          "output_type": "stream",
          "name": "stdout",
          "text": [
            "Help on built-in function time in module time:\n",
            "\n",
            "time(...)\n",
            "    time() -> floating point number\n",
            "    \n",
            "    Return the current time in seconds since the Epoch.\n",
            "    Fractions of a second may be present if the system clock provides them.\n",
            "\n"
          ]
        }
      ]
    },
    {
      "cell_type": "markdown",
      "source": [
        "#### chrono tri_par_selection\n",
        "utiliser les fonctions déjà programmées dans ce notebook pour compléter la fonction suivante, qui mesure le temps d'exécution du tri par sélection sur un tableau aléatoire de taille n."
      ],
      "metadata": {
        "id": "YAO2ewHDBK37"
      }
    },
    {
      "cell_type": "code",
      "source": [
        "def chrono_tri_sur_taille(n):\n",
        "    ''' renvoie le temps (en seconde) d'exécution du tri par selection\n",
        "    sur un tableau aléatoire de 'n' nombres flottants'''\n",
        "    tab = tableau_aleatoire(n)\n",
        "    start = time()\n",
        "    tri_par_selection(tab) \n",
        "    stop = time()\n",
        "    delai = stop - start\n",
        "    return delai"
      ],
      "metadata": {
        "id": "0YBLnEwsBXnL"
      },
      "execution_count": 26,
      "outputs": []
    },
    {
      "cell_type": "code",
      "source": [
        "chrono_tri_sur_taille(2500)"
      ],
      "metadata": {
        "id": "GJs1iv200B98",
        "outputId": "c7de4964-ef00-4e93-d972-494278d73778",
        "colab": {
          "base_uri": "https://localhost:8080/"
        }
      },
      "execution_count": 27,
      "outputs": [
        {
          "output_type": "execute_result",
          "data": {
            "text/plain": [
              "0.33371758460998535"
            ]
          },
          "metadata": {},
          "execution_count": 27
        }
      ]
    },
    {
      "cell_type": "code",
      "source": [
        "chrono_tri_sur_taille(100)"
      ],
      "metadata": {
        "id": "Vm6fQM-b3wia",
        "outputId": "0394f50d-08ce-4dc4-8dbc-89d12cf4df69",
        "colab": {
          "base_uri": "https://localhost:8080/"
        }
      },
      "execution_count": 31,
      "outputs": [
        {
          "output_type": "execute_result",
          "data": {
            "text/plain": [
              "0.00046634674072265625"
            ]
          },
          "metadata": {},
          "execution_count": 31
        }
      ]
    },
    {
      "cell_type": "code",
      "source": [
        "chrono_tri_sur_taille(1000)"
      ],
      "metadata": {
        "id": "r4kezl6F3pFL",
        "outputId": "0b59fad6-ed0d-4735-a5eb-8b03a2ef8850",
        "colab": {
          "base_uri": "https://localhost:8080/"
        }
      },
      "execution_count": 29,
      "outputs": [
        {
          "output_type": "execute_result",
          "data": {
            "text/plain": [
              "0.05588173866271973"
            ]
          },
          "metadata": {},
          "execution_count": 29
        }
      ]
    },
    {
      "cell_type": "code",
      "source": [
        "chrono_tri_sur_taille(10000)"
      ],
      "metadata": {
        "id": "jv1UOXlI3r2S",
        "outputId": "00b2d986-7b6b-4a66-b8d9-414cc4d2c81f",
        "colab": {
          "base_uri": "https://localhost:8080/"
        }
      },
      "execution_count": 30,
      "outputs": [
        {
          "output_type": "execute_result",
          "data": {
            "text/plain": [
              "4.876727342605591"
            ]
          },
          "metadata": {},
          "execution_count": 30
        }
      ]
    },
    {
      "cell_type": "code",
      "source": [
        "chrono_tri_sur_taille(100000)"
      ],
      "metadata": {
        "id": "UeVfXxX60Q77"
      },
      "execution_count": null,
      "outputs": []
    }
  ]
}