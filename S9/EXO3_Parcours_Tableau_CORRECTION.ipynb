{
  "nbformat": 4,
  "nbformat_minor": 0,
  "metadata": {
    "colab": {
      "name": "S9_EXO3_Parcours_Tableau.ipynb",
      "provenance": [],
      "collapsed_sections": [
        "6zPC-ec5m5wh",
        "qNsWpJvfoS2K",
        "cH5i3NmUrehW",
        "-kJF1CassqFo",
        "XlsuzfL5tSfG",
        "1brlS_zNozDp",
        "2xYIggRgqzgo"
      ],
      "authorship_tag": "ABX9TyO3ylc1Y5UTI9vsuuL1dTTx",
      "include_colab_link": true
    },
    "kernelspec": {
      "name": "python3",
      "display_name": "Python 3"
    },
    "language_info": {
      "name": "python"
    }
  },
  "cells": [
    {
      "cell_type": "markdown",
      "metadata": {
        "id": "view-in-github",
        "colab_type": "text"
      },
      "source": [
        "<a href=\"https://colab.research.google.com/github/thfruchart/1nsi/blob/main/S9/EXO3_Parcours_Tableau_CORRECTION.ipynb\" target=\"_parent\"><img src=\"https://colab.research.google.com/assets/colab-badge.svg\" alt=\"Open In Colab\"/></a>"
      ]
    },
    {
      "cell_type": "markdown",
      "metadata": {
        "id": "1brlS_zNozDp"
      },
      "source": [
        "# Exercice 3.A :  plus_long_mot"
      ]
    },
    {
      "cell_type": "markdown",
      "metadata": {
        "id": "4_YXhJiRozDx"
      },
      "source": [
        "1. Compléter le code de la fonction `plus_long_mot(t)` pour qu'elle corresponde aux conditions indiquées dans la chaîne de documentation\n",
        "2. Tester votre travail avec les assertions fournies."
      ]
    },
    {
      "cell_type": "code",
      "metadata": {
        "id": "nfSrzrFPozDy"
      },
      "source": [
        "def plus_long_mot(t):\n",
        "    \"\"\"précondition : t est un tableau, contenant des chaînes de caractères\n",
        "    postcondition : la fonction renvoie le plus long mot du tableau t.\n",
        "    -si plusieurs mots sont de longueur maximale, \n",
        "    alors la fonction renvoie celui qui arrive en premier dans le tableau\n",
        "    -si le tableau est vide, alors la fonction renvoie la chaîne vide  ''\n",
        "    \"\"\"\n",
        "    resu = ''  # mot de longueur nulle\n",
        "    for mot in t : \n",
        "        if len(mot) > len(resu) : \n",
        "            resu = mot\n",
        "    \n",
        "    return resu"
      ],
      "execution_count": 1,
      "outputs": []
    },
    {
      "cell_type": "code",
      "metadata": {
        "id": "p5IdjOhQozD0",
        "outputId": "8ffa31a9-ce71-4d38-f494-6ab6b8d0acb2",
        "colab": {
          "base_uri": "https://localhost:8080/"
        }
      },
      "source": [
        "assert plus_long_mot(['chien', 'chat', 'tortue', 'éléphant', 'lion']) == 'éléphant'\n",
        "assert plus_long_mot(['pie', 'rat', 'lion', 'chat']) == 'lion'\n",
        "assert plus_long_mot([]) == ''\n",
        "print('tests ok')"
      ],
      "execution_count": 2,
      "outputs": [
        {
          "output_type": "stream",
          "name": "stdout",
          "text": [
            "tests ok\n"
          ]
        }
      ]
    },
    {
      "cell_type": "markdown",
      "metadata": {
        "id": "2xYIggRgqzgo"
      },
      "source": [
        "# Exercice 3.B : dernier_plus_long_mot"
      ]
    },
    {
      "cell_type": "markdown",
      "metadata": {
        "id": "m6PkvtZ5qzg6"
      },
      "source": [
        "1. Compléter le code de la fonction `dernier_plus_long_mot(t)` pour qu'elle corresponde aux conditions indiquées dans la chaîne de documentation\n",
        "2. Tester votre travail avec les assertions fournies."
      ]
    },
    {
      "cell_type": "code",
      "metadata": {
        "id": "vh7VqT-Dqzg7"
      },
      "source": [
        "def dernier_plus_long_mot(t):\n",
        "    \"\"\"précondition : t est un tableau, contenant des chaînes de caractères\n",
        "    postcondition : la fonction renvoie le plus long mot du tableau t.\n",
        "    -si plusieurs mots sont de longueur maximale, \n",
        "    alors la fonction renvoie celui qui arrive en DERNIER dans le tableau\n",
        "    -si le tableau est vide, alors la fonction renvoie la chaîne vide  ''\n",
        "    \"\"\"\n",
        "    \n",
        "    return"
      ],
      "execution_count": null,
      "outputs": []
    },
    {
      "cell_type": "code",
      "metadata": {
        "id": "Au_c1LSLqzg8"
      },
      "source": [
        "assert dernier_plus_long_mot(['chien', 'chat', 'tortue', 'éléphant', 'lion']) == 'éléphant'\n",
        "assert dernier_plus_long_mot(['pie', 'rat', 'lion', 'chat']) == 'chat'\n",
        "assert dernier_plus_long_mot([]) == ''\n",
        "print('tests ok')"
      ],
      "execution_count": null,
      "outputs": []
    }
  ]
}