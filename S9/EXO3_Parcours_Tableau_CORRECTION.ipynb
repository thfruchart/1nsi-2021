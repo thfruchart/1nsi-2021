{
  "nbformat": 4,
  "nbformat_minor": 0,
  "metadata": {
    "colab": {
      "name": "S9_EXO3_Parcours_Tableau.ipynb",
      "provenance": [],
      "collapsed_sections": [
        "6zPC-ec5m5wh",
        "qNsWpJvfoS2K",
        "cH5i3NmUrehW",
        "-kJF1CassqFo",
        "XlsuzfL5tSfG",
        "1brlS_zNozDp",
        "2xYIggRgqzgo"
      ],
      "authorship_tag": "ABX9TyP2amqPe2IT63g/urf/n1oe",
      "include_colab_link": true
    },
    "kernelspec": {
      "name": "python3",
      "display_name": "Python 3"
    },
    "language_info": {
      "name": "python"
    }
  },
  "cells": [
    {
      "cell_type": "markdown",
      "metadata": {
        "id": "view-in-github",
        "colab_type": "text"
      },
      "source": [
        "<a href=\"https://colab.research.google.com/github/thfruchart/1nsi/blob/main/S9/EXO3_Parcours_Tableau_CORRECTION.ipynb\" target=\"_parent\"><img src=\"https://colab.research.google.com/assets/colab-badge.svg\" alt=\"Open In Colab\"/></a>"
      ]
    },
    {
      "cell_type": "markdown",
      "metadata": {
        "id": "1brlS_zNozDp"
      },
      "source": [
        "# Exercice 3.A :  plus_long_mot"
      ]
    },
    {
      "cell_type": "markdown",
      "metadata": {
        "id": "4_YXhJiRozDx"
      },
      "source": [
        "1. Compléter le code de la fonction `plus_long_mot(t)` pour qu'elle corresponde aux conditions indiquées dans la chaîne de documentation\n",
        "2. Tester votre travail avec les assertions fournies."
      ]
    },
    {
      "cell_type": "code",
      "metadata": {
        "id": "nfSrzrFPozDy"
      },
      "source": [
        "def plus_long_mot(t):\n",
        "    \"\"\"précondition : t est un tableau, contenant des chaînes de caractères\n",
        "    postcondition : la fonction renvoie le plus long mot du tableau t.\n",
        "    -si plusieurs mots sont de longueur maximale, \n",
        "    alors la fonction renvoie celui qui arrive en premier dans le tableau\n",
        "    -si le tableau est vide, alors la fonction renvoie la chaîne vide  ''\n",
        "    \"\"\"\n",
        "    resu = ''  # mot de longueur nulle\n",
        "    for mot in t : \n",
        "        if len(mot) > len(resu) : \n",
        "            resu = mot\n",
        "    \n",
        "    return resu"
      ],
      "execution_count": 1,
      "outputs": []
    },
    {
      "cell_type": "code",
      "metadata": {
        "id": "p5IdjOhQozD0",
        "colab": {
          "base_uri": "https://localhost:8080/"
        },
        "outputId": "bca30730-4b29-4525-9a52-c4310eda7956"
      },
      "source": [
        "assert plus_long_mot(['chien', 'chat', 'tortue', 'éléphant', 'lion']) == 'éléphant'\n",
        "assert plus_long_mot(['pie', 'rat', 'lion', 'chat']) == 'lion'\n",
        "assert plus_long_mot([]) == ''\n",
        "print('tests ok')"
      ],
      "execution_count": 2,
      "outputs": [
        {
          "output_type": "stream",
          "name": "stdout",
          "text": [
            "tests ok\n"
          ]
        }
      ]
    },
    {
      "cell_type": "markdown",
      "source": [
        "[Visualier l'exécution sur PythonTutor](https://pythontutor.com/visualize.html#code=def%20plus_long_mot%28t%29%3A%0A%20%20%20%20%22%22%22pr%C3%A9condition%20%3A%20t%20est%20un%20tableau,%20contenant%20des%20cha%C3%AEnes%20de%20caract%C3%A8res%0A%20%20%20%20postcondition%20%3A%20la%20fonction%20renvoie%20le%20plus%20long%20mot%20du%20tableau%20t.%0A%20%20%20%20-si%20plusieurs%20mots%20sont%20de%20longueur%20maximale,%20%0A%20%20%20%20alors%20la%20fonction%20renvoie%20celui%20qui%20arrive%20en%20premier%20dans%20le%20tableau%0A%20%20%20%20-si%20le%20tableau%20est%20vide,%20alors%20la%20fonction%20renvoie%20la%20cha%C3%AEne%20vide%20%20''%0A%20%20%20%20%22%22%22%0A%20%20%20%20resu%20%3D%20''%20%20%23%20mot%20de%20longueur%20nulle%0A%20%20%20%20for%20mot%20in%20t%20%3A%20%0A%20%20%20%20%20%20%20%20if%20len%28mot%29%20%3E%20len%28resu%29%20%3A%20%0A%20%20%20%20%20%20%20%20%20%20%20%20resu%20%3D%20mot%0A%20%20%20%20%0A%20%20%20%20return%20resu%0A%20%20%20%20%0Aprint%28plus_long_mot%28%5B'chien',%20'chat',%20'tortue',%20'%C3%A9l%C3%A9phant',%20'lion'%5D%29%29&cumulative=false&curInstr=0&heapPrimitives=nevernest&mode=display&origin=opt-frontend.js&py=3&rawInputLstJSON=%5B%5D&textReferences=false)"
      ],
      "metadata": {
        "id": "SzKhAogc7zQn"
      }
    },
    {
      "cell_type": "markdown",
      "metadata": {
        "id": "2xYIggRgqzgo"
      },
      "source": [
        "# Exercice 3.B : dernier_plus_long_mot"
      ]
    },
    {
      "cell_type": "markdown",
      "metadata": {
        "id": "m6PkvtZ5qzg6"
      },
      "source": [
        "1. Compléter le code de la fonction `dernier_plus_long_mot(t)` pour qu'elle corresponde aux conditions indiquées dans la chaîne de documentation\n",
        "2. Tester votre travail avec les assertions fournies."
      ]
    },
    {
      "cell_type": "code",
      "metadata": {
        "id": "vh7VqT-Dqzg7"
      },
      "source": [
        "def dernier_plus_long_mot(t):\n",
        "    \"\"\"précondition : t est un tableau, contenant des chaînes de caractères\n",
        "    postcondition : la fonction renvoie le plus long mot du tableau t.\n",
        "    -si plusieurs mots sont de longueur maximale, \n",
        "    alors la fonction renvoie celui qui arrive en DERNIER dans le tableau\n",
        "    -si le tableau est vide, alors la fonction renvoie la chaîne vide  ''\n",
        "    \"\"\"\n",
        "    resu = ''  # mot de longueur nulle\n",
        "    for mot in t : \n",
        "        if len(mot) >= len(resu) : \n",
        "            resu = mot\n",
        "    \n",
        "    return resu"
      ],
      "execution_count": null,
      "outputs": []
    },
    {
      "cell_type": "code",
      "metadata": {
        "id": "Au_c1LSLqzg8"
      },
      "source": [
        "assert dernier_plus_long_mot(['chien', 'chat', 'tortue', 'éléphant', 'lion']) == 'éléphant'\n",
        "assert dernier_plus_long_mot(['pie', 'rat', 'lion', 'chat']) == 'chat'\n",
        "assert dernier_plus_long_mot([]) == ''\n",
        "print('tests ok')"
      ],
      "execution_count": null,
      "outputs": []
    },
    {
      "cell_type": "markdown",
      "source": [
        "[Visualiser l'exécution sur PythonTutor](https://pythontutor.com/visualize.html#code=def%20dernier_plus_long_mot%28t%29%3A%0A%20%20%20%20%22%22%22pr%C3%A9condition%20%3A%20t%20est%20un%20tableau,%20contenant%20des%20cha%C3%AEnes%20de%20caract%C3%A8res%0A%20%20%20%20postcondition%20%3A%20la%20fonction%20renvoie%20le%20plus%20long%20mot%20du%20tableau%20t.%0A%20%20%20%20-si%20plusieurs%20mots%20sont%20de%20longueur%20maximale,%20%0A%20%20%20%20alors%20la%20fonction%20renvoie%20celui%20qui%20arrive%20en%20premier%20dans%20le%20tableau%0A%20%20%20%20-si%20le%20tableau%20est%20vide,%20alors%20la%20fonction%20renvoie%20la%20cha%C3%AEne%20vide%20%20''%0A%20%20%20%20%22%22%22%0A%20%20%20%20resu%20%3D%20''%20%20%23%20mot%20de%20longueur%20nulle%0A%20%20%20%20for%20mot%20in%20t%20%3A%20%0A%20%20%20%20%20%20%20%20if%20len%28mot%29%20%3E%3D%20len%28resu%29%20%3A%20%0A%20%20%20%20%20%20%20%20%20%20%20%20resu%20%3D%20mot%0A%20%20%20%20%0A%20%20%20%20return%20resu%0A%20%20%20%20%0Aprint%28dernier_plus_long_mot%28%5B'pie',%20'rat',%20'lion',%20'chat'%5D%29%29&cumulative=false&curInstr=0&heapPrimitives=nevernest&mode=display&origin=opt-frontend.js&py=3&rawInputLstJSON=%5B%5D&textReferences=false)"
      ],
      "metadata": {
        "id": "4uFlkVOL8y37"
      }
    }
  ]
}