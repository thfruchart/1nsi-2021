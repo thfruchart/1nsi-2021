{
  "nbformat": 4,
  "nbformat_minor": 0,
  "metadata": {
    "colab": {
      "name": "SujetEpreuvePratique1.ipynb",
      "provenance": [],
      "authorship_tag": "ABX9TyMmCSw1g77zrQTlMVA+/q6q",
      "include_colab_link": true
    },
    "kernelspec": {
      "name": "python3",
      "display_name": "Python 3"
    },
    "language_info": {
      "name": "python"
    }
  },
  "cells": [
    {
      "cell_type": "markdown",
      "metadata": {
        "id": "view-in-github",
        "colab_type": "text"
      },
      "source": [
        "<a href=\"https://colab.research.google.com/github/thfruchart/1nsi/blob/main/S9/SujetEpreuvePratique1.ipynb\" target=\"_parent\"><img src=\"https://colab.research.google.com/assets/colab-badge.svg\" alt=\"Open In Colab\"/></a>"
      ]
    },
    {
      "cell_type": "markdown",
      "source": [
        "# Exercice 1"
      ],
      "metadata": {
        "id": "uu5rE-83VYey"
      }
    },
    {
      "cell_type": "markdown",
      "source": [
        "Programmer la fonction `recherche`, prenant en paramètre un tableau non vide `tab` (type\n",
        "list) d'entiers et un entier `n`, et qui renvoie l'indice de la dernière occurrence de\n",
        "l'élément cherché. Si l'élément n'est pas présent, la fonction renvoie la longueur du\n",
        "tableau.\n",
        "\n",
        "Exemples :  \n",
        "\n",
        "    >>> recherche([5, 3],1)\n",
        "    2\n",
        "    >>> recherche([2,4],2)\n",
        "    0\n",
        "    >>> recherche([2,3,5,2,4],2)\n",
        "    3"
      ],
      "metadata": {
        "id": "-WA-h2DLVaKq"
      }
    },
    {
      "cell_type": "code",
      "source": [
        ""
      ],
      "metadata": {
        "id": "RvV81N85Vnr0"
      },
      "execution_count": null,
      "outputs": []
    },
    {
      "cell_type": "markdown",
      "source": [
        "# Exercice 2"
      ],
      "metadata": {
        "id": "S_UK1v67Vm-T"
      }
    },
    {
      "cell_type": "markdown",
      "source": [
        "On souhaite programmer une fonction donnant la distance la plus courte entre un point\n",
        "de départ et une liste de points. Les points sont tous à coordonnées entières.\n",
        "\n",
        "\n",
        "Les points sont donnés sous la forme d'un tuple de deux entiers.\n",
        "\n",
        "\n",
        "La liste des points à traiter est donc un tableau de tuples.\n",
        "\n",
        "\n",
        "On rappelle que la distance entre deux points du plan de coordonnées $(x ; y)$ et $(x' ; y')$\n",
        "est donnée par la formule :  \n",
        "$d = \\sqrt { (x − x')^2 + (y − y')^2}$\n",
        "\n",
        "On importe pour cela la fonction racine carrée (`sqrt`) du module math de Python.\n",
        "On dispose d'une fonction `distance` et d'une fonction `plus_courte_distance` :"
      ],
      "metadata": {
        "id": "NEgkKvsXVpX7"
      }
    },
    {
      "cell_type": "markdown",
      "source": [
        "    from math import sqrt   # import de la fonction racine carrée\n",
        "\n",
        "    def distance(point1, point2): \n",
        "        \"\"\" Calcule et renvoie la distance entre deux points. \"\"\"\n",
        "        x1, y1 = point1\n",
        "        x2, y2 = point2\n",
        "        return sqrt((x2-x1)**2 + (y2-y1)**2)\n",
        "\n",
        "    assert distance((1, 0), (5, 3)) == 5.0, \"erreur de calcul\"\n",
        "\n",
        "    def plus_courte_distance(tab, depart):\n",
        "        \"\"\" Renvoie le point du tableau tab se trouvant à la plus     \n",
        "        courte distance du point depart.\"\"\"\n",
        "        point = tab[0]\n",
        "        min_dist = distance(point,depart)\n",
        "        for i in range (1, len(tab)):\n",
        "            if distance(tab[i], depart)< min_dist:\n",
        "                point = tab[i]\n",
        "                min_dist = distance(point,depart)\n",
        "        return point\n",
        "\n",
        "    assert plus_courte_distance([(7, 9), (2, 5), (5, 2)], (0, 0)) == (2, 5), \"erreur\"\n",
        "    print(\"test OK\")\n"
      ],
      "metadata": {
        "id": "M6SwBPw-WDVH"
      }
    },
    {
      "cell_type": "markdown",
      "source": [
        "**Compléter** le code suivant, et ajouter des **tests** pour vérifier votre travail."
      ],
      "metadata": {
        "id": "uCDsg6ZcWP7w"
      }
    },
    {
      "cell_type": "code",
      "execution_count": null,
      "metadata": {
        "id": "fcjoykfJVXWv"
      },
      "outputs": [],
      "source": [
        "from math import sqrt   # import de la fonction racine carrée\n",
        "\n",
        "def distance(point1, point2): \n",
        "    \"\"\" Calcule et renvoie la distance entre deux points. \"\"\"\n",
        "    x1, y1 = point1\n",
        "    x2, y2 = point2\n",
        "    return sqrt((x2-x1)**2 + (y2-y1)**2)\n",
        "\n",
        "assert distance((1, 0), (5, 3)) == 5.0, \"erreur de calcul\"\n",
        "\n",
        "def plus_courte_distance(tab, depart):\n",
        "    \"\"\" Renvoie le point du tableau tab se trouvant à la plus     \n",
        "    courte distance du point depart.\"\"\"\n",
        "    point = tab[0]\n",
        "    min_dist = distance(point,depart)\n",
        "    for i in range (1, len(tab)):\n",
        "        if distance(tab[i], depart)< min_dist:\n",
        "            point = tab[i]\n",
        "            min_dist = distance(point,depart)\n",
        "    return point\n",
        "\n",
        "assert plus_courte_distance([(7, 9), (2, 5), (5, 2)], (0, 0)) == (2, 5), \"erreur\"\n",
        "print(\"test OK\")\n"
      ]
    }
  ]
}