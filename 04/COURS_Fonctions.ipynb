{
  "nbformat": 4,
  "nbformat_minor": 0,
  "metadata": {
    "colab": {
      "name": "Copie de 04-COURS-Fonctions.ipynb",
      "provenance": [],
      "collapsed_sections": [],
      "authorship_tag": "ABX9TyOL0FfdjKpr6QemeOnU8yF8",
      "include_colab_link": true
    },
    "kernelspec": {
      "name": "python3",
      "display_name": "Python 3"
    }
  },
  "cells": [
    {
      "cell_type": "markdown",
      "metadata": {
        "id": "view-in-github",
        "colab_type": "text"
      },
      "source": [
        "<a href=\"https://colab.research.google.com/github/thfruchart/1nsi/blob/main/04/COURS_Fonctions.ipynb\" target=\"_parent\"><img src=\"https://colab.research.google.com/assets/colab-badge.svg\" alt=\"Open In Colab\"/></a>"
      ]
    },
    {
      "cell_type": "markdown",
      "metadata": {
        "id": "A88hxfsC2XKF"
      },
      "source": [
        "# Définir une fonction\n",
        "\n"
      ]
    },
    {
      "cell_type": "markdown",
      "metadata": {
        "id": "GP81K6nh2bls"
      },
      "source": [
        "Lorsque certaines portions de code se répètent à l'identique, il est pratique de donner un nom à une suite d'instructions.\n",
        "\n",
        "La notion de fonction permet de le faire simplement. "
      ]
    },
    {
      "cell_type": "markdown",
      "metadata": {
        "id": "_KeD3F097zK3"
      },
      "source": [
        "## Exemple : dessiner plusieurs carrés"
      ]
    },
    {
      "cell_type": "code",
      "metadata": {
        "id": "43jdO1z0oo0t",
        "colab": {
          "base_uri": "https://localhost:8080/",
          "height": 695
        },
        "outputId": "d1a35faa-2211-4fd1-8d9f-01bfd3e20f72"
      },
      "source": [
        "!pip3 install ColabTurtle\n",
        "from ColabTurtle.Turtle import *\n",
        "\n",
        "initializeTurtle(initial_speed=10)\n",
        "width(2)\n",
        "left(-90)\n",
        "\n",
        "\n",
        "# Dessin du grand carré\n",
        "penup()\n",
        "goto(200,450)\n",
        "pendown()\n",
        "for _ in range(4) :\n",
        "    forward(400)\n",
        "    left(90)\n",
        "\n",
        "#premier petit carré\n",
        "penup()\n",
        "goto(250,400)\n",
        "pendown()\n",
        "for _ in range(4):\n",
        "    forward(100)\n",
        "    left(90)\n",
        "\n",
        "#deuxième petit carré\n",
        "penup()\n",
        "goto(450,400)\n",
        "pendown()\n",
        "for _ in range(4):\n",
        "    forward(100)\n",
        "    left(90)\n",
        "\n",
        "#troisième petit carré\n",
        "penup()\n",
        "goto(450,200)\n",
        "pendown()\n",
        "for _ in range(4):\n",
        "    forward(100)\n",
        "    left(90)\n",
        "\n",
        "#quatrième petit carré\n",
        "penup()\n",
        "goto(250,200)\n",
        "pendown()\n",
        "for _ in range(4):\n",
        "    forward(100)\n",
        "    left(90)\n",
        "\n"
      ],
      "execution_count": null,
      "outputs": [
        {
          "output_type": "stream",
          "name": "stdout",
          "text": [
            "Collecting ColabTurtle\n",
            "  Downloading ColabTurtle-2.1.0.tar.gz (6.8 kB)\n",
            "Building wheels for collected packages: ColabTurtle\n",
            "  Building wheel for ColabTurtle (setup.py) ... \u001b[?25l\u001b[?25hdone\n",
            "  Created wheel for ColabTurtle: filename=ColabTurtle-2.1.0-py3-none-any.whl size=7655 sha256=1fee7690fdb28f9830c019852c009971397d6977aeb1d29fccd1544f304538b7\n",
            "  Stored in directory: /root/.cache/pip/wheels/0d/ab/65/cc4478508751448dfb4ecb20a6533082855c227dfce8c13902\n",
            "Successfully built ColabTurtle\n",
            "Installing collected packages: ColabTurtle\n",
            "Successfully installed ColabTurtle-2.1.0\n"
          ]
        },
        {
          "output_type": "display_data",
          "data": {
            "text/html": [
              "\n",
              "      <svg width=\"800\" height=\"500\">\n",
              "        <rect width=\"100%\" height=\"100%\" fill=\"black\"/>\n",
              "        <line x1=\"200\" y1=\"450\" x2=\"600.0\" y2=\"450.0\" stroke-linecap=\"round\" style=\"stroke:white;stroke-width:2\"/><line x1=\"600.0\" y1=\"450.0\" x2=\"600.0\" y2=\"50.0\" stroke-linecap=\"round\" style=\"stroke:white;stroke-width:2\"/><line x1=\"600.0\" y1=\"50.0\" x2=\"200.0\" y2=\"50.0\" stroke-linecap=\"round\" style=\"stroke:white;stroke-width:2\"/><line x1=\"200.0\" y1=\"50.0\" x2=\"200.0\" y2=\"450.0\" stroke-linecap=\"round\" style=\"stroke:white;stroke-width:2\"/><line x1=\"250\" y1=\"400\" x2=\"350.0\" y2=\"400.0\" stroke-linecap=\"round\" style=\"stroke:white;stroke-width:2\"/><line x1=\"350.0\" y1=\"400.0\" x2=\"350.0\" y2=\"300.0\" stroke-linecap=\"round\" style=\"stroke:white;stroke-width:2\"/><line x1=\"350.0\" y1=\"300.0\" x2=\"250.0\" y2=\"300.0\" stroke-linecap=\"round\" style=\"stroke:white;stroke-width:2\"/><line x1=\"250.0\" y1=\"300.0\" x2=\"250.0\" y2=\"400.0\" stroke-linecap=\"round\" style=\"stroke:white;stroke-width:2\"/><line x1=\"450\" y1=\"400\" x2=\"550.0\" y2=\"400.0\" stroke-linecap=\"round\" style=\"stroke:white;stroke-width:2\"/><line x1=\"550.0\" y1=\"400.0\" x2=\"550.0\" y2=\"300.0\" stroke-linecap=\"round\" style=\"stroke:white;stroke-width:2\"/><line x1=\"550.0\" y1=\"300.0\" x2=\"450.0\" y2=\"300.0\" stroke-linecap=\"round\" style=\"stroke:white;stroke-width:2\"/><line x1=\"450.0\" y1=\"300.0\" x2=\"450.0\" y2=\"400.0\" stroke-linecap=\"round\" style=\"stroke:white;stroke-width:2\"/><line x1=\"450\" y1=\"200\" x2=\"550.0\" y2=\"200.0\" stroke-linecap=\"round\" style=\"stroke:white;stroke-width:2\"/><line x1=\"550.0\" y1=\"200.0\" x2=\"550.0\" y2=\"100.0\" stroke-linecap=\"round\" style=\"stroke:white;stroke-width:2\"/><line x1=\"550.0\" y1=\"100.0\" x2=\"450.0\" y2=\"100.0\" stroke-linecap=\"round\" style=\"stroke:white;stroke-width:2\"/><line x1=\"450.0\" y1=\"100.0\" x2=\"450.0\" y2=\"200.0\" stroke-linecap=\"round\" style=\"stroke:white;stroke-width:2\"/><line x1=\"250\" y1=\"200\" x2=\"350.0\" y2=\"200.0\" stroke-linecap=\"round\" style=\"stroke:white;stroke-width:2\"/><line x1=\"350.0\" y1=\"200.0\" x2=\"350.0\" y2=\"100.0\" stroke-linecap=\"round\" style=\"stroke:white;stroke-width:2\"/><line x1=\"350.0\" y1=\"100.0\" x2=\"250.0\" y2=\"100.0\" stroke-linecap=\"round\" style=\"stroke:white;stroke-width:2\"/><line x1=\"250.0\" y1=\"100.0\" x2=\"250.0\" y2=\"200.0\" stroke-linecap=\"round\" style=\"stroke:white;stroke-width:2\"/>\n",
              "        <g visibility=visible transform=\"rotate(90,250.0,200.0) translate(232.0, 182.0)\">\n",
              "<path style=\" stroke:none;fill-rule:evenodd;fill:white;fill-opacity:1;\" d=\"M 18.214844 0.632812 C 16.109375 1.800781 15.011719 4.074219 15.074219 7.132812 L 15.085938 7.652344 L 14.785156 7.496094 C 13.476562 6.824219 11.957031 6.671875 10.40625 7.066406 C 8.46875 7.550781 6.515625 9.15625 4.394531 11.992188 C 3.0625 13.777344 2.679688 14.636719 3.042969 15.027344 L 3.15625 15.152344 L 3.519531 15.152344 C 4.238281 15.152344 4.828125 14.886719 8.1875 13.039062 C 9.386719 12.378906 10.371094 11.839844 10.378906 11.839844 C 10.386719 11.839844 10.355469 11.929688 10.304688 12.035156 C 9.832031 13.09375 9.257812 14.820312 8.96875 16.078125 C 7.914062 20.652344 8.617188 24.53125 11.070312 27.660156 C 11.351562 28.015625 11.363281 27.914062 10.972656 28.382812 C 8.925781 30.84375 7.945312 33.28125 8.238281 35.1875 C 8.289062 35.527344 8.28125 35.523438 8.917969 35.523438 C 10.941406 35.523438 13.074219 34.207031 15.136719 31.6875 C 15.359375 31.417969 15.328125 31.425781 15.5625 31.574219 C 16.292969 32.042969 18.023438 32.964844 18.175781 32.964844 C 18.335938 32.964844 19.941406 32.210938 20.828125 31.71875 C 20.996094 31.625 21.136719 31.554688 21.136719 31.558594 C 21.203125 31.664062 21.898438 32.414062 22.222656 32.730469 C 23.835938 34.300781 25.5625 35.132812 27.582031 35.300781 C 27.90625 35.328125 27.9375 35.308594 28.007812 34.984375 C 28.382812 33.242188 27.625 30.925781 25.863281 28.425781 L 25.542969 27.96875 L 25.699219 27.785156 C 28.945312 23.960938 29.132812 18.699219 26.257812 11.96875 L 26.207031 11.84375 L 27.945312 12.703125 C 31.53125 14.476562 32.316406 14.800781 33.03125 14.800781 C 33.976562 14.800781 33.78125 13.9375 32.472656 12.292969 C 28.519531 7.355469 25.394531 5.925781 21.921875 7.472656 L 21.558594 7.636719 L 21.578125 7.542969 C 21.699219 6.992188 21.761719 5.742188 21.699219 5.164062 C 21.496094 3.296875 20.664062 1.964844 19.003906 0.855469 C 18.480469 0.503906 18.457031 0.5 18.214844 0.632812\"/>\n",
              "</g>\n",
              "      </svg>\n",
              "    "
            ],
            "text/plain": [
              "<IPython.core.display.HTML object>"
            ]
          },
          "metadata": {}
        }
      ]
    },
    {
      "cell_type": "markdown",
      "metadata": {
        "id": "IHtbJ9gi8slI"
      },
      "source": [
        "## Simplifier le code avec une fonction"
      ]
    },
    {
      "cell_type": "code",
      "metadata": {
        "id": "aE7cN0Au8vyF"
      },
      "source": [
        "def dessine_petit_carre():\n",
        "    for _ in range(4):\n",
        "        forward(100)\n",
        "        left(90)\n"
      ],
      "execution_count": null,
      "outputs": []
    },
    {
      "cell_type": "markdown",
      "metadata": {
        "id": "ZSBAZ1qL88Tm"
      },
      "source": [
        "##Syntaxe d'une fonction\n",
        "\n",
        "* mot clé `def`\n",
        "* suivi du `nom_de_la_fonction`\n",
        "* suivi de `()`\n",
        "* suivi de ` : `\n",
        "\n",
        "Le corps de la fonction est **indenté**"
      ]
    },
    {
      "cell_type": "code",
      "metadata": {
        "id": "Yc_4cJj69atH",
        "colab": {
          "base_uri": "https://localhost:8080/",
          "height": 541
        },
        "outputId": "e4ee6673-1d84-46a1-e40b-df0d32d2c60d"
      },
      "source": [
        "initializeTurtle(initial_speed=10)\n",
        "width(2)\n",
        "left(-90)\n",
        "\n",
        "# Dessin du grand carré\n",
        "penup()\n",
        "goto(200,450)\n",
        "pendown()\n",
        "for _ in range(4) :\n",
        "    forward(400)\n",
        "    left(90)\n",
        "\n",
        "#premier petit carré\n",
        "penup()\n",
        "goto(250,400)\n",
        "pendown()\n",
        "dessine_petit_carre()\n",
        "\n",
        "#deuxième petit carré\n",
        "penup()\n",
        "goto(450,400)\n",
        "pendown()\n",
        "dessine_petit_carre()\n",
        "\n",
        "#troisième petit carré\n",
        "penup()\n",
        "goto(450,200)\n",
        "pendown()\n",
        "dessine_petit_carre()\n",
        "\n",
        "#quatrième petit carré\n",
        "penup()\n",
        "goto(250,200)\n",
        "pendown()\n",
        "dessine_petit_carre()\n",
        "\n"
      ],
      "execution_count": null,
      "outputs": [
        {
          "output_type": "display_data",
          "data": {
            "text/html": [
              "\n",
              "      <svg width=\"800\" height=\"500\">\n",
              "        <rect width=\"100%\" height=\"100%\" fill=\"black\"/>\n",
              "        <line x1=\"200\" y1=\"450\" x2=\"600.0\" y2=\"450.0\" stroke-linecap=\"round\" style=\"stroke:white;stroke-width:2\"/><line x1=\"600.0\" y1=\"450.0\" x2=\"600.0\" y2=\"50.0\" stroke-linecap=\"round\" style=\"stroke:white;stroke-width:2\"/><line x1=\"600.0\" y1=\"50.0\" x2=\"200.0\" y2=\"50.0\" stroke-linecap=\"round\" style=\"stroke:white;stroke-width:2\"/><line x1=\"200.0\" y1=\"50.0\" x2=\"200.0\" y2=\"450.0\" stroke-linecap=\"round\" style=\"stroke:white;stroke-width:2\"/><line x1=\"250\" y1=\"400\" x2=\"350.0\" y2=\"400.0\" stroke-linecap=\"round\" style=\"stroke:white;stroke-width:2\"/><line x1=\"350.0\" y1=\"400.0\" x2=\"350.0\" y2=\"300.0\" stroke-linecap=\"round\" style=\"stroke:white;stroke-width:2\"/><line x1=\"350.0\" y1=\"300.0\" x2=\"250.0\" y2=\"300.0\" stroke-linecap=\"round\" style=\"stroke:white;stroke-width:2\"/><line x1=\"250.0\" y1=\"300.0\" x2=\"250.0\" y2=\"400.0\" stroke-linecap=\"round\" style=\"stroke:white;stroke-width:2\"/><line x1=\"450\" y1=\"400\" x2=\"550.0\" y2=\"400.0\" stroke-linecap=\"round\" style=\"stroke:white;stroke-width:2\"/><line x1=\"550.0\" y1=\"400.0\" x2=\"550.0\" y2=\"300.0\" stroke-linecap=\"round\" style=\"stroke:white;stroke-width:2\"/><line x1=\"550.0\" y1=\"300.0\" x2=\"450.0\" y2=\"300.0\" stroke-linecap=\"round\" style=\"stroke:white;stroke-width:2\"/><line x1=\"450.0\" y1=\"300.0\" x2=\"450.0\" y2=\"400.0\" stroke-linecap=\"round\" style=\"stroke:white;stroke-width:2\"/><line x1=\"450\" y1=\"200\" x2=\"550.0\" y2=\"200.0\" stroke-linecap=\"round\" style=\"stroke:white;stroke-width:2\"/><line x1=\"550.0\" y1=\"200.0\" x2=\"550.0\" y2=\"100.0\" stroke-linecap=\"round\" style=\"stroke:white;stroke-width:2\"/><line x1=\"550.0\" y1=\"100.0\" x2=\"450.0\" y2=\"100.0\" stroke-linecap=\"round\" style=\"stroke:white;stroke-width:2\"/><line x1=\"450.0\" y1=\"100.0\" x2=\"450.0\" y2=\"200.0\" stroke-linecap=\"round\" style=\"stroke:white;stroke-width:2\"/><line x1=\"250\" y1=\"200\" x2=\"350.0\" y2=\"200.0\" stroke-linecap=\"round\" style=\"stroke:white;stroke-width:2\"/><line x1=\"350.0\" y1=\"200.0\" x2=\"350.0\" y2=\"100.0\" stroke-linecap=\"round\" style=\"stroke:white;stroke-width:2\"/><line x1=\"350.0\" y1=\"100.0\" x2=\"250.0\" y2=\"100.0\" stroke-linecap=\"round\" style=\"stroke:white;stroke-width:2\"/><line x1=\"250.0\" y1=\"100.0\" x2=\"250.0\" y2=\"200.0\" stroke-linecap=\"round\" style=\"stroke:white;stroke-width:2\"/>\n",
              "        <g visibility=visible transform=\"rotate(90,250.0,200.0) translate(232.0, 182.0)\">\n",
              "<path style=\" stroke:none;fill-rule:evenodd;fill:white;fill-opacity:1;\" d=\"M 18.214844 0.632812 C 16.109375 1.800781 15.011719 4.074219 15.074219 7.132812 L 15.085938 7.652344 L 14.785156 7.496094 C 13.476562 6.824219 11.957031 6.671875 10.40625 7.066406 C 8.46875 7.550781 6.515625 9.15625 4.394531 11.992188 C 3.0625 13.777344 2.679688 14.636719 3.042969 15.027344 L 3.15625 15.152344 L 3.519531 15.152344 C 4.238281 15.152344 4.828125 14.886719 8.1875 13.039062 C 9.386719 12.378906 10.371094 11.839844 10.378906 11.839844 C 10.386719 11.839844 10.355469 11.929688 10.304688 12.035156 C 9.832031 13.09375 9.257812 14.820312 8.96875 16.078125 C 7.914062 20.652344 8.617188 24.53125 11.070312 27.660156 C 11.351562 28.015625 11.363281 27.914062 10.972656 28.382812 C 8.925781 30.84375 7.945312 33.28125 8.238281 35.1875 C 8.289062 35.527344 8.28125 35.523438 8.917969 35.523438 C 10.941406 35.523438 13.074219 34.207031 15.136719 31.6875 C 15.359375 31.417969 15.328125 31.425781 15.5625 31.574219 C 16.292969 32.042969 18.023438 32.964844 18.175781 32.964844 C 18.335938 32.964844 19.941406 32.210938 20.828125 31.71875 C 20.996094 31.625 21.136719 31.554688 21.136719 31.558594 C 21.203125 31.664062 21.898438 32.414062 22.222656 32.730469 C 23.835938 34.300781 25.5625 35.132812 27.582031 35.300781 C 27.90625 35.328125 27.9375 35.308594 28.007812 34.984375 C 28.382812 33.242188 27.625 30.925781 25.863281 28.425781 L 25.542969 27.96875 L 25.699219 27.785156 C 28.945312 23.960938 29.132812 18.699219 26.257812 11.96875 L 26.207031 11.84375 L 27.945312 12.703125 C 31.53125 14.476562 32.316406 14.800781 33.03125 14.800781 C 33.976562 14.800781 33.78125 13.9375 32.472656 12.292969 C 28.519531 7.355469 25.394531 5.925781 21.921875 7.472656 L 21.558594 7.636719 L 21.578125 7.542969 C 21.699219 6.992188 21.761719 5.742188 21.699219 5.164062 C 21.496094 3.296875 20.664062 1.964844 19.003906 0.855469 C 18.480469 0.503906 18.457031 0.5 18.214844 0.632812\"/>\n",
              "</g>\n",
              "      </svg>\n",
              "    "
            ],
            "text/plain": [
              "<IPython.core.display.HTML object>"
            ]
          },
          "metadata": {}
        }
      ]
    },
    {
      "cell_type": "markdown",
      "metadata": {
        "id": "WbliZ5Ix9sWU"
      },
      "source": [
        "Pour exécuter une fonction, on fait **appel** à la fonction en écrivant son nom suivi des parentèses.\n",
        "\n",
        "Ainsi : `dessine_petit_carre()`  devient une instruction comme `penup()` ou `pendown()`"
      ]
    },
    {
      "cell_type": "markdown",
      "metadata": {
        "id": "ZsBhkt0R-NC3"
      },
      "source": [
        "# Définir une fonction avec paramètres"
      ]
    },
    {
      "cell_type": "markdown",
      "metadata": {
        "id": "ha_k3pRg-S23"
      },
      "source": [
        "On peut encore améliorer notre définition de fonction en observant les similitudes de construction du grand carré et des petits carrés.\n",
        "\n",
        "    # Dessin du grand carré\n",
        "    penup()\n",
        "    goto(200,450)\n",
        "    left(-90)\n",
        "    pendown()\n",
        "    for _ in range(4) :\n",
        "        forward(400)\n",
        "        left(90)\n",
        "\n",
        "    #premier petit carré\n",
        "    penup()\n",
        "    goto(250,400)\n",
        "    pendown()\n",
        "    for _ in range(4):\n",
        "        forward(100)\n",
        "        left(90)"
      ]
    },
    {
      "cell_type": "markdown",
      "metadata": {
        "id": "KS4eBPnG-8Yt"
      },
      "source": [
        "Presque tout le code est indentique sauf : \n",
        "* les coordonnées du point de départ\n",
        "* la valeur du paramètre de forward()\n",
        "\n",
        "On peut définir une nouvelle fonction `dessine_carre` de la manière suivante."
      ]
    },
    {
      "cell_type": "code",
      "metadata": {
        "id": "iDg0LwJw_Q4h"
      },
      "source": [
        "def dessine_carre(x,y,long) : \n",
        "    penup()\n",
        "    goto(x,y)\n",
        "    pendown()\n",
        "    for _ in range(4) :\n",
        "        forward(long)\n",
        "        left(90)"
      ],
      "execution_count": null,
      "outputs": []
    },
    {
      "cell_type": "code",
      "metadata": {
        "id": "PscYjaDPAfLr",
        "colab": {
          "base_uri": "https://localhost:8080/",
          "height": 541
        },
        "outputId": "e801b6b3-77d9-4649-c64e-f8a9e7441ee0"
      },
      "source": [
        "initializeTurtle(initial_speed=10)\n",
        "width(2)\n",
        "left(-90)\n",
        "\n",
        "# Dessin du grand carré\n",
        "dessine_carre(200,450,400)\n",
        "\n",
        "#premier petit carré\n",
        "dessine_carre(250,400,100)\n",
        "\n",
        "#deuxième petit carré\n",
        "dessine_carre(450,400,100)\n",
        "\n",
        "#troisième petit carré\n",
        "dessine_carre(450,200,100)\n",
        "\n",
        "#quatrième petit carré\n",
        "dessine_carre(250,200,100)\n"
      ],
      "execution_count": null,
      "outputs": [
        {
          "output_type": "display_data",
          "data": {
            "text/html": [
              "\n",
              "      <svg width=\"800\" height=\"500\">\n",
              "        <rect width=\"100%\" height=\"100%\" fill=\"black\"/>\n",
              "        <line x1=\"200\" y1=\"450\" x2=\"600.0\" y2=\"450.0\" stroke-linecap=\"round\" style=\"stroke:white;stroke-width:2\"/><line x1=\"600.0\" y1=\"450.0\" x2=\"600.0\" y2=\"50.0\" stroke-linecap=\"round\" style=\"stroke:white;stroke-width:2\"/><line x1=\"600.0\" y1=\"50.0\" x2=\"200.0\" y2=\"50.0\" stroke-linecap=\"round\" style=\"stroke:white;stroke-width:2\"/><line x1=\"200.0\" y1=\"50.0\" x2=\"200.0\" y2=\"450.0\" stroke-linecap=\"round\" style=\"stroke:white;stroke-width:2\"/><line x1=\"250\" y1=\"400\" x2=\"350.0\" y2=\"400.0\" stroke-linecap=\"round\" style=\"stroke:white;stroke-width:2\"/><line x1=\"350.0\" y1=\"400.0\" x2=\"350.0\" y2=\"300.0\" stroke-linecap=\"round\" style=\"stroke:white;stroke-width:2\"/><line x1=\"350.0\" y1=\"300.0\" x2=\"250.0\" y2=\"300.0\" stroke-linecap=\"round\" style=\"stroke:white;stroke-width:2\"/><line x1=\"250.0\" y1=\"300.0\" x2=\"250.0\" y2=\"400.0\" stroke-linecap=\"round\" style=\"stroke:white;stroke-width:2\"/><line x1=\"450\" y1=\"400\" x2=\"550.0\" y2=\"400.0\" stroke-linecap=\"round\" style=\"stroke:white;stroke-width:2\"/><line x1=\"550.0\" y1=\"400.0\" x2=\"550.0\" y2=\"300.0\" stroke-linecap=\"round\" style=\"stroke:white;stroke-width:2\"/><line x1=\"550.0\" y1=\"300.0\" x2=\"450.0\" y2=\"300.0\" stroke-linecap=\"round\" style=\"stroke:white;stroke-width:2\"/><line x1=\"450.0\" y1=\"300.0\" x2=\"450.0\" y2=\"400.0\" stroke-linecap=\"round\" style=\"stroke:white;stroke-width:2\"/><line x1=\"450\" y1=\"200\" x2=\"550.0\" y2=\"200.0\" stroke-linecap=\"round\" style=\"stroke:white;stroke-width:2\"/><line x1=\"550.0\" y1=\"200.0\" x2=\"550.0\" y2=\"100.0\" stroke-linecap=\"round\" style=\"stroke:white;stroke-width:2\"/><line x1=\"550.0\" y1=\"100.0\" x2=\"450.0\" y2=\"100.0\" stroke-linecap=\"round\" style=\"stroke:white;stroke-width:2\"/><line x1=\"450.0\" y1=\"100.0\" x2=\"450.0\" y2=\"200.0\" stroke-linecap=\"round\" style=\"stroke:white;stroke-width:2\"/><line x1=\"250\" y1=\"200\" x2=\"350.0\" y2=\"200.0\" stroke-linecap=\"round\" style=\"stroke:white;stroke-width:2\"/><line x1=\"350.0\" y1=\"200.0\" x2=\"350.0\" y2=\"100.0\" stroke-linecap=\"round\" style=\"stroke:white;stroke-width:2\"/><line x1=\"350.0\" y1=\"100.0\" x2=\"250.0\" y2=\"100.0\" stroke-linecap=\"round\" style=\"stroke:white;stroke-width:2\"/><line x1=\"250.0\" y1=\"100.0\" x2=\"250.0\" y2=\"200.0\" stroke-linecap=\"round\" style=\"stroke:white;stroke-width:2\"/>\n",
              "        <g visibility=visible transform=\"rotate(90,250.0,200.0) translate(232.0, 182.0)\">\n",
              "<path style=\" stroke:none;fill-rule:evenodd;fill:white;fill-opacity:1;\" d=\"M 18.214844 0.632812 C 16.109375 1.800781 15.011719 4.074219 15.074219 7.132812 L 15.085938 7.652344 L 14.785156 7.496094 C 13.476562 6.824219 11.957031 6.671875 10.40625 7.066406 C 8.46875 7.550781 6.515625 9.15625 4.394531 11.992188 C 3.0625 13.777344 2.679688 14.636719 3.042969 15.027344 L 3.15625 15.152344 L 3.519531 15.152344 C 4.238281 15.152344 4.828125 14.886719 8.1875 13.039062 C 9.386719 12.378906 10.371094 11.839844 10.378906 11.839844 C 10.386719 11.839844 10.355469 11.929688 10.304688 12.035156 C 9.832031 13.09375 9.257812 14.820312 8.96875 16.078125 C 7.914062 20.652344 8.617188 24.53125 11.070312 27.660156 C 11.351562 28.015625 11.363281 27.914062 10.972656 28.382812 C 8.925781 30.84375 7.945312 33.28125 8.238281 35.1875 C 8.289062 35.527344 8.28125 35.523438 8.917969 35.523438 C 10.941406 35.523438 13.074219 34.207031 15.136719 31.6875 C 15.359375 31.417969 15.328125 31.425781 15.5625 31.574219 C 16.292969 32.042969 18.023438 32.964844 18.175781 32.964844 C 18.335938 32.964844 19.941406 32.210938 20.828125 31.71875 C 20.996094 31.625 21.136719 31.554688 21.136719 31.558594 C 21.203125 31.664062 21.898438 32.414062 22.222656 32.730469 C 23.835938 34.300781 25.5625 35.132812 27.582031 35.300781 C 27.90625 35.328125 27.9375 35.308594 28.007812 34.984375 C 28.382812 33.242188 27.625 30.925781 25.863281 28.425781 L 25.542969 27.96875 L 25.699219 27.785156 C 28.945312 23.960938 29.132812 18.699219 26.257812 11.96875 L 26.207031 11.84375 L 27.945312 12.703125 C 31.53125 14.476562 32.316406 14.800781 33.03125 14.800781 C 33.976562 14.800781 33.78125 13.9375 32.472656 12.292969 C 28.519531 7.355469 25.394531 5.925781 21.921875 7.472656 L 21.558594 7.636719 L 21.578125 7.542969 C 21.699219 6.992188 21.761719 5.742188 21.699219 5.164062 C 21.496094 3.296875 20.664062 1.964844 19.003906 0.855469 C 18.480469 0.503906 18.457031 0.5 18.214844 0.632812\"/>\n",
              "</g>\n",
              "      </svg>\n",
              "    "
            ],
            "text/plain": [
              "<IPython.core.display.HTML object>"
            ]
          },
          "metadata": {}
        }
      ]
    },
    {
      "cell_type": "code",
      "metadata": {
        "colab": {
          "base_uri": "https://localhost:8080/",
          "height": 541
        },
        "id": "1CzUo7EqzJNZ",
        "outputId": "29471df4-fd8d-4408-dd91-f92f559b1621"
      },
      "source": [
        "dessine_carre(210,150,75)"
      ],
      "execution_count": null,
      "outputs": [
        {
          "output_type": "display_data",
          "data": {
            "text/html": [
              "\n",
              "      <svg width=\"800\" height=\"500\">\n",
              "        <rect width=\"100%\" height=\"100%\" fill=\"black\"/>\n",
              "        <line x1=\"200\" y1=\"450\" x2=\"600.0\" y2=\"450.0\" stroke-linecap=\"round\" style=\"stroke:white;stroke-width:2\"/><line x1=\"600.0\" y1=\"450.0\" x2=\"600.0\" y2=\"50.0\" stroke-linecap=\"round\" style=\"stroke:white;stroke-width:2\"/><line x1=\"600.0\" y1=\"50.0\" x2=\"200.0\" y2=\"50.0\" stroke-linecap=\"round\" style=\"stroke:white;stroke-width:2\"/><line x1=\"200.0\" y1=\"50.0\" x2=\"200.0\" y2=\"450.0\" stroke-linecap=\"round\" style=\"stroke:white;stroke-width:2\"/><line x1=\"250\" y1=\"400\" x2=\"350.0\" y2=\"400.0\" stroke-linecap=\"round\" style=\"stroke:white;stroke-width:2\"/><line x1=\"350.0\" y1=\"400.0\" x2=\"350.0\" y2=\"300.0\" stroke-linecap=\"round\" style=\"stroke:white;stroke-width:2\"/><line x1=\"350.0\" y1=\"300.0\" x2=\"250.0\" y2=\"300.0\" stroke-linecap=\"round\" style=\"stroke:white;stroke-width:2\"/><line x1=\"250.0\" y1=\"300.0\" x2=\"250.0\" y2=\"400.0\" stroke-linecap=\"round\" style=\"stroke:white;stroke-width:2\"/><line x1=\"450\" y1=\"400\" x2=\"550.0\" y2=\"400.0\" stroke-linecap=\"round\" style=\"stroke:white;stroke-width:2\"/><line x1=\"550.0\" y1=\"400.0\" x2=\"550.0\" y2=\"300.0\" stroke-linecap=\"round\" style=\"stroke:white;stroke-width:2\"/><line x1=\"550.0\" y1=\"300.0\" x2=\"450.0\" y2=\"300.0\" stroke-linecap=\"round\" style=\"stroke:white;stroke-width:2\"/><line x1=\"450.0\" y1=\"300.0\" x2=\"450.0\" y2=\"400.0\" stroke-linecap=\"round\" style=\"stroke:white;stroke-width:2\"/><line x1=\"450\" y1=\"200\" x2=\"550.0\" y2=\"200.0\" stroke-linecap=\"round\" style=\"stroke:white;stroke-width:2\"/><line x1=\"550.0\" y1=\"200.0\" x2=\"550.0\" y2=\"100.0\" stroke-linecap=\"round\" style=\"stroke:white;stroke-width:2\"/><line x1=\"550.0\" y1=\"100.0\" x2=\"450.0\" y2=\"100.0\" stroke-linecap=\"round\" style=\"stroke:white;stroke-width:2\"/><line x1=\"450.0\" y1=\"100.0\" x2=\"450.0\" y2=\"200.0\" stroke-linecap=\"round\" style=\"stroke:white;stroke-width:2\"/><line x1=\"250\" y1=\"200\" x2=\"350.0\" y2=\"200.0\" stroke-linecap=\"round\" style=\"stroke:white;stroke-width:2\"/><line x1=\"350.0\" y1=\"200.0\" x2=\"350.0\" y2=\"100.0\" stroke-linecap=\"round\" style=\"stroke:white;stroke-width:2\"/><line x1=\"350.0\" y1=\"100.0\" x2=\"250.0\" y2=\"100.0\" stroke-linecap=\"round\" style=\"stroke:white;stroke-width:2\"/><line x1=\"250.0\" y1=\"100.0\" x2=\"250.0\" y2=\"200.0\" stroke-linecap=\"round\" style=\"stroke:white;stroke-width:2\"/><line x1=\"210\" y1=\"150\" x2=\"285.0\" y2=\"150.0\" stroke-linecap=\"round\" style=\"stroke:white;stroke-width:2\"/><line x1=\"285.0\" y1=\"150.0\" x2=\"285.0\" y2=\"75.0\" stroke-linecap=\"round\" style=\"stroke:white;stroke-width:2\"/><line x1=\"285.0\" y1=\"75.0\" x2=\"210.0\" y2=\"75.0\" stroke-linecap=\"round\" style=\"stroke:white;stroke-width:2\"/><line x1=\"210.0\" y1=\"75.0\" x2=\"210.0\" y2=\"150.0\" stroke-linecap=\"round\" style=\"stroke:white;stroke-width:2\"/>\n",
              "        <g visibility=visible transform=\"rotate(90,210.0,150.0) translate(192.0, 132.0)\">\n",
              "<path style=\" stroke:none;fill-rule:evenodd;fill:white;fill-opacity:1;\" d=\"M 18.214844 0.632812 C 16.109375 1.800781 15.011719 4.074219 15.074219 7.132812 L 15.085938 7.652344 L 14.785156 7.496094 C 13.476562 6.824219 11.957031 6.671875 10.40625 7.066406 C 8.46875 7.550781 6.515625 9.15625 4.394531 11.992188 C 3.0625 13.777344 2.679688 14.636719 3.042969 15.027344 L 3.15625 15.152344 L 3.519531 15.152344 C 4.238281 15.152344 4.828125 14.886719 8.1875 13.039062 C 9.386719 12.378906 10.371094 11.839844 10.378906 11.839844 C 10.386719 11.839844 10.355469 11.929688 10.304688 12.035156 C 9.832031 13.09375 9.257812 14.820312 8.96875 16.078125 C 7.914062 20.652344 8.617188 24.53125 11.070312 27.660156 C 11.351562 28.015625 11.363281 27.914062 10.972656 28.382812 C 8.925781 30.84375 7.945312 33.28125 8.238281 35.1875 C 8.289062 35.527344 8.28125 35.523438 8.917969 35.523438 C 10.941406 35.523438 13.074219 34.207031 15.136719 31.6875 C 15.359375 31.417969 15.328125 31.425781 15.5625 31.574219 C 16.292969 32.042969 18.023438 32.964844 18.175781 32.964844 C 18.335938 32.964844 19.941406 32.210938 20.828125 31.71875 C 20.996094 31.625 21.136719 31.554688 21.136719 31.558594 C 21.203125 31.664062 21.898438 32.414062 22.222656 32.730469 C 23.835938 34.300781 25.5625 35.132812 27.582031 35.300781 C 27.90625 35.328125 27.9375 35.308594 28.007812 34.984375 C 28.382812 33.242188 27.625 30.925781 25.863281 28.425781 L 25.542969 27.96875 L 25.699219 27.785156 C 28.945312 23.960938 29.132812 18.699219 26.257812 11.96875 L 26.207031 11.84375 L 27.945312 12.703125 C 31.53125 14.476562 32.316406 14.800781 33.03125 14.800781 C 33.976562 14.800781 33.78125 13.9375 32.472656 12.292969 C 28.519531 7.355469 25.394531 5.925781 21.921875 7.472656 L 21.558594 7.636719 L 21.578125 7.542969 C 21.699219 6.992188 21.761719 5.742188 21.699219 5.164062 C 21.496094 3.296875 20.664062 1.964844 19.003906 0.855469 C 18.480469 0.503906 18.457031 0.5 18.214844 0.632812\"/>\n",
              "</g>\n",
              "      </svg>\n",
              "    "
            ],
            "text/plain": [
              "<IPython.core.display.HTML object>"
            ]
          },
          "metadata": {}
        }
      ]
    },
    {
      "cell_type": "markdown",
      "metadata": {
        "id": "Gl2T06BkCS2w"
      },
      "source": [
        "## Vocabulaire\n",
        "\n",
        "* La fonction `dessine_carre(x,y,long)` possède trois **paramètres** : `x` `y` et `long`\n",
        "* Ces **paramètres formels** sont des **variables** utilisées pour **définir** la fonction.\n",
        "* lorsqu'on fait **appel** à la fonction, des **valeurs** sont fournies pour chacun des paramètres formels :  `x y long`. \n",
        "* Ces valeurs sont parfois appelées **paramètres réels** ou **arguments**. \n",
        "\n",
        "Ainsi:\n",
        "* pour dessiner un \"petit carré\" la valeur du paramètre `long` vaut 100.\n",
        "* pour dessiner un \"grand carré\" la valeur du paramètre `long` vaut 400."
      ]
    },
    {
      "cell_type": "markdown",
      "metadata": {
        "id": "A8TlfcCMDtao"
      },
      "source": [
        "# Fonction qui renvoie un résultat"
      ]
    },
    {
      "cell_type": "markdown",
      "metadata": {
        "id": "knTLaNM7Dxb3"
      },
      "source": [
        "On peut définir une fonction en python, qui renvoie un résultat (comme le fait une fonction mathématique)."
      ]
    },
    {
      "cell_type": "code",
      "metadata": {
        "id": "GZWevgtZD3-X"
      },
      "source": [
        "def f(x):\n",
        "    return 3*x+5"
      ],
      "execution_count": 1,
      "outputs": []
    },
    {
      "cell_type": "markdown",
      "metadata": {
        "id": "3b_hPof1D8oX"
      },
      "source": [
        "Lorsqu'on fait appel à cette fonction, python calcule la valeur qui suit l'expression **`return`**"
      ]
    },
    {
      "cell_type": "code",
      "metadata": {
        "id": "TaD2VqFOEE8S",
        "colab": {
          "base_uri": "https://localhost:8080/"
        },
        "outputId": "da6477b7-644e-4a8d-f364-be3233b0f06e"
      },
      "source": [
        "a = f(0)\n",
        "print(a)"
      ],
      "execution_count": 2,
      "outputs": [
        {
          "output_type": "stream",
          "name": "stdout",
          "text": [
            "5\n"
          ]
        }
      ]
    },
    {
      "cell_type": "code",
      "metadata": {
        "id": "ugcQZ4ABEIyn",
        "colab": {
          "base_uri": "https://localhost:8080/"
        },
        "outputId": "86a39936-76ca-4fe5-c870-3a24a90a5f3f"
      },
      "source": [
        "b = f(10)\n",
        "print(b)"
      ],
      "execution_count": 3,
      "outputs": [
        {
          "output_type": "stream",
          "name": "stdout",
          "text": [
            "35\n"
          ]
        }
      ]
    },
    {
      "cell_type": "markdown",
      "metadata": {
        "id": "A5GDave6EPhQ"
      },
      "source": [
        "## A retenir : \n",
        "\n",
        "Lorsqu'une fonction **renvoie un résultat** (avec l'instruction return) un appel à cette fonction définit une **VALEUR**. Exemple : `f(0)` vaut 5\n",
        "\n",
        "Lorsqu'une fonction **ne renvoie aucun résultat**, un appel à cette fonction définit une **INSTRUCTION**. Exemple : `dessine_carre(250,200,100)`. En algorithmique, une telle instruction est appelée **procédure** plutôt que \"fonction\". \n",
        "\n",
        "En python, la même syntaxe permet de définir aussi bien une fonction qu'une procédure : on pourra parler de 'fonction' dans tous les cas. \n",
        "\n",
        "En python, une procédure est simplement une fonction qui ne renvoie aucun résultat. En fait, une telle fonction renvoie le resultat `None` : qui représente justement l'absence de résultat !"
      ]
    },
    {
      "cell_type": "markdown",
      "metadata": {
        "id": "kXQmNd5oGKjs"
      },
      "source": [
        "Exemples : dire si chaque code suivant définit une fonction ou une procédure."
      ]
    },
    {
      "cell_type": "code",
      "metadata": {
        "id": "UdHrVLbIGS2n"
      },
      "source": [
        "def suivant(n):\n",
        "    print(n+1)"
      ],
      "execution_count": 4,
      "outputs": []
    },
    {
      "cell_type": "code",
      "metadata": {
        "id": "GjZafuVRGWKP"
      },
      "source": [
        "def successeur(n):\n",
        "    return n+1"
      ],
      "execution_count": 5,
      "outputs": []
    },
    {
      "cell_type": "markdown",
      "metadata": {
        "id": "rrQ-sx7dGdw4"
      },
      "source": [
        "En mode interactif (console) la différence entre suivant et successeur n'est pas toujours visible..."
      ]
    },
    {
      "cell_type": "code",
      "metadata": {
        "id": "x41VbC6LGmqB",
        "colab": {
          "base_uri": "https://localhost:8080/"
        },
        "outputId": "34983f3a-c5ea-4dff-8baa-1f60e26eb047"
      },
      "source": [
        "suivant(4)"
      ],
      "execution_count": 6,
      "outputs": [
        {
          "output_type": "stream",
          "name": "stdout",
          "text": [
            "5\n"
          ]
        }
      ]
    },
    {
      "cell_type": "code",
      "metadata": {
        "id": "no407W0wGpxQ",
        "colab": {
          "base_uri": "https://localhost:8080/"
        },
        "outputId": "cbb883bb-8c4e-4156-9d5b-4101189d01be"
      },
      "source": [
        "successeur(4)"
      ],
      "execution_count": 7,
      "outputs": [
        {
          "output_type": "execute_result",
          "data": {
            "text/plain": [
              "5"
            ]
          },
          "metadata": {},
          "execution_count": 7
        }
      ]
    },
    {
      "cell_type": "markdown",
      "metadata": {
        "id": "4GBwjqryGs2C"
      },
      "source": [
        "Mais les deux instructions ne sont pas équivalentes"
      ]
    },
    {
      "cell_type": "code",
      "metadata": {
        "id": "1BX4hsafTUGu"
      },
      "source": [
        "a = successeur(2021)"
      ],
      "execution_count": 8,
      "outputs": []
    },
    {
      "cell_type": "code",
      "metadata": {
        "colab": {
          "base_uri": "https://localhost:8080/"
        },
        "id": "aiJe9b5pTYm2",
        "outputId": "4088d53e-13f5-4a59-e4e9-56c583a483c8"
      },
      "source": [
        "a"
      ],
      "execution_count": 9,
      "outputs": [
        {
          "output_type": "execute_result",
          "data": {
            "text/plain": [
              "2022"
            ]
          },
          "metadata": {},
          "execution_count": 9
        }
      ]
    },
    {
      "cell_type": "code",
      "metadata": {
        "colab": {
          "base_uri": "https://localhost:8080/"
        },
        "id": "AJNNsJ1iTaF-",
        "outputId": "122aaf59-780b-4205-8910-24bdb2a889ab"
      },
      "source": [
        "b = suivant(2022)"
      ],
      "execution_count": 10,
      "outputs": [
        {
          "output_type": "stream",
          "name": "stdout",
          "text": [
            "2023\n"
          ]
        }
      ]
    },
    {
      "cell_type": "code",
      "metadata": {
        "colab": {
          "base_uri": "https://localhost:8080/"
        },
        "id": "aT_R4ePTTqyC",
        "outputId": "dbe698f5-3452-417d-d61b-526feb53bfd7"
      },
      "source": [
        "print(b)"
      ],
      "execution_count": 12,
      "outputs": [
        {
          "output_type": "stream",
          "name": "stdout",
          "text": [
            "None\n"
          ]
        }
      ]
    },
    {
      "cell_type": "markdown",
      "metadata": {
        "id": "5qna57R6G5XF"
      },
      "source": [
        "## Une fonction qui renvoie plusieurs résultats ?"
      ]
    },
    {
      "cell_type": "code",
      "metadata": {
        "id": "rEUSgqbIG9Wg"
      },
      "source": [
        "def division_euclidienne(a,b):\n",
        "    quotient = a // b\n",
        "    reste = a % b\n",
        "    return (quotient, reste)\n",
        "\n",
        "(q,r) = division_euclidienne (2020, 500)\n",
        "\n",
        "print(q)\n",
        "print(r)"
      ],
      "execution_count": null,
      "outputs": []
    },
    {
      "cell_type": "markdown",
      "metadata": {
        "id": "lVftlGF9Go-j"
      },
      "source": [
        "# `return` met fin à l'exécution de la fonction"
      ]
    },
    {
      "cell_type": "markdown",
      "metadata": {
        "id": "eRJZGW5SRAfZ"
      },
      "source": [
        "Lors de l'exécution d'une fonction, si une instruction return est exécutée, elle met fin automatiquement à l'exécution de la fonction.\n",
        "\n",
        "Voir l'exemple ci-dessous"
      ]
    },
    {
      "cell_type": "code",
      "metadata": {
        "id": "fGO2Q77mRJ6w"
      },
      "source": [
        "def premier(n):\n",
        "    for d in range(2,n):\n",
        "        r = n % d\n",
        "        if r == 0 :\n",
        "            return False\n",
        "    return True"
      ],
      "execution_count": null,
      "outputs": []
    },
    {
      "cell_type": "markdown",
      "metadata": {
        "id": "j2tBnZpmSCJS"
      },
      "source": [
        "[Visualiser l'exécution de premier(5) sur PythonTutor](http://www.pythontutor.com/visualize.html#code=def%20premier%28n%29%3A%0A%20%20%20%20for%20d%20in%20range%282,n%29%3A%0A%20%20%20%20%20%20%20%20r%20%3D%20n%20%25%20d%0A%20%20%20%20%20%20%20%20if%20r%20%3D%3D%200%20%3A%0A%20%20%20%20%20%20%20%20%20%20%20%20return%20False%0A%20%20%20%20return%20True%0A%0Aprint%28premier%285%29%29&cumulative=false&curInstr=0&heapPrimitives=nevernest&mode=display&origin=opt-frontend.js&py=3&rawInputLstJSON=%5B%5D&textReferences=false)"
      ]
    },
    {
      "cell_type": "markdown",
      "metadata": {
        "id": "4Q984xhRRYJQ"
      },
      "source": [
        "[Visualiser l'exécution de premier(8) sur PythonTutor](http://www.pythontutor.com/visualize.html#code=def%20premier%28n%29%3A%0A%20%20%20%20for%20d%20in%20range%282,n%29%3A%0A%20%20%20%20%20%20%20%20r%20%3D%20n%20%25%20d%0A%20%20%20%20%20%20%20%20if%20r%20%3D%3D%200%20%3A%0A%20%20%20%20%20%20%20%20%20%20%20%20return%20False%0A%20%20%20%20return%20True%0A%0Aprint%28premier%288%29%29&cumulative=false&curInstr=0&heapPrimitives=nevernest&mode=display&origin=opt-frontend.js&py=3&rawInputLstJSON=%5B%5D&textReferences=false)"
      ]
    },
    {
      "cell_type": "markdown",
      "metadata": {
        "id": "b2I23notGznU"
      },
      "source": [
        "# Gestion des variables lors des appels de fonction"
      ]
    },
    {
      "cell_type": "markdown",
      "metadata": {
        "id": "SdCb22cGTR_x"
      },
      "source": [
        "Les paramètres d'une fonction, et les variables qui sont définies dans le corps de la fonction sont appelées **variables locales à la fonction**\n",
        "\n",
        "Principe général : une variable locale à une fonction n'existe que pendant que cette fonction est exécutée. Ensuite, elle disparaît. "
      ]
    },
    {
      "cell_type": "code",
      "metadata": {
        "id": "M9p4XZ6LT-Tz"
      },
      "source": [
        "def f(x):\n",
        "    y = x**2\n",
        "    return y\n",
        "\n",
        "a = 10\n",
        "print(f(a))"
      ],
      "execution_count": null,
      "outputs": []
    },
    {
      "cell_type": "code",
      "metadata": {
        "id": "4RS2hNn3UHNm"
      },
      "source": [
        "print(a)"
      ],
      "execution_count": null,
      "outputs": []
    },
    {
      "cell_type": "code",
      "metadata": {
        "id": "rHmvKwyLUJwP"
      },
      "source": [
        "print(x)"
      ],
      "execution_count": null,
      "outputs": []
    },
    {
      "cell_type": "code",
      "metadata": {
        "id": "bOpp_6oOUoM-"
      },
      "source": [
        "print(y)"
      ],
      "execution_count": null,
      "outputs": []
    },
    {
      "cell_type": "markdown",
      "metadata": {
        "id": "N_rg1tKcUN5l"
      },
      "source": [
        "[visualiser l'exécution](http://www.pythontutor.com/visualize.html#code=def%20f%28x%29%3A%0A%20%20%20%20y%20%3D%20x**2%0A%20%20%20%20return%20y%0A%0Aa%20%3D%2010%0Aprint%28f%28a%29%29&cumulative=false&curInstr=0&heapPrimitives=nevernest&mode=display&origin=opt-frontend.js&py=3&rawInputLstJSON=%5B%5D&textReferences=false)"
      ]
    },
    {
      "cell_type": "markdown",
      "metadata": {
        "id": "IuUTqjeXWTik"
      },
      "source": [
        "## variable locale, variable globale"
      ]
    },
    {
      "cell_type": "markdown",
      "metadata": {
        "id": "4ffA-LDYVgfp"
      },
      "source": [
        "Il faut comprendre que tout se passe de la même manière, même lorsqu'une variable globale et une variable locale portent le même nom !\n",
        "\n",
        "Voir l'exemple ci-dessous"
      ]
    },
    {
      "cell_type": "code",
      "metadata": {
        "id": "VMGlXlo2VtiR"
      },
      "source": [
        "def f(x):\n",
        "    a = x**2\n",
        "    return a\n",
        "\n",
        "a = 10\n",
        "print(f(a))"
      ],
      "execution_count": null,
      "outputs": []
    },
    {
      "cell_type": "code",
      "metadata": {
        "id": "2d-s9NjvVzTJ"
      },
      "source": [
        "print(a)"
      ],
      "execution_count": null,
      "outputs": []
    },
    {
      "cell_type": "markdown",
      "metadata": {
        "id": "2CCetFarV7KT"
      },
      "source": [
        "[Visualiser l'exécution](http://www.pythontutor.com/visualize.html#code=def%20f%28x%29%3A%0A%20%20%20%20a%20%3D%20x**2%0A%20%20%20%20return%20a%0A%0Aa%20%3D%2010%0Aprint%28f%28a%29%29&cumulative=false&curInstr=0&heapPrimitives=nevernest&mode=display&origin=opt-frontend.js&py=3&rawInputLstJSON=%5B%5D&textReferences=false)"
      ]
    },
    {
      "cell_type": "markdown",
      "metadata": {
        "id": "Yufe2hHtWXrP"
      },
      "source": [
        "## variable locale et paramètre /  variable globale"
      ]
    },
    {
      "cell_type": "markdown",
      "metadata": {
        "id": "Qsig3rchWZZh"
      },
      "source": [
        "On peut utiliser le même nom de variable plusieurs fois : python distingue \n",
        "* les variables globales d'un côté\n",
        "*  les variables locales ou paramètres d'un autre côté"
      ]
    },
    {
      "cell_type": "code",
      "metadata": {
        "id": "IOQxeFCIWm0Q"
      },
      "source": [
        "def f(x):\n",
        "    x = x**2\n",
        "    return x\n",
        "\n",
        "x = 10\n",
        "print(f(x))"
      ],
      "execution_count": null,
      "outputs": []
    },
    {
      "cell_type": "code",
      "metadata": {
        "id": "eE2i1jndWvUw"
      },
      "source": [
        "print(x)"
      ],
      "execution_count": null,
      "outputs": []
    },
    {
      "cell_type": "markdown",
      "metadata": {
        "id": "SdLdxHmUXR7Q"
      },
      "source": [
        "[Visualiser l'exécution](http://www.pythontutor.com/visualize.html#code=def%20f%28x%29%3A%0A%20%20%20%20x%20%3D%20x**2%0A%20%20%20%20return%20x%0A%0Ax%20%3D%2010%0Aprint%28f%28x%29%29&cumulative=false&curInstr=0&heapPrimitives=nevernest&mode=display&origin=opt-frontend.js&py=3&rawInputLstJSON=%5B%5D&textReferences=false)"
      ]
    }
  ]
}