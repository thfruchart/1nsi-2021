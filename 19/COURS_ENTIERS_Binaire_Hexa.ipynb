{
  "nbformat": 4,
  "nbformat_minor": 0,
  "metadata": {
    "colab": {
      "name": "Copie de 19_COURS_ENTIERS_Binaire_Hexa.ipynb",
      "provenance": [],
      "collapsed_sections": [],
      "authorship_tag": "ABX9TyPABH9xOct+7HuPag8KbWHk",
      "include_colab_link": true
    },
    "kernelspec": {
      "name": "python3",
      "display_name": "Python 3"
    }
  },
  "cells": [
    {
      "cell_type": "markdown",
      "metadata": {
        "id": "view-in-github",
        "colab_type": "text"
      },
      "source": [
        "<a href=\"https://colab.research.google.com/github/thfruchart/1nsi/blob/main/19/COURS_ENTIERS_Binaire_Hexa.ipynb\" target=\"_parent\"><img src=\"https://colab.research.google.com/assets/colab-badge.svg\" alt=\"Open In Colab\"/></a>"
      ]
    },
    {
      "cell_type": "markdown",
      "metadata": {
        "id": "i85hH6UyYwY8"
      },
      "source": [
        "L'information traitée par un ordinateur est de nature **binaire** : soit le courant passe, soit il ne passe pas!\n",
        "\n",
        "Ces deux états peuvent être représentés par les nombres **1** et **0**.\n",
        "\n",
        "En informatique, les données numériques sont représentées avec des suites de chiffres binaires (*binary digit* ou *bit*).\n",
        "\n",
        "Dans ce chapitre, on s'intéresse à la représentation des **nombres entiers** en binaire (puis en hexadécimal). "
      ]
    },
    {
      "cell_type": "markdown",
      "metadata": {
        "id": "onR5XOWagllr"
      },
      "source": [
        "#### Activité PAPIER : écrire des nombres avec plus ou moins de symboles (10, 2, ou 16) !"
      ]
    },
    {
      "cell_type": "code",
      "metadata": {
        "id": "Oa87EGCAdBGN",
        "colab": {
          "base_uri": "https://localhost:8080/"
        },
        "outputId": "9ee8fe48-ed7a-4640-e069-650a60af8c02"
      },
      "source": [
        "print (' décimal |   binaire |  hexadécimal')\n",
        "for i in range(300):\n",
        "    print(\"{0:>8d} |{0:>10b} | {0:>3X}\".format(i))"
      ],
      "execution_count": 2,
      "outputs": [
        {
          "output_type": "stream",
          "name": "stdout",
          "text": [
            " décimal |   binaire |  hexadécimal\n",
            "       0 |         0 |   0\n",
            "       1 |         1 |   1\n",
            "       2 |        10 |   2\n",
            "       3 |        11 |   3\n",
            "       4 |       100 |   4\n",
            "       5 |       101 |   5\n",
            "       6 |       110 |   6\n",
            "       7 |       111 |   7\n",
            "       8 |      1000 |   8\n",
            "       9 |      1001 |   9\n",
            "      10 |      1010 |   A\n",
            "      11 |      1011 |   B\n",
            "      12 |      1100 |   C\n",
            "      13 |      1101 |   D\n",
            "      14 |      1110 |   E\n",
            "      15 |      1111 |   F\n",
            "      16 |     10000 |  10\n",
            "      17 |     10001 |  11\n",
            "      18 |     10010 |  12\n",
            "      19 |     10011 |  13\n",
            "      20 |     10100 |  14\n",
            "      21 |     10101 |  15\n",
            "      22 |     10110 |  16\n",
            "      23 |     10111 |  17\n",
            "      24 |     11000 |  18\n",
            "      25 |     11001 |  19\n",
            "      26 |     11010 |  1A\n",
            "      27 |     11011 |  1B\n",
            "      28 |     11100 |  1C\n",
            "      29 |     11101 |  1D\n",
            "      30 |     11110 |  1E\n",
            "      31 |     11111 |  1F\n",
            "      32 |    100000 |  20\n",
            "      33 |    100001 |  21\n",
            "      34 |    100010 |  22\n",
            "      35 |    100011 |  23\n",
            "      36 |    100100 |  24\n",
            "      37 |    100101 |  25\n",
            "      38 |    100110 |  26\n",
            "      39 |    100111 |  27\n",
            "      40 |    101000 |  28\n",
            "      41 |    101001 |  29\n",
            "      42 |    101010 |  2A\n",
            "      43 |    101011 |  2B\n",
            "      44 |    101100 |  2C\n",
            "      45 |    101101 |  2D\n",
            "      46 |    101110 |  2E\n",
            "      47 |    101111 |  2F\n",
            "      48 |    110000 |  30\n",
            "      49 |    110001 |  31\n",
            "      50 |    110010 |  32\n",
            "      51 |    110011 |  33\n",
            "      52 |    110100 |  34\n",
            "      53 |    110101 |  35\n",
            "      54 |    110110 |  36\n",
            "      55 |    110111 |  37\n",
            "      56 |    111000 |  38\n",
            "      57 |    111001 |  39\n",
            "      58 |    111010 |  3A\n",
            "      59 |    111011 |  3B\n",
            "      60 |    111100 |  3C\n",
            "      61 |    111101 |  3D\n",
            "      62 |    111110 |  3E\n",
            "      63 |    111111 |  3F\n",
            "      64 |   1000000 |  40\n",
            "      65 |   1000001 |  41\n",
            "      66 |   1000010 |  42\n",
            "      67 |   1000011 |  43\n",
            "      68 |   1000100 |  44\n",
            "      69 |   1000101 |  45\n",
            "      70 |   1000110 |  46\n",
            "      71 |   1000111 |  47\n",
            "      72 |   1001000 |  48\n",
            "      73 |   1001001 |  49\n",
            "      74 |   1001010 |  4A\n",
            "      75 |   1001011 |  4B\n",
            "      76 |   1001100 |  4C\n",
            "      77 |   1001101 |  4D\n",
            "      78 |   1001110 |  4E\n",
            "      79 |   1001111 |  4F\n",
            "      80 |   1010000 |  50\n",
            "      81 |   1010001 |  51\n",
            "      82 |   1010010 |  52\n",
            "      83 |   1010011 |  53\n",
            "      84 |   1010100 |  54\n",
            "      85 |   1010101 |  55\n",
            "      86 |   1010110 |  56\n",
            "      87 |   1010111 |  57\n",
            "      88 |   1011000 |  58\n",
            "      89 |   1011001 |  59\n",
            "      90 |   1011010 |  5A\n",
            "      91 |   1011011 |  5B\n",
            "      92 |   1011100 |  5C\n",
            "      93 |   1011101 |  5D\n",
            "      94 |   1011110 |  5E\n",
            "      95 |   1011111 |  5F\n",
            "      96 |   1100000 |  60\n",
            "      97 |   1100001 |  61\n",
            "      98 |   1100010 |  62\n",
            "      99 |   1100011 |  63\n",
            "     100 |   1100100 |  64\n",
            "     101 |   1100101 |  65\n",
            "     102 |   1100110 |  66\n",
            "     103 |   1100111 |  67\n",
            "     104 |   1101000 |  68\n",
            "     105 |   1101001 |  69\n",
            "     106 |   1101010 |  6A\n",
            "     107 |   1101011 |  6B\n",
            "     108 |   1101100 |  6C\n",
            "     109 |   1101101 |  6D\n",
            "     110 |   1101110 |  6E\n",
            "     111 |   1101111 |  6F\n",
            "     112 |   1110000 |  70\n",
            "     113 |   1110001 |  71\n",
            "     114 |   1110010 |  72\n",
            "     115 |   1110011 |  73\n",
            "     116 |   1110100 |  74\n",
            "     117 |   1110101 |  75\n",
            "     118 |   1110110 |  76\n",
            "     119 |   1110111 |  77\n",
            "     120 |   1111000 |  78\n",
            "     121 |   1111001 |  79\n",
            "     122 |   1111010 |  7A\n",
            "     123 |   1111011 |  7B\n",
            "     124 |   1111100 |  7C\n",
            "     125 |   1111101 |  7D\n",
            "     126 |   1111110 |  7E\n",
            "     127 |   1111111 |  7F\n",
            "     128 |  10000000 |  80\n",
            "     129 |  10000001 |  81\n",
            "     130 |  10000010 |  82\n",
            "     131 |  10000011 |  83\n",
            "     132 |  10000100 |  84\n",
            "     133 |  10000101 |  85\n",
            "     134 |  10000110 |  86\n",
            "     135 |  10000111 |  87\n",
            "     136 |  10001000 |  88\n",
            "     137 |  10001001 |  89\n",
            "     138 |  10001010 |  8A\n",
            "     139 |  10001011 |  8B\n",
            "     140 |  10001100 |  8C\n",
            "     141 |  10001101 |  8D\n",
            "     142 |  10001110 |  8E\n",
            "     143 |  10001111 |  8F\n",
            "     144 |  10010000 |  90\n",
            "     145 |  10010001 |  91\n",
            "     146 |  10010010 |  92\n",
            "     147 |  10010011 |  93\n",
            "     148 |  10010100 |  94\n",
            "     149 |  10010101 |  95\n",
            "     150 |  10010110 |  96\n",
            "     151 |  10010111 |  97\n",
            "     152 |  10011000 |  98\n",
            "     153 |  10011001 |  99\n",
            "     154 |  10011010 |  9A\n",
            "     155 |  10011011 |  9B\n",
            "     156 |  10011100 |  9C\n",
            "     157 |  10011101 |  9D\n",
            "     158 |  10011110 |  9E\n",
            "     159 |  10011111 |  9F\n",
            "     160 |  10100000 |  A0\n",
            "     161 |  10100001 |  A1\n",
            "     162 |  10100010 |  A2\n",
            "     163 |  10100011 |  A3\n",
            "     164 |  10100100 |  A4\n",
            "     165 |  10100101 |  A5\n",
            "     166 |  10100110 |  A6\n",
            "     167 |  10100111 |  A7\n",
            "     168 |  10101000 |  A8\n",
            "     169 |  10101001 |  A9\n",
            "     170 |  10101010 |  AA\n",
            "     171 |  10101011 |  AB\n",
            "     172 |  10101100 |  AC\n",
            "     173 |  10101101 |  AD\n",
            "     174 |  10101110 |  AE\n",
            "     175 |  10101111 |  AF\n",
            "     176 |  10110000 |  B0\n",
            "     177 |  10110001 |  B1\n",
            "     178 |  10110010 |  B2\n",
            "     179 |  10110011 |  B3\n",
            "     180 |  10110100 |  B4\n",
            "     181 |  10110101 |  B5\n",
            "     182 |  10110110 |  B6\n",
            "     183 |  10110111 |  B7\n",
            "     184 |  10111000 |  B8\n",
            "     185 |  10111001 |  B9\n",
            "     186 |  10111010 |  BA\n",
            "     187 |  10111011 |  BB\n",
            "     188 |  10111100 |  BC\n",
            "     189 |  10111101 |  BD\n",
            "     190 |  10111110 |  BE\n",
            "     191 |  10111111 |  BF\n",
            "     192 |  11000000 |  C0\n",
            "     193 |  11000001 |  C1\n",
            "     194 |  11000010 |  C2\n",
            "     195 |  11000011 |  C3\n",
            "     196 |  11000100 |  C4\n",
            "     197 |  11000101 |  C5\n",
            "     198 |  11000110 |  C6\n",
            "     199 |  11000111 |  C7\n",
            "     200 |  11001000 |  C8\n",
            "     201 |  11001001 |  C9\n",
            "     202 |  11001010 |  CA\n",
            "     203 |  11001011 |  CB\n",
            "     204 |  11001100 |  CC\n",
            "     205 |  11001101 |  CD\n",
            "     206 |  11001110 |  CE\n",
            "     207 |  11001111 |  CF\n",
            "     208 |  11010000 |  D0\n",
            "     209 |  11010001 |  D1\n",
            "     210 |  11010010 |  D2\n",
            "     211 |  11010011 |  D3\n",
            "     212 |  11010100 |  D4\n",
            "     213 |  11010101 |  D5\n",
            "     214 |  11010110 |  D6\n",
            "     215 |  11010111 |  D7\n",
            "     216 |  11011000 |  D8\n",
            "     217 |  11011001 |  D9\n",
            "     218 |  11011010 |  DA\n",
            "     219 |  11011011 |  DB\n",
            "     220 |  11011100 |  DC\n",
            "     221 |  11011101 |  DD\n",
            "     222 |  11011110 |  DE\n",
            "     223 |  11011111 |  DF\n",
            "     224 |  11100000 |  E0\n",
            "     225 |  11100001 |  E1\n",
            "     226 |  11100010 |  E2\n",
            "     227 |  11100011 |  E3\n",
            "     228 |  11100100 |  E4\n",
            "     229 |  11100101 |  E5\n",
            "     230 |  11100110 |  E6\n",
            "     231 |  11100111 |  E7\n",
            "     232 |  11101000 |  E8\n",
            "     233 |  11101001 |  E9\n",
            "     234 |  11101010 |  EA\n",
            "     235 |  11101011 |  EB\n",
            "     236 |  11101100 |  EC\n",
            "     237 |  11101101 |  ED\n",
            "     238 |  11101110 |  EE\n",
            "     239 |  11101111 |  EF\n",
            "     240 |  11110000 |  F0\n",
            "     241 |  11110001 |  F1\n",
            "     242 |  11110010 |  F2\n",
            "     243 |  11110011 |  F3\n",
            "     244 |  11110100 |  F4\n",
            "     245 |  11110101 |  F5\n",
            "     246 |  11110110 |  F6\n",
            "     247 |  11110111 |  F7\n",
            "     248 |  11111000 |  F8\n",
            "     249 |  11111001 |  F9\n",
            "     250 |  11111010 |  FA\n",
            "     251 |  11111011 |  FB\n",
            "     252 |  11111100 |  FC\n",
            "     253 |  11111101 |  FD\n",
            "     254 |  11111110 |  FE\n",
            "     255 |  11111111 |  FF\n",
            "     256 | 100000000 | 100\n",
            "     257 | 100000001 | 101\n",
            "     258 | 100000010 | 102\n",
            "     259 | 100000011 | 103\n",
            "     260 | 100000100 | 104\n",
            "     261 | 100000101 | 105\n",
            "     262 | 100000110 | 106\n",
            "     263 | 100000111 | 107\n",
            "     264 | 100001000 | 108\n",
            "     265 | 100001001 | 109\n",
            "     266 | 100001010 | 10A\n",
            "     267 | 100001011 | 10B\n",
            "     268 | 100001100 | 10C\n",
            "     269 | 100001101 | 10D\n",
            "     270 | 100001110 | 10E\n",
            "     271 | 100001111 | 10F\n",
            "     272 | 100010000 | 110\n",
            "     273 | 100010001 | 111\n",
            "     274 | 100010010 | 112\n",
            "     275 | 100010011 | 113\n",
            "     276 | 100010100 | 114\n",
            "     277 | 100010101 | 115\n",
            "     278 | 100010110 | 116\n",
            "     279 | 100010111 | 117\n",
            "     280 | 100011000 | 118\n",
            "     281 | 100011001 | 119\n",
            "     282 | 100011010 | 11A\n",
            "     283 | 100011011 | 11B\n",
            "     284 | 100011100 | 11C\n",
            "     285 | 100011101 | 11D\n",
            "     286 | 100011110 | 11E\n",
            "     287 | 100011111 | 11F\n",
            "     288 | 100100000 | 120\n",
            "     289 | 100100001 | 121\n",
            "     290 | 100100010 | 122\n",
            "     291 | 100100011 | 123\n",
            "     292 | 100100100 | 124\n",
            "     293 | 100100101 | 125\n",
            "     294 | 100100110 | 126\n",
            "     295 | 100100111 | 127\n",
            "     296 | 100101000 | 128\n",
            "     297 | 100101001 | 129\n",
            "     298 | 100101010 | 12A\n",
            "     299 | 100101011 | 12B\n"
          ]
        }
      ]
    },
    {
      "cell_type": "markdown",
      "metadata": {
        "id": "bSnMBHhLhrqm"
      },
      "source": [
        "# Nombres écrits en binaire (ou en base 2)"
      ]
    },
    {
      "cell_type": "markdown",
      "metadata": {
        "id": "eE6EG0hNigis"
      },
      "source": [
        "Pour écrire un nombre en binaire, on n'utilise uniquement les deux chiffres 0 et 1.\n",
        "\n",
        "En Python, le préfixe `0b`... sert à écrire un nombre en binaire. \n",
        "\n",
        "En mathématiques, on notera plutôt $(...)_2$.\n",
        "\n",
        "Par exemple : le nombre entier 7 écrit en binaire, sera noté :\n",
        "*  $(111)_2$ en mathématiques\n",
        "* `0b111` en Python\n",
        "\n",
        "Pour comprendre comment fonctionne cette écriture des nombres, observer l'exécution des cellules suivantes  :"
      ]
    },
    {
      "cell_type": "code",
      "metadata": {
        "id": "kT9Sf4XzhqQv",
        "colab": {
          "base_uri": "https://localhost:8080/"
        },
        "outputId": "9980cf9a-0499-4052-c4a3-de60ae77d9c0"
      },
      "source": [
        "0b10"
      ],
      "execution_count": 3,
      "outputs": [
        {
          "output_type": "execute_result",
          "data": {
            "text/plain": [
              "2"
            ]
          },
          "metadata": {},
          "execution_count": 3
        }
      ]
    },
    {
      "cell_type": "code",
      "metadata": {
        "id": "OFeLMKdhicT8",
        "colab": {
          "base_uri": "https://localhost:8080/"
        },
        "outputId": "e4e5668c-efc8-4b53-f629-d1ce56a27046"
      },
      "source": [
        "0b100"
      ],
      "execution_count": 4,
      "outputs": [
        {
          "output_type": "execute_result",
          "data": {
            "text/plain": [
              "4"
            ]
          },
          "metadata": {},
          "execution_count": 4
        }
      ]
    },
    {
      "cell_type": "code",
      "metadata": {
        "id": "wsFQ_P-CieZr",
        "colab": {
          "base_uri": "https://localhost:8080/"
        },
        "outputId": "2eb56f32-f9d2-4b36-d443-d82e1e1d4cff"
      },
      "source": [
        "0b1000"
      ],
      "execution_count": 5,
      "outputs": [
        {
          "output_type": "execute_result",
          "data": {
            "text/plain": [
              "8"
            ]
          },
          "metadata": {},
          "execution_count": 5
        }
      ]
    },
    {
      "cell_type": "code",
      "metadata": {
        "id": "3dLX6refjmBN",
        "colab": {
          "base_uri": "https://localhost:8080/"
        },
        "outputId": "e07fc606-3a3b-4059-caac-33c6a49e18ff"
      },
      "source": [
        "0b10000"
      ],
      "execution_count": 6,
      "outputs": [
        {
          "output_type": "execute_result",
          "data": {
            "text/plain": [
              "16"
            ]
          },
          "metadata": {},
          "execution_count": 6
        }
      ]
    },
    {
      "cell_type": "markdown",
      "metadata": {
        "id": "ao00n9AejopS"
      },
      "source": [
        "#### Question\n"
      ]
    },
    {
      "cell_type": "markdown",
      "metadata": {
        "id": "f9vCr3yKj7J3"
      },
      "source": [
        "Comment calculer `0b10000000000`  soit $(10000000000)_2$ c'est à dire 1 suivi de dix 0?"
      ]
    },
    {
      "cell_type": "code",
      "metadata": {
        "id": "tSmMzE8rj8uA",
        "colab": {
          "base_uri": "https://localhost:8080/"
        },
        "outputId": "2c6d8762-8eb9-4ded-f758-5dd9e788515b"
      },
      "source": [
        "0b10000000000"
      ],
      "execution_count": 7,
      "outputs": [
        {
          "output_type": "execute_result",
          "data": {
            "text/plain": [
              "1024"
            ]
          },
          "metadata": {},
          "execution_count": 7
        }
      ]
    },
    {
      "cell_type": "markdown",
      "metadata": {
        "id": "iyWTQvA7kZZz"
      },
      "source": [
        "#### quelques calculs\n",
        "\n",
        "Pour chaque cellule : calculer d'abord le résultat de l'opération, puis vérifier en exécutant la cellule. "
      ]
    },
    {
      "cell_type": "code",
      "metadata": {
        "id": "nIoETBuWkb2-"
      },
      "source": [
        "0b1000 + 0b10"
      ],
      "execution_count": null,
      "outputs": []
    },
    {
      "cell_type": "code",
      "metadata": {
        "id": "PUCHTuaJkrWF"
      },
      "source": [
        "0b10000 + 0b100"
      ],
      "execution_count": null,
      "outputs": []
    },
    {
      "cell_type": "code",
      "metadata": {
        "id": "7oU69UZKkyTQ"
      },
      "source": [
        "0b100 +0b10 +0b1"
      ],
      "execution_count": null,
      "outputs": []
    },
    {
      "cell_type": "markdown",
      "metadata": {
        "id": "YEFZ2KCWltBu"
      },
      "source": [
        "**Application**: sur PAPIER\n",
        "\n",
        "En décomposant sous forme d'une somme de nombre de la forme 10...0, calculer:\n",
        "\n",
        "* $(101010)_2$\n",
        "* $(1111)_2$"
      ]
    },
    {
      "cell_type": "markdown",
      "metadata": {
        "id": "lfRvuetGkXjH"
      },
      "source": [
        "## Conversion vers la base 10 : décimal"
      ]
    },
    {
      "cell_type": "markdown",
      "metadata": {
        "id": "DQSQCh90lO4_"
      },
      "source": [
        "**Principe** : chaque chiffre d'un nombre binaire représente une puissance de 2\n",
        "\n",
        "On peut repérer le \"poids\" de chaque chiffre, en lui faisant correspondre une puissance de 2:\n",
        "\n",
        "|RANG|$4$|$3$|$2$|$1$|$0$|\n",
        "|:--|:--:|:--:|:--:|:--:|:--:|\n",
        "|chiffres binaires|1|1|0|1|0|\n",
        "\n",
        "|POIDS|$2^4$|$2^3$|$2^2$|$2^1$|$2^0$|\n",
        "|:--|:--:|:--:|:--:|:--:|:--:|\n",
        "|chiffres binaires|1|1|0|1|0|\n",
        "\n",
        "ce qui donne : \n",
        "\n",
        "|poids|16|8|4|2|1|\n",
        "|:--|:--:|:--:|:--:|:--:|:--:|\n",
        "|chiffres binaires|1|1|0|1|0|\n",
        "\n",
        "donc : $(11010)_2 =  16+ 8+ 2  = 26$ "
      ]
    },
    {
      "cell_type": "code",
      "metadata": {
        "id": "nN5WhkJiwdwU"
      },
      "source": [
        "0b11010"
      ],
      "execution_count": null,
      "outputs": []
    },
    {
      "cell_type": "markdown",
      "metadata": {
        "id": "R8461XG4womT"
      },
      "source": [
        "## Conversion depuis la base 10"
      ]
    },
    {
      "cell_type": "markdown",
      "metadata": {
        "id": "kt22rRBw1S-3"
      },
      "source": [
        "On cherche à décomposer un nombre N en somme de puissance de 2\n",
        "* écrire les puissances de 2 jusqu'à atteindre (au moins la moitié de) N\n",
        "* par soustractions successives, écrire N comme somme de puissances de 2.\n"
      ]
    },
    {
      "cell_type": "markdown",
      "metadata": {
        "id": "emSvG8VYWwcv"
      },
      "source": [
        "Exemple : 183 peut se décomposer en somme de puissances de 2\n",
        "\n",
        "\n",
        "|poids|128|64|32|16|8|4|2|1|\n",
        "|:--|:--:|:--:|:--:|:--:|:--:|:--:|:--:|:--:|\n",
        "|chiffres binaires|1|0|1|1|0|1|1|1|\n",
        "\n",
        "$183 = 128+32+16+4+2+1 = (10110111)_2$"
      ]
    },
    {
      "cell_type": "code",
      "metadata": {
        "colab": {
          "base_uri": "https://localhost:8080/"
        },
        "id": "o6tUvtISXfzZ",
        "outputId": "605f4db8-0a9c-4f76-bcfe-50434df1bb47"
      },
      "source": [
        "(183-128, 55-32, 23-16, 7-4, 3-2)"
      ],
      "execution_count": null,
      "outputs": [
        {
          "output_type": "execute_result",
          "data": {
            "text/plain": [
              "(55, 23, 7, 3, 1)"
            ]
          },
          "metadata": {
            "tags": []
          },
          "execution_count": 12
        }
      ]
    },
    {
      "cell_type": "markdown",
      "metadata": {
        "id": "xCdBpJWpYcbL"
      },
      "source": [
        "Avec Python, on peut vérifier à l'aide de la fonction `bin`"
      ]
    },
    {
      "cell_type": "code",
      "metadata": {
        "colab": {
          "base_uri": "https://localhost:8080/",
          "height": 35
        },
        "id": "LextGuQPYgcL",
        "outputId": "fd130c67-a014-42a0-e45a-213f2719754e"
      },
      "source": [
        "bin(183)"
      ],
      "execution_count": null,
      "outputs": [
        {
          "output_type": "execute_result",
          "data": {
            "application/vnd.google.colaboratory.intrinsic+json": {
              "type": "string"
            },
            "text/plain": [
              "'0b10110111'"
            ]
          },
          "metadata": {
            "tags": []
          },
          "execution_count": 6
        }
      ]
    },
    {
      "cell_type": "markdown",
      "metadata": {
        "id": "JvW_YFHjh1PO"
      },
      "source": [
        "# Nombres écrits en hexadécimal (base 16)"
      ]
    },
    {
      "cell_type": "markdown",
      "metadata": {
        "id": "JbvlWgipaFdu"
      },
      "source": [
        "En Python, le préfixe `0x`... sert à écrire un nombre au format hexadécimal.\n",
        "\n",
        "En mathématiques, on utilise la notation $(...)_{16}$\n",
        "\n",
        "La notation hexadécimale repose sur le fait que chaque chiffre représente une puissance de 16.\n",
        "\n",
        "Observer les exemples suivants : "
      ]
    },
    {
      "cell_type": "code",
      "metadata": {
        "id": "b_5frha1advK",
        "colab": {
          "base_uri": "https://localhost:8080/"
        },
        "outputId": "7f4f47d4-ffb3-4ee0-c9d0-ef7b69548a98"
      },
      "source": [
        "0x10"
      ],
      "execution_count": 8,
      "outputs": [
        {
          "output_type": "execute_result",
          "data": {
            "text/plain": [
              "16"
            ]
          },
          "metadata": {},
          "execution_count": 8
        }
      ]
    },
    {
      "cell_type": "code",
      "metadata": {
        "id": "qb_3I0HMagKL",
        "colab": {
          "base_uri": "https://localhost:8080/"
        },
        "outputId": "3048f93d-87c4-47cc-9f6b-30b4cdbd7686"
      },
      "source": [
        "0x100"
      ],
      "execution_count": 9,
      "outputs": [
        {
          "output_type": "execute_result",
          "data": {
            "text/plain": [
              "256"
            ]
          },
          "metadata": {},
          "execution_count": 9
        }
      ]
    },
    {
      "cell_type": "code",
      "metadata": {
        "id": "0AvLsMLIai-t",
        "colab": {
          "base_uri": "https://localhost:8080/"
        },
        "outputId": "1ce8bba5-49e7-48fe-b270-ca4366442c8c"
      },
      "source": [
        "16**2"
      ],
      "execution_count": 10,
      "outputs": [
        {
          "output_type": "execute_result",
          "data": {
            "text/plain": [
              "256"
            ]
          },
          "metadata": {},
          "execution_count": 10
        }
      ]
    },
    {
      "cell_type": "code",
      "metadata": {
        "id": "hVz-KDsdalNK",
        "colab": {
          "base_uri": "https://localhost:8080/"
        },
        "outputId": "ba6e2868-b40a-476c-a609-e5df4345e32c"
      },
      "source": [
        "0x1000"
      ],
      "execution_count": 11,
      "outputs": [
        {
          "output_type": "execute_result",
          "data": {
            "text/plain": [
              "4096"
            ]
          },
          "metadata": {},
          "execution_count": 11
        }
      ]
    },
    {
      "cell_type": "code",
      "metadata": {
        "id": "d_yqD7BAan2T",
        "colab": {
          "base_uri": "https://localhost:8080/"
        },
        "outputId": "db810b52-5413-47d9-87f3-682a1ec49436"
      },
      "source": [
        "16**3"
      ],
      "execution_count": 12,
      "outputs": [
        {
          "output_type": "execute_result",
          "data": {
            "text/plain": [
              "4096"
            ]
          },
          "metadata": {},
          "execution_count": 12
        }
      ]
    },
    {
      "cell_type": "code",
      "metadata": {
        "id": "D4PNuN98apob",
        "colab": {
          "base_uri": "https://localhost:8080/"
        },
        "outputId": "a4acfb88-8289-48b6-da59-e5c472322305"
      },
      "source": [
        "0x10000 == 16**4"
      ],
      "execution_count": 13,
      "outputs": [
        {
          "output_type": "execute_result",
          "data": {
            "text/plain": [
              "True"
            ]
          },
          "metadata": {},
          "execution_count": 13
        }
      ]
    },
    {
      "cell_type": "markdown",
      "metadata": {
        "id": "cJyef_iNiAq7"
      },
      "source": [
        "## Conversion vers la base 10 : hexadécimal =>  décimal"
      ]
    },
    {
      "cell_type": "markdown",
      "metadata": {
        "id": "IS93p56xa9LK"
      },
      "source": [
        "**Principe** : chaque chiffre d'un nombre écrit en hexadécimal représente une puissance de 16.\n",
        "\n",
        "On peut repérer le \"poids\" de chaque chiffre, en lui faisant correspondre la puissance de 16 qui correspond à son rang :\n",
        "\n",
        "|poids|$16^4$|$16^3$|$16^2$|$16^1$|$16^0$|calcul|écriture décimale\n",
        "|:--|:--:|:--:|:--:|:--:|:--:|:----------:|:--|\n",
        "|chiffres hexadécimaux|||1|1|1|$16^2+16^1+16^0$|273|"
      ]
    },
    {
      "cell_type": "code",
      "metadata": {
        "colab": {
          "base_uri": "https://localhost:8080/"
        },
        "id": "gootSWKFbmxK",
        "outputId": "04ad43b4-b92f-487c-dc14-cf63f92c2f7b"
      },
      "source": [
        "0x111"
      ],
      "execution_count": null,
      "outputs": [
        {
          "output_type": "execute_result",
          "data": {
            "text/plain": [
              "273"
            ]
          },
          "metadata": {
            "tags": []
          },
          "execution_count": 14
        }
      ]
    },
    {
      "cell_type": "markdown",
      "metadata": {
        "id": "5dg4VcSx6jK-"
      },
      "source": [
        "**ATTENTION** \n",
        "\n",
        "Pour écrire les nombres en hexadécimal (base 16), on utilise **16 chiffres** : \n",
        "* les chiffres habituels de 0 à 9\n",
        "* les \"chiffres\" de A à F :\n",
        "   * A pour dix\n",
        "   * B pour onze\n",
        "   * C pour douze\n",
        "   * D pour treize\n",
        "   * E pour quatorze\n",
        "   * F pour quinze"
      ]
    },
    {
      "cell_type": "markdown",
      "metadata": {
        "id": "dtV6mVxv7Ayq"
      },
      "source": [
        "On peut repérer le \"poids\" de chaque chiffre, en lui faisant correspondre une puissance de 16:\n",
        "\n",
        "|poids|$16^4$|$16^3$|$16^2$|$16^1$|$16^0$|calcul|écriture décimale\n",
        "|:--|:--:|:--:|:--:|:--:|:--:|:----------:|:--|\n",
        "|chiffres hexadécimaux|1|0|A|8|F|65536+0+2560+128+15 |68239|\n",
        "|calculs|1x$16^4$|0|10x$16^2$|8x$16^1$|15x$16^0$| ||\n",
        "\n",
        "* $(10A8F)_{16}=68 239$"
      ]
    },
    {
      "cell_type": "code",
      "metadata": {
        "id": "3cT2PU8l9Nvw"
      },
      "source": [
        "0x10A8F"
      ],
      "execution_count": null,
      "outputs": []
    },
    {
      "cell_type": "markdown",
      "metadata": {
        "id": "q3yp_pdXiFmS"
      },
      "source": [
        "## Conversion vers la base 2 : hexadécimal => binaire"
      ]
    },
    {
      "cell_type": "markdown",
      "metadata": {
        "id": "KUE865i296u7"
      },
      "source": [
        "**Propriété**\n",
        "\n",
        "Puisque $16 = 2^4$, **un** chiffre en base 16 correspond à **quatre** chiffres en base 2 (un \"quartet\"). \n",
        "\n",
        "| décimal|hexadécimal| binaire|\n",
        "|:---------:|:------:|:------:|\n",
        "|0|0|0000|\n",
        "|1|1|0001|\n",
        "|2|2|0010|\n",
        "|3|3|0011|\n",
        "|4|4|0100|\n",
        "|5|5|0101|\n",
        "|6|6|0110|\n",
        "|7|7|0111|\n",
        "|8|8|1000|\n",
        "|9|9|1001|\n",
        "|10|A|1010|\n",
        "|11|B|1011|\n",
        "|12|C|1100|\n",
        "|13|D|1101|\n",
        "|14|E|1110|\n",
        "|15|F|1111|"
      ]
    },
    {
      "cell_type": "markdown",
      "metadata": {
        "id": "eKGOTbEC_DFR"
      },
      "source": [
        "Pour convertir un nombre entier naturel depuis la base 16 (hexadécimal) vers la base 2 (binaire), il suffit de convertir chaque chiffre hexadécimal en quatre chiffres binaires.\n",
        "\n",
        "Exemple : $(F01)_{16} = (1111 \\, 0000 \\, 0001)_2$"
      ]
    },
    {
      "cell_type": "code",
      "metadata": {
        "id": "e9QJYgizAA-H"
      },
      "source": [
        "0xF01 == 0b111100000001"
      ],
      "execution_count": null,
      "outputs": []
    },
    {
      "cell_type": "markdown",
      "metadata": {
        "id": "v94Wzp5xZxyL"
      },
      "source": [
        "## Conversion depuis la base 2 : binaire => hexadécimal"
      ]
    },
    {
      "cell_type": "markdown",
      "metadata": {
        "id": "BK7VPKdV_jsE"
      },
      "source": [
        "Le même principe permet de convertir directement un nombre écrit en binaire, vers la base 16 (hexadécimal) : \n",
        "il s'agit de grouper les chiffres binaires par quatre **à partir du chiffre des unités**."
      ]
    },
    {
      "cell_type": "markdown",
      "metadata": {
        "id": "a1fCpHzD_5GS"
      },
      "source": [
        "Exemple 1:\n",
        "\n",
        "$(1010101)_2 = (0101 \\, 0101)_2 =(55)_{16}$"
      ]
    }
  ]
}