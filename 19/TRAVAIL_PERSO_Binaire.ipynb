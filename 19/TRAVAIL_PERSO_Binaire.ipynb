{
  "nbformat": 4,
  "nbformat_minor": 0,
  "metadata": {
    "colab": {
      "name": "19-TRAVAIL_PERSO_Binaire.ipynb",
      "provenance": [],
      "collapsed_sections": [],
      "authorship_tag": "ABX9TyMauOaIrCcQhF8TT931k7/j",
      "include_colab_link": true
    },
    "kernelspec": {
      "name": "python3",
      "display_name": "Python 3"
    }
  },
  "cells": [
    {
      "cell_type": "markdown",
      "metadata": {
        "id": "view-in-github",
        "colab_type": "text"
      },
      "source": [
        "<a href=\"https://colab.research.google.com/github/thfruchart/1nsi/blob/main/19/TRAVAIL_PERSO_Binaire.ipynb\" target=\"_parent\"><img src=\"https://colab.research.google.com/assets/colab-badge.svg\" alt=\"Open In Colab\"/></a>"
      ]
    },
    {
      "cell_type": "markdown",
      "metadata": {
        "id": "O44iBCSoV-j8"
      },
      "source": [
        "# TEST 1 : base 2 vers base 10"
      ]
    },
    {
      "cell_type": "markdown",
      "metadata": {
        "id": "EsWjXDQzWJUg"
      },
      "source": [
        "Convertir en décimal les nombres entiers suivants, donnés en binaire: \n",
        "* $(110110)_2$\n",
        "* $(111111)_2$"
      ]
    },
    {
      "cell_type": "markdown",
      "metadata": {
        "id": "OKKnnvUzWN2i"
      },
      "source": [
        "# TEST 2 : base 10 vers base 2"
      ]
    },
    {
      "cell_type": "markdown",
      "metadata": {
        "id": "7yS1HtAhWUxi"
      },
      "source": [
        "Convertir en binaire les nombres entiers suivants, donnés en décimal: \n",
        "* 111 \n",
        "* 1234"
      ]
    }
  ]
}