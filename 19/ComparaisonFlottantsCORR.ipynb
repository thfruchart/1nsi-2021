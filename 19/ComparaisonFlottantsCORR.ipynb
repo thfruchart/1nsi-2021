{
  "nbformat": 4,
  "nbformat_minor": 0,
  "metadata": {
    "colab": {
      "name": "20_ComparaisonFlottants.ipynb",
      "provenance": [],
      "authorship_tag": "ABX9TyNP3RoBhhwMfkkhdCeYe49q",
      "include_colab_link": true
    },
    "kernelspec": {
      "name": "python3",
      "display_name": "Python 3"
    },
    "language_info": {
      "name": "python"
    }
  },
  "cells": [
    {
      "cell_type": "markdown",
      "metadata": {
        "id": "view-in-github",
        "colab_type": "text"
      },
      "source": [
        "<a href=\"https://colab.research.google.com/github/thfruchart/1nsi/blob/main/19/ComparaisonFlottantsCORR.ipynb\" target=\"_parent\"><img src=\"https://colab.research.google.com/assets/colab-badge.svg\" alt=\"Open In Colab\"/></a>"
      ]
    },
    {
      "cell_type": "markdown",
      "source": [
        "## 1. Exécuter le programme suivant.\n",
        "Expliquer pouquoi il ne s'arrête pas (on pourra éventuellement faire afficher les valeurs successives de `x`)"
      ],
      "metadata": {
        "id": "E0xjJnaU33EW"
      }
    },
    {
      "cell_type": "code",
      "source": [
        "x = 1\n",
        "while x != 0.0 :\n",
        "    x = x-0.1\n",
        "    print(x)\n",
        "\n",
        "print('fin du programme')"
      ],
      "metadata": {
        "id": "P9Jix2qG4Cop"
      },
      "execution_count": null,
      "outputs": []
    },
    {
      "cell_type": "markdown",
      "source": [
        "Au bout de 10 étapes, x ne vaut pas exactement 0, car la valeur de 0.1 en machine est **approchée**. \n",
        "\n",
        "Le programme ne s'arrête jamais car la condition `x != 0.0` reste toujours vraie."
      ],
      "metadata": {
        "id": "R-tCyFDMbKvt"
      }
    },
    {
      "cell_type": "markdown",
      "source": [
        "## 2. Proposer une solution pour corriger ce problème.\n",
        "On pourra utiliser la fonction `abs()`"
      ],
      "metadata": {
        "id": "Dn0PR_Rq6Ca0"
      }
    },
    {
      "cell_type": "code",
      "source": [
        "x = 1\n",
        "while x > 0 : # ARRET si x < = 0\n",
        "    x = x-0.1\n",
        "    print(x)\n",
        "\n",
        "print('fin du programme')"
      ],
      "metadata": {
        "id": "-zjwxauI6QKb",
        "outputId": "43d869ff-5f12-4904-8afe-bbb8c0cbe064",
        "colab": {
          "base_uri": "https://localhost:8080/"
        }
      },
      "execution_count": 7,
      "outputs": [
        {
          "output_type": "stream",
          "name": "stdout",
          "text": [
            "0.9\n",
            "0.8\n",
            "0.7000000000000001\n",
            "0.6000000000000001\n",
            "0.5000000000000001\n",
            "0.40000000000000013\n",
            "0.30000000000000016\n",
            "0.20000000000000015\n",
            "0.10000000000000014\n",
            "1.3877787807814457e-16\n",
            "-0.09999999999999987\n",
            "fin du programme\n"
          ]
        }
      ]
    },
    {
      "cell_type": "code",
      "source": [
        "x = 1\n",
        "while x > 0.000000001 : # ARRET si x < = 0\n",
        "    x = x-0.1\n",
        "    print(x)\n",
        "\n",
        "print('fin du programme')"
      ],
      "metadata": {
        "id": "BT4afhLuc3n_",
        "outputId": "ec32fd1c-94ea-488d-f7b1-f662aa852de3",
        "colab": {
          "base_uri": "https://localhost:8080/"
        }
      },
      "execution_count": 8,
      "outputs": [
        {
          "output_type": "stream",
          "name": "stdout",
          "text": [
            "0.9\n",
            "0.8\n",
            "0.7000000000000001\n",
            "0.6000000000000001\n",
            "0.5000000000000001\n",
            "0.40000000000000013\n",
            "0.30000000000000016\n",
            "0.20000000000000015\n",
            "0.10000000000000014\n",
            "1.3877787807814457e-16\n",
            "fin du programme\n"
          ]
        }
      ]
    },
    {
      "cell_type": "code",
      "source": [
        "x = 1\n",
        "while x > 0.000000001 : # ARRET si x < = 0\n",
        "    x = x-0.1\n",
        "    print(round(x, 5))\n",
        "\n",
        "print('fin du programme')"
      ],
      "metadata": {
        "id": "L6ELSIEOdNcq",
        "outputId": "a29f1777-ca51-4fa3-8d0f-85b97fed9239",
        "colab": {
          "base_uri": "https://localhost:8080/"
        }
      },
      "execution_count": 10,
      "outputs": [
        {
          "output_type": "stream",
          "name": "stdout",
          "text": [
            "0.9\n",
            "0.8\n",
            "0.7\n",
            "0.6\n",
            "0.5\n",
            "0.4\n",
            "0.3\n",
            "0.2\n",
            "0.1\n",
            "0.0\n",
            "fin du programme\n"
          ]
        }
      ]
    }
  ]
}