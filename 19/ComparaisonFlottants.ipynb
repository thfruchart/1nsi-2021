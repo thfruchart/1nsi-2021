{
  "nbformat": 4,
  "nbformat_minor": 0,
  "metadata": {
    "colab": {
      "name": "20_ComparaisonFlottants.ipynb",
      "provenance": [],
      "authorship_tag": "ABX9TyMPXbwgBIgL9ZImkm8LKsYm",
      "include_colab_link": true
    },
    "kernelspec": {
      "name": "python3",
      "display_name": "Python 3"
    },
    "language_info": {
      "name": "python"
    }
  },
  "cells": [
    {
      "cell_type": "markdown",
      "metadata": {
        "id": "view-in-github",
        "colab_type": "text"
      },
      "source": [
        "<a href=\"https://colab.research.google.com/github/thfruchart/1nsi/blob/main/19/ComparaisonFlottants.ipynb\" target=\"_parent\"><img src=\"https://colab.research.google.com/assets/colab-badge.svg\" alt=\"Open In Colab\"/></a>"
      ]
    },
    {
      "cell_type": "markdown",
      "source": [
        "## 1. Exécuter le programme suivant.\n",
        "Expliquer pouquoi il ne s'arrête pas (on pourra éventuellement faire afficher les valeurs successives de `x`)"
      ],
      "metadata": {
        "id": "E0xjJnaU33EW"
      }
    },
    {
      "cell_type": "code",
      "source": [
        "x = 1\n",
        "while x != 0 :\n",
        "    x = x-0.1\n",
        "\n",
        "print('fin du programme')"
      ],
      "metadata": {
        "id": "P9Jix2qG4Cop"
      },
      "execution_count": null,
      "outputs": []
    },
    {
      "cell_type": "markdown",
      "source": [
        "## 2. Proposer une solution pour corriger ce problème.\n",
        "On pourra utiliser la fonction `abs()`"
      ],
      "metadata": {
        "id": "Dn0PR_Rq6Ca0"
      }
    },
    {
      "cell_type": "code",
      "source": [
        "x = 1\n",
        "while x != 0 : # modifier cette ligne\n",
        "    x = x-0.1\n",
        "\n",
        "print('fin du programme')"
      ],
      "metadata": {
        "id": "-zjwxauI6QKb"
      },
      "execution_count": null,
      "outputs": []
    }
  ]
}