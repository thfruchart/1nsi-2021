{
  "nbformat": 4,
  "nbformat_minor": 0,
  "metadata": {
    "colab": {
      "name": "19-TRAVAIL_PERSO_Binaire_CORRECTION.ipynb",
      "provenance": [],
      "collapsed_sections": [],
      "authorship_tag": "ABX9TyOAb7zW6znvm7JK0BhR0FLI",
      "include_colab_link": true
    },
    "kernelspec": {
      "name": "python3",
      "display_name": "Python 3"
    }
  },
  "cells": [
    {
      "cell_type": "markdown",
      "metadata": {
        "id": "view-in-github",
        "colab_type": "text"
      },
      "source": [
        "<a href=\"https://colab.research.google.com/github/thfruchart/1nsi/blob/main/19/TRAVAIL_PERSO_Binaire_CORRECTION.ipynb\" target=\"_parent\"><img src=\"https://colab.research.google.com/assets/colab-badge.svg\" alt=\"Open In Colab\"/></a>"
      ]
    },
    {
      "cell_type": "markdown",
      "metadata": {
        "id": "O44iBCSoV-j8"
      },
      "source": [
        "# TEST 1 : base 2 vers base 10"
      ]
    },
    {
      "cell_type": "markdown",
      "metadata": {
        "id": "EsWjXDQzWJUg"
      },
      "source": [
        "Convertir en décimal les nombres entiers suivants, donnés en binaire: \n",
        "* $(110110)_2$\n",
        "* $(111111)_2$"
      ]
    },
    {
      "cell_type": "markdown",
      "metadata": {
        "id": "OKKnnvUzWN2i"
      },
      "source": [
        "# TEST 2 : base 10 vers base 2"
      ]
    },
    {
      "cell_type": "markdown",
      "metadata": {
        "id": "7yS1HtAhWUxi"
      },
      "source": [
        "Convertir en binaire les nombres entiers suivants, donnés en décimal: \n",
        "* 111 \n",
        "* 1234"
      ]
    },
    {
      "cell_type": "markdown",
      "metadata": {
        "id": "Hcu9zHPiWYM-"
      },
      "source": [
        "# Correction du TEST 1"
      ]
    },
    {
      "cell_type": "markdown",
      "metadata": {
        "id": "Dzhza6bRWhuI"
      },
      "source": [
        "Convertir en décimal les nombres entiers suivants, donnés en binaire: \n",
        "* $(110110)_2 = 1 \\times 2^5+ 1 \\times 2^4+0 \\times 2^3+1 \\times 2^2+1 \\times 2^1+0 \\times 2^0=32+16+4+2=(54)_{10}$\n",
        "* $(111111)_2 = 1 \\times 2^5+ 1 \\times 2^4+1 \\times 2^3+1 \\times 2^2+1 \\times 2^1+1 \\times 2^0=32+16+8+4+2+1 = (63)_{10}$"
      ]
    },
    {
      "cell_type": "markdown",
      "metadata": {
        "id": "O2HNNmwkW7qA"
      },
      "source": [
        "|poids|32|16|8|4|2|1|\n",
        "|:--|:--:|:--:|:--:|:--:|:--:|:--:|\n",
        "|chiffres binaires|1|1|0| 1|1|0|"
      ]
    },
    {
      "cell_type": "markdown",
      "metadata": {
        "id": "sxW9AhqIXcyJ"
      },
      "source": [
        "|poids|32|16|8|4|2|1|\n",
        "|:--|:--:|:--:|:--:|:--:|:--:|:--:|\n",
        "|chiffres binaires|1|1|1| 1|1|1|"
      ]
    },
    {
      "cell_type": "code",
      "metadata": {
        "colab": {
          "base_uri": "https://localhost:8080/"
        },
        "id": "1j0jQfZbXnGa",
        "outputId": "632ea826-2e08-4715-bdb6-2b2f742db188"
      },
      "source": [
        "# vérification avec Python\n",
        "0b110110"
      ],
      "execution_count": null,
      "outputs": [
        {
          "output_type": "execute_result",
          "data": {
            "text/plain": [
              "54"
            ]
          },
          "metadata": {},
          "execution_count": 1
        }
      ]
    },
    {
      "cell_type": "code",
      "metadata": {
        "colab": {
          "base_uri": "https://localhost:8080/"
        },
        "id": "G6UnCzFOXtSZ",
        "outputId": "8fb97139-6432-4094-c4e4-1fd29cbcbc42"
      },
      "source": [
        "0b111111"
      ],
      "execution_count": null,
      "outputs": [
        {
          "output_type": "execute_result",
          "data": {
            "text/plain": [
              "63"
            ]
          },
          "metadata": {},
          "execution_count": 2
        }
      ]
    },
    {
      "cell_type": "markdown",
      "metadata": {
        "id": "3YuMZnNTXKG9"
      },
      "source": [
        "# Correction du TEST 2"
      ]
    },
    {
      "cell_type": "markdown",
      "metadata": {
        "id": "2zVtvQ6lWtf_"
      },
      "source": [
        "Convertir en binaire les nombres entiers suivants, donnés en décimal: \n",
        "* $(111)_{10} = 64+32+8+4+2+1 = (1101111)_2$"
      ]
    },
    {
      "cell_type": "markdown",
      "metadata": {
        "id": "3M9JrQXjXHO1"
      },
      "source": [
        "|poids|128|64|32|16|8|4|2|1|\n",
        "|:--|:--:|:--:|:--:|:--:|:--:|:--:|:--:|:--:|\n",
        "|chiffres binaires||1|1|0|1|1 |1|1|"
      ]
    },
    {
      "cell_type": "code",
      "metadata": {
        "colab": {
          "base_uri": "https://localhost:8080/"
        },
        "id": "8KAza_FXX7sq",
        "outputId": "968a4be8-28c3-4707-d737-b48b70bd5021"
      },
      "source": [
        "111-64"
      ],
      "execution_count": null,
      "outputs": [
        {
          "output_type": "execute_result",
          "data": {
            "text/plain": [
              "47"
            ]
          },
          "metadata": {},
          "execution_count": 4
        }
      ]
    },
    {
      "cell_type": "code",
      "metadata": {
        "colab": {
          "base_uri": "https://localhost:8080/"
        },
        "id": "NEYjs_55X9N5",
        "outputId": "aa528d2e-c110-42a1-9883-471f3439b982"
      },
      "source": [
        "47-32"
      ],
      "execution_count": null,
      "outputs": [
        {
          "output_type": "execute_result",
          "data": {
            "text/plain": [
              "15"
            ]
          },
          "metadata": {
            "tags": []
          },
          "execution_count": 2
        }
      ]
    },
    {
      "cell_type": "code",
      "metadata": {
        "colab": {
          "base_uri": "https://localhost:8080/"
        },
        "id": "AM1uIuw0YImx",
        "outputId": "de4fd05d-a62b-4106-a5da-b43e79563c8e"
      },
      "source": [
        "15-8"
      ],
      "execution_count": null,
      "outputs": [
        {
          "output_type": "execute_result",
          "data": {
            "text/plain": [
              "7"
            ]
          },
          "metadata": {
            "tags": []
          },
          "execution_count": 3
        }
      ]
    },
    {
      "cell_type": "code",
      "metadata": {
        "colab": {
          "base_uri": "https://localhost:8080/"
        },
        "id": "Q5PLj8fBYTDp",
        "outputId": "5d438bc3-9fbc-49b9-9d7b-21c1d8110748"
      },
      "source": [
        "7-4"
      ],
      "execution_count": null,
      "outputs": [
        {
          "output_type": "execute_result",
          "data": {
            "text/plain": [
              "3"
            ]
          },
          "metadata": {
            "tags": []
          },
          "execution_count": 4
        }
      ]
    },
    {
      "cell_type": "code",
      "metadata": {
        "colab": {
          "base_uri": "https://localhost:8080/"
        },
        "id": "igu5qLZWYUrR",
        "outputId": "b69837d8-845d-49a0-afd8-85e26d43ddf3"
      },
      "source": [
        "3-2"
      ],
      "execution_count": null,
      "outputs": [
        {
          "output_type": "execute_result",
          "data": {
            "text/plain": [
              "1"
            ]
          },
          "metadata": {
            "tags": []
          },
          "execution_count": 5
        }
      ]
    },
    {
      "cell_type": "code",
      "metadata": {
        "colab": {
          "base_uri": "https://localhost:8080/",
          "height": 35
        },
        "id": "w8R4lNvOZEP5",
        "outputId": "2863bbb4-fa30-400f-a49f-ce0e2123c355"
      },
      "source": [
        "# vérification avec Python\n",
        "bin(111)"
      ],
      "execution_count": null,
      "outputs": [
        {
          "output_type": "execute_result",
          "data": {
            "application/vnd.google.colaboratory.intrinsic+json": {
              "type": "string"
            },
            "text/plain": [
              "'0b1101111'"
            ]
          },
          "metadata": {},
          "execution_count": 5
        }
      ]
    },
    {
      "cell_type": "markdown",
      "metadata": {
        "id": "CUY2zCH_YsrR"
      },
      "source": [
        "Convertir en binaire les nombres entiers suivants, donnés en décimal: \n",
        "\n",
        "* $(1234)_{10}=1024 + 128 + 64+16+2 = (1\t0\t0\t1\t1\t0\t1\t0\t0\t1\t0)_2$"
      ]
    },
    {
      "cell_type": "markdown",
      "metadata": {
        "id": "rK20neI9X5J5"
      },
      "source": [
        "|poids|1024|512|256|128|64|32|16|8|4|2|1|\n",
        "|:--|:--:|:--:|:--:|:--:|:--:|:--:|:--:|:--:|:--:|:--:|:--:|\n",
        "|chiffres binaires|1|0|0|1|1|0|1|0|0|1|0|"
      ]
    },
    {
      "cell_type": "code",
      "metadata": {
        "colab": {
          "base_uri": "https://localhost:8080/"
        },
        "id": "dGxz4RMWYg0B",
        "outputId": "13e4e7d3-c55a-4379-b1d6-7a5b2eff7543"
      },
      "source": [
        "(1234-1024, 210-128, 82-64, 18-16)"
      ],
      "execution_count": null,
      "outputs": [
        {
          "output_type": "execute_result",
          "data": {
            "text/plain": [
              "(210, 82, 18, 2)"
            ]
          },
          "metadata": {
            "tags": []
          },
          "execution_count": 9
        }
      ]
    },
    {
      "cell_type": "code",
      "metadata": {
        "colab": {
          "base_uri": "https://localhost:8080/",
          "height": 35
        },
        "id": "3uxrl7hLYiX5",
        "outputId": "64c5662d-a8a0-4648-b0d8-5876c063bbf7"
      },
      "source": [
        "# vérification avec Python\n",
        "bin(1234)"
      ],
      "execution_count": null,
      "outputs": [
        {
          "output_type": "execute_result",
          "data": {
            "application/vnd.google.colaboratory.intrinsic+json": {
              "type": "string"
            },
            "text/plain": [
              "'0b10011010010'"
            ]
          },
          "metadata": {
            "tags": []
          },
          "execution_count": 10
        }
      ]
    }
  ]
}