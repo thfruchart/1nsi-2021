{
  "nbformat": 4,
  "nbformat_minor": 0,
  "metadata": {
    "colab": {
      "name": "06-ACTIVITÉ-Terminaison.ipynb",
      "provenance": [],
      "collapsed_sections": [],
      "authorship_tag": "ABX9TyPHje6uka88MBAllik2kYQ7",
      "include_colab_link": true
    },
    "kernelspec": {
      "name": "python3",
      "display_name": "Python 3"
    }
  },
  "cells": [
    {
      "cell_type": "markdown",
      "metadata": {
        "id": "view-in-github",
        "colab_type": "text"
      },
      "source": [
        "<a href=\"https://colab.research.google.com/github/thfruchart/1nsi/blob/main/06/ACTIVIT%C3%89_Terminaison_CORRECTION.5.6.ipynb\" target=\"_parent\"><img src=\"https://colab.research.google.com/assets/colab-badge.svg\" alt=\"Open In Colab\"/></a>"
      ]
    },
    {
      "cell_type": "markdown",
      "metadata": {
        "id": "6niFKxf2B5Vt"
      },
      "source": [
        "# Exercice 5  \n",
        "\n",
        "Pour chacun des programmes suivants : \n",
        "\n",
        "**a)** Déterminer une valeur de n pour laquelle le programme termine\n",
        "\n",
        "**b)** Déterminer une valeur de n pour laquelle le programme ne termine pas"
      ]
    },
    {
      "cell_type": "code",
      "metadata": {
        "id": "SAj8If_lCNE4",
        "outputId": "6ada3386-3ef2-43c8-bcdf-14f05a28b00c",
        "colab": {
          "base_uri": "https://localhost:8080/"
        }
      },
      "source": [
        "#1\n",
        "n = int(input(\"Entrer n :\"))\n",
        "while n != 0:\n",
        "    n = n-1\n",
        "    print(n)\n",
        "print('Fin')"
      ],
      "execution_count": 1,
      "outputs": [
        {
          "output_type": "stream",
          "name": "stdout",
          "text": [
            "Entrer n :3\n",
            "2\n",
            "1\n",
            "0\n",
            "Fin\n"
          ]
        }
      ]
    },
    {
      "cell_type": "code",
      "metadata": {
        "id": "TDZV3m-99iGl"
      },
      "source": [
        "#1\n",
        "n = int(input(\"Entrer n :\"))\n",
        "while n != 0:\n",
        "    n = n-1\n",
        "    print(n)\n",
        "print('Fin')"
      ],
      "execution_count": null,
      "outputs": []
    },
    {
      "cell_type": "markdown",
      "metadata": {
        "id": "JLVKSI3bNWCk"
      },
      "source": [
        "ATTENTION si n<0 alors le programme ne s'arrête pas\n",
        "=> divergence"
      ]
    },
    {
      "cell_type": "markdown",
      "metadata": {
        "id": "g7hui5sAOHzs"
      },
      "source": [
        "n doit être pair et positif pour que le programme s'arrête"
      ]
    },
    {
      "cell_type": "code",
      "metadata": {
        "id": "tIeW3Guq-gBG",
        "outputId": "bdd8af84-c57b-4505-e996-f153ad3b1732",
        "colab": {
          "base_uri": "https://localhost:8080/"
        }
      },
      "source": [
        "#2\n",
        "n = int(input(\"Entrer n :\"))\n",
        "while n<0:\n",
        "    n = int(input(\"Entrer n :\"))\n",
        "\n",
        "while n != 0:\n",
        "    n = n-2\n",
        "    print(n)\n",
        "print('Fin')"
      ],
      "execution_count": 4,
      "outputs": [
        {
          "output_type": "stream",
          "name": "stdout",
          "text": [
            "Entrer n :-1\n",
            "Entrer n :-2\n",
            "Entrer n :4\n",
            "2\n",
            "0\n",
            "Fin\n"
          ]
        }
      ]
    },
    {
      "cell_type": "code",
      "metadata": {
        "id": "4Z0iQGdICiF7"
      },
      "source": [
        "#2\n",
        "n = int(input(\"Entrer n :\"))\n",
        "while n<0:\n",
        "    n = int(input(\"Entrer n :\"))\n",
        "\n",
        "while n != 0:\n",
        "    n = n-2\n",
        "    print(n)\n",
        "print('Fin')"
      ],
      "execution_count": null,
      "outputs": []
    },
    {
      "cell_type": "markdown",
      "metadata": {
        "id": "OPjnW9LoODST"
      },
      "source": [
        "Si n est impair, le programme boucle"
      ]
    },
    {
      "cell_type": "code",
      "metadata": {
        "id": "vbCzNpri-5wl",
        "outputId": "0eeca1eb-5251-43ea-80ed-431ddcf1e32a",
        "colab": {
          "base_uri": "https://localhost:8080/"
        }
      },
      "source": [
        "#3\n",
        "n = int(input(\"Entrer n :\"))\n",
        "while n != 0:\n",
        "    n = n // 2\n",
        "    print(n)\n",
        "print('Fin')"
      ],
      "execution_count": 6,
      "outputs": [
        {
          "output_type": "stream",
          "name": "stdout",
          "text": [
            "Entrer n :2021\n",
            "1010\n",
            "505\n",
            "252\n",
            "126\n",
            "63\n",
            "31\n",
            "15\n",
            "7\n",
            "3\n",
            "1\n",
            "0\n",
            "Fin\n"
          ]
        }
      ]
    },
    {
      "cell_type": "markdown",
      "metadata": {
        "id": "upIwcFcCOmlz"
      },
      "source": [
        "Si n est positif, le programme s'arrête, s'il est négatif, il boucle à l'infini : il diverge"
      ]
    },
    {
      "cell_type": "code",
      "metadata": {
        "id": "KMvqHm99Cgeo"
      },
      "source": [
        "#3\n",
        "n = int(input(\"Entrer n :\"))\n",
        "while n != 0:\n",
        "    n = n // 2\n",
        "    print(n)\n",
        "print('Fin')"
      ],
      "execution_count": null,
      "outputs": []
    },
    {
      "cell_type": "markdown",
      "metadata": {
        "id": "1aswMqHiCq1p"
      },
      "source": [
        "# Exercice 6"
      ]
    },
    {
      "cell_type": "markdown",
      "metadata": {
        "id": "I1GvgIYlDFDT"
      },
      "source": [
        "On prétend que les deux programmes suivants effectuent la multiplication de a par b, si a et b sont des entiers positifs. \n",
        " \n",
        " Ces programmes terminent-ils ?  Identifier, pour chacun d’eux, un variant de boucle. \n"
      ]
    },
    {
      "cell_type": "code",
      "metadata": {
        "id": "0oSUaqh8DHAr",
        "outputId": "615f9e6e-6c28-4dd6-d2d4-a9e7f47113fa",
        "colab": {
          "base_uri": "https://localhost:8080/"
        }
      },
      "source": [
        "#1\n",
        "a = int(input(\"a =\"))\n",
        "b = int(input(\"b =\"))  \n",
        "m = 0\n",
        "while b > 0:\n",
        "    m += a  # m = m+a\n",
        "    b -= 1  # b = b-1\n",
        "print(\"a * b =\", m)"
      ],
      "execution_count": 8,
      "outputs": [
        {
          "output_type": "stream",
          "name": "stdout",
          "text": [
            "a =8\n",
            "b =4\n",
            "a * b = 32\n"
          ]
        }
      ]
    },
    {
      "cell_type": "markdown",
      "metadata": {
        "id": "NBjxmyhcPh3S"
      },
      "source": [
        "* b est un entier\n",
        "* la condition du while est : b>0\n",
        "* dans la boucle, b diminue strictement : b = b-1\n",
        "\n",
        "**donc b est un variant de boucle**\n",
        "ce qui montre que la boucle termine\n"
      ]
    },
    {
      "cell_type": "code",
      "metadata": {
        "id": "j4HUM-RZDqx7",
        "colab": {
          "base_uri": "https://localhost:8080/"
        },
        "outputId": "a74e5b6e-4a60-42b6-bdec-0d0abcef2834"
      },
      "source": [
        "#2\n",
        "a = int(input(\"a =\"))\n",
        "b = int(input(\"b =\"))\n",
        "i=0\n",
        "m = 0\n",
        "while i < b: # ce qui revient à  0 < b - i \n",
        "    m += a\n",
        "    i += 1\n",
        "print(\"a * b =\", m)"
      ],
      "execution_count": null,
      "outputs": [
        {
          "output_type": "stream",
          "text": [
            "a =4\n",
            "b =5\n",
            "a * b = 20\n"
          ],
          "name": "stdout"
        }
      ]
    },
    {
      "cell_type": "markdown",
      "metadata": {
        "id": "f-eADF5kQyfZ"
      },
      "source": [
        "ici le variant de boucle est l'expression : **`b-i`** : en effet\n",
        "* la condition de boucle est  équivalente à 0 < b - i : donc  **`b-i`** est **positif**\n",
        "* i et b sont entiers, donc **b-i est entier**\n",
        "* comme i augmente dans la boucle, **b-i diminue strictement**\n",
        "\n",
        "Ceci montre que la boucle termine !"
      ]
    },
    {
      "cell_type": "markdown",
      "metadata": {
        "id": "NtNcugU5EdOb"
      },
      "source": [
        "# Exercice 7"
      ]
    },
    {
      "cell_type": "markdown",
      "metadata": {
        "id": "13_2yKhJEexq"
      },
      "source": [
        "On prétend que les deux programmes suivants calculent le nombre de chiffres d’un entier saisi par l’utilisateur : \n",
        "\n",
        "ces programmes terminent-ils ?  Identifier, pour chacun d’eux, un variant de boucle. "
      ]
    },
    {
      "cell_type": "code",
      "metadata": {
        "id": "CcCsZs15Emm-"
      },
      "source": [
        "#1\n",
        "n = int(input(\"Entrer un entier strictement positif:\"))\n",
        "i = 0\n",
        "while n > 0:\n",
        "    n = n // 10\n",
        "    i += 1\n",
        "print(\"nombre de chiffres :\", i)"
      ],
      "execution_count": null,
      "outputs": []
    },
    {
      "cell_type": "code",
      "metadata": {
        "id": "2bOYkrTDFIpd"
      },
      "source": [
        "#2\n",
        "n = int(input(\"Entrer un entier strictement positif:\"))\n",
        "i = 0\n",
        "k = 1\n",
        "while k <= n:\n",
        "    k = k*10\n",
        "    i += 1\n",
        "print(\"nombre de chiffres :\", i)"
      ],
      "execution_count": null,
      "outputs": []
    }
  ]
}