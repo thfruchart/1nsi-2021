{
  "nbformat": 4,
  "nbformat_minor": 0,
  "metadata": {
    "colab": {
      "name": "06-ACTIVITÉ-Terminaison.ipynb",
      "provenance": [],
      "collapsed_sections": [],
      "authorship_tag": "ABX9TyN071tM6hRAP6QojCAjPyXg",
      "include_colab_link": true
    },
    "kernelspec": {
      "name": "python3",
      "display_name": "Python 3"
    }
  },
  "cells": [
    {
      "cell_type": "markdown",
      "metadata": {
        "id": "view-in-github",
        "colab_type": "text"
      },
      "source": [
        "<a href=\"https://colab.research.google.com/github/thfruchart/1nsi/blob/main/06/ACTIVIT%C3%89_Terminaison_CORRECTION.5.6.7.ipynb\" target=\"_parent\"><img src=\"https://colab.research.google.com/assets/colab-badge.svg\" alt=\"Open In Colab\"/></a>"
      ]
    },
    {
      "cell_type": "markdown",
      "metadata": {
        "id": "6niFKxf2B5Vt"
      },
      "source": [
        "# Exercice 5  \n",
        "\n",
        "Pour chacun des programmes suivants : \n",
        "\n",
        "**a)** Déterminer une valeur de n pour laquelle le programme termine\n",
        "\n",
        "**b)** Déterminer une valeur de n pour laquelle le programme ne termine pas"
      ]
    },
    {
      "cell_type": "code",
      "metadata": {
        "id": "SAj8If_lCNE4",
        "colab": {
          "base_uri": "https://localhost:8080/"
        },
        "outputId": "6ada3386-3ef2-43c8-bcdf-14f05a28b00c"
      },
      "source": [
        "#1\n",
        "n = int(input(\"Entrer n :\"))\n",
        "while n != 0:\n",
        "    n = n-1\n",
        "    print(n)\n",
        "print('Fin')"
      ],
      "execution_count": null,
      "outputs": [
        {
          "output_type": "stream",
          "name": "stdout",
          "text": [
            "Entrer n :3\n",
            "2\n",
            "1\n",
            "0\n",
            "Fin\n"
          ]
        }
      ]
    },
    {
      "cell_type": "code",
      "metadata": {
        "id": "TDZV3m-99iGl"
      },
      "source": [
        "#1\n",
        "n = int(input(\"Entrer n :\"))\n",
        "while n != 0:\n",
        "    n = n-1\n",
        "    print(n)\n",
        "print('Fin')"
      ],
      "execution_count": null,
      "outputs": []
    },
    {
      "cell_type": "markdown",
      "metadata": {
        "id": "JLVKSI3bNWCk"
      },
      "source": [
        "ATTENTION si n<0 alors le programme ne s'arrête pas\n",
        "=> divergence"
      ]
    },
    {
      "cell_type": "markdown",
      "metadata": {
        "id": "g7hui5sAOHzs"
      },
      "source": [
        "n doit être pair et positif pour que le programme s'arrête"
      ]
    },
    {
      "cell_type": "code",
      "metadata": {
        "id": "tIeW3Guq-gBG",
        "colab": {
          "base_uri": "https://localhost:8080/"
        },
        "outputId": "bdd8af84-c57b-4505-e996-f153ad3b1732"
      },
      "source": [
        "#2\n",
        "n = int(input(\"Entrer n :\"))\n",
        "while n<0:\n",
        "    n = int(input(\"Entrer n :\"))\n",
        "\n",
        "while n != 0:\n",
        "    n = n-2\n",
        "    print(n)\n",
        "print('Fin')"
      ],
      "execution_count": null,
      "outputs": [
        {
          "output_type": "stream",
          "name": "stdout",
          "text": [
            "Entrer n :-1\n",
            "Entrer n :-2\n",
            "Entrer n :4\n",
            "2\n",
            "0\n",
            "Fin\n"
          ]
        }
      ]
    },
    {
      "cell_type": "code",
      "metadata": {
        "id": "4Z0iQGdICiF7"
      },
      "source": [
        "#2\n",
        "n = int(input(\"Entrer n :\"))\n",
        "while n<0:\n",
        "    n = int(input(\"Entrer n :\"))\n",
        "\n",
        "while n != 0:\n",
        "    n = n-2\n",
        "    print(n)\n",
        "print('Fin')"
      ],
      "execution_count": null,
      "outputs": []
    },
    {
      "cell_type": "markdown",
      "metadata": {
        "id": "OPjnW9LoODST"
      },
      "source": [
        "Si n est impair, le programme boucle"
      ]
    },
    {
      "cell_type": "code",
      "metadata": {
        "id": "vbCzNpri-5wl",
        "colab": {
          "base_uri": "https://localhost:8080/"
        },
        "outputId": "0eeca1eb-5251-43ea-80ed-431ddcf1e32a"
      },
      "source": [
        "#3\n",
        "n = int(input(\"Entrer n :\"))\n",
        "while n != 0:\n",
        "    n = n // 2\n",
        "    print(n)\n",
        "print('Fin')"
      ],
      "execution_count": null,
      "outputs": [
        {
          "output_type": "stream",
          "name": "stdout",
          "text": [
            "Entrer n :2021\n",
            "1010\n",
            "505\n",
            "252\n",
            "126\n",
            "63\n",
            "31\n",
            "15\n",
            "7\n",
            "3\n",
            "1\n",
            "0\n",
            "Fin\n"
          ]
        }
      ]
    },
    {
      "cell_type": "markdown",
      "metadata": {
        "id": "upIwcFcCOmlz"
      },
      "source": [
        "Si n est positif, le programme s'arrête, s'il est négatif, il boucle à l'infini : il diverge"
      ]
    },
    {
      "cell_type": "code",
      "metadata": {
        "id": "KMvqHm99Cgeo"
      },
      "source": [
        "#3\n",
        "n = int(input(\"Entrer n :\"))\n",
        "while n != 0:\n",
        "    n = n // 2\n",
        "    print(n)\n",
        "print('Fin')"
      ],
      "execution_count": null,
      "outputs": []
    },
    {
      "cell_type": "markdown",
      "metadata": {
        "id": "1aswMqHiCq1p"
      },
      "source": [
        "# Exercice 6"
      ]
    },
    {
      "cell_type": "markdown",
      "metadata": {
        "id": "I1GvgIYlDFDT"
      },
      "source": [
        "On prétend que les deux programmes suivants effectuent la multiplication de a par b, si a et b sont des entiers positifs. \n",
        " \n",
        " Ces programmes terminent-ils ?  Identifier, pour chacun d’eux, un variant de boucle. \n"
      ]
    },
    {
      "cell_type": "code",
      "metadata": {
        "id": "0oSUaqh8DHAr",
        "colab": {
          "base_uri": "https://localhost:8080/"
        },
        "outputId": "615f9e6e-6c28-4dd6-d2d4-a9e7f47113fa"
      },
      "source": [
        "#1\n",
        "a = int(input(\"a =\"))\n",
        "b = int(input(\"b =\"))  \n",
        "m = 0\n",
        "while b > 0:\n",
        "    m += a  # m = m+a\n",
        "    b -= 1  # b = b-1\n",
        "print(\"a * b =\", m)"
      ],
      "execution_count": null,
      "outputs": [
        {
          "output_type": "stream",
          "name": "stdout",
          "text": [
            "a =8\n",
            "b =4\n",
            "a * b = 32\n"
          ]
        }
      ]
    },
    {
      "cell_type": "markdown",
      "metadata": {
        "id": "NBjxmyhcPh3S"
      },
      "source": [
        "* b est un entier\n",
        "* la condition du while est : b>0\n",
        "* dans la boucle, b diminue strictement : b = b-1\n",
        "\n",
        "**donc b est un variant de boucle**\n",
        "ce qui montre que la boucle termine\n"
      ]
    },
    {
      "cell_type": "code",
      "metadata": {
        "id": "j4HUM-RZDqx7",
        "colab": {
          "base_uri": "https://localhost:8080/"
        },
        "outputId": "a74e5b6e-4a60-42b6-bdec-0d0abcef2834"
      },
      "source": [
        "#2\n",
        "a = int(input(\"a =\"))\n",
        "b = int(input(\"b =\"))\n",
        "i=0\n",
        "m = 0\n",
        "while i < b: # ce qui revient à  0 < b - i \n",
        "    m += a\n",
        "    i += 1\n",
        "print(\"a * b =\", m)"
      ],
      "execution_count": null,
      "outputs": [
        {
          "output_type": "stream",
          "text": [
            "a =4\n",
            "b =5\n",
            "a * b = 20\n"
          ],
          "name": "stdout"
        }
      ]
    },
    {
      "cell_type": "markdown",
      "metadata": {
        "id": "f-eADF5kQyfZ"
      },
      "source": [
        "ici le variant de boucle est l'expression : **`b-i`** : en effet\n",
        "* la condition de boucle est  équivalente à 0 < b - i : donc  **`b-i`** est **positif**\n",
        "* i et b sont entiers, donc **b-i est entier**\n",
        "* comme i augmente dans la boucle, **b-i diminue strictement**\n",
        "\n",
        "Ceci montre que la boucle termine !"
      ]
    },
    {
      "cell_type": "markdown",
      "metadata": {
        "id": "NtNcugU5EdOb"
      },
      "source": [
        "# Exercice 7"
      ]
    },
    {
      "cell_type": "markdown",
      "metadata": {
        "id": "13_2yKhJEexq"
      },
      "source": [
        "On prétend que les deux programmes suivants calculent le nombre de chiffres d’un entier saisi par l’utilisateur : \n",
        "\n",
        "ces programmes terminent-ils ?  Identifier, pour chacun d’eux, un variant de boucle. "
      ]
    },
    {
      "cell_type": "code",
      "metadata": {
        "id": "CcCsZs15Emm-"
      },
      "source": [
        "#1\n",
        "n = int(input(\"Entrer un entier strictement positif:\"))\n",
        "i = 0\n",
        "while n > 0:\n",
        "    n = n // 10\n",
        "    i += 1\n",
        "print(\"nombre de chiffres :\", i)"
      ],
      "execution_count": null,
      "outputs": []
    },
    {
      "cell_type": "code",
      "metadata": {
        "id": "s-V8Qb9mUtN8"
      },
      "source": [
        "#1 avec AFFICHAGE du variant  : n\n",
        "n = int(input(\"Entrer un entier strictement positif:\"))\n",
        "i = 0\n",
        "while n > 0:\n",
        "    print('le variant n est égal à :', n)\n",
        "    n = n // 10\n",
        "    i += 1\n",
        "print(\"nombre de chiffres :\", i)"
      ],
      "execution_count": null,
      "outputs": []
    },
    {
      "cell_type": "markdown",
      "metadata": {
        "id": "4PORDtcEYBDm"
      },
      "source": [
        "### Justifions que `n` est un variant de boucle"
      ]
    },
    {
      "cell_type": "markdown",
      "metadata": {
        "id": "ykX3X33WU88x"
      },
      "source": [
        "* n est entier car :\n",
        "  * `n` est initialisé avec une valeur de type `int`\n",
        "  * dans la boucle `n = n // 10` affecte à la variable `n` le résultat d'une **division entière**"
      ]
    },
    {
      "cell_type": "markdown",
      "metadata": {
        "id": "uc50WlMCXykd"
      },
      "source": [
        "* à l'entrée de la boucle `while n > 0:`, `n` est positif !"
      ]
    },
    {
      "cell_type": "markdown",
      "metadata": {
        "id": "bdZhY65SX01D"
      },
      "source": [
        "* `n` **diminue strictement** dans le corps de la boucle car `n = n // 10` et que n est **strictement** positif à l'entrée de boucle. "
      ]
    },
    {
      "cell_type": "markdown",
      "metadata": {
        "id": "7bxs0I2PX2pA"
      },
      "source": [
        "#### Conclusion :\n",
        " `n`est un **variant** de boucle, donc la boucle **termine** !"
      ]
    },
    {
      "cell_type": "code",
      "metadata": {
        "id": "2bOYkrTDFIpd"
      },
      "source": [
        "#2\n",
        "n = int(input(\"Entrer un entier strictement positif:\"))\n",
        "i = 0\n",
        "k = 1\n",
        "while k <= n:\n",
        "    k = k*10\n",
        "    i += 1\n",
        "print(\"nombre de chiffres :\", i)"
      ],
      "execution_count": null,
      "outputs": []
    },
    {
      "cell_type": "code",
      "metadata": {
        "id": "zmLRuBOEWXUO",
        "outputId": "2b2584ae-27c2-4f76-ae86-23b9908797a7",
        "colab": {
          "base_uri": "https://localhost:8080/"
        }
      },
      "source": [
        "#2 avec affichage du VARIANT : n-k\n",
        "n = int(input(\"Entrer un entier strictement positif:\"))\n",
        "i = 0\n",
        "k = 1\n",
        "while k <= n:\n",
        "    print('le variant n-k est égal à :', n-k)\n",
        "    k = k*10\n",
        "    i += 1\n",
        "print(\"nombre de chiffres :\", i)"
      ],
      "execution_count": 3,
      "outputs": [
        {
          "output_type": "stream",
          "name": "stdout",
          "text": [
            "Entrer un entier strictement positif:100000\n",
            "le variant n-k est égal à : 99999\n",
            "le variant n-k est égal à : 99990\n",
            "le variant n-k est égal à : 99900\n",
            "le variant n-k est égal à : 99000\n",
            "le variant n-k est égal à : 90000\n",
            "le variant n-k est égal à : 0\n",
            "nombre de chiffres : 6\n"
          ]
        }
      ]
    },
    {
      "cell_type": "markdown",
      "metadata": {
        "id": "T2vslxYUYJgT"
      },
      "source": [
        "### Justifions que `n-k`est un variant de boucle"
      ]
    },
    {
      "cell_type": "markdown",
      "metadata": {
        "id": "2-m3u-jIW1nR"
      },
      "source": [
        "* `n-k` est une expression **entière** car\n",
        "  * n est de type int\n",
        "  * k est initialisé à 1, donc de type `int`\n",
        "  * dans la boucle `k = k*10` donc k reste de type `int`"
      ]
    },
    {
      "cell_type": "markdown",
      "metadata": {
        "id": "1QK4HNlbXtZ2"
      },
      "source": [
        "* à l'entrée de la boucle `while k <= n:` on a `k <= n` donc `0 <= n-k` donc `n-k` est **positif**"
      ]
    },
    {
      "cell_type": "markdown",
      "metadata": {
        "id": "PzxoUUMmYOZA"
      },
      "source": [
        "* dans la boucle  \n",
        "  * `k = k*10` (avec k initialisé à 1) donc la valeur k augmente strictement \n",
        "  * donc `n-k` **diminue strictement**"
      ]
    },
    {
      "cell_type": "markdown",
      "metadata": {
        "id": "muCy37FdYiJT"
      },
      "source": [
        "#### Conclusion :\n",
        " `n-k`est un **variant** de boucle, donc la boucle **termine** !"
      ]
    }
  ]
}