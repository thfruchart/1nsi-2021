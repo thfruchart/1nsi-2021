{
  "nbformat": 4,
  "nbformat_minor": 0,
  "metadata": {
    "colab": {
      "name": "S3-tuple-TravailPerso1.ipynb",
      "provenance": [],
      "authorship_tag": "ABX9TyMjEELGc2jOZTul9j+9Wo3s",
      "include_colab_link": true
    },
    "kernelspec": {
      "name": "python3",
      "display_name": "Python 3"
    },
    "language_info": {
      "name": "python"
    }
  },
  "cells": [
    {
      "cell_type": "markdown",
      "metadata": {
        "id": "view-in-github",
        "colab_type": "text"
      },
      "source": [
        "<a href=\"https://colab.research.google.com/github/thfruchart/1nsi/blob/main/S3/tuple_TravailPerso1.ipynb\" target=\"_parent\"><img src=\"https://colab.research.google.com/assets/colab-badge.svg\" alt=\"Open In Colab\"/></a>"
      ]
    },
    {
      "cell_type": "markdown",
      "metadata": {
        "id": "KTRgBC0dSb9H"
      },
      "source": [
        "# Travail personnel : le type `tuple`"
      ]
    },
    {
      "cell_type": "markdown",
      "metadata": {
        "id": "z3ZgwH8vShLt"
      },
      "source": [
        "* AVANT d'exécuter chaque cellule, essayer de deviner quel sera le résultat affiché\n",
        "* ENSUITE, vérifier votre réponse en exécutant la cellule"
      ]
    },
    {
      "cell_type": "code",
      "metadata": {
        "id": "v0DEwoq3SbU9"
      },
      "source": [
        "t = (10,20,30)\n",
        "print (type(t))"
      ],
      "execution_count": null,
      "outputs": []
    },
    {
      "cell_type": "code",
      "metadata": {
        "id": "xaMnpoLWSvSO"
      },
      "source": [
        "t = (10,20,30)\n",
        "print(t[1])"
      ],
      "execution_count": null,
      "outputs": []
    },
    {
      "cell_type": "code",
      "metadata": {
        "id": "qHJ5c4qmSzi7"
      },
      "source": [
        "t = (10,20,30,40)\n",
        "print(t[4])"
      ],
      "execution_count": null,
      "outputs": []
    },
    {
      "cell_type": "code",
      "metadata": {
        "id": "icGkQXacS4Cy"
      },
      "source": [
        "t = (10,20,30,40,50)\n",
        "print(len(t))"
      ],
      "execution_count": null,
      "outputs": []
    },
    {
      "cell_type": "code",
      "metadata": {
        "id": "fD7EXaVhTU6M"
      },
      "source": [
        "t = (10,20,30,40,50)\n",
        "print(t[1]==20)"
      ],
      "execution_count": null,
      "outputs": []
    },
    {
      "cell_type": "code",
      "metadata": {
        "id": "Dv3fRUSATUs3"
      },
      "source": [
        "t = (10,20,30,40,50)\n",
        "print(t[0]==50)"
      ],
      "execution_count": null,
      "outputs": []
    },
    {
      "cell_type": "code",
      "metadata": {
        "id": "DhcGGY2uTkyH"
      },
      "source": [
        "t = (10,20,30,40,50)\n",
        "t[1]=0\n",
        "print(t)"
      ],
      "execution_count": null,
      "outputs": []
    },
    {
      "cell_type": "code",
      "metadata": {
        "id": "z_IpxamIS7mX"
      },
      "source": [
        "t = (10,20,(30,40,50), 'soixante')\n",
        "print(len(t))"
      ],
      "execution_count": null,
      "outputs": []
    },
    {
      "cell_type": "code",
      "metadata": {
        "id": "rry_3qWFTBDi"
      },
      "source": [
        "t = (10,20,(30,40,50), 'soixante')\n",
        "print(t[2])"
      ],
      "execution_count": null,
      "outputs": []
    },
    {
      "cell_type": "code",
      "metadata": {
        "id": "ZozrWXVDTF9S"
      },
      "source": [
        "t = (10,20,(30,40,50), 'soixante')\n",
        "print(t[2][2])"
      ],
      "execution_count": null,
      "outputs": []
    },
    {
      "cell_type": "code",
      "metadata": {
        "id": "clFPkK44TJil"
      },
      "source": [
        "t = (10,20,(30,40,50), 'soixante')\n",
        "print(type(t[0]))"
      ],
      "execution_count": null,
      "outputs": []
    },
    {
      "cell_type": "code",
      "metadata": {
        "id": "b8-V78JGTNAA"
      },
      "source": [
        "t = (10,20,(30,40,50), 'soixante')\n",
        "print(type(t[2]))"
      ],
      "execution_count": null,
      "outputs": []
    },
    {
      "cell_type": "code",
      "metadata": {
        "id": "x_9P2Cw4UvBT"
      },
      "source": [
        "t = (10,20,(30,40,50), 'soixante')\n",
        "print(type(t[3]))"
      ],
      "execution_count": null,
      "outputs": []
    },
    {
      "cell_type": "code",
      "metadata": {
        "id": "8XW0aFxHUx0R"
      },
      "source": [
        "t = (10,20,(30,40,50), 'soixante')\n",
        "print(t[-1])"
      ],
      "execution_count": null,
      "outputs": []
    },
    {
      "cell_type": "code",
      "metadata": {
        "id": "23C3eh7eT9bT"
      },
      "source": [
        "x,y,z = (10,20,(30,40))\n",
        "print(y)"
      ],
      "execution_count": null,
      "outputs": []
    },
    {
      "cell_type": "code",
      "metadata": {
        "id": "GdK9cLRMVUtl"
      },
      "source": [
        "x,y,z = (10,(20,30),40)\n",
        "print(y)"
      ],
      "execution_count": null,
      "outputs": []
    }
  ]
}