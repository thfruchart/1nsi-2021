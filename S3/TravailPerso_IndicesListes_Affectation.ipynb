{
  "nbformat": 4,
  "nbformat_minor": 0,
  "metadata": {
    "colab": {
      "name": "S3_TravailPerso_IndicesListes_Affectation.ipynb",
      "provenance": [],
      "authorship_tag": "ABX9TyOrySN5+/Z4Y8xhdlLCBJiF",
      "include_colab_link": true
    },
    "kernelspec": {
      "name": "python3",
      "display_name": "Python 3"
    },
    "language_info": {
      "name": "python"
    }
  },
  "cells": [
    {
      "cell_type": "markdown",
      "metadata": {
        "id": "view-in-github",
        "colab_type": "text"
      },
      "source": [
        "<a href=\"https://colab.research.google.com/github/thfruchart/1nsi/blob/main/S3/TravailPerso_IndicesListes_Affectation.ipynb\" target=\"_parent\"><img src=\"https://colab.research.google.com/assets/colab-badge.svg\" alt=\"Open In Colab\"/></a>"
      ]
    },
    {
      "cell_type": "markdown",
      "metadata": {
        "id": "6fXMsR9IpE-J"
      },
      "source": [
        "## pour chaque cellule : \n",
        "* Déterminer ce qui sera affiché à l'exécution de chaque cellule \n",
        "* puis vérifier en éxécutant la cellule\n",
        "* En cas de difficulté, \n",
        "  * exécuter le code sur [PythonTutor](http://www.pythontutor.com/visualize.html#mode=edit)\n",
        "  * préparer une question à poser en cours"
      ]
    },
    {
      "cell_type": "code",
      "metadata": {
        "id": "2krd18Ano7PU"
      },
      "source": [
        "t = [10,20,30,40]\n",
        "print(len(t))"
      ],
      "execution_count": null,
      "outputs": []
    },
    {
      "cell_type": "code",
      "metadata": {
        "id": "OUUPp3ihpQqV"
      },
      "source": [
        "t = [10,20,30,40]\n",
        "print(t[2])"
      ],
      "execution_count": null,
      "outputs": []
    },
    {
      "cell_type": "code",
      "metadata": {
        "id": "szJKZwIkpUwK"
      },
      "source": [
        "t = [10,20,30,40]\n",
        "print(t[4])"
      ],
      "execution_count": null,
      "outputs": []
    },
    {
      "cell_type": "code",
      "metadata": {
        "id": "BToB7x6epV-t"
      },
      "source": [
        "t = [10,20,30,40]\n",
        "print(t[-1])"
      ],
      "execution_count": null,
      "outputs": []
    },
    {
      "cell_type": "code",
      "metadata": {
        "id": "bFi8HgNVpYcN"
      },
      "source": [
        "t = [10,20,30,40]\n",
        "t[2]==20"
      ],
      "execution_count": null,
      "outputs": []
    },
    {
      "cell_type": "code",
      "metadata": {
        "id": "EyK2O6kvpcWN"
      },
      "source": [
        "t = [10,20,30,40]\n",
        "t[2]==30"
      ],
      "execution_count": null,
      "outputs": []
    },
    {
      "cell_type": "code",
      "metadata": {
        "id": "vChY7VbDpero"
      },
      "source": [
        "t = [10,20,30,40]\n",
        "t[2]=20\n",
        "print(t)"
      ],
      "execution_count": null,
      "outputs": []
    },
    {
      "cell_type": "code",
      "metadata": {
        "id": "r1SzrbN7pozc"
      },
      "source": [
        "t = [10, [20,30], 40]\n",
        "print(len(t))"
      ],
      "execution_count": null,
      "outputs": []
    },
    {
      "cell_type": "code",
      "metadata": {
        "id": "ObeEmK7KpvX8"
      },
      "source": [
        "t = [10, [20,30], 40]\n",
        "print(len(t[1]))"
      ],
      "execution_count": null,
      "outputs": []
    },
    {
      "cell_type": "code",
      "metadata": {
        "id": "8lDCVr-ypxLz"
      },
      "source": [
        "t = [10, [20,30], 40]\n",
        "t[0] = 1000\n",
        "print(t)"
      ],
      "execution_count": null,
      "outputs": []
    },
    {
      "cell_type": "code",
      "metadata": {
        "id": "8SKmVVcup2Dv"
      },
      "source": [
        "t = [10, [20,30], 40]\n",
        "t[1][1] = 1000\n",
        "print(t)"
      ],
      "execution_count": null,
      "outputs": []
    },
    {
      "cell_type": "code",
      "metadata": {
        "id": "5V6IFIsfp6Pn"
      },
      "source": [
        "t = [100,150,200,0]\n",
        "t[4] = 250\n",
        "print(t)"
      ],
      "execution_count": null,
      "outputs": []
    },
    {
      "cell_type": "code",
      "metadata": {
        "id": "n0rlZ6u1qMBU"
      },
      "source": [
        "t = [[0,10], [20,30], [40,50]]\n",
        "print(len(t))"
      ],
      "execution_count": null,
      "outputs": []
    },
    {
      "cell_type": "code",
      "metadata": {
        "id": "X7kwJ4rWqUYQ"
      },
      "source": [
        "t = [[0,10], [20,30], [40,50]]\n",
        "print(t[0])"
      ],
      "execution_count": null,
      "outputs": []
    },
    {
      "cell_type": "code",
      "metadata": {
        "id": "iAnPOqyrqX8J"
      },
      "source": [
        "t = [[0,10], [20,30], [40,50]]\n",
        "print(t[2][1])"
      ],
      "execution_count": null,
      "outputs": []
    },
    {
      "cell_type": "code",
      "metadata": {
        "id": "4WIJOD_Eqgn4"
      },
      "source": [
        "t = [[0,10], [20,30], [40,50]]\n",
        "t[1][0] = 1000\n",
        "print(t)"
      ],
      "execution_count": null,
      "outputs": []
    }
  ]
}