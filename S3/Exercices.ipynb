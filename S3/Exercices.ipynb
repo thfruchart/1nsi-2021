{
  "nbformat": 4,
  "nbformat_minor": 0,
  "metadata": {
    "colab": {
      "name": "S3_Exercices.ipynb",
      "provenance": [],
      "collapsed_sections": [],
      "authorship_tag": "ABX9TyMBPc43e4vHcYBLBXKeuM6q",
      "include_colab_link": true
    },
    "kernelspec": {
      "name": "python3",
      "display_name": "Python 3"
    },
    "language_info": {
      "name": "python"
    }
  },
  "cells": [
    {
      "cell_type": "markdown",
      "metadata": {
        "id": "view-in-github",
        "colab_type": "text"
      },
      "source": [
        "<a href=\"https://colab.research.google.com/github/thfruchart/1nsi/blob/main/S3/Exercices.ipynb\" target=\"_parent\"><img src=\"https://colab.research.google.com/assets/colab-badge.svg\" alt=\"Open In Colab\"/></a>"
      ]
    },
    {
      "cell_type": "markdown",
      "metadata": {
        "id": "1L-6vP9_rCRN"
      },
      "source": [
        "# Exercice 1"
      ]
    },
    {
      "cell_type": "code",
      "metadata": {
        "id": "4-PxwgnNq_aK"
      },
      "source": [
        "# exécuter la cellule avant de traiter l'exercice\n",
        "t = ['bleu', 'vert', 'orange', 'maron', 'jaune']"
      ],
      "execution_count": null,
      "outputs": []
    },
    {
      "cell_type": "markdown",
      "metadata": {
        "id": "f1T1ocqurVXQ"
      },
      "source": [
        "1) on souhaite corriger l'erreur d'orthographe 'ma**rr**on' et non 'maron'\n",
        "\n",
        "Ecrire dans la cellule suivant l'instruction convenable : "
      ]
    },
    {
      "cell_type": "code",
      "metadata": {
        "id": "7UxktSjdrqQ1"
      },
      "source": [
        "# instruction à compléter\n",
        "t[]"
      ],
      "execution_count": null,
      "outputs": []
    },
    {
      "cell_type": "markdown",
      "metadata": {
        "id": "VYTb2SKOrtBO"
      },
      "source": [
        "Puis tester en affichant le tableau"
      ]
    },
    {
      "cell_type": "code",
      "metadata": {
        "id": "_BOtsA_Drvpi"
      },
      "source": [
        "print(t)"
      ],
      "execution_count": null,
      "outputs": []
    },
    {
      "cell_type": "markdown",
      "metadata": {
        "id": "GP__ytVgrz8j"
      },
      "source": [
        "2) Compléter le code suivant pour qu'il affiche toutes les couleurs inscrites dans t"
      ]
    },
    {
      "cell_type": "code",
      "metadata": {
        "id": "2k2WvbuBsFUW"
      },
      "source": [
        "for i in range(...) : \n",
        "    print( ... )"
      ],
      "execution_count": null,
      "outputs": []
    },
    {
      "cell_type": "markdown",
      "metadata": {
        "id": "FzvWK6GlsMhN"
      },
      "source": [
        "# Exercice 2\n"
      ]
    },
    {
      "cell_type": "code",
      "metadata": {
        "id": "Jo8_XmsisRGX"
      },
      "source": [
        "# exécuter la cellule avant de traiter l'exercice\n",
        "tab = [10,20,30,40,50]"
      ],
      "execution_count": null,
      "outputs": []
    },
    {
      "cell_type": "markdown",
      "metadata": {
        "id": "OJ8fFaEVsW_U"
      },
      "source": [
        "Compléter le code suivant, pour qu'il **ajoute 1**  à chaque valeur contenue dans le tableau t."
      ]
    },
    {
      "cell_type": "code",
      "metadata": {
        "id": "frFQIL3CseV1"
      },
      "source": [
        "for i in range( ... ) : \n",
        "    tab[]... "
      ],
      "execution_count": null,
      "outputs": []
    },
    {
      "cell_type": "markdown",
      "metadata": {
        "id": "Gnf39kLcsoiv"
      },
      "source": [
        "Vérifier en affichant le tableau : on doit obtenir [11,21,31,41,51]"
      ]
    },
    {
      "cell_type": "code",
      "metadata": {
        "id": "BtDZ3gPfsrez"
      },
      "source": [
        "print(tab)"
      ],
      "execution_count": null,
      "outputs": []
    },
    {
      "cell_type": "markdown",
      "metadata": {
        "id": "Mrj4u4HduND4"
      },
      "source": [
        "# Exercice 3"
      ]
    },
    {
      "cell_type": "markdown",
      "metadata": {
        "id": "PRuPSdB5vhbB"
      },
      "source": [
        "On souhaite définir un tableau de longueur 21 contenant les entiers de 0 à 20.\n",
        "\n",
        "Plutôt que de saisir toutes ces valeurs à la main, on propose d'utiliser une boucle.\n",
        "\n",
        "Compléter le code suivant pour réaliser l'objectif ci-dessus."
      ]
    },
    {
      "cell_type": "code",
      "metadata": {
        "id": "5u3IerSfv1wM"
      },
      "source": [
        "# Exécuter cette cellule AVANT de traiter l'exercice\n",
        "t = [0] * 21\n",
        "print(t)"
      ],
      "execution_count": null,
      "outputs": []
    },
    {
      "cell_type": "code",
      "metadata": {
        "id": "qBcVOVjCv-wl"
      },
      "source": [
        "# compléter le code\n",
        "for i in range(...):\n",
        "    t[]"
      ],
      "execution_count": null,
      "outputs": []
    },
    {
      "cell_type": "markdown",
      "metadata": {
        "id": "4KwoQCt2wG1V"
      },
      "source": [
        "# Exercice 4"
      ]
    },
    {
      "cell_type": "markdown",
      "metadata": {
        "id": "Pf44dDxwwI4G"
      },
      "source": [
        "En vous inspirant de l'exercice 3, écrire dans un tableau de longueur 100 tous le multiples de 5, compris entre 5 et 500"
      ]
    }
  ]
}