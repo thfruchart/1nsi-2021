{
  "nbformat": 4,
  "nbformat_minor": 0,
  "metadata": {
    "colab": {
      "name": "S3-tuple-TravailPerso2.ipynb",
      "provenance": [],
      "authorship_tag": "ABX9TyO2yASXw0B70m5uXyvoWDCY",
      "include_colab_link": true
    },
    "kernelspec": {
      "name": "python3",
      "display_name": "Python 3"
    },
    "language_info": {
      "name": "python"
    }
  },
  "cells": [
    {
      "cell_type": "markdown",
      "metadata": {
        "id": "view-in-github",
        "colab_type": "text"
      },
      "source": [
        "<a href=\"https://colab.research.google.com/github/thfruchart/1nsi/blob/main/S3/tuple_TravailPerso2.ipynb\" target=\"_parent\"><img src=\"https://colab.research.google.com/assets/colab-badge.svg\" alt=\"Open In Colab\"/></a>"
      ]
    },
    {
      "cell_type": "markdown",
      "metadata": {
        "id": "KTRgBC0dSb9H"
      },
      "source": [
        "# Travail personnel 2 : le type `tuple`"
      ]
    },
    {
      "cell_type": "markdown",
      "metadata": {
        "id": "z3ZgwH8vShLt"
      },
      "source": [
        "* AVANT d'exécuter chaque cellule, essayer de deviner quel sera le résultat affiché\n",
        "* ENSUITE, vérifier votre réponse en exécutant la cellule"
      ]
    },
    {
      "cell_type": "code",
      "metadata": {
        "colab": {
          "base_uri": "https://localhost:8080/"
        },
        "id": "5apVv89NV_TP",
        "outputId": "f71a93c1-514f-4661-d086-624190153251"
      },
      "source": [
        "t = ('a', 10, 2.5, (7,8))\n",
        "print(len(t))"
      ],
      "execution_count": 1,
      "outputs": [
        {
          "output_type": "stream",
          "name": "stdout",
          "text": [
            "4\n"
          ]
        }
      ]
    },
    {
      "cell_type": "code",
      "metadata": {
        "id": "i7Rf46V8YeHk"
      },
      "source": [
        "a = (10,20)\n",
        "b = (5,15)\n",
        "c = a+b \n",
        "print(c)\n",
        "print(len(c))"
      ],
      "execution_count": null,
      "outputs": []
    },
    {
      "cell_type": "code",
      "metadata": {
        "id": "a0vICuGUYkWm"
      },
      "source": [
        "a = ('A', 5)\n",
        "b = ('B', 6)\n",
        "c = a + b + a\n",
        "for i in range(len(c)) :\n",
        "    print(c[i])"
      ],
      "execution_count": null,
      "outputs": []
    },
    {
      "cell_type": "code",
      "metadata": {
        "id": "zEdD8gYeZvbc"
      },
      "source": [
        "t = (10,20,30)\n",
        "print(t*2)"
      ],
      "execution_count": null,
      "outputs": []
    },
    {
      "cell_type": "code",
      "metadata": {
        "id": "Z_iOSE0VY6FK"
      },
      "source": [
        "a = (50, 'cinquante')\n",
        "b = (10, 'dix', 10.0)\n",
        "for i in range(2):\n",
        "    print(i)\n",
        "    print(a[i])\n",
        "    print(b[i])\n",
        "print('***')"
      ],
      "execution_count": null,
      "outputs": []
    },
    {
      "cell_type": "markdown",
      "metadata": {
        "id": "IDpJQp35ZYwv"
      },
      "source": [
        "[Visualiser l'exécution du code ci-dessus](https://pythontutor.com/visualize.html#code=a%20%3D%20%2850,%20'cinquante'%29%0Ab%20%3D%20%2810,%20'dix',%2010.0%29%0Afor%20i%20in%20range%282%29%3A%0A%20%20%20%20print%28i%29%0A%20%20%20%20print%28a%5Bi%5D%29%0A%20%20%20%20print%28b%5Bi%5D%29%0Aprint%28'***'%29&cumulative=false&curInstr=0&heapPrimitives=nevernest&mode=display&origin=opt-frontend.js&py=3&rawInputLstJSON=%5B%5D&textReferences=false)"
      ]
    },
    {
      "cell_type": "code",
      "metadata": {
        "colab": {
          "base_uri": "https://localhost:8080/"
        },
        "id": "AbxRT8lIWXHC",
        "outputId": "ee7c8ba3-0203-4637-9d43-700d71039265"
      },
      "source": [
        "t = ('a', 10, 2.5, (7,8))\n",
        "for i in range(len(t)):\n",
        "    print(t[i])"
      ],
      "execution_count": 2,
      "outputs": [
        {
          "output_type": "stream",
          "name": "stdout",
          "text": [
            "a\n",
            "10\n",
            "2.5\n",
            "(7, 8)\n"
          ]
        }
      ]
    },
    {
      "cell_type": "code",
      "metadata": {
        "id": "Vqzv-Md4WgFs"
      },
      "source": [
        "def milieu(A, B):\n",
        "    xI = (A[0] + B[0]) / 2\n",
        "    yI = (A[1] + B[1]) / 2\n",
        "    return (xI, yI)\n",
        "\n",
        "C = (10,10)\n",
        "D = (30,0)\n",
        "print(milieu(C, D))"
      ],
      "execution_count": null,
      "outputs": []
    },
    {
      "cell_type": "markdown",
      "metadata": {
        "id": "HNzf4Vs-XEH2"
      },
      "source": [
        "[Visualiser sur PythonTutor](https://pythontutor.com/visualize.html#code=def%20milieu%28A,%20B%29%3A%0A%20%20%20%20xI%20%3D%20%28A%5B0%5D%20%2B%20B%5B0%5D%29%20/%202%0A%20%20%20%20yI%20%3D%20%28A%5B1%5D%20%2B%20B%5B1%5D%29%20/%202%0A%20%20%20%20return%20%28xI,%20yI%29%0A%0AC%20%3D%20%2810,10%29%0AD%20%3D%20%2830,0%29%0Aprint%28milieu%28C,%20D%29%29&cumulative=false&curInstr=0&heapPrimitives=nevernest&mode=display&origin=opt-frontend.js&py=3&rawInputLstJSON=%5B%5D&textReferences=false)"
      ]
    },
    {
      "cell_type": "code",
      "metadata": {
        "id": "97vjl8vkXePE"
      },
      "source": [
        "def mystere(n): \n",
        "    return n, n**2, n%2\n",
        "\n",
        "x,y,z = mystere(5)\n",
        "print('x=', x)\n",
        "print('y=', y)\n",
        "print('z=', z)"
      ],
      "execution_count": null,
      "outputs": []
    },
    {
      "cell_type": "code",
      "metadata": {
        "id": "oqi_cExhX8jh"
      },
      "source": [
        "t = (0,0,0,0)\n",
        "for i in range(4):\n",
        "    t[i] = 20\n",
        "print(t)"
      ],
      "execution_count": null,
      "outputs": []
    },
    {
      "cell_type": "code",
      "metadata": {
        "id": "K_Uh_6izYFOh"
      },
      "source": [
        "t = (10,20,30,40)\n",
        "for i in range(4):\n",
        "    print(t[i] == 20)"
      ],
      "execution_count": null,
      "outputs": []
    }
  ]
}