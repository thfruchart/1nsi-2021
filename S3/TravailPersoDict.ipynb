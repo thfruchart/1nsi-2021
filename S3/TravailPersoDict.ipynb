{
  "nbformat": 4,
  "nbformat_minor": 0,
  "metadata": {
    "colab": {
      "name": "S3_TravailPersoDict.ipynb",
      "provenance": [],
      "collapsed_sections": [],
      "authorship_tag": "ABX9TyManJkmDpaAuo4tVj5f/Ba/",
      "include_colab_link": true
    },
    "kernelspec": {
      "name": "python3",
      "display_name": "Python 3"
    },
    "language_info": {
      "name": "python"
    }
  },
  "cells": [
    {
      "cell_type": "markdown",
      "metadata": {
        "id": "view-in-github",
        "colab_type": "text"
      },
      "source": [
        "<a href=\"https://colab.research.google.com/github/thfruchart/1nsi/blob/main/S3/TravailPersoDict.ipynb\" target=\"_parent\"><img src=\"https://colab.research.google.com/assets/colab-badge.svg\" alt=\"Open In Colab\"/></a>"
      ]
    },
    {
      "cell_type": "markdown",
      "source": [
        "#### **deviner l'affichage**"
      ],
      "metadata": {
        "id": "GM0Vd1URijO_"
      }
    },
    {
      "cell_type": "markdown",
      "source": [
        "* AVANT d'exécuter les cellules de code, \n",
        "  * essayer de prévoir ce qui sera affiché, \n",
        "* puis vérifier ensuite en exécutant la cellule."
      ],
      "metadata": {
        "id": "2lxEVu0agizR"
      }
    },
    {
      "cell_type": "code",
      "execution_count": null,
      "metadata": {
        "id": "TNdtdeZBgeAK"
      },
      "outputs": [],
      "source": [
        "d1 = {}\n",
        "d1['R'] = 'Roger'\n",
        "d1['S'] = 'Sylvain'\n",
        "d1['A'] = 'Albane'\n",
        "print(d1)"
      ]
    },
    {
      "cell_type": "code",
      "source": [
        "print(d1['A'] == 'Alfred')"
      ],
      "metadata": {
        "id": "0L80AQDUhCz-"
      },
      "execution_count": null,
      "outputs": []
    },
    {
      "cell_type": "code",
      "source": [
        "print(d1['B'] == 'Béa')"
      ],
      "metadata": {
        "id": "gESdhs53hEb3"
      },
      "execution_count": null,
      "outputs": []
    },
    {
      "cell_type": "code",
      "source": [
        "d1['B'] = 'Bob'\n",
        "print(d1['B'] == 'Béa')"
      ],
      "metadata": {
        "id": "PG24CwJOhHxX"
      },
      "execution_count": null,
      "outputs": []
    },
    {
      "cell_type": "markdown",
      "source": [
        "Compléter les cellules de code dans les lignes indiquées par `#` afin d'obtenir à l'exécution l'affichage demandé."
      ],
      "metadata": {
        "id": "81j94udVhUmu"
      }
    },
    {
      "cell_type": "markdown",
      "source": [
        "#### **Afficher les clés**\n",
        "L'exécution de la cellule suivant doit produire l'affichage  \n",
        "\n",
        "    1\n",
        "    2\n",
        "    3"
      ],
      "metadata": {
        "id": "cGXFLYhwhoTX"
      }
    },
    {
      "cell_type": "code",
      "source": [
        "d2 = {1 : 'un', 2 : 'deux', 3 : 'trois'}\n",
        "for k in d2 : \n",
        "    print(...)  # ligne à modifier\n"
      ],
      "metadata": {
        "id": "4J-e7IJBhccv"
      },
      "execution_count": null,
      "outputs": []
    },
    {
      "cell_type": "markdown",
      "source": [
        "#### **Afficher les valeurs**\n",
        "L'exécution de la cellule suivant doit produire l'affichage  \n",
        "\n",
        "    un\n",
        "    deux\n",
        "    trois"
      ],
      "metadata": {
        "id": "fpkIus_nh9ro"
      }
    },
    {
      "cell_type": "code",
      "source": [
        "d2 = {1 : 'un', 2 : 'deux', 3 : 'trois'}\n",
        "for k in d2 : \n",
        "    print(...)  # ligne à modifier\n"
      ],
      "metadata": {
        "id": "SZ5HtL8Oh9rp"
      },
      "execution_count": null,
      "outputs": []
    },
    {
      "cell_type": "markdown",
      "source": [
        "#### **Afficher les valeurs**\n",
        "L'exécution de la cellule suivant doit produire l'affichage  \n",
        "\n",
        "    un \n",
        "    deux\n",
        "    trois"
      ],
      "metadata": {
        "id": "9WHdpIKjh-M4"
      }
    },
    {
      "cell_type": "code",
      "source": [
        "d2 = {1 : 'un', 2 : 'deux', 3 : 'trois'}\n",
        "for v in d2... : # ligne à modifier\n",
        "    print(v)  \n"
      ],
      "metadata": {
        "id": "lb9KxH_Ph-M5"
      },
      "execution_count": null,
      "outputs": []
    },
    {
      "cell_type": "markdown",
      "source": [
        "#### **compléter les crochets**"
      ],
      "metadata": {
        "id": "u1f2KAcEjf-j"
      }
    },
    {
      "cell_type": "markdown",
      "source": [
        "L'exécution de la cellule suivante doit produire l'affichage : \n",
        " \n",
        "    ('bêta', 'BÊTA')"
      ],
      "metadata": {
        "id": "HAmM9XpIjf-k"
      }
    },
    {
      "cell_type": "code",
      "source": [
        "d3 = { 'A' : ('alpha', 'ALPHA'), 'B' : ('bêta', 'BÊTA'), 'K' : ('kappa', 'KAPPA')}\n",
        "print (d3[...])  # ligne à modifier à l'endroit noté ..."
      ],
      "metadata": {
        "id": "wl04zJpnjf-m"
      },
      "execution_count": null,
      "outputs": []
    },
    {
      "cell_type": "markdown",
      "source": [
        "#### **compléter les crochets**"
      ],
      "metadata": {
        "id": "JR7GKDLTigGv"
      }
    },
    {
      "cell_type": "markdown",
      "source": [
        "L'exécution de la cellule suivante doit produire l'affichage : \n",
        " \n",
        "    alpha"
      ],
      "metadata": {
        "id": "wMhPMlgyjUN3"
      }
    },
    {
      "cell_type": "code",
      "source": [
        "d3 = { 'A' : ('alpha', 'ALPHA'), 'B' : ('bêta', 'BÊTA'), 'K' : ('kappa', 'KAPPA')}\n",
        "print (d3[...][...]) # ligne à modifier aux endroits notés ..."
      ],
      "metadata": {
        "id": "BtB67kUCivSn"
      },
      "execution_count": null,
      "outputs": []
    },
    {
      "cell_type": "markdown",
      "source": [
        "#### **compléter les crochets**"
      ],
      "metadata": {
        "id": "5TAW1brOjfjU"
      }
    },
    {
      "cell_type": "markdown",
      "source": [
        "L'exécution de la cellule suivante doit produire l'affichage : \n",
        " \n",
        "    KAPPA"
      ],
      "metadata": {
        "id": "wgiLuuc0jfjW"
      }
    },
    {
      "cell_type": "code",
      "source": [
        "d3 = { 'A' : ('alpha', 'ALPHA'), 'B' : ('bêta', 'BÊTA'), 'K' : ('kappa', 'KAPPA')}\n",
        "print (d3[...][...]) # ligne à modifier aux endroits notés ..."
      ],
      "metadata": {
        "id": "Xy1AJprsjfjX"
      },
      "execution_count": null,
      "outputs": []
    },
    {
      "cell_type": "markdown",
      "source": [
        "#### **compléter les crochets**"
      ],
      "metadata": {
        "id": "Kh-ZAUdjj_E8"
      }
    },
    {
      "cell_type": "markdown",
      "source": [
        "L'exécution de la cellule suivante doit produire l'affichage : \n",
        " \n",
        "    KAPPA"
      ],
      "metadata": {
        "id": "2Rxbw-FZj594"
      }
    },
    {
      "cell_type": "code",
      "source": [
        "t = [ {'A' : 'alpha', 'B' : 'bêta', 'K' : 'kappa'}, {'A' : 'ALPHA', 'B' : 'BÊTA', 'K' : 'KAPPA'}]\n",
        "print(t[...][...]) # ligne à modifier aux endroits notés ..."
      ],
      "metadata": {
        "id": "PUaWumD6kAv-"
      },
      "execution_count": null,
      "outputs": []
    },
    {
      "cell_type": "markdown",
      "source": [
        "#### **compléter les crochets**"
      ],
      "metadata": {
        "id": "AQrEOigjkZ-L"
      }
    },
    {
      "cell_type": "markdown",
      "source": [
        "L'exécution de la cellule suivante doit produire l'affichage : \n",
        " \n",
        "    bêta"
      ],
      "metadata": {
        "id": "ri7aS7E7kZ-M"
      }
    },
    {
      "cell_type": "code",
      "source": [
        "t = [ {'A' : 'alpha', 'B' : 'bêta', 'K' : 'kappa'}, {'A' : 'ALPHA', 'B' : 'BÊTA', 'K' : 'KAPPA'}]\n",
        "print(t[...][...]) # ligne à modifier aux endroits notés ..."
      ],
      "metadata": {
        "id": "hTvx4xWpkZ-M"
      },
      "execution_count": null,
      "outputs": []
    }
  ]
}