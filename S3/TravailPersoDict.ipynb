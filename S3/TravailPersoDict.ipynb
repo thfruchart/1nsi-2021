{
  "nbformat": 4,
  "nbformat_minor": 0,
  "metadata": {
    "colab": {
      "name": "S3_TravailPersoDict.ipynb",
      "provenance": [],
      "collapsed_sections": [],
      "authorship_tag": "ABX9TyN5WaRwtXFq1muSCeIoQ/Wo",
      "include_colab_link": true
    },
    "kernelspec": {
      "name": "python3",
      "display_name": "Python 3"
    },
    "language_info": {
      "name": "python"
    }
  },
  "cells": [
    {
      "cell_type": "markdown",
      "metadata": {
        "id": "view-in-github",
        "colab_type": "text"
      },
      "source": [
        "<a href=\"https://colab.research.google.com/github/thfruchart/1nsi/blob/main/S3/TravailPersoDict.ipynb\" target=\"_parent\"><img src=\"https://colab.research.google.com/assets/colab-badge.svg\" alt=\"Open In Colab\"/></a>"
      ]
    },
    {
      "cell_type": "markdown",
      "source": [
        "#### **deviner l'affichage**"
      ],
      "metadata": {
        "id": "GM0Vd1URijO_"
      }
    },
    {
      "cell_type": "markdown",
      "source": [
        "* AVANT d'exécuter les cellules de code, \n",
        "  * essayer de prévoir ce qui sera affiché, \n",
        "* puis vérifier ensuite en exécutant la cellule."
      ],
      "metadata": {
        "id": "2lxEVu0agizR"
      }
    },
    {
      "cell_type": "code",
      "execution_count": 1,
      "metadata": {
        "id": "TNdtdeZBgeAK",
        "outputId": "d5eaad43-863b-4c12-f06b-6dff78ce4d6c",
        "colab": {
          "base_uri": "https://localhost:8080/"
        }
      },
      "outputs": [
        {
          "output_type": "stream",
          "name": "stdout",
          "text": [
            "{'R': 'Roger', 'S': 'Sylvain', 'A': 'Albane'}\n"
          ]
        }
      ],
      "source": [
        "d1 = {}\n",
        "d1['R'] = 'Roger'\n",
        "d1['S'] = 'Sylvain'\n",
        "d1['A'] = 'Albane'\n",
        "print(d1)"
      ]
    },
    {
      "cell_type": "code",
      "source": [
        "print(d1['A'] == 'Alfred')"
      ],
      "metadata": {
        "id": "0L80AQDUhCz-",
        "outputId": "e224c3c8-53df-4b0a-a637-6e93aafe53c0",
        "colab": {
          "base_uri": "https://localhost:8080/"
        }
      },
      "execution_count": 2,
      "outputs": [
        {
          "output_type": "stream",
          "name": "stdout",
          "text": [
            "False\n"
          ]
        }
      ]
    },
    {
      "cell_type": "code",
      "source": [
        "print(d1['B'] == 'Béa')"
      ],
      "metadata": {
        "id": "gESdhs53hEb3",
        "outputId": "63fbc6c7-7c24-48cc-995b-52d32f4be4ec",
        "colab": {
          "base_uri": "https://localhost:8080/",
          "height": 165
        }
      },
      "execution_count": 3,
      "outputs": [
        {
          "output_type": "error",
          "ename": "KeyError",
          "evalue": "ignored",
          "traceback": [
            "\u001b[0;31m---------------------------------------------------------------------------\u001b[0m",
            "\u001b[0;31mKeyError\u001b[0m                                  Traceback (most recent call last)",
            "\u001b[0;32m<ipython-input-3-762c0d0643e4>\u001b[0m in \u001b[0;36m<module>\u001b[0;34m()\u001b[0m\n\u001b[0;32m----> 1\u001b[0;31m \u001b[0mprint\u001b[0m\u001b[0;34m(\u001b[0m\u001b[0md1\u001b[0m\u001b[0;34m[\u001b[0m\u001b[0;34m'B'\u001b[0m\u001b[0;34m]\u001b[0m \u001b[0;34m==\u001b[0m \u001b[0;34m'Béa'\u001b[0m\u001b[0;34m)\u001b[0m\u001b[0;34m\u001b[0m\u001b[0;34m\u001b[0m\u001b[0m\n\u001b[0m",
            "\u001b[0;31mKeyError\u001b[0m: 'B'"
          ]
        }
      ]
    },
    {
      "cell_type": "code",
      "source": [
        "d1['B'] = 'Bob'\n",
        "print(d1['B'] == 'Béa')"
      ],
      "metadata": {
        "id": "PG24CwJOhHxX",
        "outputId": "50e9d27e-99f8-45e2-8cff-5c4a946dd3b7",
        "colab": {
          "base_uri": "https://localhost:8080/"
        }
      },
      "execution_count": 4,
      "outputs": [
        {
          "output_type": "stream",
          "name": "stdout",
          "text": [
            "False\n"
          ]
        }
      ]
    },
    {
      "cell_type": "markdown",
      "source": [
        "Compléter les cellules de code dans les lignes indiquées par `#` afin d'obtenir à l'exécution l'affichage demandé."
      ],
      "metadata": {
        "id": "81j94udVhUmu"
      }
    },
    {
      "cell_type": "markdown",
      "source": [
        "#### **Afficher les clés**\n",
        "L'exécution de la cellule suivant doit produire l'affichage  \n",
        "\n",
        "    1\n",
        "    2\n",
        "    3"
      ],
      "metadata": {
        "id": "cGXFLYhwhoTX"
      }
    },
    {
      "cell_type": "code",
      "source": [
        "d2 = {1 : 'un', 2 : 'deux', 3 : 'trois'}\n",
        "for k in d2 : \n",
        "    print(k)  # ligne à modifier\n"
      ],
      "metadata": {
        "id": "4J-e7IJBhccv",
        "outputId": "862a9271-1407-4ccb-f3be-3b3660247cd5",
        "colab": {
          "base_uri": "https://localhost:8080/"
        }
      },
      "execution_count": 5,
      "outputs": [
        {
          "output_type": "stream",
          "name": "stdout",
          "text": [
            "1\n",
            "2\n",
            "3\n"
          ]
        }
      ]
    },
    {
      "cell_type": "markdown",
      "source": [
        "#### **Afficher les valeurs**\n",
        "L'exécution de la cellule suivant doit produire l'affichage  \n",
        "\n",
        "    un\n",
        "    deux\n",
        "    trois"
      ],
      "metadata": {
        "id": "fpkIus_nh9ro"
      }
    },
    {
      "cell_type": "code",
      "source": [
        "d2 = {1 : 'un', 2 : 'deux', 3 : 'trois'}\n",
        "for k in d2 : \n",
        "    print(d2[k])  # ligne à modifier\n"
      ],
      "metadata": {
        "id": "SZ5HtL8Oh9rp",
        "outputId": "9d285227-679a-4c6c-e2d7-0937c4510aff",
        "colab": {
          "base_uri": "https://localhost:8080/"
        }
      },
      "execution_count": 6,
      "outputs": [
        {
          "output_type": "stream",
          "name": "stdout",
          "text": [
            "un\n",
            "deux\n",
            "trois\n"
          ]
        }
      ]
    },
    {
      "cell_type": "markdown",
      "source": [
        "#### **Afficher les valeurs**\n",
        "L'exécution de la cellule suivant doit produire l'affichage  \n",
        "\n",
        "    un \n",
        "    deux\n",
        "    trois"
      ],
      "metadata": {
        "id": "9WHdpIKjh-M4"
      }
    },
    {
      "cell_type": "code",
      "source": [
        "d2 = {1 : 'un', 2 : 'deux', 3 : 'trois'}\n",
        "for v in d2.values() : # ligne à modifier\n",
        "    print(v)  \n"
      ],
      "metadata": {
        "id": "lb9KxH_Ph-M5",
        "outputId": "a74b9cea-2b3a-4c49-91b4-d0da2a7b998a",
        "colab": {
          "base_uri": "https://localhost:8080/"
        }
      },
      "execution_count": 8,
      "outputs": [
        {
          "output_type": "stream",
          "name": "stdout",
          "text": [
            "un\n",
            "deux\n",
            "trois\n"
          ]
        }
      ]
    },
    {
      "cell_type": "markdown",
      "source": [
        "#### **compléter les crochets**"
      ],
      "metadata": {
        "id": "u1f2KAcEjf-j"
      }
    },
    {
      "cell_type": "markdown",
      "source": [
        "L'exécution de la cellule suivante doit produire l'affichage : \n",
        " \n",
        "    ('bêta', 'BÊTA')"
      ],
      "metadata": {
        "id": "HAmM9XpIjf-k"
      }
    },
    {
      "cell_type": "code",
      "source": [
        "d3 = { 'A' : ('alpha', 'ALPHA'), 'B' : ('bêta', 'BÊTA'), 'K' : ('kappa', 'KAPPA')}\n",
        "print (d3['B'])  # ligne à modifier à l'endroit noté ..."
      ],
      "metadata": {
        "id": "wl04zJpnjf-m",
        "outputId": "bfd73d6c-dee3-4290-b78b-d2fd0ae02245",
        "colab": {
          "base_uri": "https://localhost:8080/"
        }
      },
      "execution_count": 10,
      "outputs": [
        {
          "output_type": "stream",
          "name": "stdout",
          "text": [
            "('bêta', 'BÊTA')\n"
          ]
        }
      ]
    },
    {
      "cell_type": "markdown",
      "source": [
        "#### **compléter les crochets**"
      ],
      "metadata": {
        "id": "JR7GKDLTigGv"
      }
    },
    {
      "cell_type": "markdown",
      "source": [
        "L'exécution de la cellule suivante doit produire l'affichage : \n",
        " \n",
        "    alpha"
      ],
      "metadata": {
        "id": "wMhPMlgyjUN3"
      }
    },
    {
      "cell_type": "code",
      "source": [
        "d3 = { 'A' : ('alpha', 'ALPHA'), 'B' : ('bêta', 'BÊTA'), 'K' : ('kappa', 'KAPPA')}\n",
        "print (d3['A'][0]) # ligne à modifier aux endroits notés ..."
      ],
      "metadata": {
        "id": "BtB67kUCivSn",
        "outputId": "dc974531-690d-44e4-c436-424348b23a55",
        "colab": {
          "base_uri": "https://localhost:8080/"
        }
      },
      "execution_count": 12,
      "outputs": [
        {
          "output_type": "stream",
          "name": "stdout",
          "text": [
            "alpha\n"
          ]
        }
      ]
    },
    {
      "cell_type": "markdown",
      "source": [
        "#### **compléter les crochets**"
      ],
      "metadata": {
        "id": "5TAW1brOjfjU"
      }
    },
    {
      "cell_type": "markdown",
      "source": [
        "L'exécution de la cellule suivante doit produire l'affichage : \n",
        " \n",
        "    KAPPA"
      ],
      "metadata": {
        "id": "wgiLuuc0jfjW"
      }
    },
    {
      "cell_type": "code",
      "source": [
        "d3 = { 'A' : ('alpha', 'ALPHA'), 'B' : ('bêta', 'BÊTA'), 'K' : ('kappa', 'KAPPA')}\n",
        "print (d3[('K')][1]) # ligne à modifier aux endroits notés ..."
      ],
      "metadata": {
        "id": "Xy1AJprsjfjX",
        "outputId": "39897de5-25c4-4473-b07e-6314e0a5c390",
        "colab": {
          "base_uri": "https://localhost:8080/"
        }
      },
      "execution_count": 13,
      "outputs": [
        {
          "output_type": "stream",
          "name": "stdout",
          "text": [
            "KAPPA\n"
          ]
        }
      ]
    },
    {
      "cell_type": "markdown",
      "source": [
        "#### **compléter les crochets**"
      ],
      "metadata": {
        "id": "Kh-ZAUdjj_E8"
      }
    },
    {
      "cell_type": "markdown",
      "source": [
        "L'exécution de la cellule suivante doit produire l'affichage : \n",
        " \n",
        "    KAPPA"
      ],
      "metadata": {
        "id": "2Rxbw-FZj594"
      }
    },
    {
      "cell_type": "code",
      "source": [
        "t = [ {'A' : 'alpha', 'B' : 'bêta', 'K' : 'kappa'}, {'A' : 'ALPHA', 'B' : 'BÊTA', 'K' : 'KAPPA'}]\n",
        "print(t[1]['K']) # ligne à modifier aux endroits notés ..."
      ],
      "metadata": {
        "id": "PUaWumD6kAv-",
        "outputId": "cf997de6-e8ab-4422-ed1c-a2037a0def70",
        "colab": {
          "base_uri": "https://localhost:8080/"
        }
      },
      "execution_count": 14,
      "outputs": [
        {
          "output_type": "stream",
          "name": "stdout",
          "text": [
            "KAPPA\n"
          ]
        }
      ]
    },
    {
      "cell_type": "markdown",
      "source": [
        "#### **compléter les crochets**"
      ],
      "metadata": {
        "id": "AQrEOigjkZ-L"
      }
    },
    {
      "cell_type": "markdown",
      "source": [
        "L'exécution de la cellule suivante doit produire l'affichage : \n",
        " \n",
        "    bêta"
      ],
      "metadata": {
        "id": "ri7aS7E7kZ-M"
      }
    },
    {
      "cell_type": "code",
      "source": [
        "t = [ {'A' : 'alpha', 'B' : 'bêta', 'K' : 'kappa'}, {'A' : 'ALPHA', 'B' : 'BÊTA', 'K' : 'KAPPA'}]\n",
        "print(t[0]['B']) # ligne à modifier aux endroits notés ..."
      ],
      "metadata": {
        "id": "hTvx4xWpkZ-M",
        "outputId": "38504bbb-d47c-4326-c9ef-c404e908dee7",
        "colab": {
          "base_uri": "https://localhost:8080/"
        }
      },
      "execution_count": 15,
      "outputs": [
        {
          "output_type": "stream",
          "name": "stdout",
          "text": [
            "bêta\n"
          ]
        }
      ]
    }
  ]
}