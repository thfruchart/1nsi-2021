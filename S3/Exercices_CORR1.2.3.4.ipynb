{
  "nbformat": 4,
  "nbformat_minor": 0,
  "metadata": {
    "colab": {
      "name": "S3_Exercices.ipynb",
      "provenance": [],
      "collapsed_sections": [],
      "authorship_tag": "ABX9TyNzUG4CO8pw7qCxzRD7A1OE",
      "include_colab_link": true
    },
    "kernelspec": {
      "name": "python3",
      "display_name": "Python 3"
    },
    "language_info": {
      "name": "python"
    }
  },
  "cells": [
    {
      "cell_type": "markdown",
      "metadata": {
        "id": "view-in-github",
        "colab_type": "text"
      },
      "source": [
        "<a href=\"https://colab.research.google.com/github/thfruchart/1nsi/blob/main/S3/Exercices_CORR1.2.3.4.ipynb\" target=\"_parent\"><img src=\"https://colab.research.google.com/assets/colab-badge.svg\" alt=\"Open In Colab\"/></a>"
      ]
    },
    {
      "cell_type": "markdown",
      "metadata": {
        "id": "1L-6vP9_rCRN"
      },
      "source": [
        "# Exercice 1"
      ]
    },
    {
      "cell_type": "code",
      "metadata": {
        "id": "4-PxwgnNq_aK"
      },
      "source": [
        "# exécuter la cellule avant de traiter l'exercice\n",
        "t = ['bleu', 'vert', 'orange', 'maron', 'jaune']"
      ],
      "execution_count": 1,
      "outputs": []
    },
    {
      "cell_type": "markdown",
      "metadata": {
        "id": "f1T1ocqurVXQ"
      },
      "source": [
        "1) on souhaite corriger l'erreur d'orthographe 'ma**rr**on' et non 'maron'\n",
        "\n",
        "Ecrire dans la cellule suivant l'instruction convenable : "
      ]
    },
    {
      "cell_type": "code",
      "metadata": {
        "id": "7UxktSjdrqQ1"
      },
      "source": [
        "# instruction à compléter\n",
        "t[3] = 'marron'"
      ],
      "execution_count": 2,
      "outputs": []
    },
    {
      "cell_type": "markdown",
      "metadata": {
        "id": "VYTb2SKOrtBO"
      },
      "source": [
        "Puis tester en affichant le tableau"
      ]
    },
    {
      "cell_type": "code",
      "metadata": {
        "id": "_BOtsA_Drvpi",
        "colab": {
          "base_uri": "https://localhost:8080/"
        },
        "outputId": "2e50e948-9a6c-4bd2-910f-8b0379f8511d"
      },
      "source": [
        "print(t)"
      ],
      "execution_count": 3,
      "outputs": [
        {
          "output_type": "stream",
          "name": "stdout",
          "text": [
            "['bleu', 'vert', 'orange', 'marron', 'jaune']\n"
          ]
        }
      ]
    },
    {
      "cell_type": "markdown",
      "metadata": {
        "id": "GP__ytVgrz8j"
      },
      "source": [
        "2) Compléter le code suivant pour qu'il affiche toutes les couleurs inscrites dans t"
      ]
    },
    {
      "cell_type": "code",
      "metadata": {
        "id": "2k2WvbuBsFUW",
        "colab": {
          "base_uri": "https://localhost:8080/"
        },
        "outputId": "e3f946af-c177-4dee-d5b1-02357f48feb8"
      },
      "source": [
        "for i in range(5) : # on peut aussi écrire for i in range(len(t))\n",
        "    print(t[i] )"
      ],
      "execution_count": 5,
      "outputs": [
        {
          "output_type": "stream",
          "name": "stdout",
          "text": [
            "bleu\n",
            "vert\n",
            "orange\n",
            "marron\n",
            "jaune\n"
          ]
        }
      ]
    },
    {
      "cell_type": "markdown",
      "metadata": {
        "id": "FzvWK6GlsMhN"
      },
      "source": [
        "# Exercice 2\n"
      ]
    },
    {
      "cell_type": "code",
      "metadata": {
        "id": "Jo8_XmsisRGX"
      },
      "source": [
        "# exécuter la cellule avant de traiter l'exercice\n",
        "tab = [10,20,30,40,50]"
      ],
      "execution_count": 12,
      "outputs": []
    },
    {
      "cell_type": "markdown",
      "metadata": {
        "id": "OJ8fFaEVsW_U"
      },
      "source": [
        "Compléter le code suivant, pour qu'il **ajoute 1**  à chaque valeur contenue dans le tableau t."
      ]
    },
    {
      "cell_type": "code",
      "metadata": {
        "id": "frFQIL3CseV1"
      },
      "source": [
        "for i in range( len(tab) ) :  # ou éventuellement range(5)\n",
        "    tab[i] += 1 # ou tab[i]=  tab[i] +1"
      ],
      "execution_count": 13,
      "outputs": []
    },
    {
      "cell_type": "markdown",
      "metadata": {
        "id": "Gnf39kLcsoiv"
      },
      "source": [
        "Vérifier en affichant le tableau : on doit obtenir [11,21,31,41,51]"
      ]
    },
    {
      "cell_type": "code",
      "metadata": {
        "id": "BtDZ3gPfsrez",
        "colab": {
          "base_uri": "https://localhost:8080/"
        },
        "outputId": "a20808de-85d9-492a-edf8-dedb9b7acbce"
      },
      "source": [
        "print(tab)"
      ],
      "execution_count": 14,
      "outputs": [
        {
          "output_type": "stream",
          "name": "stdout",
          "text": [
            "[11, 21, 31, 41, 51]\n"
          ]
        }
      ]
    },
    {
      "cell_type": "markdown",
      "metadata": {
        "id": "Mrj4u4HduND4"
      },
      "source": [
        "# Exercice 3"
      ]
    },
    {
      "cell_type": "markdown",
      "metadata": {
        "id": "PRuPSdB5vhbB"
      },
      "source": [
        "On souhaite définir un tableau de longueur 21 contenant les entiers de 0 à 20.\n",
        "\n",
        "Plutôt que de saisir toutes ces valeurs à la main, on propose d'utiliser une boucle.\n",
        "\n",
        "Compléter le code suivant pour réaliser l'objectif ci-dessus."
      ]
    },
    {
      "cell_type": "code",
      "metadata": {
        "id": "5u3IerSfv1wM",
        "colab": {
          "base_uri": "https://localhost:8080/"
        },
        "outputId": "c192ed86-3745-42d4-97b3-bb9b96dbbe3d"
      },
      "source": [
        "# Exécuter cette cellule AVANT de traiter l'exercice\n",
        "t = [0] * 21\n",
        "print(t)"
      ],
      "execution_count": 15,
      "outputs": [
        {
          "output_type": "stream",
          "name": "stdout",
          "text": [
            "[0, 0, 0, 0, 0, 0, 0, 0, 0, 0, 0, 0, 0, 0, 0, 0, 0, 0, 0, 0, 0]\n"
          ]
        }
      ]
    },
    {
      "cell_type": "markdown",
      "metadata": {
        "id": "Nw3wxCL7y37f"
      },
      "source": [
        "On souhaite écrire dans chaque cellule du tableau : on pourrait faire une vingtaine d'instructions\n",
        "\n",
        "    t[1] = 1\n",
        "    t[2] = 2\n",
        "    t[3] = 3\n",
        "    ...\n",
        "    t[20] = 20\n",
        "\n",
        "on préfère utiliser une boucle où une VARIABLE i prend successivement les valeurs entières jusquà 20"
      ]
    },
    {
      "cell_type": "code",
      "metadata": {
        "id": "qBcVOVjCv-wl"
      },
      "source": [
        "# compléter le code\n",
        "for i in range( 21 ):\n",
        "    t[i] =  i # on écrit dans la cellule d'index i, la valeur i ! "
      ],
      "execution_count": 16,
      "outputs": []
    },
    {
      "cell_type": "markdown",
      "metadata": {
        "id": "kkMHOqFnzbSo"
      },
      "source": [
        "pour vérifier, on fait afficher le tableau."
      ]
    },
    {
      "cell_type": "code",
      "metadata": {
        "id": "Tt75TBImzZYQ",
        "outputId": "c6c89d19-bb6f-4f62-f062-81143a050bb7",
        "colab": {
          "base_uri": "https://localhost:8080/"
        }
      },
      "source": [
        "print(t)"
      ],
      "execution_count": 17,
      "outputs": [
        {
          "output_type": "stream",
          "name": "stdout",
          "text": [
            "[0, 1, 2, 3, 4, 5, 6, 7, 8, 9, 10, 11, 12, 13, 14, 15, 16, 17, 18, 19, 20]\n"
          ]
        }
      ]
    },
    {
      "cell_type": "markdown",
      "metadata": {
        "id": "4KwoQCt2wG1V"
      },
      "source": [
        "# Exercice 4"
      ]
    },
    {
      "cell_type": "markdown",
      "metadata": {
        "id": "Pf44dDxwwI4G"
      },
      "source": [
        "En vous inspirant de l'exercice 3, écrire dans un tableau de longueur 100 tous le multiples de 5, compris entre 5 et 500"
      ]
    },
    {
      "cell_type": "code",
      "metadata": {
        "id": "Fc3k9Xht0yxq"
      },
      "source": [
        "t = [0] * 100\n",
        "for i in range( 100 ):\n",
        "    t[i] =  (i+1)*5"
      ],
      "execution_count": 20,
      "outputs": []
    },
    {
      "cell_type": "code",
      "metadata": {
        "id": "mnkmqt3n07sy",
        "outputId": "ec8f497d-aa29-4bec-8898-4a9680c8384e",
        "colab": {
          "base_uri": "https://localhost:8080/"
        }
      },
      "source": [
        "print(t)"
      ],
      "execution_count": 21,
      "outputs": [
        {
          "output_type": "stream",
          "name": "stdout",
          "text": [
            "[5, 10, 15, 20, 25, 30, 35, 40, 45, 50, 55, 60, 65, 70, 75, 80, 85, 90, 95, 100, 105, 110, 115, 120, 125, 130, 135, 140, 145, 150, 155, 160, 165, 170, 175, 180, 185, 190, 195, 200, 205, 210, 215, 220, 225, 230, 235, 240, 245, 250, 255, 260, 265, 270, 275, 280, 285, 290, 295, 300, 305, 310, 315, 320, 325, 330, 335, 340, 345, 350, 355, 360, 365, 370, 375, 380, 385, 390, 395, 400, 405, 410, 415, 420, 425, 430, 435, 440, 445, 450, 455, 460, 465, 470, 475, 480, 485, 490, 495, 500]\n"
          ]
        }
      ]
    },
    {
      "cell_type": "markdown",
      "metadata": {
        "id": "izzc7bFU1Vbi"
      },
      "source": [
        "Autre solution"
      ]
    },
    {
      "cell_type": "code",
      "metadata": {
        "id": "dH-F9dFt1YTr"
      },
      "source": [
        "t = [5] * 100\n",
        "\n",
        "for i in range(1, len(t) ):\n",
        "    t[i] =t[i-1] + 5"
      ],
      "execution_count": 26,
      "outputs": []
    },
    {
      "cell_type": "code",
      "metadata": {
        "id": "BuGR3FdY1dI7",
        "outputId": "acda071d-4aa6-4f58-a843-3cc5ecb99d36",
        "colab": {
          "base_uri": "https://localhost:8080/"
        }
      },
      "source": [
        " print(t)"
      ],
      "execution_count": 27,
      "outputs": [
        {
          "output_type": "stream",
          "name": "stdout",
          "text": [
            "[5, 10, 15, 20, 25, 30, 35, 40, 45, 50, 55, 60, 65, 70, 75, 80, 85, 90, 95, 100, 105, 110, 115, 120, 125, 130, 135, 140, 145, 150, 155, 160, 165, 170, 175, 180, 185, 190, 195, 200, 205, 210, 215, 220, 225, 230, 235, 240, 245, 250, 255, 260, 265, 270, 275, 280, 285, 290, 295, 300, 305, 310, 315, 320, 325, 330, 335, 340, 345, 350, 355, 360, 365, 370, 375, 380, 385, 390, 395, 400, 405, 410, 415, 420, 425, 430, 435, 440, 445, 450, 455, 460, 465, 470, 475, 480, 485, 490, 495, 500]\n"
          ]
        }
      ]
    }
  ]
}