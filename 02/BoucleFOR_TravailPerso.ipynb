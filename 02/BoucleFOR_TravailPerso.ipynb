{
  "nbformat": 4,
  "nbformat_minor": 0,
  "metadata": {
    "colab": {
      "name": "02-BoucleFOR_TEST.ipynb",
      "provenance": [],
      "collapsed_sections": [],
      "authorship_tag": "ABX9TyOsHS0UIvEQnAYLLOMZRhUp",
      "include_colab_link": true
    },
    "kernelspec": {
      "name": "python3",
      "display_name": "Python 3"
    }
  },
  "cells": [
    {
      "cell_type": "markdown",
      "metadata": {
        "id": "view-in-github",
        "colab_type": "text"
      },
      "source": [
        "<a href=\"https://colab.research.google.com/github/thfruchart/1nsi/blob/main/02/BoucleFOR_TravailPerso.ipynb\" target=\"_parent\"><img src=\"https://colab.research.google.com/assets/colab-badge.svg\" alt=\"Open In Colab\"/></a>"
      ]
    },
    {
      "cell_type": "markdown",
      "metadata": {
        "id": "b1MrPNmBl0Ru"
      },
      "source": [
        "# Déterminer de tête les affichages produits par les programmes suivants.\n",
        "\n",
        "Vérifier ensuite, en exécutant chaque cellule."
      ]
    },
    {
      "cell_type": "code",
      "metadata": {
        "id": "rCcPEIdvluTB"
      },
      "source": [
        "for _ in range(5): print('Hello')"
      ],
      "execution_count": null,
      "outputs": []
    },
    {
      "cell_type": "code",
      "metadata": {
        "id": "lPls927pmEJw"
      },
      "source": [
        "for i in range(3) : \n",
        "    print('Hello')\n",
        "    print(i)\n",
        "print('fin')"
      ],
      "execution_count": null,
      "outputs": []
    },
    {
      "cell_type": "code",
      "metadata": {
        "id": "d_6vz96wmVhy"
      },
      "source": [
        "for k in range(1,10) :\n",
        "    print(k)"
      ],
      "execution_count": null,
      "outputs": []
    },
    {
      "cell_type": "code",
      "metadata": {
        "id": "85oJo0VimYcD"
      },
      "source": [
        "for z in range(0,12,4) :\n",
        "    print(z)"
      ],
      "execution_count": null,
      "outputs": []
    },
    {
      "cell_type": "code",
      "metadata": {
        "id": "yyQ-xQfKmlTr"
      },
      "source": [
        "for cpt in range(5,0,-1) : \n",
        "    print(cpt)\n",
        "print('Feu')"
      ],
      "execution_count": null,
      "outputs": []
    },
    {
      "cell_type": "code",
      "metadata": {
        "id": "I430EFoZmx9b"
      },
      "source": [
        "for cpt in range(5,-1,-1) : \n",
        "    print(cpt)\n",
        "    print('...')"
      ],
      "execution_count": null,
      "outputs": []
    },
    {
      "cell_type": "code",
      "metadata": {
        "id": "GfqaSmzT5c0J"
      },
      "source": [
        "a = 0\n",
        "for _ in range(10):\n",
        "    a = a+2\n",
        "print(a)"
      ],
      "execution_count": null,
      "outputs": []
    },
    {
      "cell_type": "code",
      "metadata": {
        "id": "0l3WIE5f5wRj"
      },
      "source": [
        "b = 10\n",
        "for i in range(5):\n",
        "    b = b-1\n",
        "print(b)"
      ],
      "execution_count": null,
      "outputs": []
    }
  ]
}