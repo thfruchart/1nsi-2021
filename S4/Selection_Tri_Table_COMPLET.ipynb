{
  "nbformat": 4,
  "nbformat_minor": 0,
  "metadata": {
    "colab": {
      "name": "S4_Selection_Tri_Table_COMPLET.ipynb",
      "provenance": [],
      "authorship_tag": "ABX9TyNIgL7/if4zOlmH+rQnaNQf",
      "include_colab_link": true
    },
    "kernelspec": {
      "name": "python3",
      "display_name": "Python 3"
    },
    "language_info": {
      "name": "python"
    }
  },
  "cells": [
    {
      "cell_type": "markdown",
      "metadata": {
        "id": "view-in-github",
        "colab_type": "text"
      },
      "source": [
        "<a href=\"https://colab.research.google.com/github/thfruchart/1nsi/blob/main/S4/Selection_Tri_Table_COMPLET.ipynb\" target=\"_parent\"><img src=\"https://colab.research.google.com/assets/colab-badge.svg\" alt=\"Open In Colab\"/></a>"
      ]
    },
    {
      "cell_type": "markdown",
      "source": [
        "On a importé dans une variable `table` le contenu d'un fichier `sacs.csv` contenant la description d'une dizaine de sacs.\n",
        "\n",
        "L'objectif de ce notebook est de présenter deux opérations sur la table obtenue : \n",
        "* sélection\n",
        "* tri"
      ],
      "metadata": {
        "id": "iczqEGhngdYj"
      }
    },
    {
      "cell_type": "code",
      "execution_count": 3,
      "metadata": {
        "id": "u_ye5QjfeqyX"
      },
      "outputs": [],
      "source": [
        "table = [['id', 'nom', 'longueur', 'largeur', 'hauteur', 'couleur', 'poids', 'prix_HT', 'fabrique en France'], \n",
        "         ['1', 'trousse', '20', '6', '7', 'bleu', '150', '18', 'oui'], \n",
        "         ['2', 'polochon', '50', '25', '25', 'rouge', '450', '79', 'oui'], \n",
        "         ['3', 'cabas', '35', '14', '30', 'bleu', '330', '95', 'non'], \n",
        "         ['4', 'besace', '24', '21', '9', 'marron', '500', '84', 'oui'], \n",
        "         ['5', 'banane', '23', '9', '13', 'noir', '260', '28', 'oui'], \n",
        "         ['6', 'baluchon', '61', '38', '22', 'beige', '900', '145', 'non'], \n",
        "         ['7', 'sac à dos', '30', '40', '18', 'gris', '375', '50', 'oui'], \n",
        "         ['8', 'seau', '24', '25', '13.5', 'noir', '430', '110', 'oui'], \n",
        "         ['9', 'wrist bag', '27', '16.5', '3.5', 'bleu', '125', '28', 'non'], \n",
        "         ['10', 'minaudiere', '23', '5', '8', 'noir', '160', '35', 'oui']]"
      ]
    },
    {
      "cell_type": "markdown",
      "source": [
        "## Sélection"
      ],
      "metadata": {
        "id": "GFV-b-6yuXAK"
      }
    },
    {
      "cell_type": "markdown",
      "source": [
        "### question 1\n",
        "En observant le code de la cellule suivante : que peut-on en déduire sur l'argument `critere` de la fonction `selectionner`?"
      ],
      "metadata": {
        "id": "AJrlODi_fJSs"
      }
    },
    {
      "cell_type": "code",
      "source": [
        "def selectionner(table, critere):\n",
        "    selection = []\n",
        "    for i in range(1, len(table)):\n",
        "        if critere(table[i]):\n",
        "            selection.append(table[i])\n",
        "    return selection"
      ],
      "metadata": {
        "id": "DDVB5rDAe_db"
      },
      "execution_count": 4,
      "outputs": []
    },
    {
      "cell_type": "markdown",
      "source": [
        "... "
      ],
      "metadata": {
        "id": "IAGVxhpUfceo"
      }
    },
    {
      "cell_type": "markdown",
      "source": [
        "#### réponse 1"
      ],
      "metadata": {
        "id": "rdUx9_tN8Ktr"
      }
    },
    {
      "cell_type": "markdown",
      "source": [
        "`critere` désigne une **fonction** qui : \n",
        "* prend un argument de type `list`\n",
        "* renvoie un booléen"
      ],
      "metadata": {
        "id": "U9lX9ZYz8Mmp"
      }
    },
    {
      "cell_type": "markdown",
      "source": [
        "### question 2\n",
        "Compléter le code de la fonction `madeinfrance` qui : \n",
        "\n",
        "*  prend un argument `sac`, de type `list`, décrivant un des sacs de la table, \n",
        "*  renvoie `True` si le sac est fabriqué en France, et `False` sinon."
      ],
      "metadata": {
        "id": "Y9KzIn1Ifk9q"
      }
    },
    {
      "cell_type": "code",
      "source": [
        "def madeinfrance(sac):\n",
        "    if sac[8] == 'oui'  : \n",
        "        return True\n",
        "    else : \n",
        "        return False\n",
        "\n",
        "\n",
        "# essai avec le premier sac:\n",
        "print(madeinfrance(['1', 'trousse', '20', '6', '7', 'bleu', '150', '18', 'oui']))\n",
        "# essai avec le troisième sac : \n",
        "print(madeinfrance(['3', 'cabas', '35', '14', '30', 'bleu', '330', '95', 'non']))"
      ],
      "metadata": {
        "colab": {
          "base_uri": "https://localhost:8080/"
        },
        "id": "b4NPvVXrgFLT",
        "outputId": "3cf3375a-086a-484e-b009-01bfe7b5107b"
      },
      "execution_count": 5,
      "outputs": [
        {
          "output_type": "stream",
          "name": "stdout",
          "text": [
            "True\n",
            "False\n"
          ]
        }
      ]
    },
    {
      "cell_type": "markdown",
      "source": [
        "### question 3\n",
        "Ecrire une instruction permettant d'obtenir la liste de tous les sacs de la table qui sont fabriqués en France."
      ],
      "metadata": {
        "id": "uUiEnZNXhxTD"
      }
    },
    {
      "cell_type": "code",
      "source": [
        "selectionner(table, madeinfrance)"
      ],
      "metadata": {
        "id": "FwZvMnT7h6Tn",
        "colab": {
          "base_uri": "https://localhost:8080/"
        },
        "outputId": "727c7b52-d623-43bf-f3b2-536aa7c7580a"
      },
      "execution_count": 6,
      "outputs": [
        {
          "output_type": "execute_result",
          "data": {
            "text/plain": [
              "[['1', 'trousse', '20', '6', '7', 'bleu', '150', '18', 'oui'],\n",
              " ['2', 'polochon', '50', '25', '25', 'rouge', '450', '79', 'oui'],\n",
              " ['4', 'besace', '24', '21', '9', 'marron', '500', '84', 'oui'],\n",
              " ['5', 'banane', '23', '9', '13', 'noir', '260', '28', 'oui'],\n",
              " ['7', 'sac à dos', '30', '40', '18', 'gris', '375', '50', 'oui'],\n",
              " ['8', 'seau', '24', '25', '13.5', 'noir', '430', '110', 'oui'],\n",
              " ['10', 'minaudiere', '23', '5', '8', 'noir', '160', '35', 'oui']]"
            ]
          },
          "metadata": {},
          "execution_count": 6
        }
      ]
    },
    {
      "cell_type": "markdown",
      "source": [
        "### question 4\n",
        "En vous inspirant des questions précédentes, écrire une fonction, et une instruction permettant d'obtenir la **liste des sacs bleus**."
      ],
      "metadata": {
        "id": "Bvi7hOfjh6yr"
      }
    },
    {
      "cell_type": "code",
      "source": [
        "def bleu(sac):\n",
        "    if sac[5] == 'bleu':\n",
        "        return True \n",
        "    else : \n",
        "        return False\n"
      ],
      "metadata": {
        "id": "lyhg3o0-uSzV"
      },
      "execution_count": 7,
      "outputs": []
    },
    {
      "cell_type": "code",
      "source": [
        "selectionner(table, bleu)"
      ],
      "metadata": {
        "colab": {
          "base_uri": "https://localhost:8080/"
        },
        "id": "oe8p5oV6scrJ",
        "outputId": "7f17ea20-9815-48ad-9dac-88550c7c24b4"
      },
      "execution_count": 8,
      "outputs": [
        {
          "output_type": "execute_result",
          "data": {
            "text/plain": [
              "[['1', 'trousse', '20', '6', '7', 'bleu', '150', '18', 'oui'],\n",
              " ['3', 'cabas', '35', '14', '30', 'bleu', '330', '95', 'non'],\n",
              " ['9', 'wrist bag', '27', '16.5', '3.5', 'bleu', '125', '28', 'non']]"
            ]
          },
          "metadata": {},
          "execution_count": 8
        }
      ]
    },
    {
      "cell_type": "code",
      "source": [
        "def selectionner_nom(table, critere):\n",
        "    selection = []\n",
        "    for i in range(1, len(table)):\n",
        "        if critere(table[i]):\n",
        "            selection.append(table[i][1])\n",
        "    return selection"
      ],
      "metadata": {
        "id": "ci69nH1_s2_D"
      },
      "execution_count": 9,
      "outputs": []
    },
    {
      "cell_type": "code",
      "source": [
        "selectionner_nom(table, madeinfrance)"
      ],
      "metadata": {
        "colab": {
          "base_uri": "https://localhost:8080/"
        },
        "id": "DN3pKFkath_3",
        "outputId": "975d3b63-ff6f-42de-b890-056e4f3489ee"
      },
      "execution_count": 10,
      "outputs": [
        {
          "output_type": "execute_result",
          "data": {
            "text/plain": [
              "['trousse', 'polochon', 'besace', 'banane', 'sac à dos', 'seau', 'minaudiere']"
            ]
          },
          "metadata": {},
          "execution_count": 10
        }
      ]
    },
    {
      "cell_type": "markdown",
      "source": [
        "## Tri"
      ],
      "metadata": {
        "id": "YSVmF5IlvNxi"
      }
    },
    {
      "cell_type": "markdown",
      "source": [
        "On peut utiliser le tri par insertion ou le tri par sélection.\n",
        "\n",
        "On présente ici **l'usage basique** de la fonction `sorted` de Python : exécuter les cellules suivantes pour comprendre son fonctionnement."
      ],
      "metadata": {
        "id": "qDNNBBj5vR1F"
      }
    },
    {
      "cell_type": "code",
      "source": [
        "sorted([10,50,30,40])"
      ],
      "metadata": {
        "id": "TPL_xXjNvdki",
        "colab": {
          "base_uri": "https://localhost:8080/"
        },
        "outputId": "f79130e9-b798-45ee-d268-83b173eb6963"
      },
      "execution_count": 11,
      "outputs": [
        {
          "output_type": "execute_result",
          "data": {
            "text/plain": [
              "[10, 30, 40, 50]"
            ]
          },
          "metadata": {},
          "execution_count": 11
        }
      ]
    },
    {
      "cell_type": "code",
      "source": [
        "sorted(['10','20','5','311'])"
      ],
      "metadata": {
        "id": "y0yA95U4vg3n",
        "colab": {
          "base_uri": "https://localhost:8080/"
        },
        "outputId": "21c28fb8-0dde-47cb-b096-ff90b2e711cf"
      },
      "execution_count": 12,
      "outputs": [
        {
          "output_type": "execute_result",
          "data": {
            "text/plain": [
              "['10', '20', '311', '5']"
            ]
          },
          "metadata": {},
          "execution_count": 12
        }
      ]
    },
    {
      "cell_type": "code",
      "source": [
        "sorted([[10,20], [9,500], [11,0], [10,15]])"
      ],
      "metadata": {
        "id": "zZP3Z9MRvpGX",
        "colab": {
          "base_uri": "https://localhost:8080/"
        },
        "outputId": "0bdb6fee-e893-4469-edc8-5dce8de2a59f"
      },
      "execution_count": 13,
      "outputs": [
        {
          "output_type": "execute_result",
          "data": {
            "text/plain": [
              "[[9, 500], [10, 15], [10, 20], [11, 0]]"
            ]
          },
          "metadata": {},
          "execution_count": 13
        }
      ]
    },
    {
      "cell_type": "code",
      "source": [
        "t1 = [15,25,20,10,5]\n",
        "t2 = sorted(t1)\n",
        "\n",
        "print(t1)\n",
        "print(t2)"
      ],
      "metadata": {
        "id": "r2GRQdeiv1Lx",
        "colab": {
          "base_uri": "https://localhost:8080/"
        },
        "outputId": "cc61d8c8-1f43-489e-d3ad-94036fd811ac"
      },
      "execution_count": 14,
      "outputs": [
        {
          "output_type": "stream",
          "name": "stdout",
          "text": [
            "[15, 25, 20, 10, 5]\n",
            "[5, 10, 15, 20, 25]\n"
          ]
        }
      ]
    },
    {
      "cell_type": "markdown",
      "source": [
        "#### usage basique de `sorted`"
      ],
      "metadata": {
        "id": "pUvW6cGy0fRB"
      }
    },
    {
      "cell_type": "markdown",
      "source": [
        "* La fonction `sorted` renvoie un tableau trié, sans modifier le tableau d'origine.\n",
        "* l'ordre de tri est l'ordre croissant : attention, l'ordre croissant sur les nombres n'est pas identique à l'ordre croissant sur les textes.\n",
        "* dans le cas d'une liste de listes, c'est le premier élément de chaque liste qui sert de critère de tri (puis le second... etc)."
      ],
      "metadata": {
        "id": "e9jtECbEwL_K"
      }
    },
    {
      "cell_type": "markdown",
      "source": [
        "#### documentation de la fonction `sorted`"
      ],
      "metadata": {
        "id": "94hwv54y0j2o"
      }
    },
    {
      "cell_type": "code",
      "source": [
        "help(sorted)"
      ],
      "metadata": {
        "id": "hrYdyrR7xQSL",
        "colab": {
          "base_uri": "https://localhost:8080/"
        },
        "outputId": "4ac39a19-c897-4a57-e0fb-5e22cab1d850"
      },
      "execution_count": 15,
      "outputs": [
        {
          "output_type": "stream",
          "name": "stdout",
          "text": [
            "Help on built-in function sorted in module builtins:\n",
            "\n",
            "sorted(iterable, /, *, key=None, reverse=False)\n",
            "    Return a new list containing all items from the iterable in ascending order.\n",
            "    \n",
            "    A custom key function can be supplied to customize the sort order, and the\n",
            "    reverse flag can be set to request the result in descending order.\n",
            "\n"
          ]
        }
      ]
    },
    {
      "cell_type": "markdown",
      "source": [
        "Exemple de \"custom key function\""
      ],
      "metadata": {
        "id": "VnKUFejDxptc"
      }
    },
    {
      "cell_type": "code",
      "source": [
        "def nom(sac):\n",
        "    return sac[1]\n",
        "\n",
        "# essai avec le premier sac:\n",
        "print(nom(['1', 'trousse', '20', '6', '7', 'bleu', '150', '18', 'oui']))\n",
        "# essai avec le troisième sac : \n",
        "print(nom(['3', 'cabas', '35', '14', '30', 'bleu', '330', '95', 'non']))"
      ],
      "metadata": {
        "id": "fTvNfnvGxRnZ",
        "colab": {
          "base_uri": "https://localhost:8080/"
        },
        "outputId": "06af3ce2-ff07-406b-812b-e886a5121744"
      },
      "execution_count": 16,
      "outputs": [
        {
          "output_type": "stream",
          "name": "stdout",
          "text": [
            "trousse\n",
            "cabas\n"
          ]
        }
      ]
    },
    {
      "cell_type": "code",
      "source": [
        "sorted(table, key=nom)"
      ],
      "metadata": {
        "id": "ZJ5vT10ox-hS",
        "colab": {
          "base_uri": "https://localhost:8080/"
        },
        "outputId": "d09e7d31-cac5-459b-d32d-8fe22bb380ce"
      },
      "execution_count": 17,
      "outputs": [
        {
          "output_type": "execute_result",
          "data": {
            "text/plain": [
              "[['6', 'baluchon', '61', '38', '22', 'beige', '900', '145', 'non'],\n",
              " ['5', 'banane', '23', '9', '13', 'noir', '260', '28', 'oui'],\n",
              " ['4', 'besace', '24', '21', '9', 'marron', '500', '84', 'oui'],\n",
              " ['3', 'cabas', '35', '14', '30', 'bleu', '330', '95', 'non'],\n",
              " ['10', 'minaudiere', '23', '5', '8', 'noir', '160', '35', 'oui'],\n",
              " ['id',\n",
              "  'nom',\n",
              "  'longueur',\n",
              "  'largeur',\n",
              "  'hauteur',\n",
              "  'couleur',\n",
              "  'poids',\n",
              "  'prix_HT',\n",
              "  'fabrique en France'],\n",
              " ['2', 'polochon', '50', '25', '25', 'rouge', '450', '79', 'oui'],\n",
              " ['7', 'sac à dos', '30', '40', '18', 'gris', '375', '50', 'oui'],\n",
              " ['8', 'seau', '24', '25', '13.5', 'noir', '430', '110', 'oui'],\n",
              " ['1', 'trousse', '20', '6', '7', 'bleu', '150', '18', 'oui'],\n",
              " ['9', 'wrist bag', '27', '16.5', '3.5', 'bleu', '125', '28', 'non']]"
            ]
          },
          "metadata": {},
          "execution_count": 17
        }
      ]
    },
    {
      "cell_type": "code",
      "source": [
        "sorted(table[1:], key=nom)"
      ],
      "metadata": {
        "id": "yc5cvnRdyHD1",
        "colab": {
          "base_uri": "https://localhost:8080/"
        },
        "outputId": "d18b0150-400c-4218-b951-40d1d0623f60"
      },
      "execution_count": 18,
      "outputs": [
        {
          "output_type": "execute_result",
          "data": {
            "text/plain": [
              "[['6', 'baluchon', '61', '38', '22', 'beige', '900', '145', 'non'],\n",
              " ['5', 'banane', '23', '9', '13', 'noir', '260', '28', 'oui'],\n",
              " ['4', 'besace', '24', '21', '9', 'marron', '500', '84', 'oui'],\n",
              " ['3', 'cabas', '35', '14', '30', 'bleu', '330', '95', 'non'],\n",
              " ['10', 'minaudiere', '23', '5', '8', 'noir', '160', '35', 'oui'],\n",
              " ['2', 'polochon', '50', '25', '25', 'rouge', '450', '79', 'oui'],\n",
              " ['7', 'sac à dos', '30', '40', '18', 'gris', '375', '50', 'oui'],\n",
              " ['8', 'seau', '24', '25', '13.5', 'noir', '430', '110', 'oui'],\n",
              " ['1', 'trousse', '20', '6', '7', 'bleu', '150', '18', 'oui'],\n",
              " ['9', 'wrist bag', '27', '16.5', '3.5', 'bleu', '125', '28', 'non']]"
            ]
          },
          "metadata": {},
          "execution_count": 18
        }
      ]
    },
    {
      "cell_type": "markdown",
      "source": [
        "### question 5\n",
        "En vous inspirant de l'exemple ci-dessus, écrire une fonction et une instruction python permettant d'obtenir la liste des sacs triés par longueur croissante."
      ],
      "metadata": {
        "id": "BkPiXW3qyQGv"
      }
    },
    {
      "cell_type": "code",
      "source": [
        "def longueur(sac):\n",
        "    return int(sac[2])\n",
        "\n",
        "sorted(table[1:], key=longueur)"
      ],
      "metadata": {
        "id": "abiCChcfyiyq",
        "colab": {
          "base_uri": "https://localhost:8080/"
        },
        "outputId": "9799c7fe-dc29-4e17-fe4a-fd655c595fea"
      },
      "execution_count": 26,
      "outputs": [
        {
          "output_type": "execute_result",
          "data": {
            "text/plain": [
              "[['1', 'trousse', '20', '6', '7', 'bleu', '150', '18', 'oui'],\n",
              " ['5', 'banane', '23', '9', '13', 'noir', '260', '28', 'oui'],\n",
              " ['10', 'minaudiere', '23', '5', '8', 'noir', '160', '35', 'oui'],\n",
              " ['4', 'besace', '24', '21', '9', 'marron', '500', '84', 'oui'],\n",
              " ['8', 'seau', '24', '25', '13.5', 'noir', '430', '110', 'oui'],\n",
              " ['9', 'wrist bag', '27', '16.5', '3.5', 'bleu', '125', '28', 'non'],\n",
              " ['7', 'sac à dos', '30', '40', '18', 'gris', '375', '50', 'oui'],\n",
              " ['3', 'cabas', '35', '14', '30', 'bleu', '330', '95', 'non'],\n",
              " ['2', 'polochon', '50', '25', '25', 'rouge', '450', '79', 'oui'],\n",
              " ['6', 'baluchon', '61', '38', '22', 'beige', '900', '145', 'non']]"
            ]
          },
          "metadata": {},
          "execution_count": 26
        }
      ]
    },
    {
      "cell_type": "markdown",
      "source": [
        "### question 6\n",
        "Faire de même pour obtenir la liste des sacs, triés par **prix** décroissant."
      ],
      "metadata": {
        "id": "VWNRhsqMyjng"
      }
    },
    {
      "cell_type": "code",
      "source": [
        "table[0]"
      ],
      "metadata": {
        "colab": {
          "base_uri": "https://localhost:8080/"
        },
        "id": "Z_JpsUkj98Ik",
        "outputId": "3c2f6980-79ab-4618-dbc0-1b863812ff51"
      },
      "execution_count": 27,
      "outputs": [
        {
          "output_type": "execute_result",
          "data": {
            "text/plain": [
              "['id',\n",
              " 'nom',\n",
              " 'longueur',\n",
              " 'largeur',\n",
              " 'hauteur',\n",
              " 'couleur',\n",
              " 'poids',\n",
              " 'prix_HT',\n",
              " 'fabrique en France']"
            ]
          },
          "metadata": {},
          "execution_count": 27
        }
      ]
    },
    {
      "cell_type": "code",
      "source": [
        "def prix(sac):\n",
        "    return float(sac[6])\n",
        "\n",
        "sorted(table[1:], key=prix, reverse=True)"
      ],
      "metadata": {
        "id": "jEGlx_I4y_M5",
        "colab": {
          "base_uri": "https://localhost:8080/"
        },
        "outputId": "f1e4e05a-8bfc-48aa-bf6b-2be6c75602f7"
      },
      "execution_count": 30,
      "outputs": [
        {
          "output_type": "execute_result",
          "data": {
            "text/plain": [
              "[['6', 'baluchon', '61', '38', '22', 'beige', '900', '145', 'non'],\n",
              " ['4', 'besace', '24', '21', '9', 'marron', '500', '84', 'oui'],\n",
              " ['2', 'polochon', '50', '25', '25', 'rouge', '450', '79', 'oui'],\n",
              " ['8', 'seau', '24', '25', '13.5', 'noir', '430', '110', 'oui'],\n",
              " ['7', 'sac à dos', '30', '40', '18', 'gris', '375', '50', 'oui'],\n",
              " ['3', 'cabas', '35', '14', '30', 'bleu', '330', '95', 'non'],\n",
              " ['5', 'banane', '23', '9', '13', 'noir', '260', '28', 'oui'],\n",
              " ['10', 'minaudiere', '23', '5', '8', 'noir', '160', '35', 'oui'],\n",
              " ['1', 'trousse', '20', '6', '7', 'bleu', '150', '18', 'oui'],\n",
              " ['9', 'wrist bag', '27', '16.5', '3.5', 'bleu', '125', '28', 'non']]"
            ]
          },
          "metadata": {},
          "execution_count": 30
        }
      ]
    },
    {
      "cell_type": "markdown",
      "source": [
        "### question 7\n",
        "Faire de même pour obtenir la liste des sacs, triés par **capacité** croissante. "
      ],
      "metadata": {
        "id": "bjQCrJAeywtJ"
      }
    },
    {
      "cell_type": "code",
      "source": [
        "def capacite(sac):\n",
        "    return float(sac[2])*float(sac[3])*float(sac[4])\n",
        "\n",
        "sorted(table[1:], key=capacite)"
      ],
      "metadata": {
        "id": "74F2T-CQy_m8",
        "colab": {
          "base_uri": "https://localhost:8080/"
        },
        "outputId": "a7f3c3fc-2f2e-41b7-fe1e-fe6e0b2c6587"
      },
      "execution_count": 31,
      "outputs": [
        {
          "output_type": "execute_result",
          "data": {
            "text/plain": [
              "[['1', 'trousse', '20', '6', '7', 'bleu', '150', '18', 'oui'],\n",
              " ['10', 'minaudiere', '23', '5', '8', 'noir', '160', '35', 'oui'],\n",
              " ['9', 'wrist bag', '27', '16.5', '3.5', 'bleu', '125', '28', 'non'],\n",
              " ['5', 'banane', '23', '9', '13', 'noir', '260', '28', 'oui'],\n",
              " ['4', 'besace', '24', '21', '9', 'marron', '500', '84', 'oui'],\n",
              " ['8', 'seau', '24', '25', '13.5', 'noir', '430', '110', 'oui'],\n",
              " ['3', 'cabas', '35', '14', '30', 'bleu', '330', '95', 'non'],\n",
              " ['7', 'sac à dos', '30', '40', '18', 'gris', '375', '50', 'oui'],\n",
              " ['2', 'polochon', '50', '25', '25', 'rouge', '450', '79', 'oui'],\n",
              " ['6', 'baluchon', '61', '38', '22', 'beige', '900', '145', 'non']]"
            ]
          },
          "metadata": {},
          "execution_count": 31
        }
      ]
    }
  ]
}